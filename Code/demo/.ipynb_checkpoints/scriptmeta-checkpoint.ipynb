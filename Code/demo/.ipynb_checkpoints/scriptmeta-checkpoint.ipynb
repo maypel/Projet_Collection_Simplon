{
 "cells": [
  {
   "cell_type": "markdown",
   "id": "earlier-sugar",
   "metadata": {
    "tags": []
   },
   "source": [
    "# Scripts pour la gestion des métadonnées pour le projet CollectRum"
   ]
  },
  {
   "cell_type": "markdown",
   "id": "brave-india",
   "metadata": {},
   "source": [
    "###### "
   ]
  },
  {
   "cell_type": "markdown",
   "id": "infrared-reliance",
   "metadata": {},
   "source": [
    "Nous allons dans ce script extraire les métadonnées. Elles seront insérées dans un dictionnaire python et les sauvegardés dans mondodb"
   ]
  },
  {
   "cell_type": "markdown",
   "id": "excellent-antique",
   "metadata": {},
   "source": [
    "- import des librairies"
   ]
  },
  {
   "cell_type": "code",
   "execution_count": null,
   "id": "binary-handle",
   "metadata": {},
   "outputs": [],
   "source": [
    "import subprocess  # librairie standart python\n",
    "import pymongo\n",
    "import json\n"
   ]
  },
  {
   "cell_type": "markdown",
   "id": "pregnant-lease",
   "metadata": {},
   "source": [
    "- lecture des métadonnées en direct"
   ]
  },
  {
   "cell_type": "code",
   "execution_count": null,
   "id": "bottom-greece",
   "metadata": {
    "tags": []
   },
   "outputs": [],
   "source": [
    "# transforme résultat en liste\n",
    "input_file = \"rum_data_brut.csv\" \n",
    "exe = \"C:\\exiftool-12.21\\exiftool.exe\"\n",
    "process = subprocess.Popen([exe, input_file], stdout=subprocess.PIPE, stderr= subprocess.STDOUT, universal_newlines=True)\n",
    "for output in process.stdout:\n",
    "    # la fonction split permet de transformer les données en liste python\n",
    "    print(output.strip().split(\":\"))"
   ]
  },
  {
   "cell_type": "markdown",
   "id": "foster-monster",
   "metadata": {},
   "source": [
    "- lecture des métadonnées, trasnformation en dictionnaire python"
   ]
  },
  {
   "cell_type": "code",
   "execution_count": null,
   "id": "stopped-president",
   "metadata": {},
   "outputs": [],
   "source": [
    "input_file = \"rum_data_brut.csv\" \n",
    "exe = \"C:\\exiftool-12.21\\exiftool.exe\"\n",
    "process = subprocess.Popen([exe, input_file], stdout=subprocess.PIPE, stderr= subprocess.STDOUT, universal_newlines=True)\n",
    "metadata2 = {}\n",
    "for output in process.stdout:\n",
    "    line = (output.strip().split(\":\",1))\n",
    "    metadata2[line[0].strip()] = line[1].strip()\n",
    "\n",
    "print(metadata2)\n",
    "print(type(metadata2))"
   ]
  },
  {
   "cell_type": "markdown",
   "id": "logical-corrections",
   "metadata": {},
   "source": [
    "- fonction pour extraire les métadonnées et sauvegarde dans mongodb"
   ]
  },
  {
   "cell_type": "code",
   "execution_count": null,
   "id": "suffering-theta",
   "metadata": {},
   "outputs": [],
   "source": [
    "#!/usr/bin/env python\n",
    "\n",
    "import pymongo\n",
    "import subprocess\n",
    "import json\n",
    "from pymongo import MongoClient\n",
    "\n",
    "def test(filename):\n",
    "\n",
    "    ### transforme liste en dictionnaire\n",
    "    input_file = filename\n",
    "    exe = \"C:\\exiftool-12.21\\exiftool.exe\"\n",
    "    process = subprocess.Popen([exe, input_file], stdout=subprocess.PIPE, stderr= subprocess.STDOUT, universal_newlines=True)\n",
    "    metadata = {}\n",
    "    for output in process.stdout:\n",
    "        line = (output.strip().split(\":\",1))\n",
    "        metadata[line[0].strip()] = line[1].strip()\n",
    "\n",
    "    print(metadata)\n",
    "    print(type(metadata))\n",
    "\n",
    "    #permet la création du client qui va se connecter à MongoDB\n",
    "    client = MongoClient()\n",
    "\n",
    "    #Préparation à la création de la base de données Floupics_MBDD.\n",
    "    db = client.metadonneesDB\n",
    "\n",
    "    collection = db.metas_repertoire\n",
    "\n",
    "    result = collection.insert_one(metadata)\n",
    "\n",
    "\n",
    "# # Lorsque le fichier est appelé directement on exécute la fonction de test\n",
    "# if __name__ == \"__main__\":\n",
    "#     test()"
   ]
  },
  {
   "cell_type": "code",
   "execution_count": null,
   "id": "coordinate-directory",
   "metadata": {},
   "outputs": [],
   "source": [
    "# appel de la fonction\n",
    "test(\"rum_data_brut.csv\")"
   ]
  },
  {
   "cell_type": "markdown",
   "id": "effective-eagle",
   "metadata": {},
   "source": [
    "###### "
   ]
  },
  {
   "cell_type": "markdown",
   "id": "impossible-outline",
   "metadata": {},
   "source": [
    "- création d'une liste qui contient le nom de mes fichiers"
   ]
  },
  {
   "cell_type": "code",
   "execution_count": null,
   "id": "important-influence",
   "metadata": {
    "tags": []
   },
   "outputs": [],
   "source": [
    "liste = [\"rum_data_brut.csv\", \"rum_data_new.csv\", \"rum_data_new2.csv\", \"rum_data_new3.csv\", \"rum_data.csv\", \"test.json\", \"INVENTAIRE_A.xlsx\"]"
   ]
  },
  {
   "cell_type": "markdown",
   "id": "guided-stocks",
   "metadata": {},
   "source": [
    "- fonction pour extraire les métadonnées à partir des noms de fichier dans liste et sauvegarde dans mongodb"
   ]
  },
  {
   "cell_type": "code",
   "execution_count": null,
   "id": "latter-hughes",
   "metadata": {},
   "outputs": [],
   "source": [
    "#!/usr/bin/env python\n",
    "\n",
    "import pymongo\n",
    "import subprocess\n",
    "import json\n",
    "from pymongo import MongoClient\n",
    "\n",
    "for filename in liste:\n",
    "    ### transforme liste en dictionnaire\n",
    "    input_file = filename\n",
    "    exe = \"C:\\exiftool-12.21\\exiftool.exe\"\n",
    "    process = subprocess.Popen([exe, input_file], stdout=subprocess.PIPE, stderr= subprocess.STDOUT, universal_newlines=True)\n",
    "    metadata = {}\n",
    "    for output in process.stdout:\n",
    "        line = (output.strip().split(\":\",1))\n",
    "        metadata[line[0].strip()] = line[1].strip()\n",
    "\n",
    "#     print(metadata)\n",
    "\n",
    "print(metadata)\n",
    "    #permet la création du client qui va se connecter à MongoDB\n",
    "#     client = MongoClient()\n",
    "\n",
    "#     #Préparation à la création de la base de données Floupics_MBDD.\n",
    "#     db = client.metadonneesDB\n",
    "\n",
    "#     collection = db.metas_repertoire\n",
    "\n",
    "#     result = collection.insert_one(metadata)\n",
    "\n",
    "\n",
    "# # Lorsque le fichier est appelé directement on exécute la fonction de test\n",
    "# if __name__ == \"__main__\":\n",
    "#     test()"
   ]
  },
  {
   "cell_type": "markdown",
   "id": "actual-manchester",
   "metadata": {},
   "source": [
    "- test insertion json"
   ]
  },
  {
   "cell_type": "code",
   "execution_count": null,
   "id": "driving-greensboro",
   "metadata": {},
   "outputs": [],
   "source": [
    "#!/usr/bin/env python\n",
    "\n",
    "import subprocess\n",
    "import json\n",
    "\n",
    "\n",
    "for filename in liste:\n",
    "    ### transforme liste en dictionnaire\n",
    "    input_file = filename\n",
    "    exe = \"C:\\exiftool-12.21\\exiftool.exe\"\n",
    "    process = subprocess.Popen([exe, input_file], stdout=subprocess.PIPE, stderr= subprocess.STDOUT, universal_newlines=True)\n",
    "    metadata = {}\n",
    "    i =1\n",
    "    for output in process.stdout:\n",
    "        line = (output.strip().split(\":\",1))\n",
    "        metadata[line[0].strip()] = line[1].strip()\n",
    "#         # création du fichier json\n",
    "#         with open(f\"meta{i}.json\", \"w\") as file:\n",
    "#             json.dump(metadata, file, indent=4)\n",
    "#         i += 1\n",
    "    print(metadata)"
   ]
  },
  {
   "cell_type": "markdown",
   "id": "cooperative-suicide",
   "metadata": {
    "tags": []
   },
   "source": [
    "###### "
   ]
  },
  {
   "cell_type": "markdown",
   "id": "hybrid-hawaii",
   "metadata": {},
   "source": [
    "- avec une fonction extract()"
   ]
  },
  {
   "cell_type": "code",
   "execution_count": null,
   "id": "geographic-formation",
   "metadata": {
    "tags": []
   },
   "outputs": [],
   "source": [
    "#Prod\n",
    "#!/usr/bin/env python\n",
    "\n",
    "import subprocess\n",
    "import json"
   ]
  },
  {
   "cell_type": "code",
   "execution_count": null,
   "id": "vulnerable-earth",
   "metadata": {},
   "outputs": [],
   "source": [
    "#Prod\n",
    "def extract(filename):\n",
    "    input_file = filename\n",
    "    exe = \"C:\\exiftool-12.21\\exiftool.exe\"\n",
    "    process = subprocess.Popen([exe, input_file], stdout=subprocess.PIPE, stderr= subprocess.STDOUT, universal_newlines=True)\n",
    "    metadata = {}\n",
    "    for output in process.stdout:\n",
    "        line = (output.strip().split(\":\",1))\n",
    "        metadata[line[0].strip()] = line[1].strip()\n",
    "    return metadata"
   ]
  },
  {
   "cell_type": "code",
   "execution_count": null,
   "id": "effective-florist",
   "metadata": {},
   "outputs": [],
   "source": [
    "#Prod\n",
    "liste = [\"rum_data_brut.csv\", \"rum_data_new.csv\", \"rum_data_new2.csv\", \"rum_data_new3.csv\", \"rum_data.csv\", \"test.json\", \"INVENTAIRE_A.xlsx\"]"
   ]
  },
  {
   "cell_type": "code",
   "execution_count": null,
   "id": "extra-cleveland",
   "metadata": {
    "tags": []
   },
   "outputs": [],
   "source": [
    "#Prod\n",
    "for filename in liste:\n",
    "    meta = extract(filename)\n",
    "    with open(f\"{filename}.json\", \"w\") as file:\n",
    "        json.dump(meta, file, indent=4)"
   ]
  }
 ],
 "metadata": {
  "kernelspec": {
   "display_name": "Python 3",
   "language": "python",
   "name": "python3"
  },
  "language_info": {
   "codemirror_mode": {
    "name": "ipython",
    "version": 3
   },
   "file_extension": ".py",
   "mimetype": "text/x-python",
   "name": "python",
   "nbconvert_exporter": "python",
   "pygments_lexer": "ipython3",
   "version": "3.8.6"
  }
 },
 "nbformat": 4,
 "nbformat_minor": 5
}
