{
 "cells": [
  {
   "cell_type": "markdown",
   "id": "communist-advocacy",
   "metadata": {},
   "source": [
    "# Insertion Donnees Producteur"
   ]
  },
  {
   "cell_type": "markdown",
   "id": "isolated-suicide",
   "metadata": {},
   "source": [
    "######"
   ]
  },
  {
   "cell_type": "code",
   "execution_count": 6,
   "id": "tested-daisy",
   "metadata": {
    "tags": []
   },
   "outputs": [],
   "source": [
    "# imports des librairies\n",
    "\n",
    "import os\n",
    "import pandas as pd\n",
    "import psycopg2\n",
    "import csv\n",
    "import reprlib"
   ]
  },
  {
   "cell_type": "code",
   "execution_count": null,
   "id": "developed-savings",
   "metadata": {},
   "outputs": [],
   "source": [
    "# connexion à la bdd collection\n",
    "conn = psycopg2.connect(\n",
    "        user = \"postgres\",\n",
    "        password = os.environ.get(\"pg_psw\"),\n",
    "        host = \"localhost\",\n",
    "        port = \"5432\",\n",
    "        database = \"collection\"\n",
    ")\n",
    "cur = conn.cursor()\n",
    "\n",
    "# requete sql pour récupérer les données table origine\n",
    "sql = \"SELECT * FROM origine\"\n",
    "cur.execute(sql)\n",
    "res = cur.fetchall()\n",
    "print(reprlib.repr(res))\n",
    "\n",
    "sql1 = \"SELECT * FROM producteur\"\n",
    "cur.execute(sql1)\n",
    "res1 = cur.fetchall()\n",
    "print(reprlib.repr(res1))\n",
    "#fermeture de la connexion à la base de données\n",
    "cur.close()\n",
    "conn.close()\n",
    "print(\"La connexion PostgreSQL est fermée\")"
   ]
  },
  {
   "cell_type": "code",
   "execution_count": null,
   "id": "labeled-closing",
   "metadata": {},
   "outputs": [],
   "source": [
    "# connexion à la bdd collection\n",
    "conn = psycopg2.connect(\n",
    "        user = \"postgres\",\n",
    "        password = os.environ.get(\"pg_psw\"),\n",
    "        host = \"localhost\",\n",
    "        port = \"5432\",\n",
    "        database = \"collection2\"\n",
    ")\n",
    "cur = conn.cursor()\n",
    "\n",
    "sql2 = \"INSERT INTO producteur (nom, code_origine) VALUES ('Montebello', 2)\"\n",
    "cur.execute(sql2)\n",
    "sql3 = \"INSERT INTO producteur (nom, code_origine) VALUES ('Mountgay', 3)\"\n",
    "cur.execute(sql3)\n",
    "#fermeture de la connexion à la base de données\n",
    "cur.close()\n",
    "conn.commit()\n",
    "conn.close()\n",
    "print(\"La connexion PostgreSQL est fermée\")"
   ]
  },
  {
   "cell_type": "markdown",
   "id": "suited-victorian",
   "metadata": {},
   "source": [
    "#### automatisation"
   ]
  },
  {
   "cell_type": "markdown",
   "id": "welcome-fifth",
   "metadata": {},
   "source": [
    "- avec des listes"
   ]
  },
  {
   "cell_type": "code",
   "execution_count": null,
   "id": "fourth-aerospace",
   "metadata": {},
   "outputs": [],
   "source": [
    "# connexion à la bdd collection\n",
    "conn = psycopg2.connect(\n",
    "        user = \"postgres\",\n",
    "        password = os.environ.get(\"pg_psw\"),\n",
    "        host = \"localhost\",\n",
    "        port = \"5432\",\n",
    "        database = \"collection\"\n",
    ")\n",
    "cur = conn.cursor()\n",
    "\n",
    "# requete sql pour récupérer les données table origine\n",
    "sql = \"SELECT * FROM origine\"\n",
    "cur.execute(sql)\n",
    "res = cur.fetchall()\n",
    "\n",
    "\n",
    "\n",
    "liste2 = []\n",
    "with open('rum_data_new.csv', newline='', encoding='utf-8') as csvfile:\n",
    "    spamreader = csv.reader(csvfile, delimiter=',')\n",
    "    for row in spamreader:\n",
    "        if row[1:3] not in liste2:\n",
    "            liste2.append(row[1:3])\n",
    "\n",
    "liste3 = []\n",
    "for e in liste2:\n",
    "    for j in res:\n",
    "        if e[1] == j[0]:\n",
    "            liste3.append(j[1])\n",
    "print(liste3)\n",
    "\n",
    "#fermeture de la connexion à la base de données\n",
    "cur.close()\n",
    "conn.close()\n",
    "print(\"La connexion PostgreSQL est fermée\")"
   ]
  },
  {
   "cell_type": "code",
   "execution_count": null,
   "id": "solar-geology",
   "metadata": {},
   "outputs": [],
   "source": [
    "print(len(liste3))"
   ]
  },
  {
   "cell_type": "code",
   "execution_count": null,
   "id": "associate-placement",
   "metadata": {},
   "outputs": [],
   "source": [
    "# connexion à la bdd collection\n",
    "conn = psycopg2.connect(\n",
    "        user = \"postgres\",\n",
    "        password = os.environ.get(\"pg_psw\"),\n",
    "        host = \"localhost\",\n",
    "        port = \"5432\",\n",
    "        database = \"collection\"\n",
    ")\n",
    "cur = conn.cursor()\n",
    "w = 0\n",
    "for z in liste3:\n",
    "    sql1 = f\"UPDATE producteur SET code_origine ={z} where producteur.code_producteur = {w};\"\n",
    "    w +=1\n",
    "    cur.execute(sql1)\n",
    "cur.close()\n",
    "conn.commit()\n",
    "conn.close()"
   ]
  },
  {
   "cell_type": "code",
   "execution_count": null,
   "id": "included-neutral",
   "metadata": {},
   "outputs": [],
   "source": [
    "print(z)"
   ]
  },
  {
   "cell_type": "code",
   "execution_count": null,
   "id": "olympic-slovak",
   "metadata": {},
   "outputs": [],
   "source": [
    "# UPDATE table\n",
    "# SET nom_colonne_1 = 'nouvelle valeur'\n",
    "# WHERE condition"
   ]
  },
  {
   "cell_type": "code",
   "execution_count": null,
   "id": "happy-mexican",
   "metadata": {},
   "outputs": [],
   "source": [
    "# SELECT origine.code_origine\n",
    "# FROM origine\n",
    "# WHERE origine.nom = 'Martinique';"
   ]
  },
  {
   "cell_type": "markdown",
   "id": "prerequisite-company",
   "metadata": {},
   "source": [
    "- par requete sql"
   ]
  },
  {
   "cell_type": "code",
   "execution_count": null,
   "id": "disturbed-irish",
   "metadata": {},
   "outputs": [],
   "source": [
    "# requete test\n",
    "sql9 = \"\"\"SELECT origine.code_origine\n",
    "FROM origine\n",
    "WHERE origine.nom = 'Martinique';\"\"\""
   ]
  },
  {
   "cell_type": "code",
   "execution_count": null,
   "id": "virtual-burton",
   "metadata": {},
   "outputs": [],
   "source": [
    "# je crée une liste regroupant les pays et les producteurs\n",
    "dict_co = {}\n",
    "\n",
    "with open('rum_data_new2.csv', newline='', encoding='utf-8') as csvfile:\n",
    "    liste_csv = csv.reader(csvfile, delimiter=',')\n",
    "    for row[1], row[2] in liste_csv:\n",
    "        dict_co[row[1]] = row[2]\n",
    "#             print(type(liste_co))\n",
    "#             print(dict_co)\n",
    "            #liste_co = list(set(liste_co)\n",
    "# liste_co = liste_co[1:]\n",
    "# print(dict_co)"
   ]
  },
  {
   "cell_type": "code",
   "execution_count": null,
   "id": "medium-annotation",
   "metadata": {},
   "outputs": [],
   "source": [
    "# je crée une liste regroupant les pays et les producteurs\n",
    "liste_co = []\n",
    "with open('rum_data_new.csv', newline='', encoding='utf-8') as csvfile:\n",
    "    spamreader = csv.reader(csvfile, delimiter=',')\n",
    "    for row in spamreader:\n",
    "        if row[1:3] not in liste_co:\n",
    "            liste_co.append(row[1:3])\n",
    "liste_co = liste_co[1:]\n",
    "print(liste_co[0:10])"
   ]
  },
  {
   "cell_type": "code",
   "execution_count": null,
   "id": "proved-answer",
   "metadata": {},
   "outputs": [],
   "source": [
    "# listing des producteurs\n",
    "liste_pro = []\n",
    "for pro in liste_co:\n",
    "    liste_pro.append(pro[0])"
   ]
  },
  {
   "cell_type": "code",
   "execution_count": null,
   "id": "characteristic-palmer",
   "metadata": {},
   "outputs": [],
   "source": [
    "# listing des pays\n",
    "liste_pays = []\n",
    "for p in liste_co:\n",
    "    liste_pro.append(p[1])\n"
   ]
  },
  {
   "cell_type": "code",
   "execution_count": null,
   "id": "qualified-intent",
   "metadata": {},
   "outputs": [],
   "source": [
    "for pro in liste_co:\n",
    "    print(pro[0])"
   ]
  },
  {
   "cell_type": "code",
   "execution_count": null,
   "id": "adjustable-living",
   "metadata": {},
   "outputs": [],
   "source": [
    "# test\n",
    "conn = psycopg2.connect(\n",
    "        user = \"postgres\",\n",
    "        password = os.environ.get(\"pg_psw\"),\n",
    "        host = \"localhost\",\n",
    "        port = \"5432\",\n",
    "        database = \"collection\"\n",
    ")\n",
    "cur = conn.cursor()\n",
    "for pro in liste_co:\n",
    "    cur.execute(f\"\"\"SELECT origine.code_origine \n",
    "        FROM origine\n",
    "        WHERE origine.nom = '{pro[1]}';\n",
    "        \"\"\")\n",
    "    orig = cur.fetchone()[0]\n",
    "print(orig)"
   ]
  },
  {
   "cell_type": "code",
   "execution_count": 7,
   "id": "sealed-animal",
   "metadata": {},
   "outputs": [
    {
     "name": "stdout",
     "output_type": "stream",
     "text": [
      "[['1000Drops', 'United States'], ['1000 Hills Distillery', 'Rwanda'], ['100 Fuegos ', 'Ecuador'], ['101 Fuegos ', 'Ecuador'], ['Key west legal rum ', 'United States'], ['10 Cane', 'Trinidad and Tobago'], ['1423', 'Panama'], ['1492', 'United States'], ['Studer', 'Switzerland'], ['1731', 'Netherlands']]\n"
     ]
    }
   ],
   "source": [
    "# prod\n",
    "# je crée une liste regroupant les pays et les producteurs\n",
    "liste_co = []\n",
    "with open('rum_data_new.csv', newline='', encoding='utf-8') as csvfile:\n",
    "    spamreader = csv.reader(csvfile, delimiter=',')\n",
    "    for row in spamreader:\n",
    "        if row[1:3] not in liste_co:\n",
    "            liste_co.append((row[1:3]))\n",
    "liste_co = liste_co[1:]\n",
    "print(liste_co[0:10])"
   ]
  },
  {
   "cell_type": "code",
   "execution_count": 8,
   "id": "inclusive-frost",
   "metadata": {
    "tags": []
   },
   "outputs": [],
   "source": [
    "# prod\n",
    "# fonction d'insertion dans la table producteur\n",
    "conn = psycopg2.connect(\n",
    "        user = \"postgres\",\n",
    "        password = os.environ.get(\"pg_psw\"),\n",
    "        host = \"localhost\",\n",
    "        port = \"5432\",\n",
    "        database = \"collection2\"\n",
    ")\n",
    "cur = conn.cursor()\n",
    "for producteur, pays in liste_co:\n",
    "    #print(producteur)\n",
    "    #print(pays)\n",
    "    cur.execute(f\"\"\"SELECT origine.code_origine \n",
    "        FROM origine\n",
    "        WHERE origine.nom = '{pays}';\n",
    "        \"\"\")\n",
    "    \n",
    "    origine = cur.fetchone()[0]\n",
    "    #print(origine)\n",
    "    #pays = str(pro[0])\n",
    "    #print(pays)\n",
    "\n",
    "    cur.execute(f\"INSERT INTO producteur (nom, code_origine) VALUES ('{producteur}', {origine})\")\n",
    "    \n",
    "cur.close()\n",
    "conn.commit()\n",
    "conn.close()"
   ]
  },
  {
   "cell_type": "code",
   "execution_count": null,
   "id": "acting-arthur",
   "metadata": {},
   "outputs": [],
   "source": [
    "print(type(cur))"
   ]
  },
  {
   "cell_type": "code",
   "execution_count": null,
   "id": "ignored-backup",
   "metadata": {
    "tags": []
   },
   "outputs": [],
   "source": [
    "liste_pro = [('HSE', 'Martinique'), ('Montebello', 'Guadeloupe'), ('Foursque', 'Barbades'), ('Dillon', 'Martinique'), ('Damoiseau', 'Guadeloupe')]"
   ]
  },
  {
   "cell_type": "code",
   "execution_count": null,
   "id": "plastic-tulsa",
   "metadata": {},
   "outputs": [],
   "source": [
    "# test\n",
    "conn = psycopg2.connect(\n",
    "        user = \"postgres\",\n",
    "        password = os.environ.get(\"pg_psw\"),\n",
    "        host = \"localhost\",\n",
    "        port = \"5432\",\n",
    "        database = \"collection2\"\n",
    ")\n",
    "cur = conn.cursor()\n",
    "for pro in liste_pro:\n",
    "    cur.execute(f\"\"\"SELECT origine.code_origine \n",
    "        FROM origine\n",
    "        WHERE origine.nom = '{pro[1]}';\n",
    "        \"\"\")\n",
    "    orig = cur.fetchone()[0]\n",
    "    print(orig)\n",
    "    pays = str(pro[0])\n",
    "    print(pays)\n",
    "    cur.execute(f\"INSERT INTO producteur (nom, code_origine) VALUES ('{pays}', {orig})\")\n",
    "    \n",
    "cur.close()\n",
    "conn.commit()\n",
    "conn.close()"
   ]
  },
  {
   "cell_type": "code",
   "execution_count": null,
   "id": "diagnostic-driving",
   "metadata": {},
   "outputs": [],
   "source": [
    "# test\n",
    "sql11 = f\"INSERT INTO producteur (nom, code_origine) VALUES ({producteur}, {orig})\"\n",
    "cur.execute(sql11)\n"
   ]
  },
  {
   "cell_type": "markdown",
   "id": "medium-withdrawal",
   "metadata": {
    "tags": []
   },
   "source": [
    "###### "
   ]
  }
 ],
 "metadata": {
  "kernelspec": {
   "display_name": "Python 3",
   "language": "python",
   "name": "python3"
  },
  "language_info": {
   "codemirror_mode": {
    "name": "ipython",
    "version": 3
   },
   "file_extension": ".py",
   "mimetype": "text/x-python",
   "name": "python",
   "nbconvert_exporter": "python",
   "pygments_lexer": "ipython3",
   "version": "3.8.6"
  }
 },
 "nbformat": 4,
 "nbformat_minor": 5
}
