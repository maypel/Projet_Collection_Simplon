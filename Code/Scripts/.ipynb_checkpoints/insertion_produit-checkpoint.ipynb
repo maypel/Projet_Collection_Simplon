{
 "cells": [
  {
   "cell_type": "markdown",
   "id": "criminal-survey",
   "metadata": {
    "tags": []
   },
   "source": [
    "# INSERTION PRODUIT BDD"
   ]
  },
  {
   "cell_type": "markdown",
   "id": "adequate-anthony",
   "metadata": {},
   "source": [
    "###### "
   ]
  },
  {
   "cell_type": "markdown",
   "id": "adequate-outside",
   "metadata": {},
   "source": [
    "----------------"
   ]
  },
  {
   "cell_type": "code",
   "execution_count": 1,
   "id": "fewer-indianapolis",
   "metadata": {},
   "outputs": [],
   "source": [
    "import os\n",
    "import pandas as pd\n",
    "import psycopg2\n",
    "import csv\n",
    "import reprlib\n",
    "import numpy"
   ]
  },
  {
   "cell_type": "markdown",
   "id": "affecting-potential",
   "metadata": {},
   "source": [
    "#### Test avec pandas et sqlalchemy"
   ]
  },
  {
   "cell_type": "code",
   "execution_count": 2,
   "id": "accepting-spelling",
   "metadata": {},
   "outputs": [
    {
     "data": {
      "text/html": [
       "<div>\n",
       "<style scoped>\n",
       "    .dataframe tbody tr th:only-of-type {\n",
       "        vertical-align: middle;\n",
       "    }\n",
       "\n",
       "    .dataframe tbody tr th {\n",
       "        vertical-align: top;\n",
       "    }\n",
       "\n",
       "    .dataframe thead th {\n",
       "        text-align: right;\n",
       "    }\n",
       "</style>\n",
       "<table border=\"1\" class=\"dataframe\">\n",
       "  <thead>\n",
       "    <tr style=\"text-align: right;\">\n",
       "      <th></th>\n",
       "      <th>NOM</th>\n",
       "      <th>VOLUME</th>\n",
       "      <th>DEGRE</th>\n",
       "      <th>NOMBRE</th>\n",
       "      <th>PRIX</th>\n",
       "      <th>MARQUE</th>\n",
       "    </tr>\n",
       "  </thead>\n",
       "  <tbody>\n",
       "    <tr>\n",
       "      <th>1</th>\n",
       "      <td>C12 70</td>\n",
       "      <td>70.0</td>\n",
       "      <td>50.0</td>\n",
       "      <td>5.0</td>\n",
       "      <td>8.5</td>\n",
       "      <td>HSE</td>\n",
       "    </tr>\n",
       "    <tr>\n",
       "      <th>2</th>\n",
       "      <td>C16 70</td>\n",
       "      <td>70.0</td>\n",
       "      <td>50.0</td>\n",
       "      <td>1.0</td>\n",
       "      <td>11.0</td>\n",
       "      <td>HSE</td>\n",
       "    </tr>\n",
       "    <tr>\n",
       "      <th>3</th>\n",
       "      <td>C16 100</td>\n",
       "      <td>100.0</td>\n",
       "      <td>50.0</td>\n",
       "      <td>1.0</td>\n",
       "      <td>14.0</td>\n",
       "      <td>HSE</td>\n",
       "    </tr>\n",
       "    <tr>\n",
       "      <th>4</th>\n",
       "      <td>PARCELLAIRE 70</td>\n",
       "      <td>70.0</td>\n",
       "      <td>55.0</td>\n",
       "      <td>2.0</td>\n",
       "      <td>13.0</td>\n",
       "      <td>HSE</td>\n",
       "    </tr>\n",
       "    <tr>\n",
       "      <th>5</th>\n",
       "      <td>PARCELLAIRE 100</td>\n",
       "      <td>100.0</td>\n",
       "      <td>55.0</td>\n",
       "      <td>1.0</td>\n",
       "      <td>15.0</td>\n",
       "      <td>HSE</td>\n",
       "    </tr>\n",
       "  </tbody>\n",
       "</table>\n",
       "</div>"
      ],
      "text/plain": [
       "               NOM  VOLUME  DEGRE  NOMBRE  PRIX MARQUE\n",
       "1           C12 70    70.0   50.0     5.0   8.5    HSE\n",
       "2           C16 70    70.0   50.0     1.0  11.0    HSE\n",
       "3          C16 100   100.0   50.0     1.0  14.0    HSE\n",
       "4   PARCELLAIRE 70    70.0   55.0     2.0  13.0    HSE\n",
       "5  PARCELLAIRE 100   100.0   55.0     1.0  15.0    HSE"
      ]
     },
     "execution_count": 2,
     "metadata": {},
     "output_type": "execute_result"
    }
   ],
   "source": [
    "excel_file = 'INVENTAIRE_A.xlsx'\n",
    "inventaire = pd.read_excel(excel_file, skiprows=2)\n",
    "\n",
    "del inventaire['Unnamed: 5']\n",
    "inventaire.columns = ['NOM', 'VOLUME', 'DEGRE', 'NOMBRE', 'PRIX', 'MARQUE']\n",
    "index_with_nan = inventaire.index[inventaire.isnull().any(axis=1)]\n",
    "inventaire.drop(index_with_nan,0, inplace=True)\n",
    "inventaire.head()"
   ]
  },
  {
   "cell_type": "code",
   "execution_count": null,
   "id": "allied-craft",
   "metadata": {
    "tags": []
   },
   "outputs": [],
   "source": [
    "# connexion à la bdd collection\n",
    "try:\n",
    "    conn = psycopg2.connect(\n",
    "        user = \"postgres\",\n",
    "        password = os.environ.get(\"pg_psw\"),\n",
    "        host = \"localhost\",\n",
    "        port = \"5432\",\n",
    "        database = \"collection\")\n",
    "    \n",
    "    cur = conn.cursor()\n",
    "    sql = \"\"\"INSERT INTO produit (nom, volume, degre) VALUES (%s,%s,%s)\"\"\"\n",
    "    value = (inventaire['NOM'], inventaire['VOLUME'], inventaire['DEGRE'])\n",
    "    cur.execute(sql, value)\n",
    "    conn.commit()\n",
    "    count = cur.rowcount\n",
    "    print (count, \"enregistrement inséré avec succès dans la table person.\")\n",
    "  \n",
    "    #fermeture de la connexion à la base de données\n",
    "    cur.close()\n",
    "    conn.close()\n",
    "    print(\"La connexion PostgreSQL est fermée\")\n",
    "except (Exception, psycopg2.Error) as error :\n",
    "    print (\"Erreur lors de l'insertion dans la table person\", error)"
   ]
  },
  {
   "cell_type": "code",
   "execution_count": null,
   "id": "preliminary-aurora",
   "metadata": {},
   "outputs": [],
   "source": [
    "from sqlalchemy import create_engine\n",
    "import os\n",
    "\n",
    "user = 'postgres'\n",
    "password = os.environ.get('pg_psw')\n",
    "host = 'localhost'\n",
    "port = '5432'\n",
    "dbname = 'collection'  \n",
    "\n",
    "engine = create_engine(f\"postgresql://{user}:{password}@{host}:{port}/{dbname}\")\n",
    "\n",
    "#inventaire.to_sql('rhum', engine, if_exists='replace', index=False)\n"
   ]
  },
  {
   "cell_type": "code",
   "execution_count": null,
   "id": "color-complement",
   "metadata": {
    "tags": []
   },
   "outputs": [],
   "source": [
    "inventaire.to_sql('produit2', engine, if_exists='append', index=False)"
   ]
  },
  {
   "cell_type": "code",
   "execution_count": null,
   "id": "bacterial-notification",
   "metadata": {},
   "outputs": [],
   "source": [
    "product_inv = inventaire[['NOM', 'VOLUME', 'DEGRE']]"
   ]
  },
  {
   "cell_type": "markdown",
   "id": "described-genius",
   "metadata": {},
   "source": [
    "-------"
   ]
  },
  {
   "cell_type": "markdown",
   "id": "young-newman",
   "metadata": {},
   "source": [
    "#### Test insertion table produit collection2"
   ]
  },
  {
   "cell_type": "code",
   "execution_count": null,
   "id": "appointed-sodium",
   "metadata": {},
   "outputs": [],
   "source": [
    "import numpy"
   ]
  },
  {
   "cell_type": "code",
   "execution_count": null,
   "id": "affecting-curve",
   "metadata": {},
   "outputs": [],
   "source": [
    "product_inv = inventaire[['NOM', 'VOLUME', 'DEGRE']]"
   ]
  },
  {
   "cell_type": "code",
   "execution_count": null,
   "id": "spiritual-control",
   "metadata": {
    "tags": []
   },
   "outputs": [],
   "source": [
    "tuples = [tuple(x) for x in product_inv.to_numpy()]\n",
    "# Comma-separated dataframe columns\n",
    "cols = ','.join(list(product_inv.columns))"
   ]
  },
  {
   "cell_type": "code",
   "execution_count": null,
   "id": "desperate-chorus",
   "metadata": {},
   "outputs": [],
   "source": [
    "# connexion à la bdd collection\n",
    "try:\n",
    "    conn = psycopg2.connect(\n",
    "        user = \"postgres\",\n",
    "        password = os.environ.get(\"pg_psw\"),\n",
    "        host = \"localhost\",\n",
    "        port = \"5432\",\n",
    "        database = \"collection2\")\n",
    "    \n",
    "    cur = conn.cursor()\n",
    "    table = 'produit'\n",
    "    sql = \"\"\"INSERT INTO produit (nom, volume, degre) VALUES (%s,%s,%s)\"\"\" \n",
    "    cur.executemany(sql, tuples)\n",
    "    conn.commit()\n",
    "    count = cur.rowcount\n",
    "    print (count, \"enregistrement inséré avec succès dans la table person.\")\n",
    "  \n",
    "    #fermeture de la connexion à la base de données\n",
    "    cur.close()\n",
    "    conn.close()\n",
    "    print(\"La connexion PostgreSQL est fermée\")\n",
    "except (Exception, psycopg2.Error) as error :\n",
    "    print (\"Erreur lors de l'insertion dans la table person\", error)"
   ]
  },
  {
   "cell_type": "code",
   "execution_count": null,
   "id": "humanitarian-frequency",
   "metadata": {},
   "outputs": [],
   "source": [
    "print(tuples[0:10])"
   ]
  },
  {
   "cell_type": "code",
   "execution_count": null,
   "id": "enormous-carbon",
   "metadata": {},
   "outputs": [],
   "source": [
    "print(cols)"
   ]
  },
  {
   "cell_type": "markdown",
   "id": "traditional-armor",
   "metadata": {
    "tags": []
   },
   "source": [
    "-----------------"
   ]
  },
  {
   "cell_type": "markdown",
   "id": "excess-entertainment",
   "metadata": {},
   "source": [
    "# Test insertion produit collection"
   ]
  },
  {
   "cell_type": "code",
   "execution_count": 3,
   "id": "norwegian-screening",
   "metadata": {
    "tags": []
   },
   "outputs": [],
   "source": [
    "inventaire_produit =  inventaire[['NOM', 'VOLUME', 'DEGRE', 'MARQUE']]"
   ]
  },
  {
   "cell_type": "code",
   "execution_count": 4,
   "id": "cleared-bedroom",
   "metadata": {
    "tags": []
   },
   "outputs": [
    {
     "name": "stdout",
     "output_type": "stream",
     "text": [
      "[['C12 70', 70.0, 50.0, 'HSE'], ['C16 70', 70.0, 50.0, 'HSE'], ['C16 100', 100.0, 50.0, 'HSE'], ['PARCELLAIRE 70', 70.0, 55.0, 'HSE'], ['PARCELLAIRE 100', 100.0, 55.0, 'HSE'], ['PARCELLAIRE 150L', 150.0, 55.0, 'HSE'], ['RAGTIME ESB', 70.0, 40.0, 'HSE'], ['Coffret XO ENO', 70.0, 43.0, 'HSE'], ['Small Cask 2007-22/10/2015, n°848', 50.0, 46.0, 'HSE'], ['Small Cask 2007-20/08/2018, n°596', 50.0, 46.0, 'HSE']]\n"
     ]
    }
   ],
   "source": [
    "liste_inventaire = [list(x) for x in inventaire_produit.to_numpy()]\n",
    "print(liste_inventaire[0:10])"
   ]
  },
  {
   "cell_type": "code",
   "execution_count": 5,
   "id": "similar-domestic",
   "metadata": {},
   "outputs": [
    {
     "name": "stdout",
     "output_type": "stream",
     "text": [
      "C12 70\n",
      "70.0\n",
      "50.0\n",
      "HSE\n"
     ]
    }
   ],
   "source": [
    "nom = liste_inventaire[0][0]\n",
    "volume = liste_inventaire[0][1]\n",
    "degre = liste_inventaire[0][2]\n",
    "marque = liste_inventaire[0][3]\n",
    "\n",
    "print(nom)\n",
    "print(volume)\n",
    "print(degre)\n",
    "print(marque)"
   ]
  },
  {
   "cell_type": "code",
   "execution_count": 6,
   "id": "controlled-gravity",
   "metadata": {
    "tags": []
   },
   "outputs": [
    {
     "name": "stdout",
     "output_type": "stream",
     "text": [
      "1343\n",
      "1343\n",
      "1343\n",
      "1343\n",
      "1343\n",
      "1343\n",
      "1343\n",
      "1343\n",
      "1343\n",
      "1343\n",
      "1343\n",
      "1343\n",
      "1343\n",
      "1343\n",
      "1343\n",
      "1343\n",
      "1343\n",
      "1343\n",
      "1343\n",
      "1343\n",
      "1343\n",
      "1343\n",
      "1343\n",
      "1343\n",
      "1343\n",
      "1343\n",
      "1343\n",
      "1343\n",
      "1343\n",
      "1343\n",
      "1343\n",
      "1343\n",
      "1343\n",
      "1343\n",
      "1343\n",
      "1343\n",
      "1343\n",
      "1343\n",
      "2297\n",
      "2297\n",
      "2297\n",
      "2297\n",
      "2297\n",
      "2297\n",
      "2297\n",
      "2297\n",
      "1578\n",
      "1578\n",
      "1578\n",
      "1578\n",
      "1578\n",
      "1578\n",
      "1578\n",
      "1578\n",
      "1578\n",
      "896\n",
      "896\n",
      "896\n",
      "896\n",
      "896\n",
      "1421\n",
      "1421\n",
      "1421\n",
      "700\n",
      "700\n",
      "700\n",
      "2882\n",
      "2882\n",
      "2882\n",
      "1926\n",
      "1926\n",
      "60\n",
      "60\n",
      "60\n",
      "60\n",
      "60\n",
      "2454\n",
      "2454\n",
      "1578\n",
      "1578\n",
      "1180\n",
      "1180\n",
      "408\n",
      "408\n",
      "191\n",
      "1838\n",
      "<class 'psycopg2.extensions.cursor'>\n"
     ]
    }
   ],
   "source": [
    "conn = psycopg2.connect(\n",
    "        user = \"postgres\",\n",
    "        password = os.environ.get(\"pg_psw\"),\n",
    "        host = \"localhost\",\n",
    "        port = \"5432\",\n",
    "        database = \"collection2\"\n",
    ")\n",
    "cur = conn.cursor()\n",
    "for nom, volume, degre, marque in liste_inventaire:\n",
    "    #print(producteur)\n",
    "    #print(pays)\n",
    "    cur.execute(f\"\"\"SELECT producteur.code_producteur \n",
    "        FROM producteur\n",
    "        WHERE producteur.nom = '{marque}';\n",
    "        \"\"\")\n",
    "    \n",
    "    code = cur.fetchone()[0]\n",
    "    print(code)\n",
    "    \n",
    "    cur.execute(f\"INSERT INTO produit (nom, volume, degre, code_producteur) VALUES ('{nom}', {volume}, {degre}, {code})\")\n",
    "print(type(cur))   \n",
    "cur.close()\n",
    "conn.commit()\n",
    "conn.close()"
   ]
  },
  {
   "cell_type": "code",
   "execution_count": 17,
   "id": "imported-christopher",
   "metadata": {},
   "outputs": [
    {
     "name": "stdout",
     "output_type": "stream",
     "text": [
      "[['10000 Drops Silver', '1000Drops'], ['10000 Drops Spiced', '1000Drops'], ['1000 Hills Gold', '1000 Hills Distillery'], ['100 Fuegos Buckeye 2-Year', '100 Fuegos '], ['100 Fuegos 8-Year', '101 Fuegos '], ['105 Simonton', 'Key west legal rum '], ['10 Cane 1999 Guyana 15-Year', '10 Cane'], ['10 Cane Light', '10 Cane'], ['10 Cane Signature Blend', '10 Cane'], ['1423 Indian Rum', '1423']]\n"
     ]
    }
   ],
   "source": [
    "# prod\n",
    "# je crée une liste regroupant les pays et les producteurs\n",
    "liste_gro = []\n",
    "with open('rum_data_new.csv', newline='', encoding='utf-8') as csvfile:\n",
    "    spamreader = csv.reader(csvfile, delimiter=',')\n",
    "    for row in spamreader:\n",
    "        liste_gro.append((row[0:2]))\n",
    "liste_gro = liste_gro[1:]\n",
    "print(liste_gro[0:10])"
   ]
  },
  {
   "cell_type": "code",
   "execution_count": 20,
   "id": "korean-football",
   "metadata": {},
   "outputs": [
    {
     "name": "stdout",
     "output_type": "stream",
     "text": [
      "<class 'psycopg2.extensions.cursor'>\n",
      "1\n",
      "<class 'psycopg2.extensions.cursor'>\n",
      "1\n",
      "<class 'psycopg2.extensions.cursor'>\n",
      "2\n",
      "<class 'psycopg2.extensions.cursor'>\n",
      "3\n",
      "<class 'psycopg2.extensions.cursor'>\n",
      "4\n",
      "<class 'psycopg2.extensions.cursor'>\n",
      "5\n",
      "<class 'psycopg2.extensions.cursor'>\n",
      "6\n",
      "<class 'psycopg2.extensions.cursor'>\n",
      "6\n",
      "<class 'psycopg2.extensions.cursor'>\n",
      "6\n",
      "<class 'psycopg2.extensions.cursor'>\n",
      "7\n",
      "<class 'psycopg2.extensions.cursor'>\n",
      "7\n",
      "<class 'psycopg2.extensions.cursor'>\n",
      "7\n",
      "<class 'psycopg2.extensions.cursor'>\n",
      "8\n",
      "<class 'psycopg2.extensions.cursor'>\n",
      "8\n",
      "<class 'psycopg2.extensions.cursor'>\n",
      "8\n",
      "<class 'psycopg2.extensions.cursor'>\n",
      "8\n",
      "<class 'psycopg2.extensions.cursor'>\n",
      "8\n",
      "<class 'psycopg2.extensions.cursor'>\n",
      "8\n",
      "<class 'psycopg2.extensions.cursor'>\n",
      "8\n",
      "<class 'psycopg2.extensions.cursor'>\n",
      "8\n",
      "<class 'psycopg2.extensions.cursor'>\n",
      "8\n",
      "<class 'psycopg2.extensions.cursor'>\n",
      "8\n",
      "<class 'psycopg2.extensions.cursor'>\n",
      "8\n",
      "<class 'psycopg2.extensions.cursor'>\n",
      "9\n",
      "<class 'psycopg2.extensions.cursor'>\n",
      "10\n",
      "<class 'psycopg2.extensions.cursor'>\n",
      "11\n",
      "<class 'psycopg2.extensions.cursor'>\n",
      "12\n",
      "<class 'psycopg2.extensions.cursor'>\n",
      "13\n",
      "<class 'psycopg2.extensions.cursor'>\n",
      "14\n",
      "<class 'psycopg2.extensions.cursor'>\n",
      "15\n",
      "<class 'psycopg2.extensions.cursor'>\n",
      "16\n",
      "<class 'psycopg2.extensions.cursor'>\n",
      "17\n",
      "<class 'psycopg2.extensions.cursor'>\n",
      "18\n",
      "<class 'psycopg2.extensions.cursor'>\n",
      "19\n",
      "<class 'psycopg2.extensions.cursor'>\n",
      "20\n",
      "<class 'psycopg2.extensions.cursor'>\n",
      "21\n",
      "<class 'psycopg2.extensions.cursor'>\n",
      "22\n",
      "<class 'psycopg2.extensions.cursor'>\n",
      "22\n",
      "<class 'psycopg2.extensions.cursor'>\n",
      "22\n",
      "<class 'psycopg2.extensions.cursor'>\n",
      "22\n",
      "<class 'psycopg2.extensions.cursor'>\n",
      "22\n",
      "<class 'psycopg2.extensions.cursor'>\n",
      "22\n",
      "<class 'psycopg2.extensions.cursor'>\n",
      "23\n",
      "<class 'psycopg2.extensions.cursor'>\n",
      "24\n",
      "<class 'psycopg2.extensions.cursor'>\n",
      "25\n",
      "<class 'psycopg2.extensions.cursor'>\n",
      "26\n",
      "<class 'psycopg2.extensions.cursor'>\n",
      "26\n",
      "<class 'psycopg2.extensions.cursor'>\n",
      "26\n",
      "<class 'psycopg2.extensions.cursor'>\n",
      "26\n",
      "<class 'psycopg2.extensions.cursor'>\n",
      "26\n",
      "<class 'psycopg2.extensions.cursor'>\n",
      "27\n",
      "<class 'psycopg2.extensions.cursor'>\n",
      "27\n",
      "<class 'psycopg2.extensions.cursor'>\n",
      "28\n",
      "<class 'psycopg2.extensions.cursor'>\n",
      "29\n",
      "<class 'psycopg2.extensions.cursor'>\n",
      "30\n",
      "<class 'psycopg2.extensions.cursor'>\n",
      "31\n",
      "<class 'psycopg2.extensions.cursor'>\n",
      "32\n",
      "<class 'psycopg2.extensions.cursor'>\n",
      "33\n",
      "<class 'psycopg2.extensions.cursor'>\n",
      "34\n",
      "<class 'psycopg2.extensions.cursor'>\n",
      "35\n",
      "<class 'psycopg2.extensions.cursor'>\n",
      "36\n",
      "<class 'psycopg2.extensions.cursor'>\n",
      "36\n",
      "<class 'psycopg2.extensions.cursor'>\n",
      "36\n",
      "<class 'psycopg2.extensions.cursor'>\n",
      "37\n",
      "<class 'psycopg2.extensions.cursor'>\n",
      "38\n",
      "<class 'psycopg2.extensions.cursor'>\n",
      "39\n",
      "<class 'psycopg2.extensions.cursor'>\n",
      "40\n",
      "<class 'psycopg2.extensions.cursor'>\n",
      "41\n",
      "<class 'psycopg2.extensions.cursor'>\n",
      "42\n",
      "<class 'psycopg2.extensions.cursor'>\n",
      "43\n"
     ]
    },
    {
     "ename": "SyntaxError",
     "evalue": "ERREUR:  erreur de syntaxe sur ou près de « s »\nLINE 1: ...t (nom, code_producteur) VALUES ('82 West Joffrey's Special ...\n                                                             ^\n",
     "output_type": "error",
     "traceback": [
      "\u001b[1;31m---------------------------------------------------------------------------\u001b[0m",
      "\u001b[1;31mSyntaxError\u001b[0m                               Traceback (most recent call last)",
      "\u001b[1;32m<ipython-input-20-276fd60c6485>\u001b[0m in \u001b[0;36m<module>\u001b[1;34m\u001b[0m\n\u001b[0;32m     18\u001b[0m     \u001b[0mprint\u001b[0m\u001b[1;33m(\u001b[0m\u001b[0mcode\u001b[0m\u001b[1;33m)\u001b[0m\u001b[1;33m\u001b[0m\u001b[1;33m\u001b[0m\u001b[0m\n\u001b[0;32m     19\u001b[0m \u001b[1;33m\u001b[0m\u001b[0m\n\u001b[1;32m---> 20\u001b[1;33m     \u001b[0mcur\u001b[0m\u001b[1;33m.\u001b[0m\u001b[0mexecute\u001b[0m\u001b[1;33m(\u001b[0m\u001b[1;34mf\"INSERT INTO produit (nom, code_producteur) VALUES ('{nom}', {code})\"\u001b[0m\u001b[1;33m)\u001b[0m\u001b[1;33m\u001b[0m\u001b[1;33m\u001b[0m\u001b[0m\n\u001b[0m\u001b[0;32m     21\u001b[0m \u001b[0mprint\u001b[0m\u001b[1;33m(\u001b[0m\u001b[0mtype\u001b[0m\u001b[1;33m(\u001b[0m\u001b[0mcur\u001b[0m\u001b[1;33m)\u001b[0m\u001b[1;33m)\u001b[0m\u001b[1;33m\u001b[0m\u001b[1;33m\u001b[0m\u001b[0m\n\u001b[0;32m     22\u001b[0m \u001b[0mcur\u001b[0m\u001b[1;33m.\u001b[0m\u001b[0mclose\u001b[0m\u001b[1;33m(\u001b[0m\u001b[1;33m)\u001b[0m\u001b[1;33m\u001b[0m\u001b[1;33m\u001b[0m\u001b[0m\n",
      "\u001b[1;31mSyntaxError\u001b[0m: ERREUR:  erreur de syntaxe sur ou près de « s »\nLINE 1: ...t (nom, code_producteur) VALUES ('82 West Joffrey's Special ...\n                                                             ^\n"
     ]
    }
   ],
   "source": [
    "conn = psycopg2.connect(\n",
    "        user = \"postgres\",\n",
    "        password = os.environ.get(\"pg_psw\"),\n",
    "        host = \"localhost\",\n",
    "        port = \"5432\",\n",
    "        database = \"collection2\"\n",
    ")\n",
    "cur = conn.cursor()\n",
    "for nom, marque in liste_gro:\n",
    "    #print(producteur)\n",
    "    #print(pays)\n",
    "    cur.execute(f\"\"\"SELECT producteur.code_producteur \n",
    "        FROM producteur\n",
    "        WHERE producteur.nom = '{marque}';\n",
    "        \"\"\")\n",
    "    print(type(cur))\n",
    "    code = cur.fetchone()[0]\n",
    "    print(code)\n",
    "    \n",
    "    cur.execute(f\"INSERT INTO produit (nom, code_producteur) VALUES ('{nom}', {code})\")\n",
    "print(type(cur))   \n",
    "cur.close()\n",
    "conn.commit()\n",
    "conn.close()"
   ]
  },
  {
   "cell_type": "code",
   "execution_count": null,
   "id": "human-grenada",
   "metadata": {},
   "outputs": [],
   "source": []
  },
  {
   "cell_type": "code",
   "execution_count": null,
   "id": "prepared-bouquet",
   "metadata": {},
   "outputs": [],
   "source": []
  }
 ],
 "metadata": {
  "kernelspec": {
   "display_name": "Python 3",
   "language": "python",
   "name": "python3"
  },
  "language_info": {
   "codemirror_mode": {
    "name": "ipython",
    "version": 3
   },
   "file_extension": ".py",
   "mimetype": "text/x-python",
   "name": "python",
   "nbconvert_exporter": "python",
   "pygments_lexer": "ipython3",
   "version": "3.8.6"
  }
 },
 "nbformat": 4,
 "nbformat_minor": 5
}
