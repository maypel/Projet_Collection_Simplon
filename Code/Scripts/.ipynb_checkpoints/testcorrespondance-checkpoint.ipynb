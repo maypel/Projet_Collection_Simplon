{
 "cells": [
  {
   "cell_type": "markdown",
   "id": "fifty-sleeping",
   "metadata": {},
   "source": [
    "# TEST CORRESPONDANCE ORIGINE/PRODUCTEUR - INSERTION BDD"
   ]
  },
  {
   "cell_type": "markdown",
   "id": "divided-catalyst",
   "metadata": {},
   "source": [
    "######"
   ]
  },
  {
   "cell_type": "markdown",
   "id": "given-township",
   "metadata": {},
   "source": [
    "### Correspondance"
   ]
  },
  {
   "cell_type": "code",
   "execution_count": 1,
   "id": "retired-david",
   "metadata": {},
   "outputs": [],
   "source": [
    "# imports des librairies\n",
    "\n",
    "import os\n",
    "import pandas as pd\n",
    "import psycopg2\n",
    "import csv\n",
    "import reprlib"
   ]
  },
  {
   "cell_type": "markdown",
   "id": "aging-chancellor",
   "metadata": {},
   "source": [
    "###### "
   ]
  },
  {
   "cell_type": "markdown",
   "id": "soviet-sponsorship",
   "metadata": {},
   "source": [
    "-------"
   ]
  },
  {
   "cell_type": "markdown",
   "id": "unsigned-inquiry",
   "metadata": {},
   "source": [
    "##### Insertion de la liste des pays dans la table origine"
   ]
  },
  {
   "cell_type": "code",
   "execution_count": null,
   "id": "retired-touch",
   "metadata": {
    "tags": []
   },
   "outputs": [],
   "source": [
    "# connexion à la bdd collection\n",
    "conn = psycopg2.connect(\n",
    "        user = \"postgres\",\n",
    "        password = os.environ.get(\"pg_psw\"),\n",
    "        host = \"localhost\",\n",
    "        port = \"5432\",\n",
    "        database = \"collection\"\n",
    ")\n",
    "cur = conn.cursor()\n",
    "\n",
    "sql2 = \"INSERT INTO producteur (nom, code_origine) VALUES ('Montebello', 2)\"\n",
    "cur.execute(sql2)\n",
    "sql3 = \"INSERT INTO producteur (nom, code_origine) VALUES ('Foursquare', 3)\"\n",
    "cur.execute(sql3)\n",
    "#fermeture de la connexion à la base de données\n",
    "cur.close()\n",
    "conn.commit()\n",
    "conn.close()\n",
    "print(\"La connexion PostgreSQL est fermée\")"
   ]
  },
  {
   "cell_type": "code",
   "execution_count": null,
   "id": "future-ballet",
   "metadata": {},
   "outputs": [],
   "source": [
    "# connexion à la bdd collection\n",
    "conn = psycopg2.connect(\n",
    "        user = \"postgres\",\n",
    "        password = os.environ.get(\"pg_psw\"),\n",
    "        host = \"localhost\",\n",
    "        port = \"5432\",\n",
    "        database = \"collection\"\n",
    ")\n",
    "cur = conn.cursor()\n",
    "\n",
    "sql1 = f\"INSERT INTO producteur (nom, code_origine) VALUES ('Dillon', {orig})\"\n",
    "cur.execute(sql1)\n",
    "cur.close()\n",
    "conn.commit()\n",
    "conn.close()"
   ]
  },
  {
   "cell_type": "code",
   "execution_count": 7,
   "id": "hybrid-scottish",
   "metadata": {},
   "outputs": [
    {
     "name": "stdout",
     "output_type": "stream",
     "text": [
      "['country', 'United States', 'Rwanda', 'Ecuador', 'Trinidad and Tobago', 'Panama', ...]\n"
     ]
    }
   ],
   "source": [
    "\n",
    "liste = []\n",
    "with open('rum_data_new.csv', newline='', encoding='utf-8') as csvfile:\n",
    "    spamreader = csv.reader(csvfile, delimiter=',')\n",
    "    for row in spamreader:\n",
    "        if row[2] not in liste:\n",
    "            liste.append(row[2])\n",
    "print(reprlib.repr(liste))"
   ]
  },
  {
   "cell_type": "code",
   "execution_count": 8,
   "id": "detailed-taxation",
   "metadata": {},
   "outputs": [
    {
     "name": "stdout",
     "output_type": "stream",
     "text": [
      "United States\n"
     ]
    }
   ],
   "source": [
    "print(liste[1])"
   ]
  },
  {
   "cell_type": "code",
   "execution_count": 9,
   "id": "diverse-agriculture",
   "metadata": {},
   "outputs": [],
   "source": [
    "liste = liste[1:]"
   ]
  },
  {
   "cell_type": "code",
   "execution_count": 10,
   "id": "important-edmonton",
   "metadata": {},
   "outputs": [
    {
     "name": "stdout",
     "output_type": "stream",
     "text": [
      "['United States', 'Rwanda', 'Ecuador', 'Trinidad and Tobago', 'Panama', 'Switzerland', 'Netherlands', 'Germany', 'Belgium', 'Saint Lucia', 'Belize', 'India', 'Australia', 'Brazil', 'Barbados', 'Portugal', 'Virgin Islands, U.S.', 'Martinique', 'Mexico', 'United Kingdom', 'Colombia', 'Spain', 'Denmark', 'Caribbean', 'Cuba', 'Dominican Republic', 'Guyana', 'Guatemala', 'Jamaica', 'Mauritius', 'Guadeloupe', 'British Virgin Islands', 'Puerto Rico', 'Croatia', 'Bahamas', 'Sri Lanka', 'Finland', 'Turks and Caicos Islands', 'Antigua and Barbuda', 'Reunion', 'Lithuania', 'Haiti', 'Sweden', 'Grenada', 'Venezuela', 'Fiji', 'Dominica', 'Vietnam', 'Saint Kitts And Nevis', 'Bermuda', 'Cayman Islands', 'Suriname', 'New Zealand', 'Thailand', 'Estonia', 'United States Minor Outlying Islands', 'Italy', 'France', 'Czech Republic', 'Indonesia', 'Peru', 'Canada', 'Costa Rica', 'USA', 'Nicaragua', 'Bulgaria', 'Romania', 'Venezuela, Bolivarian Republic of', 'Hungary', 'El Salvador', 'Trinidad', 'Greece', 'Philippines', 'South Africa', 'Curacao', 'Madagascar', 'Uruguay', 'Austria', 'Taiwan, Republic Of China', 'Paraguay', 'Cambodia', 'Slovakia', 'French Polynesia', 'Japan', 'Argentina', 'Saint Martin', 'Kenya', 'Nepal', 'Malta', 'Seychelles', 'Myanmar', 'United Arab Emirates', 'Aruba', 'Honduras', 'Mexique', 'Poland', 'Anguilla', 'Bonaire, Sint Eustatius and Saba', 'Saint Barthelemy', 'Andorra', 'Netherlands Antilles', 'Jamaica & Guyana ', 'Sint Maarten', 'Saint Vincent And The Grenedines', 'Liechtenstein', 'British West Indies', 'Cape Verde', 'Brasil', 'Ireland']\n"
     ]
    }
   ],
   "source": [
    "print(liste)"
   ]
  },
  {
   "cell_type": "code",
   "execution_count": 11,
   "id": "peripheral-steel",
   "metadata": {},
   "outputs": [
    {
     "name": "stdout",
     "output_type": "stream",
     "text": [
      "109\n"
     ]
    }
   ],
   "source": [
    "print(len(liste))"
   ]
  },
  {
   "cell_type": "code",
   "execution_count": null,
   "id": "every-standing",
   "metadata": {
    "tags": []
   },
   "outputs": [],
   "source": [
    "# connexion à la bdd collection\n",
    "conn = psycopg2.connect(\n",
    "        user = \"postgres\",\n",
    "        password = os.environ.get(\"pg_psw\"),\n",
    "        host = \"localhost\",\n",
    "        port = \"5432\",\n",
    "        database = \"collection\"\n",
    ")\n",
    "cur = conn.cursor()\n",
    "\n",
    "sql = \"SELECT origine.code_origine FROM origine\"\n",
    "cur.execute(sql)\n",
    "code_id = cur.fetchall()\n",
    "print(code_id)\n",
    "\n",
    "\n",
    "#fermeture de la connexion à la base de données\n",
    "cur.close()\n",
    "conn.close()\n",
    "print(\"La connexion PostgreSQL est fermée\")"
   ]
  },
  {
   "cell_type": "code",
   "execution_count": 12,
   "id": "handy-cedar",
   "metadata": {},
   "outputs": [],
   "source": [
    "# Insertion de la liste des pays dans la table origine\n",
    "\n",
    "# connexion à la bdd collection\n",
    "conn = psycopg2.connect(\n",
    "        user = \"postgres\",\n",
    "        password = os.environ.get(\"pg_psw\"),\n",
    "        host = \"localhost\",\n",
    "        port = \"5432\",\n",
    "        database = \"collection\"\n",
    ")\n",
    "cur = conn.cursor()\n",
    "\n",
    "for e in liste:\n",
    "    cur.execute(\"SELECT origine.nom FROM origine WHERE origine.nom = (%s) \", (e,))\n",
    "    verif = cur.fetchone()\n",
    "    if not verif:\n",
    "        cur.execute(\"INSERT INTO origine (nom) VALUES(%s)\", (e,))\n",
    "\n",
    "conn.commit()\n",
    "conn.close()"
   ]
  },
  {
   "cell_type": "markdown",
   "id": "adjustable-national",
   "metadata": {},
   "source": [
    "######"
   ]
  },
  {
   "cell_type": "markdown",
   "id": "incredible-mention",
   "metadata": {},
   "source": [
    "-----------------------"
   ]
  },
  {
   "cell_type": "markdown",
   "id": "atmospheric-label",
   "metadata": {},
   "source": [
    "- récupération du code origine"
   ]
  },
  {
   "cell_type": "code",
   "execution_count": null,
   "id": "useful-adoption",
   "metadata": {},
   "outputs": [],
   "source": [
    "# connexion à la bdd collection\n",
    "conn = psycopg2.connect(\n",
    "        user = \"postgres\",\n",
    "        password = os.environ.get(\"pg_psw\"),\n",
    "        host = \"localhost\",\n",
    "        port = \"5432\",\n",
    "        database = \"collection\"\n",
    ")\n",
    "cur = conn.cursor()\n",
    "\n",
    "sql = \"SELECT origine.code_origine FROM origine\"\n",
    "cur.execute(sql)\n",
    "code_id = cur.fetchall()\n",
    "liste_code = []\n",
    "\n",
    "for code in code_id:\n",
    "    for e in code:\n",
    "        liste_code.append(e)\n",
    "print(liste_code)\n",
    "\n",
    "#fermeture de la connexion à la base de données\n",
    "cur.close()\n",
    "conn.close()\n",
    "print(\"La connexion PostgreSQL est fermée\")"
   ]
  },
  {
   "cell_type": "code",
   "execution_count": null,
   "id": "indie-purchase",
   "metadata": {},
   "outputs": [],
   "source": [
    "# connexion à la bdd collection\n",
    "conn = psycopg2.connect(\n",
    "        user = \"postgres\",\n",
    "        password = os.environ.get(\"pg_psw\"),\n",
    "        host = \"localhost\",\n",
    "        port = \"5432\",\n",
    "        database = \"collection\"\n",
    ")\n",
    "cur = conn.cursor()\n",
    "\n",
    "# requete sql pour récupérer les données table origine\n",
    "sql = \"SELECT * FROM origine\"\n",
    "cur.execute(sql)\n",
    "res = cur.fetchall()\n",
    "print(res)\n",
    "\n",
    "\n",
    "#fermeture de la connexion à la base de données\n",
    "cur.close()\n",
    "conn.close()\n",
    "print(\"La connexion PostgreSQL est fermée\")"
   ]
  },
  {
   "cell_type": "code",
   "execution_count": null,
   "id": "taken-mistress",
   "metadata": {},
   "outputs": [],
   "source": [
    "# on transforme les données en dictionnaire avec la fonction dict()\n",
    "dico = dict(res)\n",
    "print(dico)"
   ]
  },
  {
   "cell_type": "code",
   "execution_count": null,
   "id": "honest-retrieval",
   "metadata": {},
   "outputs": [],
   "source": []
  },
  {
   "cell_type": "markdown",
   "id": "independent-diversity",
   "metadata": {},
   "source": [
    "###### "
   ]
  },
  {
   "cell_type": "markdown",
   "id": "swedish-medline",
   "metadata": {},
   "source": [
    "_____________"
   ]
  },
  {
   "cell_type": "markdown",
   "id": "urban-atlantic",
   "metadata": {},
   "source": [
    "- correspondance"
   ]
  },
  {
   "cell_type": "code",
   "execution_count": null,
   "id": "southeast-johns",
   "metadata": {},
   "outputs": [],
   "source": [
    "liste2 = []\n",
    "with open('rum_data.csv', newline='', encoding='utf-8') as csvfile:\n",
    "    spamreader = csv.reader(csvfile, delimiter=',')\n",
    "    for row in spamreader:\n",
    "        liste2.append(row[0])\n",
    "print(reprlib.repr(liste2[1:]))"
   ]
  },
  {
   "cell_type": "code",
   "execution_count": null,
   "id": "developing-preliminary",
   "metadata": {},
   "outputs": [],
   "source": [
    "# im faut une fonction pour récupérer l'origine en fonction du producteur\n",
    "# une fonction qui compare l'origine à ma liste origine\n",
    "# une fonction qui me donne le code origine en fonction de l'origine"
   ]
  },
  {
   "cell_type": "code",
   "execution_count": null,
   "id": "smoking-india",
   "metadata": {},
   "outputs": [],
   "source": []
  }
 ],
 "metadata": {
  "kernelspec": {
   "display_name": "Python 3",
   "language": "python",
   "name": "python3"
  },
  "language_info": {
   "codemirror_mode": {
    "name": "ipython",
    "version": 3
   },
   "file_extension": ".py",
   "mimetype": "text/x-python",
   "name": "python",
   "nbconvert_exporter": "python",
   "pygments_lexer": "ipython3",
   "version": "3.8.6"
  }
 },
 "nbformat": 4,
 "nbformat_minor": 5
}
