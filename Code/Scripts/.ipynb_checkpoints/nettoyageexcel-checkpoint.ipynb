{
 "cells": [
  {
   "cell_type": "code",
   "execution_count": 1,
   "id": "external-hungary",
   "metadata": {},
   "outputs": [],
   "source": [
    "import pandas as pd\n",
    "import matplotlib.pyplot as plt"
   ]
  },
  {
   "cell_type": "code",
   "execution_count": 2,
   "id": "accomplished-worship",
   "metadata": {},
   "outputs": [],
   "source": [
    "excel_file = 'INVENTAIRE_A.xlsx'\n",
    "inventaire = pd.read_excel(excel_file, skiprows=2)\n",
    "inventaire.drop(103,0,inplace=True)"
   ]
  },
  {
   "cell_type": "code",
   "execution_count": 3,
   "id": "partial-fitting",
   "metadata": {},
   "outputs": [],
   "source": [
    "inventaire.drop(0,0,inplace=True)"
   ]
  },
  {
   "cell_type": "code",
   "execution_count": 4,
   "id": "insured-knowing",
   "metadata": {},
   "outputs": [
    {
     "data": {
      "text/html": [
       "<div>\n",
       "<style scoped>\n",
       "    .dataframe tbody tr th:only-of-type {\n",
       "        vertical-align: middle;\n",
       "    }\n",
       "\n",
       "    .dataframe tbody tr th {\n",
       "        vertical-align: top;\n",
       "    }\n",
       "\n",
       "    .dataframe thead th {\n",
       "        text-align: right;\n",
       "    }\n",
       "</style>\n",
       "<table border=\"1\" class=\"dataframe\">\n",
       "  <thead>\n",
       "    <tr style=\"text-align: right;\">\n",
       "      <th></th>\n",
       "      <th>Unnamed: 0</th>\n",
       "      <th>Unnamed: 1</th>\n",
       "      <th>DEGRE</th>\n",
       "      <th>NOMBRE</th>\n",
       "      <th>ACHAT</th>\n",
       "      <th>Unnamed: 5</th>\n",
       "      <th>Marque</th>\n",
       "    </tr>\n",
       "  </thead>\n",
       "  <tbody>\n",
       "    <tr>\n",
       "      <th>1</th>\n",
       "      <td>C12 70</td>\n",
       "      <td>70.0</td>\n",
       "      <td>50.0</td>\n",
       "      <td>5.0</td>\n",
       "      <td>8.5</td>\n",
       "      <td>NaN</td>\n",
       "      <td>HSE</td>\n",
       "    </tr>\n",
       "    <tr>\n",
       "      <th>2</th>\n",
       "      <td>C16 70</td>\n",
       "      <td>70.0</td>\n",
       "      <td>50.0</td>\n",
       "      <td>1.0</td>\n",
       "      <td>11.0</td>\n",
       "      <td>NaN</td>\n",
       "      <td>HSE</td>\n",
       "    </tr>\n",
       "    <tr>\n",
       "      <th>3</th>\n",
       "      <td>C16 100</td>\n",
       "      <td>100.0</td>\n",
       "      <td>50.0</td>\n",
       "      <td>1.0</td>\n",
       "      <td>14.0</td>\n",
       "      <td>NaN</td>\n",
       "      <td>HSE</td>\n",
       "    </tr>\n",
       "    <tr>\n",
       "      <th>4</th>\n",
       "      <td>PARCELLAIRE 70</td>\n",
       "      <td>70.0</td>\n",
       "      <td>55.0</td>\n",
       "      <td>2.0</td>\n",
       "      <td>13.0</td>\n",
       "      <td>NaN</td>\n",
       "      <td>HSE</td>\n",
       "    </tr>\n",
       "    <tr>\n",
       "      <th>5</th>\n",
       "      <td>PARCELLAIRE 100</td>\n",
       "      <td>100.0</td>\n",
       "      <td>55.0</td>\n",
       "      <td>1.0</td>\n",
       "      <td>15.0</td>\n",
       "      <td>NaN</td>\n",
       "      <td>HSE</td>\n",
       "    </tr>\n",
       "    <tr>\n",
       "      <th>...</th>\n",
       "      <td>...</td>\n",
       "      <td>...</td>\n",
       "      <td>...</td>\n",
       "      <td>...</td>\n",
       "      <td>...</td>\n",
       "      <td>...</td>\n",
       "      <td>...</td>\n",
       "    </tr>\n",
       "    <tr>\n",
       "      <th>98</th>\n",
       "      <td>MONTEBELLO 8 ANS</td>\n",
       "      <td>70.0</td>\n",
       "      <td>42.0</td>\n",
       "      <td>1.0</td>\n",
       "      <td>28.0</td>\n",
       "      <td>NaN</td>\n",
       "      <td>montebello</td>\n",
       "    </tr>\n",
       "    <tr>\n",
       "      <th>99</th>\n",
       "      <td>DIVERS</td>\n",
       "      <td>NaN</td>\n",
       "      <td>NaN</td>\n",
       "      <td>NaN</td>\n",
       "      <td>NaN</td>\n",
       "      <td>NaN</td>\n",
       "      <td>NaN</td>\n",
       "    </tr>\n",
       "    <tr>\n",
       "      <th>100</th>\n",
       "      <td>kapoeira  cachaça</td>\n",
       "      <td>70.0</td>\n",
       "      <td>38.0</td>\n",
       "      <td>1.0</td>\n",
       "      <td>25.0</td>\n",
       "      <td>NaN</td>\n",
       "      <td>kapoeira</td>\n",
       "    </tr>\n",
       "    <tr>\n",
       "      <th>101</th>\n",
       "      <td>Bombay Gin</td>\n",
       "      <td>70.0</td>\n",
       "      <td>40.0</td>\n",
       "      <td>1.0</td>\n",
       "      <td>15.0</td>\n",
       "      <td>NaN</td>\n",
       "      <td>bombay</td>\n",
       "    </tr>\n",
       "    <tr>\n",
       "      <th>102</th>\n",
       "      <td>Vodka Standart</td>\n",
       "      <td>100.0</td>\n",
       "      <td>40.0</td>\n",
       "      <td>1.0</td>\n",
       "      <td>24.0</td>\n",
       "      <td>cadeau</td>\n",
       "      <td>standart</td>\n",
       "    </tr>\n",
       "  </tbody>\n",
       "</table>\n",
       "<p>102 rows × 7 columns</p>\n",
       "</div>"
      ],
      "text/plain": [
       "            Unnamed: 0  Unnamed: 1  DEGRE  NOMBRE  ACHAT Unnamed: 5  \\\n",
       "1               C12 70        70.0   50.0     5.0    8.5        NaN   \n",
       "2               C16 70        70.0   50.0     1.0   11.0        NaN   \n",
       "3              C16 100       100.0   50.0     1.0   14.0        NaN   \n",
       "4       PARCELLAIRE 70        70.0   55.0     2.0   13.0        NaN   \n",
       "5      PARCELLAIRE 100       100.0   55.0     1.0   15.0        NaN   \n",
       "..                 ...         ...    ...     ...    ...        ...   \n",
       "98    MONTEBELLO 8 ANS        70.0   42.0     1.0   28.0        NaN   \n",
       "99              DIVERS         NaN    NaN     NaN    NaN        NaN   \n",
       "100  kapoeira  cachaça        70.0   38.0     1.0   25.0        NaN   \n",
       "101         Bombay Gin        70.0   40.0     1.0   15.0        NaN   \n",
       "102     Vodka Standart       100.0   40.0     1.0   24.0     cadeau   \n",
       "\n",
       "         Marque  \n",
       "1           HSE  \n",
       "2           HSE  \n",
       "3           HSE  \n",
       "4           HSE  \n",
       "5           HSE  \n",
       "..          ...  \n",
       "98   montebello  \n",
       "99          NaN  \n",
       "100    kapoeira  \n",
       "101      bombay  \n",
       "102    standart  \n",
       "\n",
       "[102 rows x 7 columns]"
      ]
     },
     "execution_count": 4,
     "metadata": {},
     "output_type": "execute_result"
    }
   ],
   "source": [
    "inventaire"
   ]
  },
  {
   "cell_type": "code",
   "execution_count": 7,
   "id": "curious-authorization",
   "metadata": {},
   "outputs": [],
   "source": [
    "del inventaire['Unnamed: 5']\n",
    "inventaire.columns = ['NOM', 'VOLUME', 'DEGRE', 'NOMBRE', 'PRIX', 'MARQUE']"
   ]
  },
  {
   "cell_type": "code",
   "execution_count": 9,
   "id": "loaded-karma",
   "metadata": {},
   "outputs": [
    {
     "data": {
      "text/html": [
       "<div>\n",
       "<style scoped>\n",
       "    .dataframe tbody tr th:only-of-type {\n",
       "        vertical-align: middle;\n",
       "    }\n",
       "\n",
       "    .dataframe tbody tr th {\n",
       "        vertical-align: top;\n",
       "    }\n",
       "\n",
       "    .dataframe thead th {\n",
       "        text-align: right;\n",
       "    }\n",
       "</style>\n",
       "<table border=\"1\" class=\"dataframe\">\n",
       "  <thead>\n",
       "    <tr style=\"text-align: right;\">\n",
       "      <th></th>\n",
       "      <th>NOM</th>\n",
       "      <th>VOLUME</th>\n",
       "      <th>DEGRE</th>\n",
       "      <th>NOMBRE</th>\n",
       "      <th>PRIX</th>\n",
       "      <th>MARQUE</th>\n",
       "    </tr>\n",
       "  </thead>\n",
       "  <tbody>\n",
       "    <tr>\n",
       "      <th>1</th>\n",
       "      <td>C12 70</td>\n",
       "      <td>70.0</td>\n",
       "      <td>50.0</td>\n",
       "      <td>5.0</td>\n",
       "      <td>8.5</td>\n",
       "      <td>HSE</td>\n",
       "    </tr>\n",
       "    <tr>\n",
       "      <th>2</th>\n",
       "      <td>C16 70</td>\n",
       "      <td>70.0</td>\n",
       "      <td>50.0</td>\n",
       "      <td>1.0</td>\n",
       "      <td>11.0</td>\n",
       "      <td>HSE</td>\n",
       "    </tr>\n",
       "    <tr>\n",
       "      <th>3</th>\n",
       "      <td>C16 100</td>\n",
       "      <td>100.0</td>\n",
       "      <td>50.0</td>\n",
       "      <td>1.0</td>\n",
       "      <td>14.0</td>\n",
       "      <td>HSE</td>\n",
       "    </tr>\n",
       "    <tr>\n",
       "      <th>4</th>\n",
       "      <td>PARCELLAIRE 70</td>\n",
       "      <td>70.0</td>\n",
       "      <td>55.0</td>\n",
       "      <td>2.0</td>\n",
       "      <td>13.0</td>\n",
       "      <td>HSE</td>\n",
       "    </tr>\n",
       "    <tr>\n",
       "      <th>5</th>\n",
       "      <td>PARCELLAIRE 100</td>\n",
       "      <td>100.0</td>\n",
       "      <td>55.0</td>\n",
       "      <td>1.0</td>\n",
       "      <td>15.0</td>\n",
       "      <td>HSE</td>\n",
       "    </tr>\n",
       "    <tr>\n",
       "      <th>...</th>\n",
       "      <td>...</td>\n",
       "      <td>...</td>\n",
       "      <td>...</td>\n",
       "      <td>...</td>\n",
       "      <td>...</td>\n",
       "      <td>...</td>\n",
       "    </tr>\n",
       "    <tr>\n",
       "      <th>98</th>\n",
       "      <td>MONTEBELLO 8 ANS</td>\n",
       "      <td>70.0</td>\n",
       "      <td>42.0</td>\n",
       "      <td>1.0</td>\n",
       "      <td>28.0</td>\n",
       "      <td>montebello</td>\n",
       "    </tr>\n",
       "    <tr>\n",
       "      <th>99</th>\n",
       "      <td>DIVERS</td>\n",
       "      <td>NaN</td>\n",
       "      <td>NaN</td>\n",
       "      <td>NaN</td>\n",
       "      <td>NaN</td>\n",
       "      <td>NaN</td>\n",
       "    </tr>\n",
       "    <tr>\n",
       "      <th>100</th>\n",
       "      <td>kapoeira  cachaça</td>\n",
       "      <td>70.0</td>\n",
       "      <td>38.0</td>\n",
       "      <td>1.0</td>\n",
       "      <td>25.0</td>\n",
       "      <td>kapoeira</td>\n",
       "    </tr>\n",
       "    <tr>\n",
       "      <th>101</th>\n",
       "      <td>Bombay Gin</td>\n",
       "      <td>70.0</td>\n",
       "      <td>40.0</td>\n",
       "      <td>1.0</td>\n",
       "      <td>15.0</td>\n",
       "      <td>bombay</td>\n",
       "    </tr>\n",
       "    <tr>\n",
       "      <th>102</th>\n",
       "      <td>Vodka Standart</td>\n",
       "      <td>100.0</td>\n",
       "      <td>40.0</td>\n",
       "      <td>1.0</td>\n",
       "      <td>24.0</td>\n",
       "      <td>standart</td>\n",
       "    </tr>\n",
       "  </tbody>\n",
       "</table>\n",
       "<p>102 rows × 6 columns</p>\n",
       "</div>"
      ],
      "text/plain": [
       "                   NOM  VOLUME  DEGRE  NOMBRE  PRIX      MARQUE\n",
       "1               C12 70    70.0   50.0     5.0   8.5         HSE\n",
       "2               C16 70    70.0   50.0     1.0  11.0         HSE\n",
       "3              C16 100   100.0   50.0     1.0  14.0         HSE\n",
       "4       PARCELLAIRE 70    70.0   55.0     2.0  13.0         HSE\n",
       "5      PARCELLAIRE 100   100.0   55.0     1.0  15.0         HSE\n",
       "..                 ...     ...    ...     ...   ...         ...\n",
       "98    MONTEBELLO 8 ANS    70.0   42.0     1.0  28.0  montebello\n",
       "99              DIVERS     NaN    NaN     NaN   NaN         NaN\n",
       "100  kapoeira  cachaça    70.0   38.0     1.0  25.0    kapoeira\n",
       "101         Bombay Gin    70.0   40.0     1.0  15.0      bombay\n",
       "102     Vodka Standart   100.0   40.0     1.0  24.0    standart\n",
       "\n",
       "[102 rows x 6 columns]"
      ]
     },
     "execution_count": 9,
     "metadata": {},
     "output_type": "execute_result"
    }
   ],
   "source": [
    "inventaire"
   ]
  },
  {
   "cell_type": "code",
   "execution_count": 8,
   "id": "criminal-approach",
   "metadata": {},
   "outputs": [
    {
     "ename": "NameError",
     "evalue": "name 'index_with_nan' is not defined",
     "output_type": "error",
     "traceback": [
      "\u001b[1;31m---------------------------------------------------------------------------\u001b[0m",
      "\u001b[1;31mNameError\u001b[0m                                 Traceback (most recent call last)",
      "\u001b[1;32m<ipython-input-8-46519881ff19>\u001b[0m in \u001b[0;36m<module>\u001b[1;34m\u001b[0m\n\u001b[1;32m----> 1\u001b[1;33m \u001b[0minventaire\u001b[0m\u001b[1;33m.\u001b[0m\u001b[0mdrop\u001b[0m\u001b[1;33m(\u001b[0m\u001b[0mindex_with_nan\u001b[0m\u001b[1;33m,\u001b[0m\u001b[1;36m0\u001b[0m\u001b[1;33m,\u001b[0m \u001b[0minplace\u001b[0m\u001b[1;33m=\u001b[0m\u001b[1;32mTrue\u001b[0m\u001b[1;33m)\u001b[0m\u001b[1;33m\u001b[0m\u001b[1;33m\u001b[0m\u001b[0m\n\u001b[0m\u001b[0;32m      2\u001b[0m \u001b[0minventaire\u001b[0m\u001b[1;33m\u001b[0m\u001b[1;33m\u001b[0m\u001b[0m\n",
      "\u001b[1;31mNameError\u001b[0m: name 'index_with_nan' is not defined"
     ]
    }
   ],
   "source": [
    "inventaire.drop(index_with_nan,0, inplace=True)\n",
    "inventaire"
   ]
  },
  {
   "cell_type": "code",
   "execution_count": null,
   "id": "parallel-westminster",
   "metadata": {},
   "outputs": [],
   "source": [
    "inventaire.drop(inventaire.index[inventaire.isnull().any(axis=1)],0, inplace=True)"
   ]
  },
  {
   "cell_type": "code",
   "execution_count": 10,
   "id": "healthy-tracy",
   "metadata": {},
   "outputs": [
    {
     "data": {
      "text/plain": [
       "<bound method DataFrame.info of                    NOM  VOLUME  DEGRE  NOMBRE  PRIX      MARQUE\n",
       "1               C12 70    70.0   50.0     5.0   8.5         HSE\n",
       "2               C16 70    70.0   50.0     1.0  11.0         HSE\n",
       "3              C16 100   100.0   50.0     1.0  14.0         HSE\n",
       "4       PARCELLAIRE 70    70.0   55.0     2.0  13.0         HSE\n",
       "5      PARCELLAIRE 100   100.0   55.0     1.0  15.0         HSE\n",
       "..                 ...     ...    ...     ...   ...         ...\n",
       "98    MONTEBELLO 8 ANS    70.0   42.0     1.0  28.0  montebello\n",
       "99              DIVERS     NaN    NaN     NaN   NaN         NaN\n",
       "100  kapoeira  cachaça    70.0   38.0     1.0  25.0    kapoeira\n",
       "101         Bombay Gin    70.0   40.0     1.0  15.0      bombay\n",
       "102     Vodka Standart   100.0   40.0     1.0  24.0    standart\n",
       "\n",
       "[102 rows x 6 columns]>"
      ]
     },
     "execution_count": 10,
     "metadata": {},
     "output_type": "execute_result"
    }
   ],
   "source": [
    "inventaire.info"
   ]
  },
  {
   "cell_type": "code",
   "execution_count": 11,
   "id": "juvenile-integrity",
   "metadata": {},
   "outputs": [
    {
     "data": {
      "text/plain": [
       "(102, 6)"
      ]
     },
     "execution_count": 11,
     "metadata": {},
     "output_type": "execute_result"
    }
   ],
   "source": [
    "inventaire.shape"
   ]
  },
  {
   "cell_type": "code",
   "execution_count": null,
   "id": "funded-spotlight",
   "metadata": {},
   "outputs": [],
   "source": [
    "inventaire.plot()"
   ]
  },
  {
   "cell_type": "code",
   "execution_count": null,
   "id": "artistic-bristol",
   "metadata": {},
   "outputs": [],
   "source": [
    "inventaire.plot.pie(y='VOLUME', figsize=(5, 5))"
   ]
  },
  {
   "cell_type": "code",
   "execution_count": null,
   "id": "hairy-rogers",
   "metadata": {},
   "outputs": [],
   "source": [
    "inventaire.plot.box()"
   ]
  },
  {
   "cell_type": "code",
   "execution_count": null,
   "id": "streaming-minutes",
   "metadata": {},
   "outputs": [],
   "source": [
    "inventaire[\"DEGRE\"].plot()"
   ]
  },
  {
   "cell_type": "code",
   "execution_count": null,
   "id": "documentary-sweden",
   "metadata": {},
   "outputs": [],
   "source": [
    "axs = inventaire.plot.area(figsize=(12,4), subplots=True)"
   ]
  },
  {
   "cell_type": "code",
   "execution_count": null,
   "id": "synthetic-blend",
   "metadata": {},
   "outputs": [],
   "source": [
    "inventaire['prix_moyen'] = (inventaire['PRIX'] * 100 /89)"
   ]
  },
  {
   "cell_type": "code",
   "execution_count": null,
   "id": "freelance-dover",
   "metadata": {},
   "outputs": [],
   "source": [
    "inventaire.drop(['prix_moyen'], axis=1)"
   ]
  }
 ],
 "metadata": {
  "kernelspec": {
   "display_name": "Python 3",
   "language": "python",
   "name": "python3"
  },
  "language_info": {
   "codemirror_mode": {
    "name": "ipython",
    "version": 3
   },
   "file_extension": ".py",
   "mimetype": "text/x-python",
   "name": "python",
   "nbconvert_exporter": "python",
   "pygments_lexer": "ipython3",
   "version": "3.8.6"
  }
 },
 "nbformat": 4,
 "nbformat_minor": 5
}
