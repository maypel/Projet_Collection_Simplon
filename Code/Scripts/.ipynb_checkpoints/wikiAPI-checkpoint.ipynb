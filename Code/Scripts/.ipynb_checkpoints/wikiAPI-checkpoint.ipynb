{
 "cells": [
  {
   "cell_type": "markdown",
   "id": "broken-wheel",
   "metadata": {},
   "source": [
    "# TEST API/LIB WIKIPEDIA"
   ]
  },
  {
   "cell_type": "code",
   "execution_count": null,
   "id": "baking-potter",
   "metadata": {},
   "outputs": [],
   "source": [
    "# installation du module\n",
    "pip install wikipedia"
   ]
  },
  {
   "cell_type": "code",
   "execution_count": null,
   "id": "dependent-contributor",
   "metadata": {},
   "outputs": [],
   "source": [
    "import wikipedia\n",
    "\n",
    "# choix de la langue\n",
    "wikipedia.set_lang(\"fr\")\n",
    "# la fonction summary permet d'afficher le résumé de la page\n",
    "print(wikipedia.summary(\"Rum\"))"
   ]
  },
  {
   "cell_type": "code",
   "execution_count": null,
   "id": "excess-motor",
   "metadata": {},
   "outputs": [],
   "source": [
    "# initialisation variable\n",
    "wiki = \"Liste_des_distilleries_de_rhum\""
   ]
  },
  {
   "cell_type": "code",
   "execution_count": null,
   "id": "quick-skirt",
   "metadata": {},
   "outputs": [],
   "source": [
    "# on recherche sur wiki la liste des distilleries de rhum\n",
    "print(wikipedia.search(\"Liste_des_distilleries_de_rhum\"))"
   ]
  },
  {
   "cell_type": "code",
   "execution_count": null,
   "id": "drawn-retailer",
   "metadata": {},
   "outputs": [],
   "source": [
    "# on affiche le contenu avec la fonction content\n",
    "print(wikipedia.page(\"Liste des distilleries de rhum\").content)"
   ]
  },
  {
   "cell_type": "code",
   "execution_count": null,
   "id": "indian-brunswick",
   "metadata": {},
   "outputs": [],
   "source": [
    "# on peut afficher la page html des résultats\n",
    "print(wikipedia.page(\"Liste des distilleries de rhum\").html().head())"
   ]
  },
  {
   "cell_type": "code",
   "execution_count": null,
   "id": "proud-parent",
   "metadata": {},
   "outputs": [],
   "source": [
    "# initialisation de la variable\n",
    "data_wiki = wikipedia.page(\"Liste des distilleries de rhum\").content"
   ]
  },
  {
   "cell_type": "code",
   "execution_count": null,
   "id": "legal-monroe",
   "metadata": {},
   "outputs": [],
   "source": [
    "print(data_wiki)"
   ]
  },
  {
   "cell_type": "code",
   "execution_count": null,
   "id": "other-feature",
   "metadata": {},
   "outputs": [],
   "source": [
    "# le résultat nous donne une chaine de caractères\n",
    "print(type(data_wiki))"
   ]
  },
  {
   "cell_type": "code",
   "execution_count": null,
   "id": "intense-complexity",
   "metadata": {},
   "outputs": [],
   "source": [
    "# on transforme le résultat en liste\n",
    "data_wiki.split('===')"
   ]
  },
  {
   "cell_type": "code",
   "execution_count": null,
   "id": "cathedral-economy",
   "metadata": {},
   "outputs": [],
   "source": [
    "data_wikipedia = data_wiki.split('===')"
   ]
  },
  {
   "cell_type": "code",
   "execution_count": null,
   "id": "awful-integrity",
   "metadata": {},
   "outputs": [],
   "source": [
    "print(type(data_wikipedia))"
   ]
  },
  {
   "cell_type": "code",
   "execution_count": null,
   "id": "verified-ratio",
   "metadata": {},
   "outputs": [],
   "source": [
    "data_wikipedia = data_wikipedia[1:]"
   ]
  },
  {
   "cell_type": "code",
   "execution_count": null,
   "id": "opposite-recruitment",
   "metadata": {},
   "outputs": [],
   "source": [
    "pays = []\n",
    "producteur = []\n",
    "for i in range(len(data_wikipedia)-1):\n",
    "    if i % 2 == 0:\n",
    "        pays.append(data_wikipedia[i])\n",
    "    else:\n",
    "        producteur.append(data_wikipedia[i])\n",
    "    "
   ]
  },
  {
   "cell_type": "code",
   "execution_count": null,
   "id": "velvet-thirty",
   "metadata": {},
   "outputs": [],
   "source": [
    "print(pays)"
   ]
  },
  {
   "cell_type": "code",
   "execution_count": null,
   "id": "honest-security",
   "metadata": {},
   "outputs": [],
   "source": [
    "print(producteur[2])"
   ]
  },
  {
   "cell_type": "code",
   "execution_count": null,
   "id": "grave-fifty",
   "metadata": {},
   "outputs": [],
   "source": [
    "# Empty dictionary\n",
    "res = {}\n",
    "# COnvert to dictionary\n",
    "for key in pays:\n",
    "    for value in producteur:\n",
    "        res[key] = value\n",
    "        producteur.remove(value)\n",
    "        break\n",
    "print(\"Dictionary from lists :\\n \",res)"
   ]
  },
  {
   "cell_type": "code",
   "execution_count": null,
   "id": "alive-knight",
   "metadata": {},
   "outputs": [],
   "source": [
    "res[' Martinique ']"
   ]
  },
  {
   "cell_type": "code",
   "execution_count": null,
   "id": "bottom-score",
   "metadata": {},
   "outputs": [],
   "source": [
    "for key, value in res:\n",
    "    value = value\n",
    "    print(value)"
   ]
  },
  {
   "cell_type": "code",
   "execution_count": null,
   "id": "tribal-james",
   "metadata": {},
   "outputs": [],
   "source": [
    "# Empty dictionary\n",
    "res = {}\n",
    "# COnvert to dictionary\n",
    "for key in pays:\n",
    "    for value in producteur:\n",
    "        res[key] = value.split('\\\\n')\n",
    "        producteur.remove(value)\n",
    "        break\n",
    "print(\"Dictionary from lists :\\n \",res)"
   ]
  },
  {
   "cell_type": "code",
   "execution_count": null,
   "id": "controversial-center",
   "metadata": {},
   "outputs": [],
   "source": [
    "res"
   ]
  },
  {
   "cell_type": "code",
   "execution_count": null,
   "id": "under-adobe",
   "metadata": {},
   "outputs": [],
   "source": [
    "for key, value in res.items():\n",
    "    new_value = value.split(\"\\n\")\n",
    "    print(new_value)"
   ]
  },
  {
   "cell_type": "code",
   "execution_count": null,
   "id": "broken-nicholas",
   "metadata": {},
   "outputs": [],
   "source": [
    "import pandas as pd"
   ]
  },
  {
   "cell_type": "code",
   "execution_count": null,
   "id": "lucky-madness",
   "metadata": {},
   "outputs": [],
   "source": [
    "origine_pro = pd.DataFrame(list(res.items()), columns=['Pays', 'Producteur'])"
   ]
  },
  {
   "cell_type": "code",
   "execution_count": null,
   "id": "improved-retrieval",
   "metadata": {},
   "outputs": [],
   "source": [
    "print(origine_pro)"
   ]
  },
  {
   "cell_type": "code",
   "execution_count": null,
   "id": "collective-specific",
   "metadata": {},
   "outputs": [],
   "source": []
  }
 ],
 "metadata": {
  "kernelspec": {
   "display_name": "Python 3",
   "language": "python",
   "name": "python3"
  },
  "language_info": {
   "codemirror_mode": {
    "name": "ipython",
    "version": 3
   },
   "file_extension": ".py",
   "mimetype": "text/x-python",
   "name": "python",
   "nbconvert_exporter": "python",
   "pygments_lexer": "ipython3",
   "version": "3.8.6"
  }
 },
 "nbformat": 4,
 "nbformat_minor": 5
}
