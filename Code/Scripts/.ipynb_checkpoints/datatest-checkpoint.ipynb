{
 "cells": [
  {
   "cell_type": "markdown",
   "id": "dying-eugene",
   "metadata": {},
   "source": [
    "# Insertion donnees collectiondb"
   ]
  },
  {
   "cell_type": "markdown",
   "id": "regulation-independence",
   "metadata": {},
   "source": [
    "###### "
   ]
  },
  {
   "cell_type": "code",
   "execution_count": 1,
   "id": "empirical-crash",
   "metadata": {},
   "outputs": [],
   "source": [
    "# imports des librairies\n",
    "import os\n",
    "import pandas as pd\n",
    "import psycopg2"
   ]
  },
  {
   "cell_type": "markdown",
   "id": "detected-remove",
   "metadata": {},
   "source": [
    "-----------------"
   ]
  },
  {
   "cell_type": "markdown",
   "id": "offensive-advisory",
   "metadata": {},
   "source": [
    "- preparation liste pays/origine avec dataframe"
   ]
  },
  {
   "cell_type": "code",
   "execution_count": null,
   "id": "magnetic-switzerland",
   "metadata": {},
   "outputs": [],
   "source": [
    "# création dataframe liste_rhum\n",
    "csv_file = 'rum_data_new.csv'\n",
    "liste_rhum = pd.read_csv(csv_file)\n",
    "\n",
    "liste_rhum.head()"
   ]
  },
  {
   "cell_type": "code",
   "execution_count": null,
   "id": "endless-usage",
   "metadata": {},
   "outputs": [],
   "source": [
    "# on extrait la colone country de la df\n",
    "origine = liste_rhum['country']"
   ]
  },
  {
   "cell_type": "code",
   "execution_count": null,
   "id": "embedded-success",
   "metadata": {},
   "outputs": [],
   "source": [
    "print(origine)"
   ]
  },
  {
   "cell_type": "code",
   "execution_count": null,
   "id": "confirmed-heather",
   "metadata": {},
   "outputs": [],
   "source": [
    "# on efface les doublons de la df origine pour avoir un nom unique d'origine\n",
    "origine_sans_doublons = origine.drop_duplicates()\n",
    "print(origine_sans_doublons)"
   ]
  },
  {
   "cell_type": "markdown",
   "id": "toxic-bouquet",
   "metadata": {},
   "source": [
    "----------------------------------------"
   ]
  },
  {
   "cell_type": "markdown",
   "id": "warming-patient",
   "metadata": {
    "tags": []
   },
   "source": [
    "### Lecture des données dans la bdd"
   ]
  },
  {
   "cell_type": "code",
   "execution_count": null,
   "id": "piano-profession",
   "metadata": {},
   "outputs": [],
   "source": [
    "# connexion à la bdd collection\n",
    "conn = psycopg2.connect(\n",
    "        user = \"postgres\",\n",
    "        password = os.environ.get(\"pg_psw\"),\n",
    "        host = \"localhost\",\n",
    "        port = \"5432\",\n",
    "        database = \"collection\"\n",
    ")\n",
    "cur = conn.cursor()\n",
    "\n",
    "# requete sql pour récupérer les données table origine\n",
    "sql = \"SELECT * FROM origine\"\n",
    "cur.execute(sql)\n",
    "res = cur.fetchall()\n",
    "print(res)\n",
    "\n",
    "\n",
    "#fermeture de la connexion à la base de données\n",
    "cur.close()\n",
    "conn.close()\n",
    "print(\"La connexion PostgreSQL est fermée\")"
   ]
  },
  {
   "cell_type": "code",
   "execution_count": null,
   "id": "cutting-catering",
   "metadata": {},
   "outputs": [],
   "source": [
    "# on transforme les données en dictionnaire avec la fonction dict()\n",
    "dico = dict(res)"
   ]
  },
  {
   "cell_type": "code",
   "execution_count": null,
   "id": "indoor-conducting",
   "metadata": {},
   "outputs": [],
   "source": [
    "print(dico)"
   ]
  },
  {
   "cell_type": "code",
   "execution_count": null,
   "id": "refined-wednesday",
   "metadata": {},
   "outputs": [],
   "source": [
    "# connexion à la bdd collection\n",
    "conn = psycopg2.connect(\n",
    "        user = \"postgres\",\n",
    "        password = os.environ.get(\"pg_psw\"),\n",
    "        host = \"localhost\",\n",
    "        port = \"5432\",\n",
    "        database = \"collection\"\n",
    ")\n",
    "# création du curseur\n",
    "cur = conn.cursor()\n",
    "# requete sql\n",
    "sql = \"SELECT * FROM producteur;\"\n",
    "# exécution de la requete sql\n",
    "cur.execute(sql)\n",
    "# on enregistre toute les données récupérées dans la variable pro\n",
    "pro = cur.fetchall()\n",
    "print(pro[0:20])\n",
    "\n",
    "\n",
    "#fermeture de la connexion à la base de données\n",
    "cur.close()\n",
    "conn.close()\n",
    "print(\"La connexion PostgreSQL est fermée\")"
   ]
  },
  {
   "cell_type": "markdown",
   "id": "higher-fetish",
   "metadata": {
    "tags": []
   },
   "source": [
    "------------------"
   ]
  },
  {
   "cell_type": "markdown",
   "id": "billion-selection",
   "metadata": {},
   "source": [
    "- Affichage code_origine"
   ]
  },
  {
   "cell_type": "code",
   "execution_count": null,
   "id": "foreign-young",
   "metadata": {},
   "outputs": [],
   "source": [
    "# connexion à la bdd collection\n",
    "conn = psycopg2.connect(\n",
    "        user = \"postgres\",\n",
    "        password = os.environ.get(\"pg_psw\"),\n",
    "        host = \"localhost\",\n",
    "        port = \"5432\",\n",
    "        database = \"collection\"\n",
    ")\n",
    "cur = conn.cursor()\n",
    "\n",
    "sql = \"SELECT origine.code_origine FROM origine\"\n",
    "cur.execute(sql)\n",
    "code_id = cur.fetchall()\n",
    "print(code_id)\n",
    "\n",
    "\n",
    "#fermeture de la connexion à la base de données\n",
    "cur.close()\n",
    "conn.close()\n",
    "print(\"La connexion PostgreSQL est fermée\")"
   ]
  },
  {
   "cell_type": "markdown",
   "id": "public-speed",
   "metadata": {},
   "source": [
    "-----------------"
   ]
  },
  {
   "cell_type": "markdown",
   "id": "after-period",
   "metadata": {},
   "source": [
    "- lecture données dans rum_data_csv"
   ]
  },
  {
   "cell_type": "code",
   "execution_count": null,
   "id": "similar-extra",
   "metadata": {},
   "outputs": [],
   "source": [
    "import csv\n",
    "import reprlib\n",
    "\n",
    "liste = []\n",
    "with open('rum_data_new.csv', newline='', encoding='utf-8') as csvfile:\n",
    "    spamreader = csv.reader(csvfile, delimiter=',')\n",
    "    for row in spamreader:\n",
    "        if row[2] not in liste:\n",
    "            liste.append(row[2])\n",
    "print(reprlib.repr(liste))"
   ]
  },
  {
   "cell_type": "code",
   "execution_count": null,
   "id": "nonprofit-occurrence",
   "metadata": {},
   "outputs": [],
   "source": [
    "liste2 = []\n",
    "with open('rum_data_new.csv', newline='', encoding='utf-8') as csvfile:\n",
    "    spamreader = csv.reader(csvfile, delimiter=',')\n",
    "    for row in spamreader:\n",
    "        liste2.append(row[0])\n",
    "print(reprlib.repr(liste2))"
   ]
  },
  {
   "cell_type": "code",
   "execution_count": null,
   "id": "guilty-ground",
   "metadata": {},
   "outputs": [],
   "source": [
    "print(liste[1])"
   ]
  },
  {
   "cell_type": "code",
   "execution_count": null,
   "id": "transparent-photography",
   "metadata": {},
   "outputs": [],
   "source": [
    "liste = liste[1:]"
   ]
  },
  {
   "cell_type": "code",
   "execution_count": null,
   "id": "psychological-positive",
   "metadata": {},
   "outputs": [],
   "source": [
    "print(liste)"
   ]
  },
  {
   "cell_type": "markdown",
   "id": "subsequent-virgin",
   "metadata": {},
   "source": [
    "###### "
   ]
  },
  {
   "cell_type": "markdown",
   "id": "grand-receiver",
   "metadata": {},
   "source": [
    "----------"
   ]
  },
  {
   "cell_type": "markdown",
   "id": "advised-pantyhose",
   "metadata": {},
   "source": [
    "### Insertion des données"
   ]
  },
  {
   "cell_type": "code",
   "execution_count": null,
   "id": "classified-modem",
   "metadata": {},
   "outputs": [],
   "source": [
    "# imports des librairies\n",
    "\n",
    "import os\n",
    "import pandas as pd\n",
    "import psycopg2"
   ]
  },
  {
   "cell_type": "code",
   "execution_count": null,
   "id": "prepared-joint",
   "metadata": {},
   "outputs": [],
   "source": [
    "# test insertion données brut\n",
    "sql2 = \"INSERT INTO producteur (nom, code_origine) VALUES ('Montebello', 2)\"\n",
    "cur.execute(sql2)\n",
    "sql3 = \"INSERT INTO producteur (nom, code_origine) VALUES ('Foursquare', 3)\"\n",
    "cur.execute(sql3)\n",
    "#fermeture de la connexion à la base de données\n",
    "cur.close()\n",
    "conn.commit()\n",
    "conn.close()\n",
    "print(\"La connexion PostgreSQL est fermée\")"
   ]
  },
  {
   "cell_type": "code",
   "execution_count": null,
   "id": "organic-establishment",
   "metadata": {
    "tags": []
   },
   "outputs": [],
   "source": [
    "# création dataframe\n",
    "\n",
    "csv_file = 'rum_data_new.csv'\n",
    "liste_rhum = pd.read_csv(csv_file)\n",
    "\n",
    "print(liste_rhum)"
   ]
  },
  {
   "cell_type": "code",
   "execution_count": null,
   "id": "local-blocking",
   "metadata": {},
   "outputs": [],
   "source": [
    "# Code test...\n",
    "# connexion à la bdd collection\n",
    "conn = psycopg2.connect(\n",
    "        user = \"postgres\",\n",
    "        password = os.environ.get(\"pg_psw\"),\n",
    "        host = \"localhost\",\n",
    "        port = \"5432\",\n",
    "        database = \"collection\"\n",
    ")\n",
    "cur = conn.cursor()\n",
    "sql0 = \"\"\"select code_origine \n",
    "        from origine\n",
    "        where nom = 'Martinique';\n",
    "        \"\"\"\n",
    "cur.execute(sql0)\n",
    "orig = cur.fetchone()\n",
    "sql1 = f\"INSERT INTO producteur (nom, code_origine) VALUES ('Clement', {orig})\"\n",
    "cur.execute(sql1)"
   ]
  },
  {
   "cell_type": "markdown",
   "id": "canadian-unknown",
   "metadata": {},
   "source": [
    "- Création liste des origines"
   ]
  },
  {
   "cell_type": "code",
   "execution_count": 2,
   "id": "valued-holder",
   "metadata": {},
   "outputs": [
    {
     "name": "stdout",
     "output_type": "stream",
     "text": [
      "['United States', 'Rwanda', 'Ecuador', 'Trinidad and Tobago', 'Panama', 'Switzerland', 'Netherlands', 'Germany', 'Belgium', 'Saint Lucia', 'Belize', 'India', 'Australia', 'Brazil', 'Barbados', 'Portugal', 'Virgin Islands, U.S.', 'Martinique', 'Mexico', 'United Kingdom', 'Colombia', 'Spain', 'Denmark', 'Caribbean', 'Cuba', 'Dominican Republic', 'Guyana', 'Guatemala', 'Jamaica', 'Mauritius', 'Guadeloupe', 'British Virgin Islands', 'Puerto Rico', 'Croatia', 'Bahamas', 'Sri Lanka', 'Finland', 'Turks and Caicos Islands', 'Antigua and Barbuda', 'Reunion', 'Lithuania', 'Haiti', 'Sweden', 'Grenada', 'Venezuela', 'Fiji', 'Dominica', 'Vietnam', 'Saint Kitts And Nevis', 'Bermuda', 'Cayman Islands', 'Suriname', 'New Zealand', 'Thailand', 'Estonia', 'United States Minor Outlying Islands', 'Italy', 'France', 'Czech Republic', 'Indonesia', 'Peru', 'Canada', 'Costa Rica', 'USA', 'Nicaragua', 'Bulgaria', 'Romania', 'Venezuela, Bolivarian Republic of', 'Hungary', 'El Salvador', 'Trinidad', 'Greece', 'Philippines', 'South Africa', 'Curacao', 'Madagascar', 'Uruguay', 'Austria', 'Taiwan, Republic Of China', 'Paraguay', 'Cambodia', 'Slovakia', 'French Polynesia', 'Japan', 'Argentina', 'Saint Martin', 'Kenya', 'Nepal', 'Malta', 'Seychelles', 'Myanmar', 'United Arab Emirates', 'Aruba', 'Honduras', 'Mexique', 'Poland', 'Anguilla', 'Bonaire, Sint Eustatius and Saba', 'Saint Barthelemy', 'Andorra', 'Netherlands Antilles', 'Jamaica & Guyana ', 'Sint Maarten', 'Saint Vincent And The Grenedines', 'Liechtenstein', 'British West Indies', 'Cape Verde', 'Brasil', 'Ireland']\n"
     ]
    }
   ],
   "source": [
    "import csv\n",
    "# je crée une liste regroupant ma liste de pays\n",
    "liste = []\n",
    "with open('rum_data_new.csv', newline='', encoding='utf-8') as csvfile:\n",
    "    spamreader = csv.reader(csvfile, delimiter=',')\n",
    "    for row in spamreader:\n",
    "        if row[2] not in liste:\n",
    "            liste.append(row[2])\n",
    "liste = liste[1:]\n",
    "print(liste)"
   ]
  },
  {
   "cell_type": "code",
   "execution_count": null,
   "id": "regional-section",
   "metadata": {},
   "outputs": [],
   "source": [
    "# requete sql test pour insérer donnée dans table origine\n",
    "\n",
    "sql = (\"\"\"INSERT INTO origine (Nom) VALUES (?)\"\"\",(pays))"
   ]
  },
  {
   "cell_type": "markdown",
   "id": "rapid-livestock",
   "metadata": {},
   "source": [
    "- code pour insertion données dans origine"
   ]
  },
  {
   "cell_type": "code",
   "execution_count": 3,
   "id": "adolescent-brunswick",
   "metadata": {
    "tags": []
   },
   "outputs": [],
   "source": [
    "# connexion à la bdd collection\n",
    "conn = psycopg2.connect(\n",
    "        user = \"postgres\",\n",
    "        password = os.environ.get(\"pg_psw\"),\n",
    "        host = \"localhost\",\n",
    "        port = \"5432\",\n",
    "        database = \"collection2\"\n",
    ")\n",
    "cur = conn.cursor()\n",
    "\n",
    "for e in liste:\n",
    "    cur.execute(\"SELECT origine.nom FROM origine WHERE origine.nom = (%s) \", (e,))\n",
    "    verif = cur.fetchone()\n",
    "    if not verif:\n",
    "        cur.execute(\"INSERT INTO origine (nom) VALUES(%s)\", (e,))\n",
    "\n",
    "conn.commit()\n",
    "conn.close()"
   ]
  },
  {
   "cell_type": "markdown",
   "id": "former-device",
   "metadata": {},
   "source": [
    "- Code alternatif test"
   ]
  },
  {
   "cell_type": "code",
   "execution_count": null,
   "id": "chronic-audio",
   "metadata": {
    "tags": []
   },
   "outputs": [],
   "source": [
    "# je crée une liste regroupant ma liste de pays et de producteur\n",
    "liste_co = []\n",
    "with open('rum_data_new.csv', newline='', encoding='utf-8') as csvfile:\n",
    "    spamreader = csv.reader(csvfile, delimiter=',')\n",
    "    for row in spamreader:\n",
    "        if row[1:3] not in liste_co:\n",
    "            liste_co.append(row[1:3])\n",
    "liste_co = liste_co[1:]\n",
    "print(liste_co)"
   ]
  },
  {
   "cell_type": "code",
   "execution_count": null,
   "id": "otherwise-couple",
   "metadata": {
    "tags": []
   },
   "outputs": [],
   "source": [
    "# connexion à la bdd collection\n",
    "conn = psycopg2.connect(\n",
    "        user = \"postgres\",\n",
    "        password = os.environ.get(\"pg_psw\"),\n",
    "        host = \"localhost\",\n",
    "        port = \"5432\",\n",
    "        database = \"collection\"\n",
    ")\n",
    "cur = conn.cursor()\n",
    "\n",
    "for e in liste:\n",
    "    cur.execute(\"SELECT origine.nom FROM origine WHERE origine.nom = (%s) \", (e,))\n",
    "    verif = cur.fetchone()\n",
    "    if not verif:\n",
    "        cur.execute(\"INSERT INTO origine (nom) VALUES(%s)\", (e,))\n",
    "\n",
    "conn.commit()\n",
    "conn.close()"
   ]
  },
  {
   "cell_type": "markdown",
   "id": "adverse-guinea",
   "metadata": {},
   "source": [
    "######"
   ]
  },
  {
   "cell_type": "markdown",
   "id": "oriented-estate",
   "metadata": {},
   "source": [
    "--------------------"
   ]
  },
  {
   "cell_type": "markdown",
   "id": "female-sellers",
   "metadata": {},
   "source": [
    "### nettoyage fichier rum data"
   ]
  },
  {
   "cell_type": "markdown",
   "id": "sweet-graham",
   "metadata": {},
   "source": [
    "- avec le module csv"
   ]
  },
  {
   "cell_type": "code",
   "execution_count": null,
   "id": "devoted-greene",
   "metadata": {},
   "outputs": [],
   "source": [
    "# code teste pour gére les producteurs inconnus\n",
    "# avec le module csv\n",
    "import csv\n",
    "# lecture du fichier rum_data.csv\n",
    "liste_marque = []\n",
    "with open('rum_data_new.csv', newline='', encoding='utf-8') as csvfile:\n",
    "    spamreader = csv.reader(csvfile, delimiter=',')\n",
    "    for row in spamreader:\n",
    "        if row[1:3] not in liste_marque:\n",
    "            liste_marque.append(row[0:2])\n",
    "liste_marque = liste_marque[1:]"
   ]
  },
  {
   "cell_type": "code",
   "execution_count": null,
   "id": "undefined-pocket",
   "metadata": {},
   "outputs": [],
   "source": [
    "liste_marque[0]"
   ]
  },
  {
   "cell_type": "code",
   "execution_count": null,
   "id": "detected-modern",
   "metadata": {
    "tags": []
   },
   "outputs": [],
   "source": [
    "# code teste pour gérer les producteurs inconnus\n",
    "# on utilise une boucle pour changer les occurences\n",
    "liste_marque_new = []\n",
    "for e in liste_marque:\n",
    "    modif = e[0]\n",
    "    fication = e[1]\n",
    "    if fication == 'Unknown':\n",
    "        liste_marque_new.append(modif + \"\")\n",
    "    else:\n",
    "        liste_marque_new.append(fication)\n",
    "print(liste_marque_new)  "
   ]
  },
  {
   "cell_type": "markdown",
   "id": "nasty-delhi",
   "metadata": {},
   "source": [
    "###### "
   ]
  },
  {
   "cell_type": "markdown",
   "id": "valid-consensus",
   "metadata": {},
   "source": [
    "- avec la librairie pandas"
   ]
  },
  {
   "cell_type": "code",
   "execution_count": null,
   "id": "surprised-knowing",
   "metadata": {},
   "outputs": [],
   "source": [
    "# code pour gérer les producteurs inconnus\n",
    "# avec la librairie pandas\n",
    "import pandas as pd"
   ]
  },
  {
   "cell_type": "code",
   "execution_count": null,
   "id": "resident-andrew",
   "metadata": {},
   "outputs": [],
   "source": [
    "csv_file = 'rum_data_new.csv'\n",
    "liste_rhum = pd.read_csv(csv_file)\n",
    "\n",
    "liste_rhum.head(275)"
   ]
  },
  {
   "cell_type": "code",
   "execution_count": null,
   "id": "intended-snake",
   "metadata": {},
   "outputs": [],
   "source": [
    "list_unknown = liste_rhum['company'] == 'Unknown'"
   ]
  },
  {
   "cell_type": "code",
   "execution_count": null,
   "id": "accurate-charter",
   "metadata": {},
   "outputs": [],
   "source": [
    "filtered_df = list_rhum[list_unknown]\n",
    "print(filtered_df)"
   ]
  },
  {
   "cell_type": "code",
   "execution_count": null,
   "id": "broken-annotation",
   "metadata": {},
   "outputs": [],
   "source": [
    "for x in liste_rhum.itertuples():\n",
    "  print(x.company) # Imprime la valeur courante de la colonne A de df\n",
    "    "
   ]
  },
  {
   "cell_type": "code",
   "execution_count": null,
   "id": "intimate-victorian",
   "metadata": {},
   "outputs": [],
   "source": [
    "# on change les valeurs inconnus par le nom de la bouteille\n",
    "liste_rhum.loc[list_rhum['company'] == 'Unknown', 'company'] = liste_rhum['name']"
   ]
  },
  {
   "cell_type": "code",
   "execution_count": null,
   "id": "provincial-ceremony",
   "metadata": {},
   "outputs": [],
   "source": [
    "liste_rhum.head(275)"
   ]
  },
  {
   "cell_type": "code",
   "execution_count": null,
   "id": "general-details",
   "metadata": {},
   "outputs": [],
   "source": [
    "liste_rhum.to_csv('rum_data_new.csv', index = False, header=True)"
   ]
  },
  {
   "cell_type": "markdown",
   "id": "necessary-stomach",
   "metadata": {},
   "source": [
    "- remplacement des caractères spéciaux"
   ]
  },
  {
   "cell_type": "code",
   "execution_count": null,
   "id": "involved-hobby",
   "metadata": {
    "tags": []
   },
   "outputs": [],
   "source": [
    "# df.replace([old_value], new_value)\n",
    "# création liste caractère spéciaux et leurs valeurs de remplacement\n",
    "dico = {}\n",
    "liste_car = ['Ã¡', 'Ã»', 'Ã¢', 'Ã©', 'â€™', 'Â°', 'Ã¨', 'Ã³', 'Ã±']\n",
    "liste_remp = ['a', 'u', 'a', 'e', '\\'', '°', 'e', 'o', 'n']\n",
    "# création du dictionnaire avec une compréhension de dictionnaire\n",
    "dico = {k: v for k, v in zip(liste_car, liste_remp)}"
   ]
  },
  {
   "cell_type": "code",
   "execution_count": null,
   "id": "quick-radar",
   "metadata": {},
   "outputs": [],
   "source": [
    "print(len(liste_car))"
   ]
  },
  {
   "cell_type": "code",
   "execution_count": null,
   "id": "radical-motorcycle",
   "metadata": {},
   "outputs": [],
   "source": [
    "print(len(liste_remp))"
   ]
  },
  {
   "cell_type": "code",
   "execution_count": null,
   "id": "finished-third",
   "metadata": {},
   "outputs": [],
   "source": [
    "print(dico)"
   ]
  },
  {
   "cell_type": "code",
   "execution_count": null,
   "id": "criminal-thesis",
   "metadata": {},
   "outputs": [],
   "source": [
    "#  df.replace({'a': {'č': 'c', 'Í': 'I'}}, regex=True)\n",
    "# il faut que regex=True \n",
    "liste_rhum.replace({'name': dico}, regex=True,inplace=True)"
   ]
  },
  {
   "cell_type": "code",
   "execution_count": null,
   "id": "indie-cycle",
   "metadata": {},
   "outputs": [],
   "source": [
    "liste_rhum.replace({'company': dico}, regex=True,inplace=True)"
   ]
  },
  {
   "cell_type": "code",
   "execution_count": null,
   "id": "indonesian-people",
   "metadata": {
    "tags": []
   },
   "outputs": [],
   "source": [
    "liste_rhum.to_csv('rum_data_new.csv', index = False, header=True)"
   ]
  },
  {
   "cell_type": "code",
   "execution_count": null,
   "id": "excellent-native",
   "metadata": {},
   "outputs": [],
   "source": [
    "# df.replace([old_value], new_value)\n",
    "# création liste caractère spéciaux et leurs valeurs de remplacement\n",
    "dico2 = {}\n",
    "liste_ap = ['\\'']\n",
    "liste_remp1 = ['']\n",
    "# création du dictionnaire avec une compréhension de dictionnaire\n",
    "dico2 = {k: v for k, v in zip(liste_ap, liste_remp1)}"
   ]
  },
  {
   "cell_type": "code",
   "execution_count": null,
   "id": "unlike-feeding",
   "metadata": {},
   "outputs": [],
   "source": [
    "liste_rhum.replace({'company': dico2}, regex=True,inplace=True)"
   ]
  },
  {
   "cell_type": "code",
   "execution_count": null,
   "id": "clean-portland",
   "metadata": {},
   "outputs": [],
   "source": [
    "liste_rhum.to_csv('rum_data_new.csv', index = False, header=True)"
   ]
  },
  {
   "cell_type": "code",
   "execution_count": null,
   "id": "modular-blast",
   "metadata": {},
   "outputs": [],
   "source": []
  }
 ],
 "metadata": {
  "kernelspec": {
   "display_name": "Python 3",
   "language": "python",
   "name": "python3"
  },
  "language_info": {
   "codemirror_mode": {
    "name": "ipython",
    "version": 3
   },
   "file_extension": ".py",
   "mimetype": "text/x-python",
   "name": "python",
   "nbconvert_exporter": "python",
   "pygments_lexer": "ipython3",
   "version": "3.8.6"
  }
 },
 "nbformat": 4,
 "nbformat_minor": 5
}
