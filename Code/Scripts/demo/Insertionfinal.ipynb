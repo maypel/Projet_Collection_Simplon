{
 "cells": [
  {
   "cell_type": "markdown",
   "id": "nutritional-registration",
   "metadata": {},
   "source": [
    "# INSERTION DONNEES FINALES"
   ]
  },
  {
   "cell_type": "markdown",
   "id": "possible-harvest",
   "metadata": {},
   "source": [
    "###### "
   ]
  },
  {
   "cell_type": "code",
   "execution_count": 1,
   "id": "distributed-redhead",
   "metadata": {},
   "outputs": [],
   "source": [
    "# Import des librairies\n",
    "\n",
    "import os\n",
    "import pandas as pd\n",
    "import psycopg2\n",
    "import csv\n",
    "import reprlib\n",
    "import numpy\n",
    "import json"
   ]
  },
  {
   "cell_type": "markdown",
   "id": "electrical-animal",
   "metadata": {},
   "source": [
    "######"
   ]
  },
  {
   "cell_type": "markdown",
   "id": "loved-question",
   "metadata": {},
   "source": [
    "## Préparation des données"
   ]
  },
  {
   "cell_type": "code",
   "execution_count": 2,
   "id": "committed-peripheral",
   "metadata": {},
   "outputs": [
    {
     "data": {
      "text/html": [
       "<div>\n",
       "<style scoped>\n",
       "    .dataframe tbody tr th:only-of-type {\n",
       "        vertical-align: middle;\n",
       "    }\n",
       "\n",
       "    .dataframe tbody tr th {\n",
       "        vertical-align: top;\n",
       "    }\n",
       "\n",
       "    .dataframe thead th {\n",
       "        text-align: right;\n",
       "    }\n",
       "</style>\n",
       "<table border=\"1\" class=\"dataframe\">\n",
       "  <thead>\n",
       "    <tr style=\"text-align: right;\">\n",
       "      <th></th>\n",
       "      <th>nom</th>\n",
       "      <th>producteur</th>\n",
       "      <th>origine</th>\n",
       "      <th>volume</th>\n",
       "      <th>degre</th>\n",
       "      <th>type</th>\n",
       "    </tr>\n",
       "  </thead>\n",
       "  <tbody>\n",
       "    <tr>\n",
       "      <th>0</th>\n",
       "      <td>Cuba 5 Years</td>\n",
       "      <td>1731 fine &amp; rare</td>\n",
       "      <td>Pays-Bas</td>\n",
       "      <td>70.0</td>\n",
       "      <td>46.0</td>\n",
       "      <td>Vieux</td>\n",
       "    </tr>\n",
       "    <tr>\n",
       "      <th>1</th>\n",
       "      <td>Cuba Dominican Republic (Spanish Caribbean XO)</td>\n",
       "      <td>1731 fine &amp; rare</td>\n",
       "      <td>Pays-Bas</td>\n",
       "      <td>70.0</td>\n",
       "      <td>46.0</td>\n",
       "      <td>Vieux</td>\n",
       "    </tr>\n",
       "    <tr>\n",
       "      <th>2</th>\n",
       "      <td>Guatemala Panama Belize (Central America XO)</td>\n",
       "      <td>1731 fine &amp; rare</td>\n",
       "      <td>Pays-Bas</td>\n",
       "      <td>70.0</td>\n",
       "      <td>46.0</td>\n",
       "      <td>Vieux</td>\n",
       "    </tr>\n",
       "    <tr>\n",
       "      <th>3</th>\n",
       "      <td>Panama 6 Years</td>\n",
       "      <td>1731 fine &amp; rare</td>\n",
       "      <td>Pays-Bas</td>\n",
       "      <td>70.0</td>\n",
       "      <td>46.0</td>\n",
       "      <td>Vieux</td>\n",
       "    </tr>\n",
       "    <tr>\n",
       "      <th>4</th>\n",
       "      <td>Trinidad Barbados Jamaica (British West Indies...</td>\n",
       "      <td>1731 fine &amp; rare</td>\n",
       "      <td>Pays-Bas</td>\n",
       "      <td>70.0</td>\n",
       "      <td>46.0</td>\n",
       "      <td>Vieux</td>\n",
       "    </tr>\n",
       "    <tr>\n",
       "      <th>...</th>\n",
       "      <td>...</td>\n",
       "      <td>...</td>\n",
       "      <td>...</td>\n",
       "      <td>...</td>\n",
       "      <td>...</td>\n",
       "      <td>...</td>\n",
       "    </tr>\n",
       "    <tr>\n",
       "      <th>8462</th>\n",
       "      <td>2005, 12 ans, octobre 2017</td>\n",
       "      <td>Foursquare</td>\n",
       "      <td>Barbados</td>\n",
       "      <td>70.0</td>\n",
       "      <td>59.0</td>\n",
       "      <td>Vieux</td>\n",
       "    </tr>\n",
       "    <tr>\n",
       "      <th>8463</th>\n",
       "      <td>DOMINUS 10 years</td>\n",
       "      <td>Foursquare</td>\n",
       "      <td>Barbados</td>\n",
       "      <td>70.0</td>\n",
       "      <td>56.0</td>\n",
       "      <td>Vieux</td>\n",
       "    </tr>\n",
       "    <tr>\n",
       "      <th>8464</th>\n",
       "      <td>BOLOGNE BLACK CANE</td>\n",
       "      <td>Bologne</td>\n",
       "      <td>Guadeloupe</td>\n",
       "      <td>70.0</td>\n",
       "      <td>50.0</td>\n",
       "      <td>Blanc</td>\n",
       "    </tr>\n",
       "    <tr>\n",
       "      <th>8465</th>\n",
       "      <td>BARBANCOURT VSOP 4 ans</td>\n",
       "      <td>Barbancourt</td>\n",
       "      <td>Haiti</td>\n",
       "      <td>70.0</td>\n",
       "      <td>40.0</td>\n",
       "      <td>Vieux</td>\n",
       "    </tr>\n",
       "    <tr>\n",
       "      <th>8466</th>\n",
       "      <td>MONTEBELLO 8 ANS</td>\n",
       "      <td>Montebello</td>\n",
       "      <td>Guadeloupe</td>\n",
       "      <td>70.0</td>\n",
       "      <td>42.0</td>\n",
       "      <td>Vieux</td>\n",
       "    </tr>\n",
       "  </tbody>\n",
       "</table>\n",
       "<p>8467 rows × 6 columns</p>\n",
       "</div>"
      ],
      "text/plain": [
       "                                                    nom        producteur  \\\n",
       "0                                          Cuba 5 Years  1731 fine & rare   \n",
       "1        Cuba Dominican Republic (Spanish Caribbean XO)  1731 fine & rare   \n",
       "2          Guatemala Panama Belize (Central America XO)  1731 fine & rare   \n",
       "3                                        Panama 6 Years  1731 fine & rare   \n",
       "4     Trinidad Barbados Jamaica (British West Indies...  1731 fine & rare   \n",
       "...                                                 ...               ...   \n",
       "8462                         2005, 12 ans, octobre 2017        Foursquare   \n",
       "8463                                   DOMINUS 10 years        Foursquare   \n",
       "8464                                BOLOGNE BLACK CANE            Bologne   \n",
       "8465                             BARBANCOURT VSOP 4 ans       Barbancourt   \n",
       "8466                                   MONTEBELLO 8 ANS        Montebello   \n",
       "\n",
       "         origine  volume  degre   type  \n",
       "0       Pays-Bas    70.0   46.0  Vieux  \n",
       "1       Pays-Bas    70.0   46.0  Vieux  \n",
       "2       Pays-Bas    70.0   46.0  Vieux  \n",
       "3       Pays-Bas    70.0   46.0  Vieux  \n",
       "4       Pays-Bas    70.0   46.0  Vieux  \n",
       "...          ...     ...    ...    ...  \n",
       "8462    Barbados    70.0   59.0  Vieux  \n",
       "8463    Barbados    70.0   56.0  Vieux  \n",
       "8464  Guadeloupe    70.0   50.0  Blanc  \n",
       "8465       Haiti    70.0   40.0  Vieux  \n",
       "8466  Guadeloupe    70.0   42.0  Vieux  \n",
       "\n",
       "[8467 rows x 6 columns]"
      ]
     },
     "execution_count": 2,
     "metadata": {},
     "output_type": "execute_result"
    }
   ],
   "source": [
    "csv_file = 'data/wikirum_final.csv'\n",
    "wikirum_final = pd.read_csv(csv_file)\n",
    "csv_file1 = 'data/rum_data_final.csv'\n",
    "rum_data_final = pd.read_csv(csv_file1)\n",
    "csv_file2 = 'data/test_json_final.csv'\n",
    "test_json_final = pd.read_csv(csv_file2)\n",
    "excel_file = 'data/INVENTAIRE_FINAL.xlsx'\n",
    "inventaire_final = pd.read_excel(excel_file)\n",
    "\n",
    "global_final = pd.concat([wikirum_final, rum_data_final, test_json_final, inventaire_final],  ignore_index=True)\n",
    "global_final"
   ]
  },
  {
   "cell_type": "code",
   "execution_count": 3,
   "id": "painful-permit",
   "metadata": {},
   "outputs": [],
   "source": [
    "global_final.to_csv('data/global_final.csv', index = False, header=True)"
   ]
  },
  {
   "cell_type": "markdown",
   "id": "patient-public",
   "metadata": {},
   "source": [
    "###### "
   ]
  },
  {
   "cell_type": "markdown",
   "id": "bound-valentine",
   "metadata": {},
   "source": [
    "---------------"
   ]
  },
  {
   "cell_type": "markdown",
   "id": "related-pearl",
   "metadata": {},
   "source": [
    "## Insertion des données"
   ]
  },
  {
   "cell_type": "markdown",
   "id": "available-penetration",
   "metadata": {},
   "source": [
    "######"
   ]
  },
  {
   "cell_type": "markdown",
   "id": "wrong-spokesman",
   "metadata": {},
   "source": [
    "### Insertion origines"
   ]
  },
  {
   "cell_type": "markdown",
   "id": "subject-diving",
   "metadata": {},
   "source": [
    "###### "
   ]
  },
  {
   "cell_type": "code",
   "execution_count": 4,
   "id": "gross-impact",
   "metadata": {
    "tags": []
   },
   "outputs": [],
   "source": [
    "# Prod\n",
    "# liste des origines pour insertions\n",
    "\n",
    "import csv\n",
    "# je crée une liste regroupant ma liste de pays\n",
    "liste = []\n",
    "with open('data/global_final.csv', newline='', encoding='utf-8') as csvfile:\n",
    "    spamreader = csv.reader(csvfile, delimiter=',')\n",
    "    for row in spamreader:\n",
    "        # gestion des doublons\n",
    "        if row[2] not in liste:\n",
    "            liste.append(row[2])\n",
    "liste = liste[1:]\n",
    "# print(liste)\n",
    "# print(len(liste))"
   ]
  },
  {
   "cell_type": "code",
   "execution_count": 5,
   "id": "useful-disease",
   "metadata": {},
   "outputs": [
    {
     "name": "stdout",
     "output_type": "stream",
     "text": [
      "insertion terminée\n"
     ]
    }
   ],
   "source": [
    "# connexion à la bdd collection\n",
    "conn = psycopg2.connect(\n",
    "        user = \"postgres\",\n",
    "        password = os.environ.get(\"pg_psw\"),\n",
    "        host = \"localhost\",\n",
    "        port = \"5432\",\n",
    "        database = \"collection5\"\n",
    ")\n",
    "cur = conn.cursor()\n",
    "\n",
    "for pays in liste:\n",
    "    cur.execute(\"SELECT origine.nom FROM origine WHERE origine.nom = (%s) \", (pays,))\n",
    "    verif = cur.fetchone()\n",
    "    if not verif:\n",
    "        cur.execute(\"INSERT INTO origine (nom) VALUES(%s)\", (pays,))\n",
    "\n",
    "conn.commit()\n",
    "print('insertion terminée')\n",
    "conn.close()"
   ]
  },
  {
   "cell_type": "markdown",
   "id": "obvious-affairs",
   "metadata": {},
   "source": [
    "######"
   ]
  },
  {
   "cell_type": "markdown",
   "id": "seven-alexander",
   "metadata": {},
   "source": [
    "----------------"
   ]
  },
  {
   "cell_type": "markdown",
   "id": "insured-drawing",
   "metadata": {},
   "source": [
    "### Insertion producteurs"
   ]
  },
  {
   "cell_type": "markdown",
   "id": "micro-naples",
   "metadata": {},
   "source": [
    "######"
   ]
  },
  {
   "cell_type": "code",
   "execution_count": 6,
   "id": "federal-hazard",
   "metadata": {},
   "outputs": [],
   "source": [
    "# je crée une liste regroupant les pays et les producteurs\n",
    "liste_co = []\n",
    "liste_producteur = []\n",
    "liste_final = []\n",
    "with open('data/global_final.csv', newline='', encoding='utf-8') as csvfile:\n",
    "    spamreader = csv.reader(csvfile, delimiter=',')\n",
    "    for row in spamreader:\n",
    "        if row[1:3] not in liste_co:\n",
    "            liste_co.append((row[1:3]))\n",
    "liste_co = liste_co[1:]"
   ]
  },
  {
   "cell_type": "code",
   "execution_count": 7,
   "id": "crucial-provider",
   "metadata": {},
   "outputs": [
    {
     "name": "stdout",
     "output_type": "stream",
     "text": [
      "insertion terminée\n"
     ]
    }
   ],
   "source": [
    "# prod\n",
    "# fonction d'insertion dans la table producteur\n",
    "conn = psycopg2.connect(\n",
    "        user = \"postgres\",\n",
    "        password = os.environ.get(\"pg_psw\"),\n",
    "        host = \"localhost\",\n",
    "        port = \"5432\",\n",
    "        database = \"collection5\"\n",
    ")\n",
    "cur = conn.cursor()\n",
    "for producteur, pays in liste_co:\n",
    "#     dictionnaire.items()\n",
    "#     print(producteur)\n",
    "#     print(pays)\n",
    "    cur.execute(f\"\"\"SELECT origine.code_origine \n",
    "        FROM origine\n",
    "        WHERE origine.nom = '{pays}';\n",
    "        \"\"\")\n",
    "    \n",
    "    origine = cur.fetchone()[0]\n",
    "#     print(origine)\n",
    "    #pays = str(pro[0])\n",
    "#     print(pays)\n",
    "\n",
    "    cur.execute(f'''INSERT INTO producteur (nom_producteur, code_origine) VALUES (%s, %s)''', (producteur, origine))\n",
    "    \n",
    "cur.close()\n",
    "conn.commit()\n",
    "print('insertion terminée')\n",
    "conn.close()"
   ]
  },
  {
   "cell_type": "markdown",
   "id": "hollywood-crisis",
   "metadata": {
    "tags": []
   },
   "source": [
    "###### "
   ]
  },
  {
   "cell_type": "markdown",
   "id": "modern-reliance",
   "metadata": {},
   "source": [
    "___________"
   ]
  },
  {
   "cell_type": "markdown",
   "id": "timely-revolution",
   "metadata": {},
   "source": [
    "### Insertion produits"
   ]
  },
  {
   "cell_type": "markdown",
   "id": "wanted-burton",
   "metadata": {},
   "source": [
    "###### "
   ]
  },
  {
   "cell_type": "code",
   "execution_count": 8,
   "id": "nearby-afternoon",
   "metadata": {},
   "outputs": [
    {
     "data": {
      "text/html": [
       "<div>\n",
       "<style scoped>\n",
       "    .dataframe tbody tr th:only-of-type {\n",
       "        vertical-align: middle;\n",
       "    }\n",
       "\n",
       "    .dataframe tbody tr th {\n",
       "        vertical-align: top;\n",
       "    }\n",
       "\n",
       "    .dataframe thead th {\n",
       "        text-align: right;\n",
       "    }\n",
       "</style>\n",
       "<table border=\"1\" class=\"dataframe\">\n",
       "  <thead>\n",
       "    <tr style=\"text-align: right;\">\n",
       "      <th></th>\n",
       "      <th>nom</th>\n",
       "      <th>producteur</th>\n",
       "      <th>origine</th>\n",
       "      <th>volume</th>\n",
       "      <th>degre</th>\n",
       "      <th>type</th>\n",
       "    </tr>\n",
       "  </thead>\n",
       "  <tbody>\n",
       "    <tr>\n",
       "      <th>0</th>\n",
       "      <td>Cuba 5 Years</td>\n",
       "      <td>1731 fine &amp; rare</td>\n",
       "      <td>Pays-Bas</td>\n",
       "      <td>70.0</td>\n",
       "      <td>46.0</td>\n",
       "      <td>Vieux</td>\n",
       "    </tr>\n",
       "    <tr>\n",
       "      <th>1</th>\n",
       "      <td>Cuba Dominican Republic (Spanish Caribbean XO)</td>\n",
       "      <td>1731 fine &amp; rare</td>\n",
       "      <td>Pays-Bas</td>\n",
       "      <td>70.0</td>\n",
       "      <td>46.0</td>\n",
       "      <td>Vieux</td>\n",
       "    </tr>\n",
       "    <tr>\n",
       "      <th>2</th>\n",
       "      <td>Guatemala Panama Belize (Central America XO)</td>\n",
       "      <td>1731 fine &amp; rare</td>\n",
       "      <td>Pays-Bas</td>\n",
       "      <td>70.0</td>\n",
       "      <td>46.0</td>\n",
       "      <td>Vieux</td>\n",
       "    </tr>\n",
       "    <tr>\n",
       "      <th>3</th>\n",
       "      <td>Panama 6 Years</td>\n",
       "      <td>1731 fine &amp; rare</td>\n",
       "      <td>Pays-Bas</td>\n",
       "      <td>70.0</td>\n",
       "      <td>46.0</td>\n",
       "      <td>Vieux</td>\n",
       "    </tr>\n",
       "    <tr>\n",
       "      <th>4</th>\n",
       "      <td>Trinidad Barbados Jamaica (British West Indies...</td>\n",
       "      <td>1731 fine &amp; rare</td>\n",
       "      <td>Pays-Bas</td>\n",
       "      <td>70.0</td>\n",
       "      <td>46.0</td>\n",
       "      <td>Vieux</td>\n",
       "    </tr>\n",
       "  </tbody>\n",
       "</table>\n",
       "</div>"
      ],
      "text/plain": [
       "                                                 nom        producteur  \\\n",
       "0                                       Cuba 5 Years  1731 fine & rare   \n",
       "1     Cuba Dominican Republic (Spanish Caribbean XO)  1731 fine & rare   \n",
       "2       Guatemala Panama Belize (Central America XO)  1731 fine & rare   \n",
       "3                                     Panama 6 Years  1731 fine & rare   \n",
       "4  Trinidad Barbados Jamaica (British West Indies...  1731 fine & rare   \n",
       "\n",
       "    origine  volume  degre   type  \n",
       "0  Pays-Bas    70.0   46.0  Vieux  \n",
       "1  Pays-Bas    70.0   46.0  Vieux  \n",
       "2  Pays-Bas    70.0   46.0  Vieux  \n",
       "3  Pays-Bas    70.0   46.0  Vieux  \n",
       "4  Pays-Bas    70.0   46.0  Vieux  "
      ]
     },
     "execution_count": 8,
     "metadata": {},
     "output_type": "execute_result"
    }
   ],
   "source": [
    "# insertion fichier excel\n",
    "csv_file = 'data/global_final.csv'\n",
    "inventaire = pd.read_csv(csv_file)\n",
    "inventaire.head()"
   ]
  },
  {
   "cell_type": "code",
   "execution_count": 9,
   "id": "nuclear-failing",
   "metadata": {},
   "outputs": [],
   "source": [
    "# cchangement des colonnes\n",
    "inventaire_produit =  inventaire[['nom', 'volume', 'degre', 'producteur', 'type']]"
   ]
  },
  {
   "cell_type": "code",
   "execution_count": 10,
   "id": "empirical-assembly",
   "metadata": {},
   "outputs": [
    {
     "name": "stdout",
     "output_type": "stream",
     "text": [
      "[['Cuba 5 Years', 70.0, 46.0, '1731 fine & rare', 'Vieux'], ['Cuba Dominican Republic (Spanish Caribbean XO)', 70.0, 46.0, '1731 fine & rare', 'Vieux'], ['Guatemala Panama Belize (Central America XO)', 70.0, 46.0, '1731 fine & rare', 'Vieux'], ['Panama 6 Years', 70.0, 46.0, '1731 fine & rare', 'Vieux'], ['Trinidad Barbados Jamaica (British West Indies XO)', 70.0, 46.0, '1731 fine & rare', 'Vieux'], ['Caroni 12 Ans', 70.0, 46.0, 'Blackadder', 'Vieux'], ['Caroni 18 Ans', 70.0, 63.1, 'Blackadder', 'Vieux'], ['Fiji 2001-2012 - 11 Years', 70.0, 63.9, 'Blackadder', 'Vieux'], ['Guadeloupe Belvedere 1998-2015- 17 Years', 70.0, 57.5, 'Blackadder', 'Vieux'], ['Guadeloupe Belvedere 1998-2017- 19 Years', 70.0, 56.6, 'Blackadder', 'Vieux']]\n"
     ]
    }
   ],
   "source": [
    "liste_inventaire = [list(x) for x in inventaire_produit.to_numpy()]\n",
    "print(liste_inventaire[0:10])"
   ]
  },
  {
   "cell_type": "code",
   "execution_count": 11,
   "id": "plastic-devon",
   "metadata": {},
   "outputs": [
    {
     "name": "stdout",
     "output_type": "stream",
     "text": [
      "Cuba 5 Years\n",
      "70.0\n",
      "46.0\n",
      "1731 fine & rare\n",
      "Vieux\n"
     ]
    }
   ],
   "source": [
    "nom = liste_inventaire[0][0]\n",
    "volume = liste_inventaire[0][1]\n",
    "degre = liste_inventaire[0][2]\n",
    "producteur = liste_inventaire[0][3]\n",
    "type_r = liste_inventaire[0][4]\n",
    "\n",
    "\n",
    "print(nom)\n",
    "print((volume))\n",
    "print(degre)\n",
    "print(producteur)\n",
    "print(type_r)\n"
   ]
  },
  {
   "cell_type": "code",
   "execution_count": 12,
   "id": "higher-particle",
   "metadata": {},
   "outputs": [
    {
     "name": "stdout",
     "output_type": "stream",
     "text": [
      "insertion produit terminée\n"
     ]
    }
   ],
   "source": [
    "conn = psycopg2.connect(\n",
    "        user = \"postgres\",\n",
    "        password = os.environ.get(\"pg_psw\"),\n",
    "        host = \"localhost\",\n",
    "        port = \"5432\",\n",
    "        database = \"collection5\"\n",
    ")\n",
    "cur = conn.cursor()\n",
    "\n",
    "for nom, volume, degre, producteur, type_r in liste_inventaire:\n",
    "    \n",
    "#     print(nom)\n",
    "#     print(volume)\n",
    "#     print(degre)\n",
    "#     print(producteur)\n",
    "#     print(type_r)\n",
    "\n",
    "    cur.execute(\"\"\"SELECT producteur.code_producteur \n",
    "        FROM producteur\n",
    "        WHERE producteur.nom_producteur = %s;\n",
    "        \"\"\", (producteur, ))\n",
    "    \n",
    "    code = cur.fetchone()[0]\n",
    "\n",
    "    if volume > 0 and degre > 0:\n",
    "        cur.execute(\"INSERT INTO produit (nom_produit, volume, degre, type_rhum, code_producteur) VALUES (%s, %s, %s, %s, %s)\", (nom, volume, degre, type_r, code))\n",
    "    elif volume < 0:\n",
    "        cur.execute(f\"INSERT INTO produit (nom_produit, degre, type_rhum, code_producteur) VALUES (%s, %s, %s, %s)\", (nom, degre, type_r, code))\n",
    "    elif degre < 0:\n",
    "        cur.execute(f\"INSERT INTO produit (nom_produit, volume, type_rhum, code_producteur) VALUES (%s, %s, %s, %s)\", (nom, volume, type_r, code))\n",
    "\n",
    "    else:\n",
    "         cur.execute(f\"INSERT INTO produit (nom_produit, type_rhum, code_producteur) VALUES (%s, %s, %s)\", (nom, type_r, code))\n",
    "#         print(type(cur))   \n",
    "cur.close()\n",
    "conn.commit()\n",
    "print('insertion produit terminée')\n",
    "conn.close()"
   ]
  },
  {
   "cell_type": "code",
   "execution_count": null,
   "id": "alternative-tobacco",
   "metadata": {},
   "outputs": [],
   "source": []
  },
  {
   "cell_type": "code",
   "execution_count": null,
   "id": "exciting-scoop",
   "metadata": {},
   "outputs": [],
   "source": []
  }
 ],
 "metadata": {
  "kernelspec": {
   "display_name": "Python 3",
   "language": "python",
   "name": "python3"
  },
  "language_info": {
   "codemirror_mode": {
    "name": "ipython",
    "version": 3
   },
   "file_extension": ".py",
   "mimetype": "text/x-python",
   "name": "python",
   "nbconvert_exporter": "python",
   "pygments_lexer": "ipython3",
   "version": "3.8.6"
  }
 },
 "nbformat": 4,
 "nbformat_minor": 5
}
