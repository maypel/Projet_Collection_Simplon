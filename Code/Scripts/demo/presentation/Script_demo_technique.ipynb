{
 "cells": [
  {
   "cell_type": "markdown",
   "id": "immediate-asthma",
   "metadata": {},
   "source": [
    "# SCRIPT DEMO"
   ]
  },
  {
   "cell_type": "markdown",
   "id": "planned-communication",
   "metadata": {},
   "source": [
    "###### "
   ]
  },
  {
   "cell_type": "markdown",
   "id": "broke-developer",
   "metadata": {},
   "source": [
    "###### "
   ]
  },
  {
   "cell_type": "markdown",
   "id": "practical-abraham",
   "metadata": {},
   "source": [
    "----------------------------"
   ]
  },
  {
   "cell_type": "markdown",
   "id": "unlimited-interference",
   "metadata": {},
   "source": [
    "## Test de la collection"
   ]
  },
  {
   "cell_type": "markdown",
   "id": "dense-creature",
   "metadata": {},
   "source": [
    "###### "
   ]
  },
  {
   "cell_type": "code",
   "execution_count": 3,
   "id": "friendly-finish",
   "metadata": {
    "tags": []
   },
   "outputs": [
    {
     "name": "stdout",
     "output_type": "stream",
     "text": [
      "insertion terminée\n"
     ]
    }
   ],
   "source": [
    "import psycopg2\n",
    "import os\n",
    "\n",
    "try:\n",
    "    conn = psycopg2.connect(\n",
    "            user = \"postgres\",\n",
    "            password = os.environ.get(\"pg_psw\"),\n",
    "            host = \"localhost\",\n",
    "            port = \"5432\",\n",
    "            database = \"collection5\"\n",
    "    )\n",
    "    cur = conn.cursor()\n",
    "\n",
    "    liste_utilisateurs = [('mayel', 'apprenant', 'mayel@simplon.com'), ('joris', 'super apprenant', 'joris@simplon.com'), ('pierre', 'formateur', 'joris@simplon.com')]\n",
    "    requete_sql1 = \"\"\"INSERT INTO utilisateur (nom, surnom, email) VALUES (%s,%s,%s)\"\"\"\n",
    "    \n",
    "    for utilisateur in liste_utilisateurs:\n",
    "\n",
    "        cur.execute(requete_sql1, utilisateur)\n",
    "\n",
    "    conn.commit()\n",
    "    print('insertion terminée')\n",
    "except psycopg2.Error as e:\n",
    "    \n",
    "    print(e)\n",
    "\n",
    "finally:\n",
    "        \n",
    "    # ferme le curseur et devient inutilisable\n",
    "\n",
    "    cur.close()\n",
    "\n",
    "    # ferme la connexion à database\n",
    "\n",
    "    conn.close()"
   ]
  },
  {
   "cell_type": "code",
   "execution_count": 4,
   "id": "blocked-decimal",
   "metadata": {},
   "outputs": [
    {
     "name": "stdout",
     "output_type": "stream",
     "text": [
      "ERREUR:  la valeur d'une clé dupliquée rompt la contrainte unique « collection_code_utilisateur_key »\n",
      "DETAIL:  La clé « (code_utilisateur)=(1) » existe déjà.\n",
      "\n"
     ]
    }
   ],
   "source": [
    "import psycopg2\n",
    "import os\n",
    "\n",
    "try:\n",
    "    conn = psycopg2.connect(\n",
    "            user = \"postgres\",\n",
    "            password = os.environ.get(\"pg_psw\"),\n",
    "            host = \"localhost\",\n",
    "            port = \"5432\",\n",
    "            database = \"collection5\"\n",
    "    )\n",
    "    cur = conn.cursor()\n",
    "\n",
    "    liste_collections = [('mayelcollec', 'amateur', '1'), ('joriscollec', 'super spéculation', '2'), ('pierrecollec', 'découverte', '3')]\n",
    "    requete_sql2 = \"\"\"INSERT INTO collection (nom, description, code_utilisateur) VALUES (%s,%s,%s)\"\"\"\n",
    "    \n",
    "    for collection in liste_collections:\n",
    "\n",
    "        cur.execute(requete_sql2, collection)\n",
    "\n",
    "    conn.commit()\n",
    "    print('insertion terminée')\n",
    "    \n",
    "except psycopg2.Error as e:\n",
    "    \n",
    "    print(e)\n",
    "\n",
    "finally:\n",
    "        \n",
    "    # ferme le curseur et devient inutilisable\n",
    "\n",
    "    cur.close()\n",
    "\n",
    "    # ferme la connexion à database\n",
    "\n",
    "    conn.close()"
   ]
  },
  {
   "cell_type": "code",
   "execution_count": 5,
   "id": "german-renewal",
   "metadata": {},
   "outputs": [
    {
     "name": "stdout",
     "output_type": "stream",
     "text": [
      "ERREUR:  la valeur d'une clé dupliquée rompt la contrainte unique « compose_pkey »\n",
      "DETAIL:  La clé « (code_produit, code_collection)=(6394, 1) » existe déjà.\n",
      "\n"
     ]
    }
   ],
   "source": [
    "import psycopg2\n",
    "import os\n",
    "import random as r\n",
    "\n",
    "\n",
    "try:\n",
    "    # fonction d'insertion dans la table compose\n",
    "    conn = psycopg2.connect(\n",
    "            user = \"postgres\",\n",
    "            password = os.environ.get(\"pg_psw\"),\n",
    "            host = \"localhost\",\n",
    "            port = \"5432\",\n",
    "            database = \"collection5\"\n",
    "    )\n",
    "    cur = conn.cursor()\n",
    "    for i in range(1,1000):\n",
    "        code_produit = r.randint(1,8400)\n",
    "        code_collection = r.randint(1,3)\n",
    "\n",
    "        cur.execute(f\"\"\"INSERT INTO compose (code_produit, code_collection)\n",
    "                        VALUES(%s,%s)\"\"\", (code_produit, code_collection))\n",
    "\n",
    "    cur.close()\n",
    "    conn.commit()\n",
    "    print('insertion terminée')\n",
    "\n",
    "except psycopg2.Error as e:\n",
    "    \n",
    "    print(e)\n",
    "\n",
    "finally:\n",
    "        \n",
    "    # ferme le curseur et devient inutilisable\n",
    "\n",
    "    cur.close()\n",
    "\n",
    "    # ferme la connexion à database\n",
    "\n",
    "    conn.close()\n",
    "    "
   ]
  },
  {
   "cell_type": "code",
   "execution_count": 6,
   "id": "nuclear-poker",
   "metadata": {},
   "outputs": [
    {
     "data": {
      "text/html": [
       "<div>\n",
       "<style scoped>\n",
       "    .dataframe tbody tr th:only-of-type {\n",
       "        vertical-align: middle;\n",
       "    }\n",
       "\n",
       "    .dataframe tbody tr th {\n",
       "        vertical-align: top;\n",
       "    }\n",
       "\n",
       "    .dataframe thead th {\n",
       "        text-align: right;\n",
       "    }\n",
       "</style>\n",
       "<table border=\"1\" class=\"dataframe\">\n",
       "  <thead>\n",
       "    <tr style=\"text-align: right;\">\n",
       "      <th></th>\n",
       "      <th>count</th>\n",
       "    </tr>\n",
       "  </thead>\n",
       "  <tbody>\n",
       "    <tr>\n",
       "      <th>0</th>\n",
       "      <td>8572</td>\n",
       "    </tr>\n",
       "  </tbody>\n",
       "</table>\n",
       "</div>"
      ],
      "text/plain": [
       "   count\n",
       "0   8572"
      ]
     },
     "execution_count": 6,
     "metadata": {},
     "output_type": "execute_result"
    }
   ],
   "source": [
    "import pandas as pd\n",
    "\n",
    "conn = psycopg2.connect(\n",
    "            user = \"postgres\",\n",
    "            password = os.environ.get(\"pg_psw\"),\n",
    "            host = \"localhost\",\n",
    "            port = \"5432\",\n",
    "            database = \"collection6\"\n",
    "    )\n",
    "\n",
    "df2 = pd.read_sql(\"\"\"SELECT count(produit.code_produit)\n",
    "FROM produit;\"\"\", conn)\n",
    "\n",
    "df2"
   ]
  },
  {
   "cell_type": "markdown",
   "id": "decent-questionnaire",
   "metadata": {},
   "source": [
    "###### "
   ]
  },
  {
   "cell_type": "markdown",
   "id": "pressed-vault",
   "metadata": {},
   "source": [
    "-------------------------"
   ]
  },
  {
   "cell_type": "markdown",
   "id": "intended-spank",
   "metadata": {},
   "source": [
    "# DEMO INTEGRATION NOUVEUX JEUX DE DONNEES"
   ]
  },
  {
   "cell_type": "markdown",
   "id": "spiritual-notification",
   "metadata": {},
   "source": [
    "###### "
   ]
  },
  {
   "cell_type": "code",
   "execution_count": 7,
   "id": "dedicated-ordinance",
   "metadata": {},
   "outputs": [],
   "source": [
    "from collections import defaultdict\n",
    "import pandas as pd\n",
    "import re\n",
    "import json\n",
    "\n",
    "origines = []\n",
    "degres = []\n",
    "volumes = []\n",
    "noms = []\n",
    "producteurs = []\n",
    "marques = []\n",
    "liste_json = []\n",
    "\n",
    "with open('rumy.json', 'r') as f:\n",
    "    data = json.load(f)\n",
    "\n",
    "for rum in data:\n",
    "    for k, v in rum.items():\n",
    "        v = v.replace(' cl', 'cl')\n",
    "        liste_json.append(v)\n",
    "        \n",
    "for element in liste_json:\n",
    "    \n",
    "    # Origines\n",
    "    pays = element.split()[-1]\n",
    "    origines.append(pays)\n",
    "    if pays:\n",
    "        element = element.replace(pays, \"\")\n",
    "        \n",
    "    # Producteurs  \n",
    "    marque_pattern = re.compile(r\"[a-zA-Zèé]+[&? [a-zA-Zèé0-9']+ Rhum|[a-zA-Zèé']+[ ]? Rhum|[a-zA-Zèé']+ [Liqueur|Punch|Coffret]+\")\n",
    "    marque = marque_pattern.findall(element)\n",
    "#     marque = marque.replace(\"Rhum\", \"\")\n",
    "    if marque:\n",
    "        marques.append(marque[0])\n",
    "    else:\n",
    "        marques.append(\"XXXXXXXX\")\n",
    "\n",
    "    # Degres    \n",
    "    degre_pattern = re.compile(r'\\d\\d°|\\d\\d,\\d\\d?°|\\d\\d\\.\\d\\d?°')\n",
    "    degre = degre_pattern.findall(element)\n",
    "    if degre:\n",
    "        element = element.replace(degre[0], \"\")\n",
    "        degres.append(degre[0])\n",
    "    else:\n",
    "        degres.append(\"\")\n",
    "        \n",
    "    # Volumes\n",
    "    volume_pattern = re.compile(r'\\d?\\dcl|\\dL')\n",
    "    volume = volume_pattern.findall(element)\n",
    "    if volume:\n",
    "        element = element.replace(volume[0], \"\")\n",
    "        volumes.append(volume[0])\n",
    "    else:\n",
    "        volumes.append('')\n",
    "        \n",
    "    # Noms rhums    \n",
    "    noms.append(element) \n",
    "\n",
    "# nettoyage Producteurs   \n",
    "for producteur in marques:\n",
    "    producteur = re.sub(' Rhum| Liqueur| Punch| Coffret', '', producteur)\n",
    "    producteurs.append(producteur)\n",
    "    \n"
   ]
  },
  {
   "cell_type": "code",
   "execution_count": 8,
   "id": "digital-bedroom",
   "metadata": {},
   "outputs": [
    {
     "name": "stdout",
     "output_type": "stream",
     "text": [
      "105\n"
     ]
    }
   ],
   "source": [
    "print(len(producteurs))"
   ]
  },
  {
   "cell_type": "code",
   "execution_count": 9,
   "id": "crude-protocol",
   "metadata": {},
   "outputs": [
    {
     "data": {
      "text/plain": [
       "(105, 5)"
      ]
     },
     "execution_count": 9,
     "metadata": {},
     "output_type": "execute_result"
    }
   ],
   "source": [
    "import pandas as pd\n",
    "\n",
    "df1 = pd.DataFrame()\n",
    "df1['nom'] = noms\n",
    "df1['producteur'] = producteurs\n",
    "df1['origine'] = origines\n",
    "df1['volume'] = volumes\n",
    "df1['degre'] = degres\n",
    "df1.shape"
   ]
  },
  {
   "cell_type": "code",
   "execution_count": 10,
   "id": "opening-vision",
   "metadata": {},
   "outputs": [],
   "source": [
    "df1.to_csv('rumy_json_1.csv', index = False, header=True)"
   ]
  },
  {
   "cell_type": "code",
   "execution_count": 11,
   "id": "boolean-investment",
   "metadata": {},
   "outputs": [
    {
     "data": {
      "text/html": [
       "<div>\n",
       "<style scoped>\n",
       "    .dataframe tbody tr th:only-of-type {\n",
       "        vertical-align: middle;\n",
       "    }\n",
       "\n",
       "    .dataframe tbody tr th {\n",
       "        vertical-align: top;\n",
       "    }\n",
       "\n",
       "    .dataframe thead th {\n",
       "        text-align: right;\n",
       "    }\n",
       "</style>\n",
       "<table border=\"1\" class=\"dataframe\">\n",
       "  <thead>\n",
       "    <tr style=\"text-align: right;\">\n",
       "      <th></th>\n",
       "      <th>nom</th>\n",
       "      <th>producteur</th>\n",
       "      <th>origine</th>\n",
       "      <th>volume</th>\n",
       "      <th>degre</th>\n",
       "    </tr>\n",
       "  </thead>\n",
       "  <tbody>\n",
       "    <tr>\n",
       "      <th>0</th>\n",
       "      <td>Eminente Rhum Vieux  7 ans Reserva</td>\n",
       "      <td>Eminente</td>\n",
       "      <td>Cuba</td>\n",
       "      <td>70cl</td>\n",
       "      <td>41,3°</td>\n",
       "    </tr>\n",
       "    <tr>\n",
       "      <th>1</th>\n",
       "      <td>La Progresiva Rhum Vieux</td>\n",
       "      <td>La Progresiva</td>\n",
       "      <td>Cuba</td>\n",
       "      <td>NaN</td>\n",
       "      <td>41°</td>\n",
       "    </tr>\n",
       "    <tr>\n",
       "      <th>2</th>\n",
       "      <td>Black Tears Rhum Épice</td>\n",
       "      <td>Black Tears</td>\n",
       "      <td>Cuba</td>\n",
       "      <td>NaN</td>\n",
       "      <td>40°</td>\n",
       "    </tr>\n",
       "    <tr>\n",
       "      <th>3</th>\n",
       "      <td>Conde de  Liqueur Elixir</td>\n",
       "      <td>XXXXXXXX</td>\n",
       "      <td>Cuba</td>\n",
       "      <td>70cl</td>\n",
       "      <td>32°</td>\n",
       "    </tr>\n",
       "    <tr>\n",
       "      <th>4</th>\n",
       "      <td>Legendario Rhum Ambré Ron Dorado</td>\n",
       "      <td>Legendario</td>\n",
       "      <td>Cuba</td>\n",
       "      <td>70cl</td>\n",
       "      <td>38°</td>\n",
       "    </tr>\n",
       "    <tr>\n",
       "      <th>...</th>\n",
       "      <td>...</td>\n",
       "      <td>...</td>\n",
       "      <td>...</td>\n",
       "      <td>...</td>\n",
       "      <td>...</td>\n",
       "    </tr>\n",
       "    <tr>\n",
       "      <th>100</th>\n",
       "      <td>QuoRhum Rhum Vieux 12 Solera étui   République</td>\n",
       "      <td>QuoRhum</td>\n",
       "      <td>Dominicaine</td>\n",
       "      <td>70cl</td>\n",
       "      <td>40°</td>\n",
       "    </tr>\n",
       "    <tr>\n",
       "      <th>101</th>\n",
       "      <td>QuoRhum Rhum Vieux 23 Solera étui   République</td>\n",
       "      <td>QuoRhum</td>\n",
       "      <td>Dominicaine</td>\n",
       "      <td>70cl</td>\n",
       "      <td>40°</td>\n",
       "    </tr>\n",
       "    <tr>\n",
       "      <th>102</th>\n",
       "      <td>Ron Esclavo Rhum Vieux 12   République</td>\n",
       "      <td>Ron Esclavo</td>\n",
       "      <td>Dominicaine</td>\n",
       "      <td>70cl</td>\n",
       "      <td>40°</td>\n",
       "    </tr>\n",
       "    <tr>\n",
       "      <th>103</th>\n",
       "      <td>Ron Esclavo Rhum Vieux 15   République</td>\n",
       "      <td>Ron Esclavo</td>\n",
       "      <td>Dominicaine</td>\n",
       "      <td>70cl</td>\n",
       "      <td>38°</td>\n",
       "    </tr>\n",
       "    <tr>\n",
       "      <th>104</th>\n",
       "      <td>Ron Esclavo Rhum Vieux XO   République</td>\n",
       "      <td>Ron Esclavo</td>\n",
       "      <td>Dominicaine</td>\n",
       "      <td>70cl</td>\n",
       "      <td>42°</td>\n",
       "    </tr>\n",
       "  </tbody>\n",
       "</table>\n",
       "<p>105 rows × 5 columns</p>\n",
       "</div>"
      ],
      "text/plain": [
       "                                                 nom     producteur  \\\n",
       "0              Eminente Rhum Vieux  7 ans Reserva          Eminente   \n",
       "1                        La Progresiva Rhum Vieux     La Progresiva   \n",
       "2                           Black Tears Rhum Épice      Black Tears   \n",
       "3                        Conde de  Liqueur Elixir          XXXXXXXX   \n",
       "4                Legendario Rhum Ambré Ron Dorado        Legendario   \n",
       "..                                               ...            ...   \n",
       "100  QuoRhum Rhum Vieux 12 Solera étui   République         QuoRhum   \n",
       "101  QuoRhum Rhum Vieux 23 Solera étui   République         QuoRhum   \n",
       "102          Ron Esclavo Rhum Vieux 12   République     Ron Esclavo   \n",
       "103          Ron Esclavo Rhum Vieux 15   République     Ron Esclavo   \n",
       "104          Ron Esclavo Rhum Vieux XO   République     Ron Esclavo   \n",
       "\n",
       "         origine volume  degre  \n",
       "0           Cuba   70cl  41,3°  \n",
       "1           Cuba    NaN    41°  \n",
       "2           Cuba    NaN    40°  \n",
       "3           Cuba   70cl    32°  \n",
       "4           Cuba   70cl    38°  \n",
       "..           ...    ...    ...  \n",
       "100  Dominicaine   70cl    40°  \n",
       "101  Dominicaine   70cl    40°  \n",
       "102  Dominicaine   70cl    40°  \n",
       "103  Dominicaine   70cl    38°  \n",
       "104  Dominicaine   70cl    42°  \n",
       "\n",
       "[105 rows x 5 columns]"
      ]
     },
     "execution_count": 11,
     "metadata": {},
     "output_type": "execute_result"
    }
   ],
   "source": [
    "df1 = pd.read_csv('rumy_json_1.csv')\n",
    "\n",
    "# df1['producteur'] = df1['producteur'].replace(['Maison L', 'Maison La Mauny'], 'La Mauny') \n",
    "\n",
    "# df1.loc[df1['producteur'] == 'Maison La Mauny', 'producteur'] = 'La Mauny'\n",
    "df1['origine'] = df1['origine'].replace(('70cl', '90g', '58°'), 'Guyana') \n",
    "df1.head(241)"
   ]
  },
  {
   "cell_type": "code",
   "execution_count": 64,
   "id": "judicial-archive",
   "metadata": {},
   "outputs": [],
   "source": [
    "df1.to_csv('rumy_json_2.csv', index = False, header=True)"
   ]
  },
  {
   "cell_type": "code",
   "execution_count": 77,
   "id": "leading-mortgage",
   "metadata": {},
   "outputs": [
    {
     "data": {
      "text/plain": [
       "<bound method NDFrame.head of                                                  nom     producteur  \\\n",
       "0              Eminente Rhum Vieux  7 ans Reserva          Eminente   \n",
       "1                        La Progresiva Rhum Vieux     La Progresiva   \n",
       "2                           Black Tears Rhum Épice      Black Tears   \n",
       "3                        Conde de  Liqueur Elixir          XXXXXXXX   \n",
       "4                Legendario Rhum Ambré Ron Dorado        Legendario   \n",
       "..                                               ...            ...   \n",
       "100  QuoRhum Rhum Vieux 12 Solera étui   République         QuoRhum   \n",
       "101  QuoRhum Rhum Vieux 23 Solera étui   République         QuoRhum   \n",
       "102          Ron Esclavo Rhum Vieux 12   République     Ron Esclavo   \n",
       "103          Ron Esclavo Rhum Vieux 15   République     Ron Esclavo   \n",
       "104          Ron Esclavo Rhum Vieux XO   République     Ron Esclavo   \n",
       "\n",
       "         origine volume  degre  \n",
       "0           Cuba   70cl  41,3°  \n",
       "1           Cuba    NaN    41°  \n",
       "2           Cuba    NaN    40°  \n",
       "3           Cuba   70cl    32°  \n",
       "4           Cuba   70cl    38°  \n",
       "..           ...    ...    ...  \n",
       "100  Dominicaine   70cl    40°  \n",
       "101  Dominicaine   70cl    40°  \n",
       "102  Dominicaine   70cl    40°  \n",
       "103  Dominicaine   70cl    38°  \n",
       "104  Dominicaine   70cl    42°  \n",
       "\n",
       "[105 rows x 5 columns]>"
      ]
     },
     "execution_count": 77,
     "metadata": {},
     "output_type": "execute_result"
    }
   ],
   "source": [
    "df2 = pd.read_csv('rumy_json_2.csv')\n",
    "df2.head"
   ]
  },
  {
   "cell_type": "code",
   "execution_count": 78,
   "id": "nominated-tract",
   "metadata": {
    "tags": []
   },
   "outputs": [],
   "source": [
    "dico = {}\n",
    "liste_car = ['XXXXXXXX', 'XM','é','è', 'É']\n",
    "liste_remp = ['Conde', 'Xm','e', 'e', 'e']\n",
    "# création du dictionnaire avec une compréhension de dictionnaire\n",
    "dico = {k: v for k, v in zip(liste_car, liste_remp)}"
   ]
  },
  {
   "cell_type": "code",
   "execution_count": 79,
   "id": "terminal-manual",
   "metadata": {},
   "outputs": [],
   "source": [
    "dico2 = {}\n",
    "liste_car = ['cl', '°', ',']\n",
    "liste_remp = ['','', '.']\n",
    "# création du dictionnaire avec une compréhension de dictionnaire\n",
    "dico2 = {k: v for k, v in zip(liste_car, liste_remp)}"
   ]
  },
  {
   "cell_type": "code",
   "execution_count": 80,
   "id": "prescribed-hampton",
   "metadata": {},
   "outputs": [],
   "source": [
    "# il faut que regex=True \n",
    "df2.replace({'producteur': dico}, regex=True,inplace=True)\n",
    "df2.replace({'origine': dico}, regex=True,inplace=True)\n",
    "df2.replace({'volume':dico2}, regex=True, inplace=True)\n",
    "df2.replace({'degre':dico2}, regex=True, inplace=True)"
   ]
  },
  {
   "cell_type": "code",
   "execution_count": 81,
   "id": "married-white",
   "metadata": {},
   "outputs": [],
   "source": [
    "df2.to_csv('rumy_json_3.csv', index = False, header=True)"
   ]
  },
  {
   "cell_type": "code",
   "execution_count": 82,
   "id": "literary-reynolds",
   "metadata": {
    "tags": []
   },
   "outputs": [
    {
     "data": {
      "text/html": [
       "<div>\n",
       "<style scoped>\n",
       "    .dataframe tbody tr th:only-of-type {\n",
       "        vertical-align: middle;\n",
       "    }\n",
       "\n",
       "    .dataframe tbody tr th {\n",
       "        vertical-align: top;\n",
       "    }\n",
       "\n",
       "    .dataframe thead th {\n",
       "        text-align: right;\n",
       "    }\n",
       "</style>\n",
       "<table border=\"1\" class=\"dataframe\">\n",
       "  <thead>\n",
       "    <tr style=\"text-align: right;\">\n",
       "      <th></th>\n",
       "      <th>nom</th>\n",
       "      <th>producteur</th>\n",
       "      <th>origine</th>\n",
       "      <th>volume</th>\n",
       "      <th>degre</th>\n",
       "    </tr>\n",
       "  </thead>\n",
       "  <tbody>\n",
       "    <tr>\n",
       "      <th>0</th>\n",
       "      <td>Eminente Rhum Vieux  7 ans Reserva</td>\n",
       "      <td>Eminente</td>\n",
       "      <td>Cuba</td>\n",
       "      <td>70.0</td>\n",
       "      <td>41.3</td>\n",
       "    </tr>\n",
       "    <tr>\n",
       "      <th>1</th>\n",
       "      <td>La Progresiva Rhum Vieux</td>\n",
       "      <td>La Progresiva</td>\n",
       "      <td>Cuba</td>\n",
       "      <td>NaN</td>\n",
       "      <td>41.0</td>\n",
       "    </tr>\n",
       "    <tr>\n",
       "      <th>2</th>\n",
       "      <td>Black Tears Rhum Épice</td>\n",
       "      <td>Black Tears</td>\n",
       "      <td>Cuba</td>\n",
       "      <td>NaN</td>\n",
       "      <td>40.0</td>\n",
       "    </tr>\n",
       "    <tr>\n",
       "      <th>3</th>\n",
       "      <td>Conde de  Liqueur Elixir</td>\n",
       "      <td>Conde</td>\n",
       "      <td>Cuba</td>\n",
       "      <td>70.0</td>\n",
       "      <td>32.0</td>\n",
       "    </tr>\n",
       "    <tr>\n",
       "      <th>4</th>\n",
       "      <td>Legendario Rhum Ambré Ron Dorado</td>\n",
       "      <td>Legendario</td>\n",
       "      <td>Cuba</td>\n",
       "      <td>70.0</td>\n",
       "      <td>38.0</td>\n",
       "    </tr>\n",
       "  </tbody>\n",
       "</table>\n",
       "</div>"
      ],
      "text/plain": [
       "                                     nom     producteur origine  volume  degre\n",
       "0  Eminente Rhum Vieux  7 ans Reserva          Eminente    Cuba    70.0   41.3\n",
       "1            La Progresiva Rhum Vieux     La Progresiva    Cuba     NaN   41.0\n",
       "2               Black Tears Rhum Épice      Black Tears    Cuba     NaN   40.0\n",
       "3            Conde de  Liqueur Elixir             Conde    Cuba    70.0   32.0\n",
       "4    Legendario Rhum Ambré Ron Dorado        Legendario    Cuba    70.0   38.0"
      ]
     },
     "execution_count": 82,
     "metadata": {},
     "output_type": "execute_result"
    }
   ],
   "source": [
    "df3 = pd.read_csv('rumy_json_3.csv')\n",
    "df3.head()"
   ]
  },
  {
   "cell_type": "code",
   "execution_count": 83,
   "id": "fourth-pickup",
   "metadata": {},
   "outputs": [
    {
     "data": {
      "text/plain": [
       "0      41.3\n",
       "1      41.0\n",
       "2      40.0\n",
       "3      32.0\n",
       "4      38.0\n",
       "       ... \n",
       "100    40.0\n",
       "101    40.0\n",
       "102    40.0\n",
       "103    38.0\n",
       "104    42.0\n",
       "Name: degre, Length: 105, dtype: float64"
      ]
     },
     "execution_count": 83,
     "metadata": {},
     "output_type": "execute_result"
    }
   ],
   "source": [
    "df3['volume'].astype(float)\n",
    "df3['degre'].astype(float)"
   ]
  },
  {
   "cell_type": "code",
   "execution_count": 84,
   "id": "incredible-trade",
   "metadata": {},
   "outputs": [
    {
     "data": {
      "text/html": [
       "<div>\n",
       "<style scoped>\n",
       "    .dataframe tbody tr th:only-of-type {\n",
       "        vertical-align: middle;\n",
       "    }\n",
       "\n",
       "    .dataframe tbody tr th {\n",
       "        vertical-align: top;\n",
       "    }\n",
       "\n",
       "    .dataframe thead th {\n",
       "        text-align: right;\n",
       "    }\n",
       "</style>\n",
       "<table border=\"1\" class=\"dataframe\">\n",
       "  <thead>\n",
       "    <tr style=\"text-align: right;\">\n",
       "      <th></th>\n",
       "      <th>nom</th>\n",
       "      <th>producteur</th>\n",
       "      <th>origine</th>\n",
       "      <th>volume</th>\n",
       "      <th>degre</th>\n",
       "      <th>type</th>\n",
       "    </tr>\n",
       "  </thead>\n",
       "  <tbody>\n",
       "    <tr>\n",
       "      <th>0</th>\n",
       "      <td>Eminente Rhum Vieux  7 ans Reserva</td>\n",
       "      <td>Eminente</td>\n",
       "      <td>Cuba</td>\n",
       "      <td>70.0</td>\n",
       "      <td>41.3</td>\n",
       "      <td>Vieux</td>\n",
       "    </tr>\n",
       "    <tr>\n",
       "      <th>1</th>\n",
       "      <td>La Progresiva Rhum Vieux</td>\n",
       "      <td>La Progresiva</td>\n",
       "      <td>Cuba</td>\n",
       "      <td>NaN</td>\n",
       "      <td>41.0</td>\n",
       "      <td>Vieux</td>\n",
       "    </tr>\n",
       "    <tr>\n",
       "      <th>2</th>\n",
       "      <td>Black Tears Rhum Épice</td>\n",
       "      <td>Black Tears</td>\n",
       "      <td>Cuba</td>\n",
       "      <td>NaN</td>\n",
       "      <td>40.0</td>\n",
       "      <td>NaN</td>\n",
       "    </tr>\n",
       "    <tr>\n",
       "      <th>3</th>\n",
       "      <td>Conde de  Liqueur Elixir</td>\n",
       "      <td>Conde</td>\n",
       "      <td>Cuba</td>\n",
       "      <td>70.0</td>\n",
       "      <td>32.0</td>\n",
       "      <td>Spiced</td>\n",
       "    </tr>\n",
       "    <tr>\n",
       "      <th>4</th>\n",
       "      <td>Legendario Rhum Ambré Ron Dorado</td>\n",
       "      <td>Legendario</td>\n",
       "      <td>Cuba</td>\n",
       "      <td>70.0</td>\n",
       "      <td>38.0</td>\n",
       "      <td>NaN</td>\n",
       "    </tr>\n",
       "    <tr>\n",
       "      <th>...</th>\n",
       "      <td>...</td>\n",
       "      <td>...</td>\n",
       "      <td>...</td>\n",
       "      <td>...</td>\n",
       "      <td>...</td>\n",
       "      <td>...</td>\n",
       "    </tr>\n",
       "    <tr>\n",
       "      <th>100</th>\n",
       "      <td>QuoRhum Rhum Vieux 12 Solera étui   République</td>\n",
       "      <td>QuoRhum</td>\n",
       "      <td>Dominicaine</td>\n",
       "      <td>70.0</td>\n",
       "      <td>40.0</td>\n",
       "      <td>Vieux</td>\n",
       "    </tr>\n",
       "    <tr>\n",
       "      <th>101</th>\n",
       "      <td>QuoRhum Rhum Vieux 23 Solera étui   République</td>\n",
       "      <td>QuoRhum</td>\n",
       "      <td>Dominicaine</td>\n",
       "      <td>70.0</td>\n",
       "      <td>40.0</td>\n",
       "      <td>Vieux</td>\n",
       "    </tr>\n",
       "    <tr>\n",
       "      <th>102</th>\n",
       "      <td>Ron Esclavo Rhum Vieux 12   République</td>\n",
       "      <td>Ron Esclavo</td>\n",
       "      <td>Dominicaine</td>\n",
       "      <td>70.0</td>\n",
       "      <td>40.0</td>\n",
       "      <td>Vieux</td>\n",
       "    </tr>\n",
       "    <tr>\n",
       "      <th>103</th>\n",
       "      <td>Ron Esclavo Rhum Vieux 15   République</td>\n",
       "      <td>Ron Esclavo</td>\n",
       "      <td>Dominicaine</td>\n",
       "      <td>70.0</td>\n",
       "      <td>38.0</td>\n",
       "      <td>Vieux</td>\n",
       "    </tr>\n",
       "    <tr>\n",
       "      <th>104</th>\n",
       "      <td>Ron Esclavo Rhum Vieux XO   République</td>\n",
       "      <td>Ron Esclavo</td>\n",
       "      <td>Dominicaine</td>\n",
       "      <td>70.0</td>\n",
       "      <td>42.0</td>\n",
       "      <td>Vieux</td>\n",
       "    </tr>\n",
       "  </tbody>\n",
       "</table>\n",
       "<p>105 rows × 6 columns</p>\n",
       "</div>"
      ],
      "text/plain": [
       "                                                 nom     producteur  \\\n",
       "0              Eminente Rhum Vieux  7 ans Reserva          Eminente   \n",
       "1                        La Progresiva Rhum Vieux     La Progresiva   \n",
       "2                           Black Tears Rhum Épice      Black Tears   \n",
       "3                        Conde de  Liqueur Elixir             Conde   \n",
       "4                Legendario Rhum Ambré Ron Dorado        Legendario   \n",
       "..                                               ...            ...   \n",
       "100  QuoRhum Rhum Vieux 12 Solera étui   République         QuoRhum   \n",
       "101  QuoRhum Rhum Vieux 23 Solera étui   République         QuoRhum   \n",
       "102          Ron Esclavo Rhum Vieux 12   République     Ron Esclavo   \n",
       "103          Ron Esclavo Rhum Vieux 15   République     Ron Esclavo   \n",
       "104          Ron Esclavo Rhum Vieux XO   République     Ron Esclavo   \n",
       "\n",
       "         origine  volume  degre    type  \n",
       "0           Cuba    70.0   41.3   Vieux  \n",
       "1           Cuba     NaN   41.0   Vieux  \n",
       "2           Cuba     NaN   40.0     NaN  \n",
       "3           Cuba    70.0   32.0  Spiced  \n",
       "4           Cuba    70.0   38.0     NaN  \n",
       "..           ...     ...    ...     ...  \n",
       "100  Dominicaine    70.0   40.0   Vieux  \n",
       "101  Dominicaine    70.0   40.0   Vieux  \n",
       "102  Dominicaine    70.0   40.0   Vieux  \n",
       "103  Dominicaine    70.0   38.0   Vieux  \n",
       "104  Dominicaine    70.0   42.0   Vieux  \n",
       "\n",
       "[105 rows x 6 columns]"
      ]
     },
     "execution_count": 84,
     "metadata": {},
     "output_type": "execute_result"
    }
   ],
   "source": [
    "df3.loc[df3.nom.str.contains('Blanc'), 'type'] = 'Blanc'\n",
    "df3.loc[df3.nom.str.contains('Vieux'), 'type'] = 'Vieux'\n",
    "df3.loc[df3.nom.str.contains('Ambre'), 'type'] = 'Ambre'\n",
    "df3.loc[df3.nom.str.contains('Liqueur |Creme | Punch | Epice | Arrange | arrange |Bumbu'), 'type'] = 'Spiced'\n",
    "df3.loc[df3.nom.str.contains('Coffret |coffret'), 'type'] = 'Coffret'\n",
    "df3"
   ]
  },
  {
   "cell_type": "code",
   "execution_count": 85,
   "id": "suspected-portal",
   "metadata": {},
   "outputs": [],
   "source": [
    "df3['producteur'] =df3['producteur'].str.capitalize()"
   ]
  },
  {
   "cell_type": "code",
   "execution_count": 86,
   "id": "compressed-control",
   "metadata": {},
   "outputs": [],
   "source": [
    "df3.to_csv('rumy_final.csv', index = False, header=True)"
   ]
  },
  {
   "cell_type": "code",
   "execution_count": null,
   "id": "ignored-framing",
   "metadata": {},
   "outputs": [],
   "source": []
  }
 ],
 "metadata": {
  "kernelspec": {
   "display_name": "Python 3",
   "language": "python",
   "name": "python3"
  },
  "language_info": {
   "codemirror_mode": {
    "name": "ipython",
    "version": 3
   },
   "file_extension": ".py",
   "mimetype": "text/x-python",
   "name": "python",
   "nbconvert_exporter": "python",
   "pygments_lexer": "ipython3",
   "version": "3.8.6"
  }
 },
 "nbformat": 4,
 "nbformat_minor": 5
}
