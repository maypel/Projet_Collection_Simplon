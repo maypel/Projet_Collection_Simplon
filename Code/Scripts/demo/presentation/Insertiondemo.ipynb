{
 "cells": [
  {
   "cell_type": "markdown",
   "id": "occupational-mitchell",
   "metadata": {},
   "source": [
    "# INSERTION DONNEES FINALES"
   ]
  },
  {
   "cell_type": "markdown",
   "id": "consistent-precipitation",
   "metadata": {},
   "source": [
    "###### "
   ]
  },
  {
   "cell_type": "code",
   "execution_count": 3,
   "id": "unable-conducting",
   "metadata": {},
   "outputs": [],
   "source": [
    "# Import des librairies\n",
    "\n",
    "import os\n",
    "import pandas as pd\n",
    "import psycopg2\n",
    "import csv\n",
    "import reprlib\n",
    "import numpy\n",
    "import json"
   ]
  },
  {
   "cell_type": "markdown",
   "id": "contained-friday",
   "metadata": {},
   "source": [
    "######"
   ]
  },
  {
   "cell_type": "markdown",
   "id": "beneficial-lunch",
   "metadata": {},
   "source": [
    "---------------"
   ]
  },
  {
   "cell_type": "markdown",
   "id": "cathedral-termination",
   "metadata": {},
   "source": [
    "## Insertion des nouvelles données"
   ]
  },
  {
   "cell_type": "markdown",
   "id": "according-jurisdiction",
   "metadata": {},
   "source": [
    "######"
   ]
  },
  {
   "cell_type": "markdown",
   "id": "indoor-contractor",
   "metadata": {},
   "source": [
    "### Insertion origines"
   ]
  },
  {
   "cell_type": "markdown",
   "id": "naughty-education",
   "metadata": {},
   "source": [
    "###### "
   ]
  },
  {
   "cell_type": "code",
   "execution_count": 4,
   "id": "secondary-leather",
   "metadata": {
    "tags": []
   },
   "outputs": [],
   "source": [
    "# Prod\n",
    "# liste des origines pour insertions\n",
    "\n",
    "import csv\n",
    "# je crée une liste regroupant ma liste de pays\n",
    "liste = []\n",
    "with open('rumy_final.csv', newline='', encoding='utf-8') as csvfile:\n",
    "    spamreader = csv.reader(csvfile, delimiter=',')\n",
    "    for row in spamreader:\n",
    "        # gestion des doublons\n",
    "        if row[2] not in liste:\n",
    "            liste.append(row[2])\n",
    "liste = liste[1:]\n",
    "# print(liste)\n",
    "# print(len(liste))"
   ]
  },
  {
   "cell_type": "code",
   "execution_count": 5,
   "id": "mature-chance",
   "metadata": {},
   "outputs": [
    {
     "name": "stdout",
     "output_type": "stream",
     "text": [
      "insertion terminée\n"
     ]
    }
   ],
   "source": [
    "# connexion à la bdd collection\n",
    "conn = psycopg2.connect(\n",
    "        user = \"postgres\",\n",
    "        password = os.environ.get(\"pg_psw\"),\n",
    "        host = \"localhost\",\n",
    "        port = \"5432\",\n",
    "        database = \"collection5\"\n",
    ")\n",
    "cur = conn.cursor()\n",
    "\n",
    "for pays in liste:\n",
    "    cur.execute(\"SELECT origine.nom FROM origine WHERE origine.nom = (%s) \", (pays,))\n",
    "    verif = cur.fetchone()\n",
    "    if not verif:\n",
    "        cur.execute(\"INSERT INTO origine (nom) VALUES(%s)\", (pays,))\n",
    "\n",
    "conn.commit()\n",
    "print('insertion terminée')\n",
    "conn.close()"
   ]
  },
  {
   "cell_type": "markdown",
   "id": "soviet-argument",
   "metadata": {},
   "source": [
    "######"
   ]
  },
  {
   "cell_type": "markdown",
   "id": "known-delivery",
   "metadata": {},
   "source": [
    "----------------"
   ]
  },
  {
   "cell_type": "markdown",
   "id": "vital-signal",
   "metadata": {},
   "source": [
    "### Insertion producteurs"
   ]
  },
  {
   "cell_type": "markdown",
   "id": "sitting-facial",
   "metadata": {},
   "source": [
    "######"
   ]
  },
  {
   "cell_type": "code",
   "execution_count": 6,
   "id": "charged-transport",
   "metadata": {},
   "outputs": [],
   "source": [
    "# je crée une liste regroupant les pays et les producteurs\n",
    "liste_co = []\n",
    "liste_producteur = []\n",
    "liste_final = []\n",
    "with open('rumy_final.csv', newline='', encoding='utf-8') as csvfile:\n",
    "    spamreader = csv.reader(csvfile, delimiter=',')\n",
    "    for row in spamreader:\n",
    "        if row[1:3] not in liste_co:\n",
    "            liste_co.append((row[1:3]))\n",
    "liste_co = liste_co[1:]"
   ]
  },
  {
   "cell_type": "code",
   "execution_count": 7,
   "id": "italic-transsexual",
   "metadata": {},
   "outputs": [
    {
     "name": "stdout",
     "output_type": "stream",
     "text": [
      "insertion terminée\n"
     ]
    }
   ],
   "source": [
    "# prod\n",
    "# fonction d'insertion dans la table producteur\n",
    "conn = psycopg2.connect(\n",
    "        user = \"postgres\",\n",
    "        password = os.environ.get(\"pg_psw\"),\n",
    "        host = \"localhost\",\n",
    "        port = \"5432\",\n",
    "        database = \"collection5\"\n",
    ")\n",
    "cur = conn.cursor()\n",
    "for producteur, pays in liste_co:\n",
    "#     dictionnaire.items()\n",
    "#     print(producteur)\n",
    "#     print(pays)\n",
    "    cur.execute(f\"\"\"SELECT origine.code_origine \n",
    "        FROM origine\n",
    "        WHERE origine.nom = '{pays}';\n",
    "        \"\"\")\n",
    "    \n",
    "    origine = cur.fetchone()[0]\n",
    "#     print(origine)\n",
    "    #pays = str(pro[0])\n",
    "#     print(pays)\n",
    "\n",
    "    cur.execute(f'''INSERT INTO producteur (nom_producteur, code_origine) VALUES (%s, %s)''', (producteur, origine))\n",
    "    \n",
    "cur.close()\n",
    "conn.commit()\n",
    "print('insertion terminée')\n",
    "conn.close()"
   ]
  },
  {
   "cell_type": "markdown",
   "id": "static-means",
   "metadata": {
    "tags": []
   },
   "source": [
    "###### "
   ]
  },
  {
   "cell_type": "markdown",
   "id": "married-counter",
   "metadata": {},
   "source": [
    "___________"
   ]
  },
  {
   "cell_type": "markdown",
   "id": "promising-brass",
   "metadata": {},
   "source": [
    "### Insertion produits"
   ]
  },
  {
   "cell_type": "markdown",
   "id": "daily-transformation",
   "metadata": {},
   "source": [
    "###### "
   ]
  },
  {
   "cell_type": "code",
   "execution_count": 8,
   "id": "living-sending",
   "metadata": {},
   "outputs": [
    {
     "data": {
      "text/html": [
       "<div>\n",
       "<style scoped>\n",
       "    .dataframe tbody tr th:only-of-type {\n",
       "        vertical-align: middle;\n",
       "    }\n",
       "\n",
       "    .dataframe tbody tr th {\n",
       "        vertical-align: top;\n",
       "    }\n",
       "\n",
       "    .dataframe thead th {\n",
       "        text-align: right;\n",
       "    }\n",
       "</style>\n",
       "<table border=\"1\" class=\"dataframe\">\n",
       "  <thead>\n",
       "    <tr style=\"text-align: right;\">\n",
       "      <th></th>\n",
       "      <th>nom</th>\n",
       "      <th>producteur</th>\n",
       "      <th>origine</th>\n",
       "      <th>volume</th>\n",
       "      <th>degre</th>\n",
       "      <th>type</th>\n",
       "    </tr>\n",
       "  </thead>\n",
       "  <tbody>\n",
       "    <tr>\n",
       "      <th>0</th>\n",
       "      <td>Eminente Rhum Vieux  7 ans Reserva</td>\n",
       "      <td>Eminente</td>\n",
       "      <td>Cuba</td>\n",
       "      <td>70.0</td>\n",
       "      <td>41.3</td>\n",
       "      <td>Vieux</td>\n",
       "    </tr>\n",
       "    <tr>\n",
       "      <th>1</th>\n",
       "      <td>La Progresiva Rhum Vieux</td>\n",
       "      <td>La progresiva</td>\n",
       "      <td>Cuba</td>\n",
       "      <td>NaN</td>\n",
       "      <td>41.0</td>\n",
       "      <td>Vieux</td>\n",
       "    </tr>\n",
       "    <tr>\n",
       "      <th>2</th>\n",
       "      <td>Black Tears Rhum Épice</td>\n",
       "      <td>Black tears</td>\n",
       "      <td>Cuba</td>\n",
       "      <td>NaN</td>\n",
       "      <td>40.0</td>\n",
       "      <td>NaN</td>\n",
       "    </tr>\n",
       "    <tr>\n",
       "      <th>3</th>\n",
       "      <td>Conde de  Liqueur Elixir</td>\n",
       "      <td>Conde</td>\n",
       "      <td>Cuba</td>\n",
       "      <td>70.0</td>\n",
       "      <td>32.0</td>\n",
       "      <td>Spiced</td>\n",
       "    </tr>\n",
       "    <tr>\n",
       "      <th>4</th>\n",
       "      <td>Legendario Rhum Ambré Ron Dorado</td>\n",
       "      <td>Legendario</td>\n",
       "      <td>Cuba</td>\n",
       "      <td>70.0</td>\n",
       "      <td>38.0</td>\n",
       "      <td>NaN</td>\n",
       "    </tr>\n",
       "  </tbody>\n",
       "</table>\n",
       "</div>"
      ],
      "text/plain": [
       "                                     nom     producteur origine  volume  \\\n",
       "0  Eminente Rhum Vieux  7 ans Reserva          Eminente    Cuba    70.0   \n",
       "1            La Progresiva Rhum Vieux     La progresiva    Cuba     NaN   \n",
       "2               Black Tears Rhum Épice      Black tears    Cuba     NaN   \n",
       "3            Conde de  Liqueur Elixir             Conde    Cuba    70.0   \n",
       "4    Legendario Rhum Ambré Ron Dorado        Legendario    Cuba    70.0   \n",
       "\n",
       "   degre    type  \n",
       "0   41.3   Vieux  \n",
       "1   41.0   Vieux  \n",
       "2   40.0     NaN  \n",
       "3   32.0  Spiced  \n",
       "4   38.0     NaN  "
      ]
     },
     "execution_count": 8,
     "metadata": {},
     "output_type": "execute_result"
    }
   ],
   "source": [
    "# insertion fichier excel\n",
    "csv_file = 'rumy_final.csv'\n",
    "inventaire = pd.read_csv(csv_file)\n",
    "inventaire.head()"
   ]
  },
  {
   "cell_type": "code",
   "execution_count": 9,
   "id": "mexican-hardwood",
   "metadata": {},
   "outputs": [],
   "source": [
    "# cchangement des colonnes\n",
    "inventaire_produit =  inventaire[['nom', 'volume', 'degre', 'producteur', 'type']]"
   ]
  },
  {
   "cell_type": "code",
   "execution_count": 10,
   "id": "criminal-uncle",
   "metadata": {},
   "outputs": [
    {
     "name": "stdout",
     "output_type": "stream",
     "text": [
      "[['Eminente Rhum Vieux  7 ans Reserva   ', 70.0, 41.3, 'Eminente', 'Vieux'], ['La Progresiva Rhum Vieux   ', nan, 41.0, 'La progresiva', 'Vieux'], ['Black Tears Rhum Épice  ', nan, 40.0, 'Black tears', nan], ['Conde de  Liqueur Elixir   ', 70.0, 32.0, 'Conde', 'Spiced'], ['Legendario Rhum Ambré Ron Dorado   ', 70.0, 38.0, 'Legendario', nan], ['Havana Club Rhum Vieux Union coffret   ', 70.0, 40.0, 'Havana club', 'Coffret'], ['Conde de  Rhum Vieux 7 ans   ', 70.0, 38.0, 'Conde de ', 'Vieux'], ['Bristol Rhum Vieux Fine n 2003 9 ans   ', 70.0, 43.0, 'Bristol', 'Vieux'], ['Caney Rhum Blanc 3 ans Carta Blanca   ', 70.0, 38.0, 'Caney', 'Blanc'], ['Caney Rhum Vieux 7 ans Anejo Centuria   ', 70.0, 38.0, 'Caney', 'Vieux']]\n"
     ]
    }
   ],
   "source": [
    "liste_inventaire = [list(x) for x in inventaire_produit.to_numpy()]\n",
    "print(liste_inventaire[0:10])"
   ]
  },
  {
   "cell_type": "code",
   "execution_count": 11,
   "id": "extensive-actor",
   "metadata": {},
   "outputs": [
    {
     "name": "stdout",
     "output_type": "stream",
     "text": [
      "Eminente Rhum Vieux  7 ans Reserva   \n",
      "70.0\n",
      "41.3\n",
      "Eminente\n",
      "Vieux\n"
     ]
    }
   ],
   "source": [
    "nom = liste_inventaire[0][0]\n",
    "volume = liste_inventaire[0][1]\n",
    "degre = liste_inventaire[0][2]\n",
    "producteur = liste_inventaire[0][3]\n",
    "type_r = liste_inventaire[0][4]\n",
    "\n",
    "\n",
    "print(nom)\n",
    "print((volume))\n",
    "print(degre)\n",
    "print(producteur)\n",
    "print(type_r)\n"
   ]
  },
  {
   "cell_type": "code",
   "execution_count": 12,
   "id": "recognized-tooth",
   "metadata": {},
   "outputs": [
    {
     "name": "stdout",
     "output_type": "stream",
     "text": [
      "insertion produit terminée\n"
     ]
    }
   ],
   "source": [
    "conn = psycopg2.connect(\n",
    "        user = \"postgres\",\n",
    "        password = os.environ.get(\"pg_psw\"),\n",
    "        host = \"localhost\",\n",
    "        port = \"5432\",\n",
    "        database = \"collection5\"\n",
    ")\n",
    "cur = conn.cursor()\n",
    "\n",
    "for nom, volume, degre, producteur, type_r in liste_inventaire:\n",
    "    \n",
    "#     print(nom)\n",
    "#     print(volume)\n",
    "#     print(degre)\n",
    "#     print(producteur)\n",
    "#     print(type_r)\n",
    "\n",
    "    cur.execute(\"\"\"SELECT producteur.code_producteur \n",
    "        FROM producteur\n",
    "        WHERE producteur.nom_producteur = %s;\n",
    "        \"\"\", (producteur, ))\n",
    "    \n",
    "    code = cur.fetchone()[0]\n",
    "\n",
    "    if volume > 0 and degre > 0:\n",
    "        cur.execute(\"INSERT INTO produit (nom_produit, volume, degre, type_rhum, code_producteur) VALUES (%s, %s, %s, %s, %s)\", (nom, volume, degre, type_r, code))\n",
    "    elif volume < 0:\n",
    "        cur.execute(f\"INSERT INTO produit (nom_produit, degre, type_rhum, code_producteur) VALUES (%s, %s, %s, %s)\", (nom, degre, type_r, code))\n",
    "    elif degre < 0:\n",
    "        cur.execute(f\"INSERT INTO produit (nom_produit, volume, type_rhum, code_producteur) VALUES (%s, %s, %s, %s)\", (nom, volume, type_r, code))\n",
    "\n",
    "    else:\n",
    "         cur.execute(f\"INSERT INTO produit (nom_produit, type_rhum, code_producteur) VALUES (%s, %s, %s)\", (nom, type_r, code))\n",
    "#         print(type(cur))   \n",
    "cur.close()\n",
    "conn.commit()\n",
    "print('insertion produit terminée')\n",
    "conn.close()"
   ]
  },
  {
   "cell_type": "code",
   "execution_count": null,
   "id": "external-special",
   "metadata": {},
   "outputs": [],
   "source": []
  }
 ],
 "metadata": {
  "kernelspec": {
   "display_name": "Python 3",
   "language": "python",
   "name": "python3"
  },
  "language_info": {
   "codemirror_mode": {
    "name": "ipython",
    "version": 3
   },
   "file_extension": ".py",
   "mimetype": "text/x-python",
   "name": "python",
   "nbconvert_exporter": "python",
   "pygments_lexer": "ipython3",
   "version": "3.8.6"
  }
 },
 "nbformat": 4,
 "nbformat_minor": 5
}
