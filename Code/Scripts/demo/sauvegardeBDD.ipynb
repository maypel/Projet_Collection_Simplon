{
 "cells": [
  {
   "cell_type": "code",
   "execution_count": 5,
   "id": "postal-november",
   "metadata": {},
   "outputs": [],
   "source": [
    "from datetime import datetime\n",
    "from pathlib import Path\n",
    "import zipfile\n",
    "\n",
    "\n",
    "OBJECT_TO_BACKUP = 'C:/Program Files/PostgreSQL/13/data/base/42059'  # The file or directory to backup\n",
    "BACKUP_DIRECTORY = 'C:/Users/mayel/Documents/DEV/SIMPLON/projet-chef-d-oeuvre'  # The location to store the backups in\n",
    "MAX_BACKUP_AMOUNT = 1  # The maximum amount of backups to have in BACKUP_DIRECTORY\n",
    "\n",
    "\n",
    "object_to_backup_path = Path(OBJECT_TO_BACKUP)\n",
    "backup_directory_path = Path(BACKUP_DIRECTORY)\n",
    "assert object_to_backup_path.exists()  # Validate the object we are about to backup exists before we continue\n",
    "\n",
    "# Validate the backup directory exists and create if required\n",
    "backup_directory_path.mkdir(parents=True, exist_ok=True)\n",
    "\n",
    "# Get the amount of past backup zips in the backup directory already\n",
    "existing_backups = [\n",
    "    x for x in backup_directory_path.iterdir()\n",
    "    if x.is_file() and x.suffix == '.zip' and x.name.startswith('backup-')\n",
    "]\n",
    "\n",
    "# Enforce max backups and delete oldest if there will be too many after the new backup\n",
    "oldest_to_newest_backup_by_name = list(sorted(existing_backups, key=lambda f: f.name))\n",
    "while len(oldest_to_newest_backup_by_name) >= MAX_BACKUP_AMOUNT:  # >= because we will have another soon\n",
    "    backup_to_delete = oldest_to_newest_backup_by_name.pop(0)\n",
    "    backup_to_delete.unlink()\n",
    "\n",
    "# Create zip file (for both file and folder options)\n",
    "backup_file_name = f'backup-{datetime.now().strftime(\"%Y%m%d%H%M%S\")}-{object_to_backup_path.name}.zip'\n",
    "zip_file = zipfile.ZipFile(str(backup_directory_path / backup_file_name), mode='w')\n",
    "if object_to_backup_path.is_file():\n",
    "    # If the object to write is a file, write the file\n",
    "    zip_file.write(\n",
    "        object_to_backup_path.absolute(),\n",
    "        arcname=object_to_backup_path.name,\n",
    "        compress_type=zipfile.ZIP_DEFLATED\n",
    "    )\n",
    "elif object_to_backup_path.is_dir():\n",
    "    # If the object to write is a directory, write all the files\n",
    "    for file in object_to_backup_path.glob('**/*'):\n",
    "        if file.is_file():\n",
    "            zip_file.write(\n",
    "                file.absolute(),\n",
    "                arcname=str(file.relative_to(object_to_backup_path)),\n",
    "                compress_type=zipfile.ZIP_DEFLATED\n",
    "            )\n",
    "# Close the created zip file\n",
    "zip_file.close()\n"
   ]
  },
  {
   "cell_type": "code",
   "execution_count": null,
   "id": "abstract-delta",
   "metadata": {},
   "outputs": [],
   "source": []
  },
  {
   "cell_type": "code",
   "execution_count": null,
   "id": "quiet-fleece",
   "metadata": {},
   "outputs": [],
   "source": []
  }
 ],
 "metadata": {
  "kernelspec": {
   "display_name": "Python 3",
   "language": "python",
   "name": "python3"
  },
  "language_info": {
   "codemirror_mode": {
    "name": "ipython",
    "version": 3
   },
   "file_extension": ".py",
   "mimetype": "text/x-python",
   "name": "python",
   "nbconvert_exporter": "python",
   "pygments_lexer": "ipython3",
   "version": "3.8.6"
  }
 },
 "nbformat": 4,
 "nbformat_minor": 5
}
