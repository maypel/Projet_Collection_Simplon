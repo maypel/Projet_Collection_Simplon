{
 "cells": [
  {
   "cell_type": "markdown",
   "id": "russian-nebraska",
   "metadata": {},
   "source": [
    "# INSERTION DE NOUVELLES DONNEES"
   ]
  },
  {
   "cell_type": "markdown",
   "id": "stretch-breath",
   "metadata": {},
   "source": [
    "###### "
   ]
  },
  {
   "cell_type": "markdown",
   "id": "fewer-witch",
   "metadata": {
    "tags": []
   },
   "source": [
    "### Préparation des données"
   ]
  },
  {
   "cell_type": "code",
   "execution_count": 16,
   "id": "thorough-collect",
   "metadata": {
    "tags": []
   },
   "outputs": [],
   "source": [
    "import os\n",
    "import pandas as pd\n",
    "import psycopg2\n",
    "import csv\n",
    "import reprlib\n",
    "import numpy\n",
    "from translate import Translator\n",
    "from googletrans import Translator"
   ]
  },
  {
   "cell_type": "code",
   "execution_count": null,
   "id": "annual-envelope",
   "metadata": {},
   "outputs": [],
   "source": [
    "# connexion à la bdd collection\n",
    "conn = psycopg2.connect(\n",
    "        user = \"postgres\",\n",
    "        password = os.environ.get(\"pg_psw\"),\n",
    "        host = \"localhost\",\n",
    "        port = \"5432\",\n",
    "        database = \"collection4\"\n",
    ")\n",
    "cur = conn.cursor()\n",
    "cur.close\n",
    "conn.close()"
   ]
  },
  {
   "cell_type": "markdown",
   "id": "sexual-salvation",
   "metadata": {},
   "source": [
    "- nettoyage des données\n",
    "- sauvegarder les données nettoyées dans un fichier csv\n",
    "- insertion nouveau produit:\n",
    "    - si origine n'existe pas:\n",
    "        - ajouter dans table origine\n",
    "    - si producteur n'existe pas:\n",
    "        - ajouter dans table producteur"
   ]
  },
  {
   "cell_type": "markdown",
   "id": "immediate-signal",
   "metadata": {},
   "source": [
    "###### "
   ]
  },
  {
   "cell_type": "markdown",
   "id": "behavioral-landscape",
   "metadata": {},
   "source": [
    "- nettoyage des nouvelles données"
   ]
  },
  {
   "cell_type": "code",
   "execution_count": null,
   "id": "amazing-brain",
   "metadata": {},
   "outputs": [],
   "source": [
    "import pandas as pd"
   ]
  },
  {
   "cell_type": "code",
   "execution_count": null,
   "id": "unlike-coating",
   "metadata": {
    "tags": []
   },
   "outputs": [],
   "source": [
    "csv_file = 'rhumfullinfo_wikirum.csv'\n",
    "new_data = pd.read_csv(csv_file)\n",
    "\n",
    "new_data.head()"
   ]
  },
  {
   "cell_type": "code",
   "execution_count": null,
   "id": "superior-lawsuit",
   "metadata": {},
   "outputs": [],
   "source": [
    "new_data.isnull().sum()"
   ]
  },
  {
   "cell_type": "code",
   "execution_count": null,
   "id": "synthetic-description",
   "metadata": {},
   "outputs": [],
   "source": [
    "index_with_nan = new_data.index[new_data.isnull().any(axis=1)]\n",
    "new_data.drop(index_with_nan,0, inplace=True)"
   ]
  },
  {
   "cell_type": "code",
   "execution_count": null,
   "id": "specified-justice",
   "metadata": {
    "tags": []
   },
   "outputs": [],
   "source": [
    "new_data.columns = ['nom', 'producteur', 'origine', 'volume', 'degre']\n",
    "new_data['producteur'] = new_data['producteur'].str.replace('*','', regex=True)\n",
    "new_data['nom'] = new_data['nom'].str.replace('\\'','', regex=True)\n",
    "new_data['producteur'] = new_data['producteur'].str.replace('\\'','', regex=True)\n",
    "new_data['degre'] = new_data['degre'].astype(float)\n",
    "new_data['volume'] = new_data['volume'].astype(int)\n",
    "new_data['volume'] = new_data['volume'] / 10"
   ]
  },
  {
   "cell_type": "code",
   "execution_count": null,
   "id": "unique-linux",
   "metadata": {},
   "outputs": [],
   "source": [
    "new_data"
   ]
  },
  {
   "cell_type": "code",
   "execution_count": null,
   "id": "objective-insight",
   "metadata": {},
   "outputs": [],
   "source": [
    "new_data.shape"
   ]
  },
  {
   "cell_type": "code",
   "execution_count": null,
   "id": "excellent-literature",
   "metadata": {
    "tags": []
   },
   "outputs": [],
   "source": [
    "new_data.to_csv('new_data_wiki.csv', index = False, header=True)"
   ]
  },
  {
   "cell_type": "markdown",
   "id": "confidential-rwanda",
   "metadata": {},
   "source": [
    "###### "
   ]
  },
  {
   "cell_type": "markdown",
   "id": "manual-california",
   "metadata": {},
   "source": [
    "------------------"
   ]
  },
  {
   "cell_type": "markdown",
   "id": "nervous-diamond",
   "metadata": {},
   "source": [
    "### Insertion des données"
   ]
  },
  {
   "cell_type": "markdown",
   "id": "minute-montana",
   "metadata": {},
   "source": [
    "- requête sql"
   ]
  },
  {
   "cell_type": "code",
   "execution_count": null,
   "id": "imported-marine",
   "metadata": {},
   "outputs": [],
   "source": [
    "# connexion à la bdd collection\n",
    "conn = psycopg2.connect(\n",
    "        user = \"postgres\",\n",
    "        password = os.environ.get(\"pg_psw\"),\n",
    "        host = \"localhost\",\n",
    "        port = \"5432\",\n",
    "        database = \"collection4\"\n",
    ")\n",
    "cur = conn.cursor()"
   ]
  },
  {
   "cell_type": "code",
   "execution_count": null,
   "id": "assigned-cleaners",
   "metadata": {},
   "outputs": [],
   "source": [
    "sql1 = \"\"\"SELECT origine.nom\n",
    "          FROM origine;\n",
    "\"\"\"\n",
    "sql2 = \"\"\"SELECT producteur.nom\n",
    "          FROM producteur;\n",
    "\"\"\"\n",
    "sql3 = \"\"\"SELECT produit.nom\n",
    "          FROM produit;\n",
    "\"\"\""
   ]
  },
  {
   "cell_type": "code",
   "execution_count": null,
   "id": "front-brother",
   "metadata": {},
   "outputs": [],
   "source": [
    "# on vérifie que l'origine existe déjà\n",
    "for pays in new_data['origine'].values:\n",
    "    print(pays)\n",
    "    cur.execute(\"SELECT origine.nom FROM origine WHERE origine.nom = (%s) \", (pays,))\n",
    "    verif = cur.fetchone()\n",
    "    if not verif:\n",
    "        cur.execute(\"INSERT INTO origine (nom) VALUES(%s)\", (pays,))\n",
    "conn.commit()"
   ]
  },
  {
   "cell_type": "code",
   "execution_count": null,
   "id": "static-spirituality",
   "metadata": {},
   "outputs": [],
   "source": [
    "# # on vérifie que le producteur existe déjà\n",
    "# for producteur in new_data['producteur'].values:\n",
    "#     cur.execute(\"SELECT producteur.nom FROM producteur WHERE producteur.nom = (%s) \", (producteur,))\n",
    "#     verif = cur.fetchone()\n",
    "#     if not verif:\n",
    "#         cur.execute(\"INSERT INTO producteur (nom) VALUES(%s)\", (producteur,))\n",
    "# conn.commit()"
   ]
  },
  {
   "cell_type": "code",
   "execution_count": null,
   "id": "british-crash",
   "metadata": {},
   "outputs": [],
   "source": [
    "data_co = new_data[['producteur', 'origine']]\n",
    "# data_co = data_co.reset_index(drop=True, inplace=True)\n",
    "print(data_co)"
   ]
  },
  {
   "cell_type": "code",
   "execution_count": null,
   "id": "suffering-language",
   "metadata": {},
   "outputs": [],
   "source": [
    "liste_co = []\n",
    "with open('new_data_wiki.csv', newline='', encoding='utf-8') as csvfile:\n",
    "    spamreader = csv.reader(csvfile, delimiter=',')\n",
    "    for row in spamreader:\n",
    "        if row[1:3] not in liste_co:\n",
    "            liste_co.append((row[1:3]))\n",
    "liste_co = liste_co[1:]\n",
    "print(liste_co[0:10])"
   ]
  },
  {
   "cell_type": "code",
   "execution_count": null,
   "id": "damaged-device",
   "metadata": {},
   "outputs": [],
   "source": [
    "for producteur, pays in liste_co:\n",
    "#     print(producteur)\n",
    "#     print(pays)\n",
    "    cur.execute(f\"\"\"SELECT origine.code_origine \n",
    "        FROM origine\n",
    "        WHERE origine.nom = '{pays}';\n",
    "        \"\"\")\n",
    "    \n",
    "    origine = cur.fetchone()[0]\n",
    "    #print(origine)\n",
    "    #pays = str(pro[0])\n",
    "    #print(pays)\n",
    "\n",
    "    cur.execute(f\"INSERT INTO producteur (nom, code_origine) VALUES ('{producteur}', {origine})\")\n",
    "\n",
    "cur.close()\n",
    "conn.commit()\n",
    "conn.close()"
   ]
  },
  {
   "cell_type": "code",
   "execution_count": null,
   "id": "essential-scenario",
   "metadata": {},
   "outputs": [],
   "source": [
    "# insertion fichuer csv\n",
    "# prod\n",
    "# je crée une liste regroupant les pays et les producteurs\n",
    "liste_groupe = []\n",
    "with open('new_data_wiki.csv', newline='', encoding='utf-8') as csvfile:\n",
    "    spamreader = csv.reader(csvfile, delimiter=',')\n",
    "    for row in spamreader:\n",
    "        liste_groupe.append((row[0:2]))\n",
    "liste_groupe = liste_groupe[1:]\n",
    "print(liste_groupe[0:10])"
   ]
  },
  {
   "cell_type": "code",
   "execution_count": null,
   "id": "refined-granny",
   "metadata": {},
   "outputs": [],
   "source": [
    "conn = psycopg2.connect(\n",
    "        user = \"postgres\",\n",
    "        password = os.environ.get(\"pg_psw\"),\n",
    "        host = \"localhost\",\n",
    "        port = \"5432\",\n",
    "        database = \"collection4\"\n",
    ")\n",
    "cur = conn.cursor()\n",
    "for nom, marque in liste_groupe:\n",
    "    #print(producteur)\n",
    "    #print(pays)\n",
    "    cur.execute(f\"\"\"SELECT producteur.code_producteur \n",
    "        FROM producteur\n",
    "        WHERE producteur.nom = '{marque}';\n",
    "        \"\"\")\n",
    "    code = cur.fetchone()[0]\n",
    "    \n",
    "    cur.execute(f\"INSERT INTO produit (nom, code_producteur) VALUES ('{nom}', {code})\")\n",
    "print(type(cur))   \n",
    "cur.close()\n",
    "conn.commit()\n",
    "conn.close()"
   ]
  },
  {
   "cell_type": "markdown",
   "id": "large-premises",
   "metadata": {},
   "source": [
    "###### "
   ]
  },
  {
   "cell_type": "markdown",
   "id": "quality-academy",
   "metadata": {},
   "source": [
    "- traduction nom pays"
   ]
  },
  {
   "cell_type": "code",
   "execution_count": null,
   "id": "verified-signature",
   "metadata": {},
   "outputs": [],
   "source": [
    "# pip install translate"
   ]
  },
  {
   "cell_type": "code",
   "execution_count": 17,
   "id": "fresh-abuse",
   "metadata": {},
   "outputs": [],
   "source": [
    "from translate import Translator"
   ]
  },
  {
   "cell_type": "code",
   "execution_count": 18,
   "id": "textile-locator",
   "metadata": {},
   "outputs": [],
   "source": [
    "translator= Translator(to_lang=\"fr\")"
   ]
  },
  {
   "cell_type": "code",
   "execution_count": 19,
   "id": "christian-happening",
   "metadata": {},
   "outputs": [],
   "source": [
    "# translation = translator.translate(\"United Kingdom\")"
   ]
  },
  {
   "cell_type": "code",
   "execution_count": 20,
   "id": "registered-minneapolis",
   "metadata": {},
   "outputs": [],
   "source": [
    "# translation"
   ]
  },
  {
   "cell_type": "code",
   "execution_count": 21,
   "id": "peaceful-storage",
   "metadata": {},
   "outputs": [
    {
     "data": {
      "text/html": [
       "<div>\n",
       "<style scoped>\n",
       "    .dataframe tbody tr th:only-of-type {\n",
       "        vertical-align: middle;\n",
       "    }\n",
       "\n",
       "    .dataframe tbody tr th {\n",
       "        vertical-align: top;\n",
       "    }\n",
       "\n",
       "    .dataframe thead th {\n",
       "        text-align: right;\n",
       "    }\n",
       "</style>\n",
       "<table border=\"1\" class=\"dataframe\">\n",
       "  <thead>\n",
       "    <tr style=\"text-align: right;\">\n",
       "      <th></th>\n",
       "      <th>name</th>\n",
       "      <th>company</th>\n",
       "      <th>country</th>\n",
       "      <th>price</th>\n",
       "      <th>ratings</th>\n",
       "      <th>score</th>\n",
       "      <th>type</th>\n",
       "      <th>rum_url</th>\n",
       "      <th>img_url</th>\n",
       "      <th>br_score</th>\n",
       "    </tr>\n",
       "  </thead>\n",
       "  <tbody>\n",
       "    <tr>\n",
       "      <th>0</th>\n",
       "      <td>10000 Drops Silver</td>\n",
       "      <td>1000Drops</td>\n",
       "      <td>United States</td>\n",
       "      <td>0</td>\n",
       "      <td>0</td>\n",
       "      <td>0.0</td>\n",
       "      <td>Light</td>\n",
       "      <td>/brands/10972-10000-drops-silver</td>\n",
       "      <td>https://d1jtwiy8m5zi8a.cloudfront.net/assets/d...</td>\n",
       "      <td>4.775363</td>\n",
       "    </tr>\n",
       "    <tr>\n",
       "      <th>1</th>\n",
       "      <td>10000 Drops Spiced</td>\n",
       "      <td>1000Drops</td>\n",
       "      <td>United States</td>\n",
       "      <td>0</td>\n",
       "      <td>1</td>\n",
       "      <td>4.0</td>\n",
       "      <td>Spiced</td>\n",
       "      <td>/brands/7354-10000-drops-spiced</td>\n",
       "      <td>https://d19vk5i0q1xlsm.cloudfront.net/uploads/...</td>\n",
       "      <td>4.711955</td>\n",
       "    </tr>\n",
       "    <tr>\n",
       "      <th>2</th>\n",
       "      <td>1000 Hills Gold</td>\n",
       "      <td>1000 Hills Distillery</td>\n",
       "      <td>Rwanda</td>\n",
       "      <td>0</td>\n",
       "      <td>1</td>\n",
       "      <td>4.0</td>\n",
       "      <td>Light</td>\n",
       "      <td>/brands/5285-1000-hills-gold</td>\n",
       "      <td>https://d19vk5i0q1xlsm.cloudfront.net/uploads/...</td>\n",
       "      <td>4.711955</td>\n",
       "    </tr>\n",
       "    <tr>\n",
       "      <th>3</th>\n",
       "      <td>100 Fuegos Buckeye 2-Year</td>\n",
       "      <td>100 Fuegos</td>\n",
       "      <td>Ecuador</td>\n",
       "      <td>0</td>\n",
       "      <td>0</td>\n",
       "      <td>0.0</td>\n",
       "      <td>Gold</td>\n",
       "      <td>/brands/9037-100-fuegos-buckeye-2-year</td>\n",
       "      <td>https://d1jtwiy8m5zi8a.cloudfront.net/assets/d...</td>\n",
       "      <td>4.775363</td>\n",
       "    </tr>\n",
       "    <tr>\n",
       "      <th>4</th>\n",
       "      <td>100 Fuegos 8-Year</td>\n",
       "      <td>101 Fuegos</td>\n",
       "      <td>Ecuador</td>\n",
       "      <td>0</td>\n",
       "      <td>0</td>\n",
       "      <td>0.0</td>\n",
       "      <td>Aged</td>\n",
       "      <td>/brands/1834-100-fuegos-8-year</td>\n",
       "      <td>https://d1jtwiy8m5zi8a.cloudfront.net/assets/d...</td>\n",
       "      <td>4.775363</td>\n",
       "    </tr>\n",
       "  </tbody>\n",
       "</table>\n",
       "</div>"
      ],
      "text/plain": [
       "                        name                company        country  price  \\\n",
       "0         10000 Drops Silver              1000Drops  United States      0   \n",
       "1         10000 Drops Spiced              1000Drops  United States      0   \n",
       "2            1000 Hills Gold  1000 Hills Distillery         Rwanda      0   \n",
       "3  100 Fuegos Buckeye 2-Year            100 Fuegos         Ecuador      0   \n",
       "4          100 Fuegos 8-Year            101 Fuegos         Ecuador      0   \n",
       "\n",
       "   ratings  score    type                                 rum_url  \\\n",
       "0        0    0.0   Light        /brands/10972-10000-drops-silver   \n",
       "1        1    4.0  Spiced         /brands/7354-10000-drops-spiced   \n",
       "2        1    4.0   Light            /brands/5285-1000-hills-gold   \n",
       "3        0    0.0    Gold  /brands/9037-100-fuegos-buckeye-2-year   \n",
       "4        0    0.0    Aged          /brands/1834-100-fuegos-8-year   \n",
       "\n",
       "                                             img_url  br_score  \n",
       "0  https://d1jtwiy8m5zi8a.cloudfront.net/assets/d...  4.775363  \n",
       "1  https://d19vk5i0q1xlsm.cloudfront.net/uploads/...  4.711955  \n",
       "2  https://d19vk5i0q1xlsm.cloudfront.net/uploads/...  4.711955  \n",
       "3  https://d1jtwiy8m5zi8a.cloudfront.net/assets/d...  4.775363  \n",
       "4  https://d1jtwiy8m5zi8a.cloudfront.net/assets/d...  4.775363  "
      ]
     },
     "execution_count": 21,
     "metadata": {},
     "output_type": "execute_result"
    }
   ],
   "source": [
    "import pandas as pd\n",
    "\n",
    "csv_file = 'rum_data.csv'\n",
    "liste_rhum = pd.read_csv(csv_file)\n",
    "\n",
    "liste_rhum.head(5)"
   ]
  },
  {
   "cell_type": "code",
   "execution_count": 22,
   "id": "senior-coffee",
   "metadata": {},
   "outputs": [],
   "source": [
    "dico = {}\n",
    "liste_car = ['Ã¡', 'Ã»', 'Ã¢', 'Ã©', 'â€™', 'Â°', 'Ã¨', 'Ã³', 'Ã±', '\\'', 'Ã£','Ã§' ]\n",
    "liste_remp = ['a', 'u', 'a', 'e', '', '°', 'e', 'o', 'n', '', 'a', 'c']\n",
    "# création du dictionnaire avec une compréhension de dictionnaire\n",
    "dico = {k: v for k, v in zip(liste_car, liste_remp)}"
   ]
  },
  {
   "cell_type": "code",
   "execution_count": 23,
   "id": "stock-music",
   "metadata": {
    "tags": []
   },
   "outputs": [],
   "source": [
    "liste_rhum.replace({'country': dico}, regex=True,inplace=True)\n"
   ]
  },
  {
   "cell_type": "code",
   "execution_count": 24,
   "id": "royal-exclusion",
   "metadata": {},
   "outputs": [
    {
     "name": "stdout",
     "output_type": "stream",
     "text": [
      "['Rwanda', 'Ecuador', 'Trinidad and Tobago', 'Panama', 'Switzerland', 'Netherlands', 'Germany', 'Belgium', 'Saint Lucia', 'Belize', 'India', 'Australia', 'Brazil', 'Barbados', 'Portugal', 'Virgin Islands, U.S.', 'Martinique', 'Mexico', 'United Kingdom', 'Colombia', 'Spain', 'Denmark', 'Caribbean', 'Cuba', 'Dominican Republic', 'Guyana', 'Guatemala', 'Jamaica', 'Mauritius', 'Guadeloupe', 'British Virgin Islands', 'Puerto Rico', 'Croatia', 'Bahamas', 'Sri Lanka', 'Finland', 'Turks and Caicos Islands', 'Antigua and Barbuda', 'Reunion', 'Lithuania', 'Haiti', 'Sweden', 'Grenada', 'Venezuela', 'Fiji', 'Dominica', 'Vietnam', 'Saint Kitts And Nevis', 'Bermuda', 'Cayman Islands', 'Suriname', 'New Zealand', 'Thailand', 'Estonia', 'United States Minor Outlying Islands', 'Italy', 'France', 'Czech Republic', 'Indonesia', 'Peru', 'Canada', 'Costa Rica', 'USA', 'Nicaragua', 'Bulgaria', 'Romania', 'Venezuela, Bolivarian Republic of', 'Hungary', 'El Salvador', 'Trinidad', 'Greece', 'Philippines', 'South Africa', 'Curacao', 'Madagascar', 'Uruguay', 'Austria', 'Taiwan, Republic Of China', 'Paraguay', 'Cambodia', 'Slovakia', 'French Polynesia', 'Japan', 'Argentina', 'Saint Martin', 'Kenya', 'Nepal', 'Malta', 'Seychelles', 'Myanmar', 'United Arab Emirates', 'Aruba', 'Honduras', 'Mexique', 'Poland', 'Anguilla', 'Unknown', 'Bonaire, Sint Eustatius and Saba', 'Saint Barthelemy', 'Andorra', 'Netherlands Antilles', 'Jamaica & Guyana ', 'Sint Maarten', 'Saint Vincent And The Grenedines', 'Liechtenstein', 'British West Indies', 'Cape Verde', 'Brasil', 'Ireland']\n"
     ]
    }
   ],
   "source": [
    "liste_pays = []\n",
    "for pays in liste_rhum['country'].values:\n",
    "    if pays not in liste_pays:\n",
    "            liste_pays.append(pays)\n",
    "liste_pays = liste_pays[1:]\n",
    "print(liste_pays)"
   ]
  },
  {
   "cell_type": "code",
   "execution_count": 25,
   "id": "meaning-mother",
   "metadata": {},
   "outputs": [
    {
     "name": "stdout",
     "output_type": "stream",
     "text": [
      "60\n",
      "49\n",
      "['Rwanda', 'Équateur', 'Trinité-et-Tobago', 'Panama', 'Suisse', 'Netherlands', 'Allemagne', 'Belgique', 'Sainte-Lucie', 'Belize', 'Inde', 'Australie', 'Brésil', 'Barbade', 'ortugal', 'Îles Vierges (États-Unis)', 'Martinique', 'Mexique', 'Royaume-Uni', 'Colombie', 'Spain', 'Danemark', 'Caraïbes', 'Cuba', 'République Dominicaine', 'Guyane', 'Guatemala', 'Jamaïque', 'Maurice', 'Guadeloupe', 'Îles Vierges britanniques', 'Puerto Rico', 'Croatie', 'Bahamas', 'Sri Lanka', 'en Finlande', 'Îles Turques et Caïques', 'Antigua-et-Barbuda', 'La Réunion', 'Lituanie', 'Haïti', 'Suède', 'Grenade', 'Venezuela', 'Fidji', 'Dominique', 'Vietnam', 'Saint-Kitts-et-Nevis', 'Bermudes', 'Cayman Islands', 'Suriname', 'Nouvelle Zélande', 'Thaïlande', 'Estonie', 'Îles mineures éloignées des États-Unis', 'Italie', 'France', 'République Tchèque', 'Indonésie', 'Pérou']\n"
     ]
    }
   ],
   "source": [
    "pays_traduit = []\n",
    "liste_pays1 = liste_pays[:60]\n",
    "print(len(liste_pays1))\n",
    "\n",
    "liste_pays2 = liste_pays[60:]\n",
    "print(len(liste_pays2))\n",
    "for pays in liste_pays1:\n",
    "    translation = translator.translate(f\"{pays}\")\n",
    "#     print(translation)\n",
    "    pays_traduit.append(translation)\n",
    "print(pays_traduit)"
   ]
  },
  {
   "cell_type": "code",
   "execution_count": 27,
   "id": "political-tournament",
   "metadata": {},
   "outputs": [],
   "source": [
    "f = pd.DataFrame(pays_traduit)\n",
    "df.to_csv('pays_traduit1.csv')"
   ]
  },
  {
   "cell_type": "code",
   "execution_count": 11,
   "id": "front-antibody",
   "metadata": {},
   "outputs": [
    {
     "name": "stdout",
     "output_type": "stream",
     "text": [
      "49\n",
      "['Canada', 'Costa Rica', 'États-Unis', 'Nicaragua', 'Bulgarie', 'Roumanie', 'Venezuela', 'Hongrie', 'Salvador', 'Trinidad', 'Grèce', 'Philippines', 'Afrique du Sud', 'Curaçao', 'Madagascar', 'Uruguay', 'Autriche', 'République populaire de Taiwan', 'Paraguay', 'Cambodge', 'Slovaquie', 'Polynésie Française', 'Japon', 'Argentine', 'Saint-Martin', 'Kenya', 'Népal', 'Malte', 'Seychelles', 'Myanmar', 'Émirats Arabes Unis', 'Aruba', 'Honduras', 'Mexique', 'Pologne', 'Anguilla', 'Inconnu', 'Bonaire, Saint-Eustache et Saba', 'Saint-Barthélemy', 'Andorre', 'Antilles Néerlandaises', 'Jamaïque et Guyane', 'Sint Maarten', 'SAINT-VINCENT-ET-LES-', 'Liechtenstein', 'Antilles anglaises', 'Cap Vert', 'Brasil', 'Irlande']\n"
     ]
    }
   ],
   "source": [
    "pays_traduit2= []\n",
    "liste_pays2 = liste_pays[60:]\n",
    "print(len(liste_pays2))\n",
    "for pays in liste_pays2:\n",
    "    translation = translator.translate(f\"{pays}\")\n",
    "#     print(translation)\n",
    "    pays_traduit2.append(translation)\n",
    "print(pays_traduit2)"
   ]
  },
  {
   "cell_type": "code",
   "execution_count": 12,
   "id": "terminal-distinction",
   "metadata": {},
   "outputs": [
    {
     "ename": "NameError",
     "evalue": "name 'pays_traduit' is not defined",
     "output_type": "error",
     "traceback": [
      "\u001b[1;31m---------------------------------------------------------------------------\u001b[0m",
      "\u001b[1;31mNameError\u001b[0m                                 Traceback (most recent call last)",
      "\u001b[1;32m<ipython-input-12-17c8c5a6099f>\u001b[0m in \u001b[0;36m<module>\u001b[1;34m\u001b[0m\n\u001b[1;32m----> 1\u001b[1;33m \u001b[0mliste_pays_traduit\u001b[0m \u001b[1;33m=\u001b[0m \u001b[0mzip\u001b[0m\u001b[1;33m(\u001b[0m\u001b[0mpays_traduit\u001b[0m\u001b[1;33m,\u001b[0m \u001b[0mpays_traduit\u001b[0m\u001b[1;33m)\u001b[0m\u001b[1;33m\u001b[0m\u001b[1;33m\u001b[0m\u001b[0m\n\u001b[0m",
      "\u001b[1;31mNameError\u001b[0m: name 'pays_traduit' is not defined"
     ]
    }
   ],
   "source": [
    "liste_pays_traduit = zip(pays_traduit, pays_traduit)"
   ]
  },
  {
   "cell_type": "code",
   "execution_count": 13,
   "id": "constant-haiti",
   "metadata": {},
   "outputs": [],
   "source": [
    "import pandas as pd"
   ]
  },
  {
   "cell_type": "code",
   "execution_count": 14,
   "id": "forward-finland",
   "metadata": {},
   "outputs": [],
   "source": [
    "df = pd.DataFrame(pays_traduit2)"
   ]
  },
  {
   "cell_type": "code",
   "execution_count": 15,
   "id": "white-feeling",
   "metadata": {},
   "outputs": [],
   "source": [
    "df.to_csv('pays_traduit2.csv')"
   ]
  },
  {
   "cell_type": "code",
   "execution_count": null,
   "id": "advised-locking",
   "metadata": {},
   "outputs": [],
   "source": []
  },
  {
   "cell_type": "markdown",
   "id": "fluid-polymer",
   "metadata": {},
   "source": [
    "###### "
   ]
  },
  {
   "cell_type": "markdown",
   "id": "capital-walter",
   "metadata": {},
   "source": [
    "- Test update table utilisateur et collection"
   ]
  },
  {
   "cell_type": "code",
   "execution_count": null,
   "id": "concrete-cliff",
   "metadata": {},
   "outputs": [],
   "source": [
    "conn = psycopg2.connect(\n",
    "        user = \"postgres\",\n",
    "        password = os.environ.get(\"pg_psw\"),\n",
    "        host = \"localhost\",\n",
    "        port = \"5432\",\n",
    "        database = \"collection4\"\n",
    ")\n",
    "cur = conn.cursor()"
   ]
  }
 ],
 "metadata": {
  "kernelspec": {
   "display_name": "Python 3",
   "language": "python",
   "name": "python3"
  },
  "language_info": {
   "codemirror_mode": {
    "name": "ipython",
    "version": 3
   },
   "file_extension": ".py",
   "mimetype": "text/x-python",
   "name": "python",
   "nbconvert_exporter": "python",
   "pygments_lexer": "ipython3",
   "version": "3.8.6"
  }
 },
 "nbformat": 4,
 "nbformat_minor": 5
}
