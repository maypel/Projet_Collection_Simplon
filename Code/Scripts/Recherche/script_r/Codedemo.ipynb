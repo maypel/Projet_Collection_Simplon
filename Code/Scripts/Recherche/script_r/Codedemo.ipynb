{
 "cells": [
  {
   "cell_type": "markdown",
   "id": "enormous-treaty",
   "metadata": {},
   "source": [
    "# Code demo 19/05/2021 Flagship"
   ]
  },
  {
   "cell_type": "markdown",
   "id": "adjusted-scanning",
   "metadata": {},
   "source": [
    "###### "
   ]
  },
  {
   "cell_type": "code",
   "execution_count": null,
   "id": "figured-business",
   "metadata": {},
   "outputs": [],
   "source": [
    "pwd"
   ]
  },
  {
   "cell_type": "markdown",
   "id": "solid-gibraltar",
   "metadata": {},
   "source": [
    "- petit discours d'introduction"
   ]
  },
  {
   "cell_type": "code",
   "execution_count": 2,
   "id": "allied-hypothetical",
   "metadata": {},
   "outputs": [],
   "source": [
    "# Import des librairies\n",
    "\n",
    "import os\n",
    "import pandas as pd\n",
    "import psycopg2\n",
    "import csv\n",
    "import reprlib\n",
    "import numpy\n",
    "import re\n",
    "import json\n",
    "import plotly.express as px\n",
    "import plotly.graph_objects as go"
   ]
  },
  {
   "cell_type": "markdown",
   "id": "improving-skating",
   "metadata": {},
   "source": [
    "###### "
   ]
  },
  {
   "cell_type": "markdown",
   "id": "important-nightlife",
   "metadata": {},
   "source": [
    "-----------------------"
   ]
  },
  {
   "cell_type": "markdown",
   "id": "environmental-treasury",
   "metadata": {},
   "source": [
    "### Création de la Base de données"
   ]
  },
  {
   "cell_type": "code",
   "execution_count": 25,
   "id": "great-journalist",
   "metadata": {},
   "outputs": [
    {
     "name": "stdout",
     "output_type": "stream",
     "text": [
      "La DataBase à été créée avec succès !\n"
     ]
    }
   ],
   "source": [
    "\"\"\"\n",
    "Connexion dans un premier temps à postgres\n",
    "pour initialiser notre database collection\n",
    "\"\"\"\n",
    "\n",
    "\n",
    "# initialisation des variables  de connection\n",
    "utilisateur = \"postgres\"\n",
    "\n",
    "mot_passe = os.environ.get('pg_psw')\n",
    "\n",
    "base_de_donnees = \"postgres\"\n",
    "\n",
    "\n",
    "\n",
    "try:\n",
    "    \n",
    "    # création de l'objet conn\n",
    "\n",
    "    conn = psycopg2.connect(dbname= base_de_donnees, user=utilisateur, password=mot_passe, host=\"localhost\", port= 5432)\n",
    "\n",
    "    conn.set_session(autocommit=True)   # on force\n",
    "\n",
    "    # initialisation du cursor\n",
    "\n",
    "    cursor = conn.cursor()\n",
    "\n",
    "    # cursor.execute permet d'exécuter une commande 'sql'\n",
    "\n",
    "    cursor.execute(\"CREATE DATABASE collection6\")\n",
    "\n",
    "    print(\"La DataBase à été créée avec succès !\")\n",
    "\n",
    "        \n",
    "except psycopg2.Error as e:\n",
    "    \n",
    "    print(\"Problème lors de la connection à la base de donnée\")\n",
    "\n",
    "    print(e)\n",
    "\n",
    "   \n",
    "    \n",
    "finally:\n",
    "        \n",
    "    # ferme le curseur et devient inutilisable\n",
    "\n",
    "    cursor.close\n",
    "\n",
    "    # ferme la connexion à database\n",
    "\n",
    "    conn.close"
   ]
  },
  {
   "cell_type": "markdown",
   "id": "fabulous-electricity",
   "metadata": {},
   "source": [
    "######"
   ]
  },
  {
   "cell_type": "code",
   "execution_count": 82,
   "id": "scheduled-polls",
   "metadata": {},
   "outputs": [],
   "source": [
    "# Cellule pour nos fonctions de connection\n",
    "\n",
    "# Fonction qui va nous permettre de créer une Base de données.\n",
    "def ouvrir_connection(base_de_donnee, utilisateur, mot_passe, host='localhost', port=5432):\n",
    "    \n",
    "    try:\n",
    "        # création de l'objet conn\n",
    "        conn = psycopg2.connect(dbname= base_de_donnee, user=utilisateur, password = mot_passe, host=\"localhost\", port= 5432)\n",
    "\n",
    "        # on force la sauvegarde\n",
    "        conn.set_session(autocommit=True)   \n",
    "        \n",
    "        # initialisation du cursor\n",
    "        cursor = conn.cursor()\n",
    "        \n",
    "        # exécution de la requête sql de création de la base de donnée\n",
    "        #cursor.execute(\"CREATE DATABASE IF NOT EXISTS movie\")\n",
    "\n",
    "    # gestion des erreurs    \n",
    "    except psycopg2.Error as e:\n",
    "        print(\"Problème lors de la connection à la base de donnée\")\n",
    "        print(e)\n",
    "        return None\n",
    "    # dans tous les cas on va clôturer la session\n",
    "    finally:\n",
    "        cursor.close\n",
    "        conn.close\n",
    "    return conn\n",
    "   \n",
    "    # fonction pour supprimer une table\n",
    "def supprimer_table(conn, sql_supprimer_table, table):\n",
    "    try:\n",
    "        cursor = conn.cursor()\n",
    "        cursor.execute(sql_supprimer_table)\n",
    "        conn.commit()\n",
    "    except psycopg2.Error as e:\n",
    "        print(\"Erreur lors de la suppression de la table\")\n",
    "        print(e)\n",
    "        return\n",
    "    cursor.close()\n",
    "    print(\"La table a été supprimée avec succès\")\n",
    "\n",
    "# fonction pour créer une table    \n",
    "def creer_table(conn, sql_creer_table):\n",
    "    try:\n",
    "        cursor = conn.cursor()\n",
    "        cursor.execute(sql_creer_table)\n",
    "        conn.commit()\n",
    "    except psycopg2.Error as e:\n",
    "        print(\"Erreur lors de la création de la table\")\n",
    "        print(e)\n",
    "        return\n",
    "    cursor.close()\n",
    "    print(\"La table a été crée avec succès\")\n",
    "\n",
    "# fonction de lecture de la table    \n",
    "def lire_table(conn, sql_lire_donnee):\n",
    "    try:\n",
    "        cursor = conn.cursor()\n",
    "        cursor.execute(sql_lire_donnee)\n",
    "        conn.commit()\n",
    "    except psycopg2.Error as e:\n",
    "        print(\"Erreur lors de la lecture des données\")\n",
    "        print(e)\n",
    "        return None\n",
    "    \n",
    "    print(\"Les données ont été lues avec succès\")\n",
    "    \n",
    "    data = []\n",
    "    for row in cursor:\n",
    "        data.append(row)\n",
    "\n",
    "    cursor.close()\n",
    "    \n",
    "    return data   "
   ]
  },
  {
   "cell_type": "code",
   "execution_count": 3,
   "id": "significant-classics",
   "metadata": {},
   "outputs": [],
   "source": [
    "\"\"\"cellule qui content différentes requêtes sql\n",
    "\"\"\"\n",
    "\n",
    "# requète création table d'origine\n",
    "sql_creer_table1 = \"\"\"CREATE TABLE IF NOT EXISTS Origine(\n",
    "   code_Origine SERIAL,\n",
    "   nom_origine_fr VARCHAR(100),\n",
    "   nom_origine_en VARCHAR(100),\n",
    "   PRIMARY KEY(Code_Origine)\n",
    ");\n",
    "\"\"\"\n",
    "# requète création table producteur\n",
    "sql_creer_table2 = \"\"\"CREATE TABLE IF NOT EXISTS Producteur(\n",
    "   code_producteur SERIAL,\n",
    "   nom_producteur VARCHAR(100),\n",
    "   code_Origine INT,\n",
    "   PRIMARY KEY(Code_producteur),\n",
    "   FOREIGN KEY(Code_Origine) REFERENCES Origine(Code_Origine)\n",
    ");\n",
    "\"\"\"\n",
    "# requète création table produit\n",
    "sql_creer_table3 = \"\"\"CREATE TABLE IF NOT EXISTS Produit(\n",
    "   code_produit SERIAL,\n",
    "   nom_produit VARCHAR(250),\n",
    "   volume DECIMAL(15,2),\n",
    "   degre DECIMAL(15,2),\n",
    "   type_rhum VARCHAR(50),\n",
    "   code_producteur INT,\n",
    "   PRIMARY KEY(code_produit),\n",
    "   FOREIGN KEY(code_producteur) REFERENCES Producteur(code_producteur)\n",
    ");\n",
    "\"\"\"\n",
    "sql_creer_table4 = \"\"\"CREATE TABLE IF NOT EXISTS Utilisateur(\n",
    "   code_utilisateur SERIAL,\n",
    "   nom VARCHAR(100),\n",
    "   surnom VARCHAR(100),\n",
    "   email VARCHAR(150),\n",
    "   PRIMARY KEY(code_utilisateur)\n",
    ");\n",
    "\"\"\"\n",
    "sql_creer_table5 = \"\"\"CREATE TABLE IF NOT EXISTS Collection(\n",
    "   Code_collection SERIAL,\n",
    "   nom VARCHAR(250),\n",
    "   description VARCHAR(500),\n",
    "   code_utilisateur INT,\n",
    "   PRIMARY KEY(Code_collection),\n",
    "   UNIQUE(code_utilisateur),\n",
    "   FOREIGN KEY(code_utilisateur) REFERENCES Utilisateur(code_utilisateur)\n",
    ");\n",
    "\"\"\"\n",
    "\n",
    "sql_creer_table6 = \"\"\"CREATE TABLE IF NOT EXISTS Compose(\n",
    "   Code_produit INT,\n",
    "   Code_collection INT,\n",
    "   description VARCHAR(250),\n",
    "   PRIMARY KEY(Code_produit, Code_collection),\n",
    "   FOREIGN KEY(Code_produit) REFERENCES Produit(Code_produit),\n",
    "   FOREIGN KEY(Code_collection) REFERENCES Collection(Code_collection)\n",
    ");\n",
    "\"\"\"\n",
    "\n",
    "sql_creer_table7 = \"\"\"CREATE TABLE IF NOT EXISTS role(\n",
    "   code_role INT,\n",
    "   nom VARCHAR(50),\n",
    "   PRIMARY KEY(code_role)\n",
    ");\n",
    "\"\"\"\n",
    "\n",
    "sql_creer_table8 = \"\"\"CREATE TABLE IF NOT EXISTS Droit(\n",
    "   code_droit INT,\n",
    "   permission VARCHAR(50),\n",
    "   PRIMARY KEY(code_droit)\n",
    ");\n",
    "\"\"\"\n",
    "\n",
    "sql_creer_table9 = \"\"\"CREATE TABLE IF NOT EXISTS apiebay(\n",
    "   code_api SERIAL,\n",
    "   itemid INT,\n",
    "   titre VARCHAR(250),\n",
    "   prix FLOAT,\n",
    "   devise VARCHAR(50),\n",
    "   date_debut DATE,\n",
    "   date_fin DATE,\n",
    "   date_enregistrement DATE,\n",
    "   galleryURL TEXT\n",
    ");\n",
    "\"\"\"\n",
    "# requète lecture des données\n",
    "sql_lire_donnee = \"\"\"\n",
    "    SELECT *\n",
    "    FROM Produit\n",
    "    LIMIT 10;\n",
    "\"\"\"\n",
    "\n",
    "sql_supprimer_table = \"\"\"\n",
    "    DROP TABLE IF EXISTS {};\n",
    "\"\"\""
   ]
  },
  {
   "cell_type": "code",
   "execution_count": 84,
   "id": "after-spending",
   "metadata": {},
   "outputs": [],
   "source": [
    "# initialisation des variables pour me connecter à ma bdd postgres\n",
    "\n",
    "base_de_donnee = \"collection6\"\n",
    "\n",
    "utilisateur = \"postgres\"\n",
    "\n",
    "mot_passe = os.environ.get('pg_psw')\n"
   ]
  },
  {
   "cell_type": "code",
   "execution_count": 85,
   "id": "comic-quantity",
   "metadata": {},
   "outputs": [],
   "source": [
    "# initialisation de ma connection\n",
    "conn = ouvrir_connection(base_de_donnee, utilisateur, mot_passe)"
   ]
  },
  {
   "cell_type": "code",
   "execution_count": 2,
   "id": "dried-proceeding",
   "metadata": {},
   "outputs": [
    {
     "ename": "NameError",
     "evalue": "name 'creer_table' is not defined",
     "output_type": "error",
     "traceback": [
      "\u001b[1;31m---------------------------------------------------------------------------\u001b[0m",
      "\u001b[1;31mNameError\u001b[0m                                 Traceback (most recent call last)",
      "\u001b[1;32m<ipython-input-2-d2376bacd76f>\u001b[0m in \u001b[0;36m<module>\u001b[1;34m\u001b[0m\n\u001b[0;32m      1\u001b[0m \u001b[1;31m# création table origine\u001b[0m\u001b[1;33m\u001b[0m\u001b[1;33m\u001b[0m\u001b[1;33m\u001b[0m\u001b[0m\n\u001b[1;32m----> 2\u001b[1;33m \u001b[0mcreer_table\u001b[0m\u001b[1;33m(\u001b[0m\u001b[0mconn\u001b[0m\u001b[1;33m,\u001b[0m \u001b[0msql_creer_table1\u001b[0m\u001b[1;33m)\u001b[0m\u001b[1;33m\u001b[0m\u001b[1;33m\u001b[0m\u001b[0m\n\u001b[0m",
      "\u001b[1;31mNameError\u001b[0m: name 'creer_table' is not defined"
     ]
    }
   ],
   "source": [
    "# création table origine\n",
    "creer_table(conn, sql_creer_table1)"
   ]
  },
  {
   "cell_type": "code",
   "execution_count": 86,
   "id": "buried-aircraft",
   "metadata": {},
   "outputs": [
    {
     "name": "stdout",
     "output_type": "stream",
     "text": [
      "La table a été supprimée avec succès\n"
     ]
    }
   ],
   "source": [
    "# suppression de la table\n",
    "supprimer_table(conn, sql_supprimer_table, 'origine')"
   ]
  },
  {
   "cell_type": "code",
   "execution_count": null,
   "id": "macro-jimmy",
   "metadata": {},
   "outputs": [],
   "source": [
    "# création table producteur\n",
    "creer_table(conn, sql_creer_table2)"
   ]
  },
  {
   "cell_type": "code",
   "execution_count": null,
   "id": "powerful-ferry",
   "metadata": {},
   "outputs": [],
   "source": [
    "# création table produit\n",
    "creer_table(conn, sql_creer_table3)"
   ]
  },
  {
   "cell_type": "code",
   "execution_count": null,
   "id": "rapid-medium",
   "metadata": {},
   "outputs": [],
   "source": [
    "# création table utilisateur\n",
    "creer_table(conn, sql_creer_table4)"
   ]
  },
  {
   "cell_type": "code",
   "execution_count": null,
   "id": "younger-sacramento",
   "metadata": {},
   "outputs": [],
   "source": [
    "# création table collection\n",
    "creer_table(conn, sql_creer_table5)"
   ]
  },
  {
   "cell_type": "code",
   "execution_count": null,
   "id": "historic-things",
   "metadata": {},
   "outputs": [],
   "source": [
    "# création table compose\n",
    "creer_table(conn, sql_creer_table6)"
   ]
  },
  {
   "cell_type": "code",
   "execution_count": null,
   "id": "several-mumbai",
   "metadata": {},
   "outputs": [],
   "source": [
    "# création table role\n",
    "creer_table(conn, sql_creer_table7)"
   ]
  },
  {
   "cell_type": "code",
   "execution_count": null,
   "id": "fitted-jurisdiction",
   "metadata": {},
   "outputs": [],
   "source": [
    "# création table droit\n",
    "creer_table(conn, sql_creer_table8)"
   ]
  },
  {
   "cell_type": "code",
   "execution_count": null,
   "id": "strategic-temperature",
   "metadata": {},
   "outputs": [],
   "source": [
    "# création table apiebay\n",
    "creer_table(conn, sql_creer_table9)"
   ]
  },
  {
   "cell_type": "markdown",
   "id": "sacred-fence",
   "metadata": {},
   "source": [
    "###### "
   ]
  },
  {
   "cell_type": "markdown",
   "id": "friendly-generation",
   "metadata": {},
   "source": [
    "--------------------------"
   ]
  },
  {
   "cell_type": "markdown",
   "id": "awful-performance",
   "metadata": {},
   "source": [
    "### Nettoyage des données"
   ]
  },
  {
   "cell_type": "markdown",
   "id": "comparable-congo",
   "metadata": {},
   "source": [
    "###### "
   ]
  },
  {
   "cell_type": "markdown",
   "id": "printable-latvia",
   "metadata": {},
   "source": [
    "- nettoyage fichier excel"
   ]
  },
  {
   "cell_type": "code",
   "execution_count": 87,
   "id": "medical-jacksonville",
   "metadata": {},
   "outputs": [
    {
     "data": {
      "text/html": [
       "<div>\n",
       "<style scoped>\n",
       "    .dataframe tbody tr th:only-of-type {\n",
       "        vertical-align: middle;\n",
       "    }\n",
       "\n",
       "    .dataframe tbody tr th {\n",
       "        vertical-align: top;\n",
       "    }\n",
       "\n",
       "    .dataframe thead th {\n",
       "        text-align: right;\n",
       "    }\n",
       "</style>\n",
       "<table border=\"1\" class=\"dataframe\">\n",
       "  <thead>\n",
       "    <tr style=\"text-align: right;\">\n",
       "      <th></th>\n",
       "      <th>nom</th>\n",
       "      <th>volume</th>\n",
       "      <th>degre</th>\n",
       "      <th>producteur</th>\n",
       "    </tr>\n",
       "  </thead>\n",
       "  <tbody>\n",
       "    <tr>\n",
       "      <th>1</th>\n",
       "      <td>C12 70</td>\n",
       "      <td>70.0</td>\n",
       "      <td>50.0</td>\n",
       "      <td>HSE</td>\n",
       "    </tr>\n",
       "    <tr>\n",
       "      <th>2</th>\n",
       "      <td>C16 70</td>\n",
       "      <td>70.0</td>\n",
       "      <td>50.0</td>\n",
       "      <td>HSE</td>\n",
       "    </tr>\n",
       "    <tr>\n",
       "      <th>3</th>\n",
       "      <td>C16 100</td>\n",
       "      <td>100.0</td>\n",
       "      <td>50.0</td>\n",
       "      <td>HSE</td>\n",
       "    </tr>\n",
       "    <tr>\n",
       "      <th>4</th>\n",
       "      <td>PARCELLAIRE 70</td>\n",
       "      <td>70.0</td>\n",
       "      <td>55.0</td>\n",
       "      <td>HSE</td>\n",
       "    </tr>\n",
       "    <tr>\n",
       "      <th>5</th>\n",
       "      <td>PARCELLAIRE 100</td>\n",
       "      <td>100.0</td>\n",
       "      <td>55.0</td>\n",
       "      <td>HSE</td>\n",
       "    </tr>\n",
       "    <tr>\n",
       "      <th>...</th>\n",
       "      <td>...</td>\n",
       "      <td>...</td>\n",
       "      <td>...</td>\n",
       "      <td>...</td>\n",
       "    </tr>\n",
       "    <tr>\n",
       "      <th>93</th>\n",
       "      <td>DOMINUS 10 years-01/2018</td>\n",
       "      <td>70.0</td>\n",
       "      <td>56.0</td>\n",
       "      <td>FOURSQUARE</td>\n",
       "    </tr>\n",
       "    <tr>\n",
       "      <th>95</th>\n",
       "      <td>BOLOGNE BLACK CANE N°19658</td>\n",
       "      <td>70.0</td>\n",
       "      <td>50.0</td>\n",
       "      <td>bologne</td>\n",
       "    </tr>\n",
       "    <tr>\n",
       "      <th>96</th>\n",
       "      <td>BOLOGNE BLACK CANE N°19742</td>\n",
       "      <td>70.0</td>\n",
       "      <td>50.0</td>\n",
       "      <td>bologne</td>\n",
       "    </tr>\n",
       "    <tr>\n",
       "      <th>97</th>\n",
       "      <td>BARBANCOURT VSOP 4 ans</td>\n",
       "      <td>70.0</td>\n",
       "      <td>40.0</td>\n",
       "      <td>barbancourt</td>\n",
       "    </tr>\n",
       "    <tr>\n",
       "      <th>98</th>\n",
       "      <td>MONTEBELLO 8 ANS</td>\n",
       "      <td>70.0</td>\n",
       "      <td>42.0</td>\n",
       "      <td>montebello</td>\n",
       "    </tr>\n",
       "  </tbody>\n",
       "</table>\n",
       "<p>86 rows × 4 columns</p>\n",
       "</div>"
      ],
      "text/plain": [
       "                           nom  volume  degre   producteur\n",
       "1                       C12 70    70.0   50.0          HSE\n",
       "2                       C16 70    70.0   50.0          HSE\n",
       "3                      C16 100   100.0   50.0          HSE\n",
       "4               PARCELLAIRE 70    70.0   55.0          HSE\n",
       "5              PARCELLAIRE 100   100.0   55.0          HSE\n",
       "..                         ...     ...    ...          ...\n",
       "93    DOMINUS 10 years-01/2018    70.0   56.0   FOURSQUARE\n",
       "95  BOLOGNE BLACK CANE N°19658    70.0   50.0      bologne\n",
       "96  BOLOGNE BLACK CANE N°19742    70.0   50.0      bologne\n",
       "97      BARBANCOURT VSOP 4 ans    70.0   40.0  barbancourt\n",
       "98            MONTEBELLO 8 ANS    70.0   42.0   montebello\n",
       "\n",
       "[86 rows x 4 columns]"
      ]
     },
     "execution_count": 87,
     "metadata": {},
     "output_type": "execute_result"
    }
   ],
   "source": [
    "excel_file = 'INVENTAIRE_A.xlsx'\n",
    "inventaire = pd.read_excel(excel_file, skiprows=2)\n",
    "del inventaire['Unnamed: 5']\n",
    "inventaire.columns = ['nom', 'volume', 'degre', 'nombre', 'prix', 'producteur']\n",
    "del inventaire['prix']\n",
    "del inventaire['nombre']\n",
    "index_with_nan = inventaire.index[inventaire.isnull().any(axis=1)]\n",
    "inventaire.drop(index_with_nan,0, inplace=True)\n",
    "inventaire.drop(101,0,inplace=True)\n",
    "inventaire.drop(100,0,inplace=True)\n",
    "inventaire.drop(102,0,inplace=True)\n",
    "inventaire"
   ]
  },
  {
   "cell_type": "code",
   "execution_count": 88,
   "id": "cardiovascular-instrument",
   "metadata": {},
   "outputs": [
    {
     "data": {
      "text/plain": [
       "<bound method DataFrame.info of                            nom  volume  degre   producteur\n",
       "1                       C12 70    70.0   50.0          HSE\n",
       "2                       C16 70    70.0   50.0          HSE\n",
       "3                      C16 100   100.0   50.0          HSE\n",
       "4               PARCELLAIRE 70    70.0   55.0          HSE\n",
       "5              PARCELLAIRE 100   100.0   55.0          HSE\n",
       "..                         ...     ...    ...          ...\n",
       "93    DOMINUS 10 years-01/2018    70.0   56.0   FOURSQUARE\n",
       "95  BOLOGNE BLACK CANE N°19658    70.0   50.0      bologne\n",
       "96  BOLOGNE BLACK CANE N°19742    70.0   50.0      bologne\n",
       "97      BARBANCOURT VSOP 4 ans    70.0   40.0  barbancourt\n",
       "98            MONTEBELLO 8 ANS    70.0   42.0   montebello\n",
       "\n",
       "[86 rows x 4 columns]>"
      ]
     },
     "execution_count": 88,
     "metadata": {},
     "output_type": "execute_result"
    }
   ],
   "source": [
    "inventaire.info"
   ]
  },
  {
   "cell_type": "code",
   "execution_count": 89,
   "id": "compatible-sculpture",
   "metadata": {},
   "outputs": [
    {
     "data": {
      "text/plain": [
       "(86, 4)"
      ]
     },
     "execution_count": 89,
     "metadata": {},
     "output_type": "execute_result"
    }
   ],
   "source": [
    "inventaire.shape"
   ]
  },
  {
   "cell_type": "code",
   "execution_count": 90,
   "id": "monetary-lancaster",
   "metadata": {},
   "outputs": [
    {
     "data": {
      "text/html": [
       "<div>\n",
       "<style scoped>\n",
       "    .dataframe tbody tr th:only-of-type {\n",
       "        vertical-align: middle;\n",
       "    }\n",
       "\n",
       "    .dataframe tbody tr th {\n",
       "        vertical-align: top;\n",
       "    }\n",
       "\n",
       "    .dataframe thead th {\n",
       "        text-align: right;\n",
       "    }\n",
       "</style>\n",
       "<table border=\"1\" class=\"dataframe\">\n",
       "  <thead>\n",
       "    <tr style=\"text-align: right;\">\n",
       "      <th></th>\n",
       "      <th>nom</th>\n",
       "      <th>volume</th>\n",
       "      <th>degre</th>\n",
       "      <th>producteur</th>\n",
       "    </tr>\n",
       "  </thead>\n",
       "  <tbody>\n",
       "    <tr>\n",
       "      <th>1</th>\n",
       "      <td>C12 70</td>\n",
       "      <td>70.0</td>\n",
       "      <td>50.0</td>\n",
       "      <td>HSE</td>\n",
       "    </tr>\n",
       "    <tr>\n",
       "      <th>2</th>\n",
       "      <td>C16 70</td>\n",
       "      <td>70.0</td>\n",
       "      <td>50.0</td>\n",
       "      <td>HSE</td>\n",
       "    </tr>\n",
       "    <tr>\n",
       "      <th>3</th>\n",
       "      <td>C16 100</td>\n",
       "      <td>100.0</td>\n",
       "      <td>50.0</td>\n",
       "      <td>HSE</td>\n",
       "    </tr>\n",
       "    <tr>\n",
       "      <th>4</th>\n",
       "      <td>PARCELLAIRE 70</td>\n",
       "      <td>70.0</td>\n",
       "      <td>55.0</td>\n",
       "      <td>HSE</td>\n",
       "    </tr>\n",
       "    <tr>\n",
       "      <th>5</th>\n",
       "      <td>PARCELLAIRE 100</td>\n",
       "      <td>100.0</td>\n",
       "      <td>55.0</td>\n",
       "      <td>HSE</td>\n",
       "    </tr>\n",
       "    <tr>\n",
       "      <th>6</th>\n",
       "      <td>PARCELLAIRE 150L</td>\n",
       "      <td>150.0</td>\n",
       "      <td>55.0</td>\n",
       "      <td>HSE</td>\n",
       "    </tr>\n",
       "    <tr>\n",
       "      <th>7</th>\n",
       "      <td>RAGTIME ESB</td>\n",
       "      <td>70.0</td>\n",
       "      <td>40.0</td>\n",
       "      <td>HSE</td>\n",
       "    </tr>\n",
       "    <tr>\n",
       "      <th>8</th>\n",
       "      <td>Coffret XO ENO</td>\n",
       "      <td>70.0</td>\n",
       "      <td>43.0</td>\n",
       "      <td>HSE</td>\n",
       "    </tr>\n",
       "    <tr>\n",
       "      <th>9</th>\n",
       "      <td>Small Cask 2007</td>\n",
       "      <td>50.0</td>\n",
       "      <td>46.0</td>\n",
       "      <td>HSE</td>\n",
       "    </tr>\n",
       "    <tr>\n",
       "      <th>10</th>\n",
       "      <td>Small Cask 2007</td>\n",
       "      <td>50.0</td>\n",
       "      <td>46.0</td>\n",
       "      <td>HSE</td>\n",
       "    </tr>\n",
       "    <tr>\n",
       "      <th>11</th>\n",
       "      <td>Small Cask 2007</td>\n",
       "      <td>50.0</td>\n",
       "      <td>46.0</td>\n",
       "      <td>HSE</td>\n",
       "    </tr>\n",
       "    <tr>\n",
       "      <th>12</th>\n",
       "      <td>Highland 2005</td>\n",
       "      <td>50.0</td>\n",
       "      <td>44.0</td>\n",
       "      <td>HSE</td>\n",
       "    </tr>\n",
       "    <tr>\n",
       "      <th>13</th>\n",
       "      <td>Highland 2006</td>\n",
       "      <td>50.0</td>\n",
       "      <td>44.0</td>\n",
       "      <td>HSE</td>\n",
       "    </tr>\n",
       "    <tr>\n",
       "      <th>14</th>\n",
       "      <td>Pedro Ximenez 2007</td>\n",
       "      <td>50.0</td>\n",
       "      <td>46.0</td>\n",
       "      <td>HSE</td>\n",
       "    </tr>\n",
       "    <tr>\n",
       "      <th>15</th>\n",
       "      <td>Fino&amp;Olorosso 2004</td>\n",
       "      <td>50.0</td>\n",
       "      <td>45.0</td>\n",
       "      <td>HSE</td>\n",
       "    </tr>\n",
       "  </tbody>\n",
       "</table>\n",
       "</div>"
      ],
      "text/plain": [
       "                   nom  volume  degre producteur\n",
       "1               C12 70    70.0   50.0        HSE\n",
       "2               C16 70    70.0   50.0        HSE\n",
       "3              C16 100   100.0   50.0        HSE\n",
       "4       PARCELLAIRE 70    70.0   55.0        HSE\n",
       "5      PARCELLAIRE 100   100.0   55.0        HSE\n",
       "6     PARCELLAIRE 150L   150.0   55.0        HSE\n",
       "7          RAGTIME ESB    70.0   40.0        HSE\n",
       "8       Coffret XO ENO    70.0   43.0        HSE\n",
       "9      Small Cask 2007    50.0   46.0        HSE\n",
       "10     Small Cask 2007    50.0   46.0        HSE\n",
       "11     Small Cask 2007    50.0   46.0        HSE\n",
       "12       Highland 2005    50.0   44.0        HSE\n",
       "13       Highland 2006    50.0   44.0        HSE\n",
       "14  Pedro Ximenez 2007    50.0   46.0        HSE\n",
       "15  Fino&Olorosso 2004    50.0   45.0        HSE"
      ]
     },
     "execution_count": 90,
     "metadata": {},
     "output_type": "execute_result"
    }
   ],
   "source": [
    "liste = []\n",
    "nom = inventaire['nom'].tolist()\n",
    "for e in nom:\n",
    "    y = str(e).split('-', 1)\n",
    "    liste.append(y[0])\n",
    "# print(liste)\n",
    "inventaire['nom']= liste\n",
    "inventaire.head(15)"
   ]
  },
  {
   "cell_type": "code",
   "execution_count": 91,
   "id": "monetary-latvia",
   "metadata": {},
   "outputs": [
    {
     "data": {
      "text/html": [
       "<div>\n",
       "<style scoped>\n",
       "    .dataframe tbody tr th:only-of-type {\n",
       "        vertical-align: middle;\n",
       "    }\n",
       "\n",
       "    .dataframe tbody tr th {\n",
       "        vertical-align: top;\n",
       "    }\n",
       "\n",
       "    .dataframe thead th {\n",
       "        text-align: right;\n",
       "    }\n",
       "</style>\n",
       "<table border=\"1\" class=\"dataframe\">\n",
       "  <thead>\n",
       "    <tr style=\"text-align: right;\">\n",
       "      <th></th>\n",
       "      <th>nom</th>\n",
       "      <th>volume</th>\n",
       "      <th>degre</th>\n",
       "      <th>producteur</th>\n",
       "      <th>type</th>\n",
       "      <th>origine</th>\n",
       "    </tr>\n",
       "  </thead>\n",
       "  <tbody>\n",
       "    <tr>\n",
       "      <th>1</th>\n",
       "      <td>C12 70</td>\n",
       "      <td>70.0</td>\n",
       "      <td>50.0</td>\n",
       "      <td>Hse</td>\n",
       "      <td>Vieux</td>\n",
       "      <td>Martinique</td>\n",
       "    </tr>\n",
       "    <tr>\n",
       "      <th>2</th>\n",
       "      <td>C16 70</td>\n",
       "      <td>70.0</td>\n",
       "      <td>50.0</td>\n",
       "      <td>Hse</td>\n",
       "      <td>Vieux</td>\n",
       "      <td>Martinique</td>\n",
       "    </tr>\n",
       "    <tr>\n",
       "      <th>3</th>\n",
       "      <td>C16 100</td>\n",
       "      <td>100.0</td>\n",
       "      <td>50.0</td>\n",
       "      <td>Hse</td>\n",
       "      <td>Vieux</td>\n",
       "      <td>Martinique</td>\n",
       "    </tr>\n",
       "    <tr>\n",
       "      <th>4</th>\n",
       "      <td>PARCELLAIRE 70</td>\n",
       "      <td>70.0</td>\n",
       "      <td>55.0</td>\n",
       "      <td>Hse</td>\n",
       "      <td>Vieux</td>\n",
       "      <td>Martinique</td>\n",
       "    </tr>\n",
       "    <tr>\n",
       "      <th>5</th>\n",
       "      <td>PARCELLAIRE 100</td>\n",
       "      <td>100.0</td>\n",
       "      <td>55.0</td>\n",
       "      <td>Hse</td>\n",
       "      <td>Vieux</td>\n",
       "      <td>Martinique</td>\n",
       "    </tr>\n",
       "    <tr>\n",
       "      <th>...</th>\n",
       "      <td>...</td>\n",
       "      <td>...</td>\n",
       "      <td>...</td>\n",
       "      <td>...</td>\n",
       "      <td>...</td>\n",
       "      <td>...</td>\n",
       "    </tr>\n",
       "    <tr>\n",
       "      <th>93</th>\n",
       "      <td>DOMINUS 10 years</td>\n",
       "      <td>70.0</td>\n",
       "      <td>56.0</td>\n",
       "      <td>Foursquare</td>\n",
       "      <td>Vieux</td>\n",
       "      <td>Martinique</td>\n",
       "    </tr>\n",
       "    <tr>\n",
       "      <th>95</th>\n",
       "      <td>BOLOGNE BLACK CANE N°19658</td>\n",
       "      <td>70.0</td>\n",
       "      <td>50.0</td>\n",
       "      <td>Bologne</td>\n",
       "      <td>Vieux</td>\n",
       "      <td>Martinique</td>\n",
       "    </tr>\n",
       "    <tr>\n",
       "      <th>96</th>\n",
       "      <td>BOLOGNE BLACK CANE N°19742</td>\n",
       "      <td>70.0</td>\n",
       "      <td>50.0</td>\n",
       "      <td>Bologne</td>\n",
       "      <td>Vieux</td>\n",
       "      <td>Martinique</td>\n",
       "    </tr>\n",
       "    <tr>\n",
       "      <th>97</th>\n",
       "      <td>BARBANCOURT VSOP 4 ans</td>\n",
       "      <td>70.0</td>\n",
       "      <td>40.0</td>\n",
       "      <td>Barbancourt</td>\n",
       "      <td>Vieux</td>\n",
       "      <td>Martinique</td>\n",
       "    </tr>\n",
       "    <tr>\n",
       "      <th>98</th>\n",
       "      <td>MONTEBELLO 8 ANS</td>\n",
       "      <td>70.0</td>\n",
       "      <td>42.0</td>\n",
       "      <td>Montebello</td>\n",
       "      <td>Vieux</td>\n",
       "      <td>Martinique</td>\n",
       "    </tr>\n",
       "  </tbody>\n",
       "</table>\n",
       "<p>86 rows × 6 columns</p>\n",
       "</div>"
      ],
      "text/plain": [
       "                           nom  volume  degre   producteur   type     origine\n",
       "1                       C12 70    70.0   50.0          Hse  Vieux  Martinique\n",
       "2                       C16 70    70.0   50.0          Hse  Vieux  Martinique\n",
       "3                      C16 100   100.0   50.0          Hse  Vieux  Martinique\n",
       "4               PARCELLAIRE 70    70.0   55.0          Hse  Vieux  Martinique\n",
       "5              PARCELLAIRE 100   100.0   55.0          Hse  Vieux  Martinique\n",
       "..                         ...     ...    ...          ...    ...         ...\n",
       "93            DOMINUS 10 years    70.0   56.0   Foursquare  Vieux  Martinique\n",
       "95  BOLOGNE BLACK CANE N°19658    70.0   50.0      Bologne  Vieux  Martinique\n",
       "96  BOLOGNE BLACK CANE N°19742    70.0   50.0      Bologne  Vieux  Martinique\n",
       "97      BARBANCOURT VSOP 4 ans    70.0   40.0  Barbancourt  Vieux  Martinique\n",
       "98            MONTEBELLO 8 ANS    70.0   42.0   Montebello  Vieux  Martinique\n",
       "\n",
       "[86 rows x 6 columns]"
      ]
     },
     "execution_count": 91,
     "metadata": {},
     "output_type": "execute_result"
    }
   ],
   "source": [
    "inventaire['producteur'] = inventaire['producteur'].str.capitalize()\n",
    "inventaire['type'] = 'Vieux'\n",
    "inventaire['origine'] = 'Martinique'\n",
    "inventaire"
   ]
  },
  {
   "cell_type": "code",
   "execution_count": 92,
   "id": "professional-shade",
   "metadata": {
    "tags": []
   },
   "outputs": [],
   "source": [
    "inventaire.to_excel(r'INVENTAIRE_B.xlsx', index = False, header=True)"
   ]
  },
  {
   "cell_type": "markdown",
   "id": "future-recruitment",
   "metadata": {},
   "source": [
    "- Optimisation nettoyage fichier excel INVENTAIRE_C: anonymisation des données + ajout type"
   ]
  },
  {
   "cell_type": "code",
   "execution_count": 93,
   "id": "mediterranean-bunch",
   "metadata": {},
   "outputs": [
    {
     "data": {
      "text/html": [
       "<div>\n",
       "<style scoped>\n",
       "    .dataframe tbody tr th:only-of-type {\n",
       "        vertical-align: middle;\n",
       "    }\n",
       "\n",
       "    .dataframe tbody tr th {\n",
       "        vertical-align: top;\n",
       "    }\n",
       "\n",
       "    .dataframe thead th {\n",
       "        text-align: right;\n",
       "    }\n",
       "</style>\n",
       "<table border=\"1\" class=\"dataframe\">\n",
       "  <thead>\n",
       "    <tr style=\"text-align: right;\">\n",
       "      <th></th>\n",
       "      <th>nom</th>\n",
       "      <th>volume</th>\n",
       "      <th>degre</th>\n",
       "      <th>producteur</th>\n",
       "      <th>type</th>\n",
       "      <th>origine</th>\n",
       "    </tr>\n",
       "  </thead>\n",
       "  <tbody>\n",
       "    <tr>\n",
       "      <th>0</th>\n",
       "      <td>C12 70</td>\n",
       "      <td>70</td>\n",
       "      <td>50.0</td>\n",
       "      <td>Hse</td>\n",
       "      <td>Blanc</td>\n",
       "      <td>Martinique</td>\n",
       "    </tr>\n",
       "    <tr>\n",
       "      <th>1</th>\n",
       "      <td>C16 70</td>\n",
       "      <td>70</td>\n",
       "      <td>50.0</td>\n",
       "      <td>Hse</td>\n",
       "      <td>Blanc</td>\n",
       "      <td>Martinique</td>\n",
       "    </tr>\n",
       "    <tr>\n",
       "      <th>2</th>\n",
       "      <td>C16 100</td>\n",
       "      <td>100</td>\n",
       "      <td>50.0</td>\n",
       "      <td>Hse</td>\n",
       "      <td>Blanc</td>\n",
       "      <td>Martinique</td>\n",
       "    </tr>\n",
       "    <tr>\n",
       "      <th>3</th>\n",
       "      <td>PARCELLAIRE 70</td>\n",
       "      <td>70</td>\n",
       "      <td>55.0</td>\n",
       "      <td>Hse</td>\n",
       "      <td>Blanc</td>\n",
       "      <td>Martinique</td>\n",
       "    </tr>\n",
       "    <tr>\n",
       "      <th>4</th>\n",
       "      <td>PARCELLAIRE 100</td>\n",
       "      <td>100</td>\n",
       "      <td>55.0</td>\n",
       "      <td>Hse</td>\n",
       "      <td>Blanc</td>\n",
       "      <td>Martinique</td>\n",
       "    </tr>\n",
       "    <tr>\n",
       "      <th>5</th>\n",
       "      <td>PARCELLAIRE 150L</td>\n",
       "      <td>150</td>\n",
       "      <td>55.0</td>\n",
       "      <td>Hse</td>\n",
       "      <td>Blanc</td>\n",
       "      <td>Martinique</td>\n",
       "    </tr>\n",
       "    <tr>\n",
       "      <th>6</th>\n",
       "      <td>RAGTIME ESB</td>\n",
       "      <td>70</td>\n",
       "      <td>40.0</td>\n",
       "      <td>Hse</td>\n",
       "      <td>Ambre</td>\n",
       "      <td>Martinique</td>\n",
       "    </tr>\n",
       "    <tr>\n",
       "      <th>7</th>\n",
       "      <td>Coffret XO ENO</td>\n",
       "      <td>70</td>\n",
       "      <td>43.0</td>\n",
       "      <td>Hse</td>\n",
       "      <td>Vieux</td>\n",
       "      <td>Martinique</td>\n",
       "    </tr>\n",
       "    <tr>\n",
       "      <th>8</th>\n",
       "      <td>Small Cask 2007</td>\n",
       "      <td>50</td>\n",
       "      <td>46.0</td>\n",
       "      <td>Hse</td>\n",
       "      <td>Vieux</td>\n",
       "      <td>Martinique</td>\n",
       "    </tr>\n",
       "    <tr>\n",
       "      <th>11</th>\n",
       "      <td>Highland 2005</td>\n",
       "      <td>50</td>\n",
       "      <td>44.0</td>\n",
       "      <td>Hse</td>\n",
       "      <td>Vieux</td>\n",
       "      <td>Martinique</td>\n",
       "    </tr>\n",
       "    <tr>\n",
       "      <th>12</th>\n",
       "      <td>Highland 2006</td>\n",
       "      <td>50</td>\n",
       "      <td>44.0</td>\n",
       "      <td>Hse</td>\n",
       "      <td>Vieux</td>\n",
       "      <td>Martinique</td>\n",
       "    </tr>\n",
       "    <tr>\n",
       "      <th>13</th>\n",
       "      <td>Pedro Ximenez 2007</td>\n",
       "      <td>50</td>\n",
       "      <td>46.0</td>\n",
       "      <td>Hse</td>\n",
       "      <td>Vieux</td>\n",
       "      <td>Martinique</td>\n",
       "    </tr>\n",
       "    <tr>\n",
       "      <th>14</th>\n",
       "      <td>Fino&amp;Olorosso 2004</td>\n",
       "      <td>50</td>\n",
       "      <td>45.0</td>\n",
       "      <td>Hse</td>\n",
       "      <td>Vieux</td>\n",
       "      <td>Martinique</td>\n",
       "    </tr>\n",
       "    <tr>\n",
       "      <th>17</th>\n",
       "      <td>Fino&amp;Olorosso 2007</td>\n",
       "      <td>50</td>\n",
       "      <td>45.0</td>\n",
       "      <td>Hse</td>\n",
       "      <td>Vieux</td>\n",
       "      <td>Martinique</td>\n",
       "    </tr>\n",
       "    <tr>\n",
       "      <th>19</th>\n",
       "      <td>Marquis de Terme 2005</td>\n",
       "      <td>50</td>\n",
       "      <td>47.0</td>\n",
       "      <td>Hse</td>\n",
       "      <td>Vieux</td>\n",
       "      <td>Martinique</td>\n",
       "    </tr>\n",
       "    <tr>\n",
       "      <th>20</th>\n",
       "      <td>Marquis de Terme 2006</td>\n",
       "      <td>50</td>\n",
       "      <td>47.0</td>\n",
       "      <td>Hse</td>\n",
       "      <td>Vieux</td>\n",
       "      <td>Martinique</td>\n",
       "    </tr>\n",
       "    <tr>\n",
       "      <th>22</th>\n",
       "      <td>ISLAY 2005</td>\n",
       "      <td>50</td>\n",
       "      <td>44.0</td>\n",
       "      <td>Hse</td>\n",
       "      <td>Vieux</td>\n",
       "      <td>Martinique</td>\n",
       "    </tr>\n",
       "    <tr>\n",
       "      <th>23</th>\n",
       "      <td>ISLAY 2007</td>\n",
       "      <td>50</td>\n",
       "      <td>44.0</td>\n",
       "      <td>Hse</td>\n",
       "      <td>Vieux</td>\n",
       "      <td>Martinique</td>\n",
       "    </tr>\n",
       "    <tr>\n",
       "      <th>25</th>\n",
       "      <td>SAUTERNE 2005</td>\n",
       "      <td>50</td>\n",
       "      <td>41.0</td>\n",
       "      <td>Hse</td>\n",
       "      <td>Vieux</td>\n",
       "      <td>Martinique</td>\n",
       "    </tr>\n",
       "    <tr>\n",
       "      <th>27</th>\n",
       "      <td>2003 single cask</td>\n",
       "      <td>50</td>\n",
       "      <td>47.8</td>\n",
       "      <td>Hse</td>\n",
       "      <td>Vieux</td>\n",
       "      <td>Martinique</td>\n",
       "    </tr>\n",
       "    <tr>\n",
       "      <th>31</th>\n",
       "      <td>A la Francaise</td>\n",
       "      <td>150</td>\n",
       "      <td>47.0</td>\n",
       "      <td>Hse</td>\n",
       "      <td>Vieux</td>\n",
       "      <td>Martinique</td>\n",
       "    </tr>\n",
       "    <tr>\n",
       "      <th>32</th>\n",
       "      <td>BDF FR 2007</td>\n",
       "      <td>70</td>\n",
       "      <td>50.8</td>\n",
       "      <td>Hse</td>\n",
       "      <td>Vieux</td>\n",
       "      <td>Martinique</td>\n",
       "    </tr>\n",
       "    <tr>\n",
       "      <th>33</th>\n",
       "      <td>BDF US 2007</td>\n",
       "      <td>70</td>\n",
       "      <td>51.2</td>\n",
       "      <td>Hse</td>\n",
       "      <td>Vieux</td>\n",
       "      <td>Martinique</td>\n",
       "    </tr>\n",
       "    <tr>\n",
       "      <th>34</th>\n",
       "      <td>SKOURAS 2007</td>\n",
       "      <td>150</td>\n",
       "      <td>51.2</td>\n",
       "      <td>Hse</td>\n",
       "      <td>Vieux</td>\n",
       "      <td>Martinique</td>\n",
       "    </tr>\n",
       "    <tr>\n",
       "      <th>36</th>\n",
       "      <td>MATTA dédicacé</td>\n",
       "      <td>70</td>\n",
       "      <td>40.0</td>\n",
       "      <td>Hse</td>\n",
       "      <td>Ambre</td>\n",
       "      <td>Martinique</td>\n",
       "    </tr>\n",
       "    <tr>\n",
       "      <th>37</th>\n",
       "      <td>ESB ancien packaging</td>\n",
       "      <td>70</td>\n",
       "      <td>42.0</td>\n",
       "      <td>Hse</td>\n",
       "      <td>Ambre</td>\n",
       "      <td>Martinique</td>\n",
       "    </tr>\n",
       "    <tr>\n",
       "      <th>38</th>\n",
       "      <td>Millesime 2003</td>\n",
       "      <td>70</td>\n",
       "      <td>44.8</td>\n",
       "      <td>Rhum JM</td>\n",
       "      <td>Vieux</td>\n",
       "      <td>Martinique</td>\n",
       "    </tr>\n",
       "    <tr>\n",
       "      <th>39</th>\n",
       "      <td>Millesime 2004</td>\n",
       "      <td>70</td>\n",
       "      <td>44.3</td>\n",
       "      <td>Rhum JM</td>\n",
       "      <td>Vieux</td>\n",
       "      <td>Martinique</td>\n",
       "    </tr>\n",
       "    <tr>\n",
       "      <th>40</th>\n",
       "      <td>Millesime 2005</td>\n",
       "      <td>70</td>\n",
       "      <td>43.6</td>\n",
       "      <td>Rhum JM</td>\n",
       "      <td>Vieux</td>\n",
       "      <td>Martinique</td>\n",
       "    </tr>\n",
       "    <tr>\n",
       "      <th>41</th>\n",
       "      <td>XO</td>\n",
       "      <td>70</td>\n",
       "      <td>45.0</td>\n",
       "      <td>Rhum JM</td>\n",
       "      <td>Vieux</td>\n",
       "      <td>Martinique</td>\n",
       "    </tr>\n",
       "    <tr>\n",
       "      <th>42</th>\n",
       "      <td>VSOP</td>\n",
       "      <td>70</td>\n",
       "      <td>43.0</td>\n",
       "      <td>Rhum JM</td>\n",
       "      <td>Vieux</td>\n",
       "      <td>Martinique</td>\n",
       "    </tr>\n",
       "    <tr>\n",
       "      <th>43</th>\n",
       "      <td>SCHRUB</td>\n",
       "      <td>70</td>\n",
       "      <td>35.0</td>\n",
       "      <td>Rhum JM</td>\n",
       "      <td>Vieux</td>\n",
       "      <td>Martinique</td>\n",
       "    </tr>\n",
       "    <tr>\n",
       "      <th>44</th>\n",
       "      <td>XO 1845</td>\n",
       "      <td>70</td>\n",
       "      <td>42.0</td>\n",
       "      <td>Rhum JM</td>\n",
       "      <td>Vieux</td>\n",
       "      <td>Martinique</td>\n",
       "    </tr>\n",
       "    <tr>\n",
       "      <th>45</th>\n",
       "      <td>Finish Calvados série n°2 2006</td>\n",
       "      <td>50</td>\n",
       "      <td>41.4</td>\n",
       "      <td>Rhum JM</td>\n",
       "      <td>Vieux</td>\n",
       "      <td>Martinique</td>\n",
       "    </tr>\n",
       "    <tr>\n",
       "      <th>46</th>\n",
       "      <td>BEL AIR 2016</td>\n",
       "      <td>70</td>\n",
       "      <td>53.0</td>\n",
       "      <td>La favorite</td>\n",
       "      <td>Vieux</td>\n",
       "      <td>Martinique</td>\n",
       "    </tr>\n",
       "    <tr>\n",
       "      <th>47</th>\n",
       "      <td>BEL AIR 2017</td>\n",
       "      <td>70</td>\n",
       "      <td>53.0</td>\n",
       "      <td>La favorite</td>\n",
       "      <td>Vieux</td>\n",
       "      <td>Martinique</td>\n",
       "    </tr>\n",
       "    <tr>\n",
       "      <th>48</th>\n",
       "      <td>BEL AIR 2018</td>\n",
       "      <td>70</td>\n",
       "      <td>53.0</td>\n",
       "      <td>La favorite</td>\n",
       "      <td>Vieux</td>\n",
       "      <td>Martinique</td>\n",
       "    </tr>\n",
       "    <tr>\n",
       "      <th>49</th>\n",
       "      <td>LA CREOLE</td>\n",
       "      <td>70</td>\n",
       "      <td>56.0</td>\n",
       "      <td>La favorite</td>\n",
       "      <td>Blanc</td>\n",
       "      <td>Martinique</td>\n",
       "    </tr>\n",
       "    <tr>\n",
       "      <th>50</th>\n",
       "      <td>2008 fût n°13</td>\n",
       "      <td>70</td>\n",
       "      <td>44.9</td>\n",
       "      <td>La favorite</td>\n",
       "      <td>Vieux</td>\n",
       "      <td>Martinique</td>\n",
       "    </tr>\n",
       "    <tr>\n",
       "      <th>52</th>\n",
       "      <td>2009 fût cognac</td>\n",
       "      <td>70</td>\n",
       "      <td>48.0</td>\n",
       "      <td>La favorite</td>\n",
       "      <td>Vieux</td>\n",
       "      <td>Martinique</td>\n",
       "    </tr>\n",
       "    <tr>\n",
       "      <th>53</th>\n",
       "      <td>Millesime 2010</td>\n",
       "      <td>70</td>\n",
       "      <td>52.8</td>\n",
       "      <td>La favorite</td>\n",
       "      <td>Vieux</td>\n",
       "      <td>Martinique</td>\n",
       "    </tr>\n",
       "    <tr>\n",
       "      <th>54</th>\n",
       "      <td>coffret dégustation</td>\n",
       "      <td>15</td>\n",
       "      <td>43.0</td>\n",
       "      <td>La favorite</td>\n",
       "      <td>Vieux</td>\n",
       "      <td>Martinique</td>\n",
       "    </tr>\n",
       "    <tr>\n",
       "      <th>55</th>\n",
       "      <td>XO PRESTIGE coffret bois</td>\n",
       "      <td>70</td>\n",
       "      <td>45.0</td>\n",
       "      <td>Depaz</td>\n",
       "      <td>Vieux</td>\n",
       "      <td>Martinique</td>\n",
       "    </tr>\n",
       "    <tr>\n",
       "      <th>56</th>\n",
       "      <td>2002 hors d'age</td>\n",
       "      <td>70</td>\n",
       "      <td>45.0</td>\n",
       "      <td>Depaz</td>\n",
       "      <td>Vieux</td>\n",
       "      <td>Martinique</td>\n",
       "    </tr>\n",
       "    <tr>\n",
       "      <th>57</th>\n",
       "      <td>2003 single cask fût français n°1005</td>\n",
       "      <td>70</td>\n",
       "      <td>45.0</td>\n",
       "      <td>Depaz</td>\n",
       "      <td>Vieux</td>\n",
       "      <td>Martinique</td>\n",
       "    </tr>\n",
       "  </tbody>\n",
       "</table>\n",
       "</div>"
      ],
      "text/plain": [
       "                                     nom  volume  degre   producteur   type  \\\n",
       "0                                 C12 70      70   50.0          Hse  Blanc   \n",
       "1                                 C16 70      70   50.0          Hse  Blanc   \n",
       "2                                C16 100     100   50.0          Hse  Blanc   \n",
       "3                         PARCELLAIRE 70      70   55.0          Hse  Blanc   \n",
       "4                        PARCELLAIRE 100     100   55.0          Hse  Blanc   \n",
       "5                       PARCELLAIRE 150L     150   55.0          Hse  Blanc   \n",
       "6                            RAGTIME ESB      70   40.0          Hse  Ambre   \n",
       "7                         Coffret XO ENO      70   43.0          Hse  Vieux   \n",
       "8                        Small Cask 2007      50   46.0          Hse  Vieux   \n",
       "11                         Highland 2005      50   44.0          Hse  Vieux   \n",
       "12                         Highland 2006      50   44.0          Hse  Vieux   \n",
       "13                    Pedro Ximenez 2007      50   46.0          Hse  Vieux   \n",
       "14                    Fino&Olorosso 2004      50   45.0          Hse  Vieux   \n",
       "17                    Fino&Olorosso 2007      50   45.0          Hse  Vieux   \n",
       "19                 Marquis de Terme 2005      50   47.0          Hse  Vieux   \n",
       "20                 Marquis de Terme 2006      50   47.0          Hse  Vieux   \n",
       "22                            ISLAY 2005      50   44.0          Hse  Vieux   \n",
       "23                            ISLAY 2007      50   44.0          Hse  Vieux   \n",
       "25                         SAUTERNE 2005      50   41.0          Hse  Vieux   \n",
       "27                     2003 single cask       50   47.8          Hse  Vieux   \n",
       "31                        A la Francaise     150   47.0          Hse  Vieux   \n",
       "32                           BDF FR 2007      70   50.8          Hse  Vieux   \n",
       "33                           BDF US 2007      70   51.2          Hse  Vieux   \n",
       "34                          SKOURAS 2007     150   51.2          Hse  Vieux   \n",
       "36                        MATTA dédicacé      70   40.0          Hse  Ambre   \n",
       "37                  ESB ancien packaging      70   42.0          Hse  Ambre   \n",
       "38                        Millesime 2003      70   44.8      Rhum JM  Vieux   \n",
       "39                        Millesime 2004      70   44.3      Rhum JM  Vieux   \n",
       "40                        Millesime 2005      70   43.6      Rhum JM  Vieux   \n",
       "41                                    XO      70   45.0      Rhum JM  Vieux   \n",
       "42                                  VSOP      70   43.0      Rhum JM  Vieux   \n",
       "43                                SCHRUB      70   35.0      Rhum JM  Vieux   \n",
       "44                               XO 1845      70   42.0      Rhum JM  Vieux   \n",
       "45        Finish Calvados série n°2 2006      50   41.4      Rhum JM  Vieux   \n",
       "46                          BEL AIR 2016      70   53.0  La favorite  Vieux   \n",
       "47                          BEL AIR 2017      70   53.0  La favorite  Vieux   \n",
       "48                          BEL AIR 2018      70   53.0  La favorite  Vieux   \n",
       "49                             LA CREOLE      70   56.0  La favorite  Blanc   \n",
       "50                         2008 fût n°13      70   44.9  La favorite  Vieux   \n",
       "52                       2009 fût cognac      70   48.0  La favorite  Vieux   \n",
       "53                        Millesime 2010      70   52.8  La favorite  Vieux   \n",
       "54                   coffret dégustation      15   43.0  La favorite  Vieux   \n",
       "55              XO PRESTIGE coffret bois      70   45.0        Depaz  Vieux   \n",
       "56                       2002 hors d'age      70   45.0        Depaz  Vieux   \n",
       "57  2003 single cask fût français n°1005      70   45.0        Depaz  Vieux   \n",
       "\n",
       "       origine  \n",
       "0   Martinique  \n",
       "1   Martinique  \n",
       "2   Martinique  \n",
       "3   Martinique  \n",
       "4   Martinique  \n",
       "5   Martinique  \n",
       "6   Martinique  \n",
       "7   Martinique  \n",
       "8   Martinique  \n",
       "11  Martinique  \n",
       "12  Martinique  \n",
       "13  Martinique  \n",
       "14  Martinique  \n",
       "17  Martinique  \n",
       "19  Martinique  \n",
       "20  Martinique  \n",
       "22  Martinique  \n",
       "23  Martinique  \n",
       "25  Martinique  \n",
       "27  Martinique  \n",
       "31  Martinique  \n",
       "32  Martinique  \n",
       "33  Martinique  \n",
       "34  Martinique  \n",
       "36  Martinique  \n",
       "37  Martinique  \n",
       "38  Martinique  \n",
       "39  Martinique  \n",
       "40  Martinique  \n",
       "41  Martinique  \n",
       "42  Martinique  \n",
       "43  Martinique  \n",
       "44  Martinique  \n",
       "45  Martinique  \n",
       "46  Martinique  \n",
       "47  Martinique  \n",
       "48  Martinique  \n",
       "49  Martinique  \n",
       "50  Martinique  \n",
       "52  Martinique  \n",
       "53  Martinique  \n",
       "54  Martinique  \n",
       "55  Martinique  \n",
       "56  Martinique  \n",
       "57  Martinique  "
      ]
     },
     "execution_count": 93,
     "metadata": {},
     "output_type": "execute_result"
    }
   ],
   "source": [
    "inventaire = pd.read_excel('INVENTAIRE_C.xlsx')\n",
    "inventaire = inventaire.drop_duplicates()\n",
    "inventaire = inventaire.replace(to_replace='Jm', value='Rhum JM')\n",
    "inventaire.columns = ['nom', 'volume', 'degre', 'nombre', 'producteur', 'type', 'origine']\n",
    "del inventaire['nombre']\n",
    "inventaire.head(45)"
   ]
  },
  {
   "cell_type": "code",
   "execution_count": 94,
   "id": "latest-annotation",
   "metadata": {},
   "outputs": [
    {
     "data": {
      "text/html": [
       "<div>\n",
       "<style scoped>\n",
       "    .dataframe tbody tr th:only-of-type {\n",
       "        vertical-align: middle;\n",
       "    }\n",
       "\n",
       "    .dataframe tbody tr th {\n",
       "        vertical-align: top;\n",
       "    }\n",
       "\n",
       "    .dataframe thead th {\n",
       "        text-align: right;\n",
       "    }\n",
       "</style>\n",
       "<table border=\"1\" class=\"dataframe\">\n",
       "  <thead>\n",
       "    <tr style=\"text-align: right;\">\n",
       "      <th></th>\n",
       "      <th>degre</th>\n",
       "    </tr>\n",
       "  </thead>\n",
       "  <tbody>\n",
       "    <tr>\n",
       "      <th>0</th>\n",
       "      <td>50.0</td>\n",
       "    </tr>\n",
       "    <tr>\n",
       "      <th>1</th>\n",
       "      <td>50.0</td>\n",
       "    </tr>\n",
       "    <tr>\n",
       "      <th>2</th>\n",
       "      <td>50.0</td>\n",
       "    </tr>\n",
       "    <tr>\n",
       "      <th>3</th>\n",
       "      <td>55.0</td>\n",
       "    </tr>\n",
       "    <tr>\n",
       "      <th>4</th>\n",
       "      <td>55.0</td>\n",
       "    </tr>\n",
       "    <tr>\n",
       "      <th>...</th>\n",
       "      <td>...</td>\n",
       "    </tr>\n",
       "    <tr>\n",
       "      <th>80</th>\n",
       "      <td>59.0</td>\n",
       "    </tr>\n",
       "    <tr>\n",
       "      <th>81</th>\n",
       "      <td>56.0</td>\n",
       "    </tr>\n",
       "    <tr>\n",
       "      <th>82</th>\n",
       "      <td>50.0</td>\n",
       "    </tr>\n",
       "    <tr>\n",
       "      <th>84</th>\n",
       "      <td>40.0</td>\n",
       "    </tr>\n",
       "    <tr>\n",
       "      <th>85</th>\n",
       "      <td>42.0</td>\n",
       "    </tr>\n",
       "  </tbody>\n",
       "</table>\n",
       "<p>72 rows × 1 columns</p>\n",
       "</div>"
      ],
      "text/plain": [
       "    degre\n",
       "0    50.0\n",
       "1    50.0\n",
       "2    50.0\n",
       "3    55.0\n",
       "4    55.0\n",
       "..    ...\n",
       "80   59.0\n",
       "81   56.0\n",
       "82   50.0\n",
       "84   40.0\n",
       "85   42.0\n",
       "\n",
       "[72 rows x 1 columns]"
      ]
     },
     "execution_count": 94,
     "metadata": {},
     "output_type": "execute_result"
    }
   ],
   "source": [
    "inventaire[['volume']].astype(int)\n",
    "inventaire[['degre']].astype(float)"
   ]
  },
  {
   "cell_type": "code",
   "execution_count": 95,
   "id": "distinct-maintenance",
   "metadata": {},
   "outputs": [],
   "source": [
    "inventaire.to_excel(r'INVENTAIRE_z.xlsx', index = False, header=True)"
   ]
  },
  {
   "cell_type": "code",
   "execution_count": 96,
   "id": "convertible-demonstration",
   "metadata": {
    "tags": []
   },
   "outputs": [],
   "source": [
    "inventaire.to_excel(r'INVENTAIRE_FINAL.xlsx', index = False, header=True)"
   ]
  },
  {
   "cell_type": "markdown",
   "id": "early-morgan",
   "metadata": {},
   "source": [
    "###### "
   ]
  },
  {
   "cell_type": "markdown",
   "id": "signed-alexander",
   "metadata": {},
   "source": [
    "- nettoyage fichier rhum_data.csv"
   ]
  },
  {
   "cell_type": "code",
   "execution_count": 97,
   "id": "dynamic-prague",
   "metadata": {},
   "outputs": [
    {
     "data": {
      "text/html": [
       "<div>\n",
       "<style scoped>\n",
       "    .dataframe tbody tr th:only-of-type {\n",
       "        vertical-align: middle;\n",
       "    }\n",
       "\n",
       "    .dataframe tbody tr th {\n",
       "        vertical-align: top;\n",
       "    }\n",
       "\n",
       "    .dataframe thead th {\n",
       "        text-align: right;\n",
       "    }\n",
       "</style>\n",
       "<table border=\"1\" class=\"dataframe\">\n",
       "  <thead>\n",
       "    <tr style=\"text-align: right;\">\n",
       "      <th></th>\n",
       "      <th>name</th>\n",
       "      <th>company</th>\n",
       "      <th>country</th>\n",
       "      <th>price</th>\n",
       "      <th>ratings</th>\n",
       "      <th>score</th>\n",
       "      <th>type</th>\n",
       "      <th>rum_url</th>\n",
       "      <th>img_url</th>\n",
       "      <th>br_score</th>\n",
       "    </tr>\n",
       "  </thead>\n",
       "  <tbody>\n",
       "    <tr>\n",
       "      <th>0</th>\n",
       "      <td>10000 Drops Silver</td>\n",
       "      <td>Unknown</td>\n",
       "      <td>United States</td>\n",
       "      <td>0</td>\n",
       "      <td>0</td>\n",
       "      <td>0.0</td>\n",
       "      <td>Light</td>\n",
       "      <td>/brands/10972-10000-drops-silver</td>\n",
       "      <td>https://d1jtwiy8m5zi8a.cloudfront.net/assets/d...</td>\n",
       "      <td>4.775363</td>\n",
       "    </tr>\n",
       "    <tr>\n",
       "      <th>1</th>\n",
       "      <td>10000 Drops Spiced</td>\n",
       "      <td>Unknown</td>\n",
       "      <td>United States</td>\n",
       "      <td>0</td>\n",
       "      <td>1</td>\n",
       "      <td>4.0</td>\n",
       "      <td>Spiced</td>\n",
       "      <td>/brands/7354-10000-drops-spiced</td>\n",
       "      <td>https://d19vk5i0q1xlsm.cloudfront.net/uploads/...</td>\n",
       "      <td>4.711955</td>\n",
       "    </tr>\n",
       "  </tbody>\n",
       "</table>\n",
       "</div>"
      ],
      "text/plain": [
       "                 name  company        country  price  ratings  score    type  \\\n",
       "0  10000 Drops Silver  Unknown  United States      0        0    0.0   Light   \n",
       "1  10000 Drops Spiced  Unknown  United States      0        1    4.0  Spiced   \n",
       "\n",
       "                            rum_url  \\\n",
       "0  /brands/10972-10000-drops-silver   \n",
       "1   /brands/7354-10000-drops-spiced   \n",
       "\n",
       "                                             img_url  br_score  \n",
       "0  https://d1jtwiy8m5zi8a.cloudfront.net/assets/d...  4.775363  \n",
       "1  https://d19vk5i0q1xlsm.cloudfront.net/uploads/...  4.711955  "
      ]
     },
     "execution_count": 97,
     "metadata": {},
     "output_type": "execute_result"
    }
   ],
   "source": [
    "csv_file = 'rum_data_brut.csv'\n",
    "rum_data = pd.read_csv(csv_file)\n",
    "\n",
    "rum_data.head(2)"
   ]
  },
  {
   "cell_type": "code",
   "execution_count": 98,
   "id": "bridal-funds",
   "metadata": {},
   "outputs": [],
   "source": [
    "# inventaire des sociétés inconnus\n",
    "liste_unknown = rum_data['company'] == 'Unknown'"
   ]
  },
  {
   "cell_type": "code",
   "execution_count": 101,
   "id": "communist-instrumentation",
   "metadata": {},
   "outputs": [
    {
     "name": "stdout",
     "output_type": "stream",
     "text": [
      "                        name  company        country  price  ratings  score  \\\n",
      "0         10000 Drops Silver  Unknown  United States      0        0    0.0   \n",
      "1         10000 Drops Spiced  Unknown  United States      0        1    4.0   \n",
      "2            1000 Hills Gold  Unknown         Rwanda      0        1    4.0   \n",
      "3  100 Fuegos Buckeye 2-Year  Unknown        Ecuador      0        0    0.0   \n",
      "4          100 Fuegos 8-Year  Unknown        Ecuador      0        0    0.0   \n",
      "\n",
      "     type                                 rum_url  \\\n",
      "0   Light        /brands/10972-10000-drops-silver   \n",
      "1  Spiced         /brands/7354-10000-drops-spiced   \n",
      "2   Light            /brands/5285-1000-hills-gold   \n",
      "3    Gold  /brands/9037-100-fuegos-buckeye-2-year   \n",
      "4    Aged          /brands/1834-100-fuegos-8-year   \n",
      "\n",
      "                                             img_url  br_score  \n",
      "0  https://d1jtwiy8m5zi8a.cloudfront.net/assets/d...  4.775363  \n",
      "1  https://d19vk5i0q1xlsm.cloudfront.net/uploads/...  4.711955  \n",
      "2  https://d19vk5i0q1xlsm.cloudfront.net/uploads/...  4.711955  \n",
      "3  https://d1jtwiy8m5zi8a.cloudfront.net/assets/d...  4.775363  \n",
      "4  https://d1jtwiy8m5zi8a.cloudfront.net/assets/d...  4.775363  \n"
     ]
    }
   ],
   "source": [
    "# création de la dataframe pour voir le nombre d'inconnu\n",
    "filtre_df = rum_data[liste_unknown]\n",
    "print(filtre_df.head(5))"
   ]
  },
  {
   "cell_type": "code",
   "execution_count": 102,
   "id": "economic-volunteer",
   "metadata": {},
   "outputs": [
    {
     "data": {
      "text/plain": [
       "(2431, 10)"
      ]
     },
     "execution_count": 102,
     "metadata": {},
     "output_type": "execute_result"
    }
   ],
   "source": [
    "filtre_df.shape"
   ]
  },
  {
   "cell_type": "code",
   "execution_count": 103,
   "id": "urban-emperor",
   "metadata": {},
   "outputs": [],
   "source": [
    "# for x in liste_rhum.itertuples():\n",
    "#     print(x.company) # Imprime la valeur courante de la colonne A de df\n",
    "    "
   ]
  },
  {
   "cell_type": "code",
   "execution_count": null,
   "id": "chinese-roman",
   "metadata": {},
   "outputs": [],
   "source": [
    "# on change les valeurs inconnus par le nom de la bouteille (choix)\n",
    "rum_data.loc[rum_data['company'] == 'Unknown', 'company'] = rum_data['name']"
   ]
  },
  {
   "cell_type": "code",
   "execution_count": null,
   "id": "accompanied-universal",
   "metadata": {},
   "outputs": [],
   "source": [
    "# enregistrement des changements dans un nouveau csv\n",
    "rum_data.to_csv('rum_data_new2.csv', index = False, header=True)"
   ]
  },
  {
   "cell_type": "markdown",
   "id": "alpha-latino",
   "metadata": {},
   "source": [
    "- remplacement des caractères spéciaux"
   ]
  },
  {
   "cell_type": "code",
   "execution_count": null,
   "id": "dangerous-honduras",
   "metadata": {},
   "outputs": [],
   "source": [
    "csv_file = 'rum_data_new2.csv'\n",
    "rum_data = pd.read_csv(csv_file)\n",
    "\n",
    "rum_data.head(2)"
   ]
  },
  {
   "cell_type": "code",
   "execution_count": null,
   "id": "subject-retro",
   "metadata": {},
   "outputs": [],
   "source": [
    "rum_data.drop(columns=['price', 'ratings', 'score', 'rum_url', 'br_score', 'img_url'], inplace=True)\n",
    "rum_data.columns= ['nom', 'producteur', 'origine', 'type']\n",
    "\n",
    "rum_data.head(2)"
   ]
  },
  {
   "cell_type": "code",
   "execution_count": null,
   "id": "embedded-hindu",
   "metadata": {
    "tags": []
   },
   "outputs": [],
   "source": [
    "# df.replace([old_value], new_value)\n",
    "# création liste caractère spéciaux et leurs valeurs de remplacement\n",
    "\n",
    "liste_car = ['Ã¡', 'Ã»', 'Ã¢', 'Ã©', 'â€™', 'Â°', 'Ã¨', 'Ã³', 'Ã±', '\\'', 'Ã£', 'Ã§','Ã³', 'Ã¼', 'Â´', \n",
    "             'Å“', 'Ã‰', 'Ã¶', 'Ã‘', 'Ã¤', '%', 'Ã£oâ€�', 'Ã‰', 'Ã¸']\n",
    "liste_remp = ['a', 'u', 'a', 'e', '', '°', 'e', 'o', 'n', ' ', 'a', 'c', 'o', 'u', ' ', 'oe', 'E', 'o', 'N', 'a', '°', 'ao', 'E', 'o']  \n",
    "# création du dictionnaire avec une compréhension de dictionnaire\n",
    "dico = {k: v for k, v in zip(liste_car, liste_remp)}"
   ]
  },
  {
   "cell_type": "code",
   "execution_count": null,
   "id": "rough-closer",
   "metadata": {},
   "outputs": [],
   "source": [
    "# repmlacement des caractères spéciaux dans tout la dataframe\n",
    "rum_data.replace(liste_car, liste_remp, regex=True,inplace=True)\n",
    "rum_data.head(93)"
   ]
  },
  {
   "cell_type": "code",
   "execution_count": null,
   "id": "latest-collar",
   "metadata": {},
   "outputs": [],
   "source": [
    "# il faut que regex=True \n",
    "# remplacement des valeurs dans la colone name\n",
    "# rum_data.replace({'name': dico}, regex=True,inplace=True)"
   ]
  },
  {
   "cell_type": "code",
   "execution_count": null,
   "id": "atomic-introduction",
   "metadata": {},
   "outputs": [],
   "source": [
    "# remplacement des valeurs dans la colone company\n",
    "# rum_data.replace({'company': dico}, regex=True,inplace=True)"
   ]
  },
  {
   "cell_type": "code",
   "execution_count": null,
   "id": "positive-mobility",
   "metadata": {},
   "outputs": [],
   "source": [
    "# # remplacement des valeurs dans la colone country\n",
    "# rum_data.replace({'country': dico}, regex=True,inplace=True)"
   ]
  },
  {
   "cell_type": "code",
   "execution_count": null,
   "id": "blessed-contrast",
   "metadata": {},
   "outputs": [],
   "source": [
    "dico_type = {}\n",
    "liste_type = ['Aged','Gold', 'Light', 'Flavored', 'Dark', 'USA' ]\n",
    "liste_new_type= ['Vieux', 'Ambre', 'Blanc', 'Spiced', 'Vieux', 'United States']\n",
    "dico_type = {k: v for k, v in zip(liste_type, liste_new_type)}"
   ]
  },
  {
   "cell_type": "code",
   "execution_count": null,
   "id": "editorial-spanking",
   "metadata": {
    "tags": []
   },
   "outputs": [],
   "source": [
    "# remplacement des valeurs dans la colone country\n",
    "rum_data.replace({'type': dico_type}, regex=True,inplace=True)\n",
    "rum_data['origine'].replace('USA', 'United States')"
   ]
  },
  {
   "cell_type": "code",
   "execution_count": null,
   "id": "ancient-laugh",
   "metadata": {
    "tags": []
   },
   "outputs": [],
   "source": [
    "# enregistrement des changements dans un nouveau csv\n",
    "rum_data.to_csv('rum_data_final.csv', index = False, header=True)"
   ]
  },
  {
   "cell_type": "markdown",
   "id": "gothic-bumper",
   "metadata": {},
   "source": [
    "###### "
   ]
  },
  {
   "cell_type": "markdown",
   "id": "baking-commercial",
   "metadata": {},
   "source": [
    "- nettoyage fichier json"
   ]
  },
  {
   "cell_type": "code",
   "execution_count": null,
   "id": "entertaining-aruba",
   "metadata": {},
   "outputs": [],
   "source": [
    "from collections import defaultdict\n",
    "import pandas as pd\n",
    "import re\n",
    "import json\n",
    "\n",
    "origines = []\n",
    "degres = []\n",
    "volumes = []\n",
    "noms = []\n",
    "producteurs = []\n",
    "marques = []\n",
    "liste_json = []\n",
    "\n",
    "with open('test.json', 'r') as f:\n",
    "    data = json.load(f)\n",
    "\n",
    "for rum in data:\n",
    "    for k, v in rum.items():\n",
    "        v = v.replace(' cl', 'cl')\n",
    "        liste_json.append(v)\n",
    "        \n",
    "for element in liste_json:\n",
    "    \n",
    "    # Origines\n",
    "    pays = element.split()[-1]\n",
    "    origines.append(pays)\n",
    "    if pays:\n",
    "        element = element.replace(pays, \"\")\n",
    "        \n",
    "    # Producteurs  \n",
    "    marque_pattern = re.compile(r\"[a-zA-Zèé]+[&? [a-zA-Zèé0-9']+ Rhum|[a-zA-Zèé']+[ ]? Rhum|[a-zA-Zèé']+ [Liqueur|Punch|Coffret]+\")\n",
    "    marque = marque_pattern.findall(element)\n",
    "#     marque = marque.replace(\"Rhum\", \"\")\n",
    "    if marque:\n",
    "        marques.append(marque[0])\n",
    "    else:\n",
    "        marques.append(\"XXXXXXXX\")\n",
    "\n",
    "    # Degres    \n",
    "    degre_pattern = re.compile(r'\\d\\d°|\\d\\d,\\d\\d?°|\\d\\d\\.\\d\\d?°')\n",
    "    degre = degre_pattern.findall(element)\n",
    "    if degre:\n",
    "        element = element.replace(degre[0], \"\")\n",
    "        degres.append(degre[0])\n",
    "    else:\n",
    "        degres.append(\"\")\n",
    "        \n",
    "    # Volumes\n",
    "    volume_pattern = re.compile(r'\\d?\\dcl|\\dL')\n",
    "    volume = volume_pattern.findall(element)\n",
    "    if volume:\n",
    "        element = element.replace(volume[0], \"\")\n",
    "        volumes.append(volume[0])\n",
    "    else:\n",
    "        volumes.append('')\n",
    "        \n",
    "    # Noms rhums    \n",
    "    noms.append(element) \n",
    "\n",
    "# nettoyage Producteurs   \n",
    "for producteur in marques:\n",
    "    producteur = re.sub('Rhum|Liqueur|Punch|Coffret', '', producteur)\n",
    "    producteurs.append(producteur)\n",
    "    \n"
   ]
  },
  {
   "cell_type": "code",
   "execution_count": null,
   "id": "broad-share",
   "metadata": {},
   "outputs": [],
   "source": [
    "import pandas as pd\n",
    "\n",
    "df1 = pd.DataFrame()\n",
    "df1['nom'] = noms\n",
    "df1['producteur'] = producteurs\n",
    "df1['origine'] = origines\n",
    "df1['volume'] = volumes\n",
    "df1['degre'] = degres\n",
    "df1.shape"
   ]
  },
  {
   "cell_type": "code",
   "execution_count": null,
   "id": "supported-essence",
   "metadata": {
    "tags": []
   },
   "outputs": [],
   "source": [
    "df1.to_csv('test_json_1.csv', index = False, header=True)"
   ]
  },
  {
   "cell_type": "code",
   "execution_count": null,
   "id": "occasional-passing",
   "metadata": {},
   "outputs": [],
   "source": [
    "df1 = pd.read_csv('test_json_1.csv')"
   ]
  },
  {
   "cell_type": "code",
   "execution_count": null,
   "id": "conditional-marker",
   "metadata": {},
   "outputs": [],
   "source": [
    "df1['producteur'] = df1['producteur'].replace(['Maison L', 'Maison La Mauny'], 'La Mauny') \n",
    "df1['origine'] = df1['origine'].replace('70cl', 'Guadeloupe') \n",
    "df1.loc[df1['producteur'] == 'Maison La Mauny', 'producteur'] = 'La Mauny'\n",
    "df1.head(241)"
   ]
  },
  {
   "cell_type": "code",
   "execution_count": null,
   "id": "economic-transmission",
   "metadata": {},
   "outputs": [],
   "source": [
    "df1.to_csv('test_json_2.csv', index = False, header=True)"
   ]
  },
  {
   "cell_type": "markdown",
   "id": "apart-laptop",
   "metadata": {},
   "source": [
    "###### "
   ]
  },
  {
   "cell_type": "code",
   "execution_count": null,
   "id": "proved-capture",
   "metadata": {
    "tags": []
   },
   "outputs": [],
   "source": [
    "df2 = pd.read_csv('test_json_2.csv')\n",
    "df2.head"
   ]
  },
  {
   "cell_type": "code",
   "execution_count": null,
   "id": "exotic-minneapolis",
   "metadata": {},
   "outputs": [],
   "source": [
    "dico = {}\n",
    "liste_car = ['XXXXXXXX', 'JM', 'depaz Doré', 'Maison La Mauny', 'Maison L', '\\'', \n",
    "             'de Cori', 'Longueteau  Vieux Cuvée Confrérie du','Bielle  Vieux Millésime 2009 Cuvée Confrérie du', \n",
    "             'Discovery', 'Ambré Brun', 'Crème de', 'Favorite  Vieux coeur de', 'VSOP', '4 tubes de', 'Blanc le', \n",
    "             'Latitudes', 'pour rhu', 'James C', 'Depaz Doré', 'Blanc Ice', 'Favorite  Vieux Coeur de',\n",
    "             'Favorite', 'Bally','é','è']\n",
    "liste_remp = ['Bumbu', 'Rhum JM', 'Depaz', 'La Mauny', 'La Mauny', ' ', \n",
    "              'Saveur de Coriandre', 'Confrérie du Rhum','Confrérie du Rhum', 'Rhum', '', \n",
    "              '', 'Favorite', '', '', '', 'Grand Fond Gallion', 'Quai Sud', 'Saint James', 'Depaz', '',\n",
    "              'La Favorite', 'La Favorite', 'J. Bally', '','e', 'e']\n",
    "# création du dictionnaire avec une compréhension de dictionnaire\n",
    "dico = {k: v for k, v in zip(liste_car, liste_remp)}"
   ]
  },
  {
   "cell_type": "code",
   "execution_count": null,
   "id": "dedicated-upgrade",
   "metadata": {},
   "outputs": [],
   "source": [
    "dico2 = {}\n",
    "liste_car = ['Galante', '46,2°', 'Trinidad', '20cl', 'cocktail', 'ï']\n",
    "liste_remp = ['Marie Galante', 'Ecosse', 'Trinite et Tobago', 'Martinique', 'France', 'i']\n",
    "# création du dictionnaire avec une compréhension de dictionnaire\n",
    "dico2 = {k: v for k, v in zip(liste_car, liste_remp)}"
   ]
  },
  {
   "cell_type": "code",
   "execution_count": 104,
   "id": "million-victorian",
   "metadata": {},
   "outputs": [],
   "source": [
    "dico3 = {}\n",
    "liste_car = ['cl', '1L', '3L', '5L', '°', ',']\n",
    "liste_remp = ['', 100, 300, 500, '', '.']\n",
    "# création du dictionnaire avec une compréhension de dictionnaire\n",
    "dico3 = {k: v for k, v in zip(liste_car, liste_remp)}"
   ]
  },
  {
   "cell_type": "code",
   "execution_count": null,
   "id": "scheduled-triumph",
   "metadata": {},
   "outputs": [],
   "source": [
    "# il faut que regex=True \n",
    "df2.replace({'producteur': dico}, regex=True,inplace=True)\n",
    "df2.replace({'origine': dico2}, regex=True,inplace=True)\n",
    "df2.replace({'nom':dico}, regex=True, inplace=True)\n",
    "df2.replace({'volume':dico3}, regex=True, inplace=True)\n",
    "df2.replace({'degre':dico3}, regex=True, inplace=True)\n"
   ]
  },
  {
   "cell_type": "code",
   "execution_count": null,
   "id": "alive-nerve",
   "metadata": {},
   "outputs": [],
   "source": [
    "df2.to_csv('test_json_3.csv', index = False, header=True)"
   ]
  },
  {
   "cell_type": "markdown",
   "id": "continuing-silver",
   "metadata": {},
   "source": [
    "###### "
   ]
  },
  {
   "cell_type": "code",
   "execution_count": 9,
   "id": "young-simon",
   "metadata": {},
   "outputs": [],
   "source": [
    "df4 = pd.read_csv('test_json_3.csv')\n",
    "\n",
    "\n",
    "liste_producteur = df4['producteur'].tolist()\n",
    "\n",
    "liste_sans_espace=[]\n",
    "for e in liste_producteur:\n",
    "#     print(e)\n",
    "    espace = e.strip()\n",
    "    liste_sans_espace.append(espace)\n",
    "liste_sans_espace[0:4]\n",
    "\n",
    "df5 = pd.Series( (v for v in liste_sans_espace) )\n",
    "df5\n",
    "\n",
    "df4['producteur'] = df5\n",
    "\n",
    "df4.head()\n",
    "\n",
    "df4.to_csv('test_json_4.csv', index = False, header=True)"
   ]
  },
  {
   "cell_type": "markdown",
   "id": "bibliographic-carol",
   "metadata": {},
   "source": [
    "###### "
   ]
  },
  {
   "cell_type": "code",
   "execution_count": null,
   "id": "martial-invasion",
   "metadata": {
    "tags": []
   },
   "outputs": [],
   "source": [
    "df2.dtypes"
   ]
  },
  {
   "cell_type": "code",
   "execution_count": null,
   "id": "respected-strategy",
   "metadata": {},
   "outputs": [],
   "source": [
    "df2['volume'].astype(float)\n",
    "df2['degre'].astype(float)"
   ]
  },
  {
   "cell_type": "code",
   "execution_count": null,
   "id": "civic-toner",
   "metadata": {
    "tags": []
   },
   "outputs": [],
   "source": [
    "db =df2[df2['nom'].str.contains('Blanc')]\n",
    "db['type'] = 'Blanc'\n",
    "\n",
    "db.head(2)"
   ]
  },
  {
   "cell_type": "code",
   "execution_count": null,
   "id": "upset-bread",
   "metadata": {},
   "outputs": [],
   "source": [
    "dv =df2[df2['nom'].str.contains('Vieux')]\n",
    "dv['type'] = 'Vieux'\n",
    "dv.head(4)"
   ]
  },
  {
   "cell_type": "code",
   "execution_count": null,
   "id": "backed-cursor",
   "metadata": {},
   "outputs": [],
   "source": [
    "dA =df2[df2['nom'].str.contains('Ambre')]\n",
    "dA['type'] = 'Ambre'\n",
    "dA.head(2)"
   ]
  },
  {
   "cell_type": "code",
   "execution_count": null,
   "id": "stopped-bumper",
   "metadata": {},
   "outputs": [],
   "source": [
    "de =df2[df2['nom'].str.contains('Liqueur |Creme | Punch | Epice | Arrange | arrange | Bumbu')]\n",
    "de['type'] = 'Spiced'\n",
    "de.head()"
   ]
  },
  {
   "cell_type": "code",
   "execution_count": null,
   "id": "advised-surge",
   "metadata": {},
   "outputs": [],
   "source": [
    "dc =df2[df2['nom'].str.contains('Coffret |coffret')]\n",
    "dc['type'] = 'Coffret'\n",
    "dc.head()"
   ]
  },
  {
   "cell_type": "code",
   "execution_count": null,
   "id": "hispanic-nickel",
   "metadata": {
    "tags": []
   },
   "outputs": [],
   "source": [
    "frames =[dv, db, dA, de, dc]\n",
    "\n",
    "df3 = pd.concat(frames)\n",
    "df3"
   ]
  },
  {
   "cell_type": "code",
   "execution_count": null,
   "id": "intense-coach",
   "metadata": {},
   "outputs": [],
   "source": [
    "df3.to_csv('test_json_final.csv', index = False, header=True)"
   ]
  },
  {
   "cell_type": "markdown",
   "id": "answering-jumping",
   "metadata": {
    "tags": []
   },
   "source": [
    "###### "
   ]
  },
  {
   "cell_type": "markdown",
   "id": "respiratory-satisfaction",
   "metadata": {},
   "source": [
    "- nettoyage wikirum"
   ]
  },
  {
   "cell_type": "code",
   "execution_count": null,
   "id": "furnished-court",
   "metadata": {},
   "outputs": [],
   "source": [
    "csv_file = 'rhumfullinfo_wikirum.csv'\n",
    "wikirum = pd.read_csv(csv_file)\n",
    "\n",
    "wikirum.head()\n",
    "\n",
    "wikirum.isnull().sum()\n",
    "index_with_nan = wikirum.index[wikirum.isnull().any(axis=1)]\n",
    "wikirum.drop(index_with_nan,0, inplace=True)\n",
    "\n",
    "wikirum.columns = ['nom', 'producteur', 'origine', 'volume', 'degre']\n",
    "wikirum['producteur'] = wikirum['producteur'].str.replace('*','', regex=True)\n",
    "wikirum['nom'] = wikirum['nom'].str.replace('\\'','', regex=True)\n",
    "wikirum['producteur'] = wikirum['producteur'].str.replace('\\'','', regex=True)\n",
    "wikirum['degre'] = wikirum['degre'].astype(float)\n",
    "wikirum['volume'] = wikirum['volume'].astype(float)\n",
    "wikirum['volume'] = wikirum['volume'] / 10\n",
    "\n",
    "wikirum.to_csv('wikirum_1.csv', index = False, header=True)\n",
    "\n",
    "###### "
   ]
  },
  {
   "cell_type": "code",
   "execution_count": null,
   "id": "dirty-wellington",
   "metadata": {},
   "outputs": [],
   "source": [
    "csv_file = 'wikirum_1.csv'\n",
    "wikirum_1 = pd.read_csv(csv_file)\n",
    "\n",
    "wikirum_1.head()\n",
    "\n",
    "liste_car = ['\\'', 'é','è']\n",
    "liste_remp = [ ' ', 'e', 'e']\n",
    "\n",
    "# repmlacement des caractères spéciaux dans tout la dataframe\n",
    "wikirum_1.replace(liste_car, liste_remp, regex=True,inplace=True)\n",
    "wikirum_1.head(93)\n",
    "\n",
    "wikirum_1.to_csv('wikirum_2.csv', index = False, header=True)"
   ]
  },
  {
   "cell_type": "markdown",
   "id": "going-mechanism",
   "metadata": {
    "tags": []
   },
   "source": [
    "###### "
   ]
  },
  {
   "cell_type": "code",
   "execution_count": null,
   "id": "separate-inspection",
   "metadata": {},
   "outputs": [],
   "source": [
    "csv_file = 'wikirum_2.csv'\n",
    "wikirum_2 = pd.read_csv(csv_file)\n",
    "\n",
    "wikirum_2.head()\n",
    "\n",
    "wikirum_2['type'] = 'Vieux'\n",
    "\n",
    "wikirum_2['origine']= wikirum_2['origine'].replace('USA (Californie)', 'United States')\n",
    "wikirum_2['origine']= wikirum_2['origine'].replace('USA (Kentucky)', 'United States')\n",
    "# ,regex=True, inplace=True\n",
    "# to_replace='Jm', value='Rhum JM'\n",
    "wikirum_2.head(866)\n",
    "\n",
    "wikirum_2.to_csv('wikirum_3.csv', index = False, header=True)"
   ]
  },
  {
   "cell_type": "markdown",
   "id": "greek-calvin",
   "metadata": {},
   "source": [
    "- dernier changement type directement: wikirum_final.csv"
   ]
  },
  {
   "cell_type": "markdown",
   "id": "adapted-heritage",
   "metadata": {},
   "source": [
    "- Données API EBAY"
   ]
  },
  {
   "cell_type": "code",
   "execution_count": null,
   "id": "inside-counter",
   "metadata": {},
   "outputs": [],
   "source": [
    "from ebaysdk.finding import Connection as Finding\n",
    "from ebaysdk.exception import ConnectionError\n",
    "import os\n",
    "titres = []\n",
    "itemIds= []\n",
    "apid= os.environ.get('api_cle')\n",
    "\n",
    "try:\n",
    "    api = Finding(appid=apid, config_file='ebay.yaml', siteid=\"EBAY-FR\")\n",
    "    response = api.execute('findItemsAdvanced', {'keywords': 'rhum Saint James'})\n",
    "    suivi = response.dict()\n",
    "#     print(suivi)\n",
    "\n",
    "    for e in suivi.values():\n",
    "        resultat = suivi['searchResult']['item']\n",
    "        for y in range(len(resultat)):\n",
    "            categoryId = resultat[y]['primaryCategory']['categoryId']\n",
    "            if categoryId == '258508':\n",
    "                print(resultat[y]['itemId'])\n",
    "                print(resultat[y]['title'])\n",
    "                print(resultat[y]['primaryCategory']['categoryId'])\n",
    "                print(resultat[y]['primaryCategory']['categoryName'])\n",
    "                print(resultat[y]['location'])\n",
    "                print(resultat[y]['country'])\n",
    "                print(resultat[y]['sellingStatus']['currentPrice']['_currencyId'])\n",
    "                print(resultat[y]['sellingStatus']['currentPrice']['value'])\n",
    "                print(resultat[y]['galleryURL'])\n",
    "       \n",
    "    \n",
    "except ConnectionError as e:\n",
    "    print(e)\n",
    "    print(e.response.dict())"
   ]
  },
  {
   "cell_type": "markdown",
   "id": "expanded-lancaster",
   "metadata": {},
   "source": [
    "###### "
   ]
  },
  {
   "cell_type": "markdown",
   "id": "interpreted-smooth",
   "metadata": {},
   "source": [
    "-----------------"
   ]
  },
  {
   "cell_type": "markdown",
   "id": "dense-warning",
   "metadata": {},
   "source": [
    "### Préparation des données"
   ]
  },
  {
   "cell_type": "markdown",
   "id": "concrete-institution",
   "metadata": {},
   "source": [
    "- traduction des termes??"
   ]
  },
  {
   "cell_type": "code",
   "execution_count": null,
   "id": "stuck-ozone",
   "metadata": {},
   "outputs": [],
   "source": [
    "csv_file = 'wikirum_final.csv'\n",
    "wikirum_final = pd.read_csv(csv_file)\n",
    "csv_file1 = 'rum_data_final.csv'\n",
    "rum_data_final = pd.read_csv(csv_file1)\n",
    "csv_file2 = 'test_json_final.csv'\n",
    "test_json_final = pd.read_csv(csv_file2)\n",
    "\n",
    "\n",
    "global_final = pd.concat([wikirum_final, rum_data_final, test_json_final],  ignore_index=True)\n",
    "global_final"
   ]
  },
  {
   "cell_type": "code",
   "execution_count": null,
   "id": "talented-lexington",
   "metadata": {},
   "outputs": [],
   "source": [
    "global_final.to_csv('global_final.csv', index = False, header=True)"
   ]
  },
  {
   "cell_type": "markdown",
   "id": "outer-chosen",
   "metadata": {
    "tags": []
   },
   "source": [
    "-----------------"
   ]
  },
  {
   "cell_type": "markdown",
   "id": "center-newcastle",
   "metadata": {
    "tags": []
   },
   "source": [
    "### Insertion des données"
   ]
  },
  {
   "cell_type": "markdown",
   "id": "natural-crime",
   "metadata": {},
   "source": [
    "- origine"
   ]
  },
  {
   "cell_type": "code",
   "execution_count": null,
   "id": "pursuant-wedding",
   "metadata": {},
   "outputs": [],
   "source": [
    "# Prod\n",
    "# liste des origines pour insertions\n",
    "\n",
    "import csv\n",
    "# je crée une liste regroupant ma liste de pays\n",
    "liste = []\n",
    "with open('global_final.csv', newline='', encoding='utf-8') as csvfile:\n",
    "    spamreader = csv.reader(csvfile, delimiter=',')\n",
    "    for row in spamreader:\n",
    "        # gestion des doublons\n",
    "        if row[2] not in liste:\n",
    "            liste.append(row[2])\n",
    "liste = liste[1:]\n",
    "# print(liste)\n",
    "# print(len(liste))"
   ]
  },
  {
   "cell_type": "code",
   "execution_count": null,
   "id": "pregnant-student",
   "metadata": {},
   "outputs": [],
   "source": [
    "# connexion à la bdd collection\n",
    "conn = psycopg2.connect(\n",
    "        user = \"postgres\",\n",
    "        password = os.environ.get(\"pg_psw\"),\n",
    "        host = \"localhost\",\n",
    "        port = \"5432\",\n",
    "        database = \"collection5\"\n",
    ")\n",
    "cur = conn.cursor()\n",
    "\n",
    "for pays in liste:\n",
    "    cur.execute(\"SELECT origine.nom FROM origine WHERE origine.nom = (%s) \", (pays,))\n",
    "    verif = cur.fetchone()\n",
    "    if not verif:\n",
    "        cur.execute(\"INSERT INTO origine (nom) VALUES(%s)\", (pays,))\n",
    "\n",
    "conn.commit()\n",
    "print('insertion terminée')\n",
    "conn.close()"
   ]
  },
  {
   "cell_type": "code",
   "execution_count": null,
   "id": "starting-panel",
   "metadata": {},
   "outputs": [],
   "source": []
  },
  {
   "cell_type": "markdown",
   "id": "novel-height",
   "metadata": {},
   "source": [
    "###### "
   ]
  },
  {
   "cell_type": "markdown",
   "id": "present-perth",
   "metadata": {},
   "source": [
    "- insertion producteur"
   ]
  },
  {
   "cell_type": "code",
   "execution_count": null,
   "id": "official-airfare",
   "metadata": {},
   "outputs": [],
   "source": [
    "# prod\n",
    "# je crée une liste regroupant les pays et les producteurs\n",
    "liste_co = []\n",
    "liste_producteur = []\n",
    "liste_final = []\n",
    "with open('global_final.csv', newline='', encoding='utf-8') as csvfile:\n",
    "    spamreader = csv.reader(csvfile, delimiter=',')\n",
    "    for row in spamreader:\n",
    "        if row[1:3] not in liste_co:\n",
    "            liste_co.append((row[1:3]))\n",
    "liste_co = liste_co[1:]\n",
    "# for producteur in liste_co:\n",
    "#     producteur = producteur[0]\n",
    "#     liste_producteur.append(producteur)\n",
    "\n",
    "# for espace in liste_producteur:\n",
    "#     espace = espace.strip()\n",
    "#     if espace not in liste_final:\n",
    "#         liste_final.append(espace)\n",
    "# print(len(liste_final))"
   ]
  },
  {
   "cell_type": "code",
   "execution_count": null,
   "id": "narrow-transparency",
   "metadata": {
    "tags": []
   },
   "outputs": [],
   "source": [
    "dictionnaire = {}\n",
    "for row in liste_final:\n",
    "    for row2 in liste_co:\n",
    "        if row == row2[0]:\n",
    "            dictionnaire[row] = row2[1]\n"
   ]
  },
  {
   "cell_type": "code",
   "execution_count": null,
   "id": "challenging-finnish",
   "metadata": {},
   "outputs": [],
   "source": [
    "# prod\n",
    "# fonction d'insertion dans la table producteur\n",
    "conn = psycopg2.connect(\n",
    "        user = \"postgres\",\n",
    "        password = os.environ.get(\"pg_psw\"),\n",
    "        host = \"localhost\",\n",
    "        port = \"5432\",\n",
    "        database = \"collection5\"\n",
    ")\n",
    "cur = conn.cursor()\n",
    "for producteur, pays in liste_co:\n",
    "#     dictionnaire.items()\n",
    "#     print(producteur)\n",
    "#     print(pays)\n",
    "    cur.execute(f\"\"\"SELECT origine.code_origine \n",
    "        FROM origine\n",
    "        WHERE origine.nom = '{pays}';\n",
    "        \"\"\")\n",
    "    \n",
    "    origine = cur.fetchone()[0]\n",
    "#     print(origine)\n",
    "    #pays = str(pro[0])\n",
    "#     print(pays)\n",
    "\n",
    "    cur.execute(f\"INSERT INTO producteur (nom_producteur, code_origine) VALUES ('{producteur}', '{origine}')\")\n",
    "    \n",
    "cur.close()\n",
    "conn.commit()\n",
    "print('insertion terminée')\n",
    "conn.close()"
   ]
  },
  {
   "cell_type": "markdown",
   "id": "identical-humidity",
   "metadata": {},
   "source": [
    "###### "
   ]
  },
  {
   "cell_type": "markdown",
   "id": "regular-courage",
   "metadata": {},
   "source": [
    "- insertion produit"
   ]
  },
  {
   "cell_type": "code",
   "execution_count": 3,
   "id": "racial-cosmetic",
   "metadata": {},
   "outputs": [
    {
     "data": {
      "text/html": [
       "<div>\n",
       "<style scoped>\n",
       "    .dataframe tbody tr th:only-of-type {\n",
       "        vertical-align: middle;\n",
       "    }\n",
       "\n",
       "    .dataframe tbody tr th {\n",
       "        vertical-align: top;\n",
       "    }\n",
       "\n",
       "    .dataframe thead th {\n",
       "        text-align: right;\n",
       "    }\n",
       "</style>\n",
       "<table border=\"1\" class=\"dataframe\">\n",
       "  <thead>\n",
       "    <tr style=\"text-align: right;\">\n",
       "      <th></th>\n",
       "      <th>nom</th>\n",
       "      <th>producteur</th>\n",
       "      <th>origine</th>\n",
       "      <th>volume</th>\n",
       "      <th>degre</th>\n",
       "      <th>type</th>\n",
       "    </tr>\n",
       "  </thead>\n",
       "  <tbody>\n",
       "    <tr>\n",
       "      <th>0</th>\n",
       "      <td>Cuba 5 Years</td>\n",
       "      <td>1731 Fine &amp; Rare</td>\n",
       "      <td>Pays-Bas</td>\n",
       "      <td>70.0</td>\n",
       "      <td>46.0</td>\n",
       "      <td>Vieux</td>\n",
       "    </tr>\n",
       "    <tr>\n",
       "      <th>1</th>\n",
       "      <td>Cuba Dominican Republic (Spanish Caribbean XO)</td>\n",
       "      <td>1731 Fine &amp; Rare</td>\n",
       "      <td>Pays-Bas</td>\n",
       "      <td>70.0</td>\n",
       "      <td>46.0</td>\n",
       "      <td>Vieux</td>\n",
       "    </tr>\n",
       "    <tr>\n",
       "      <th>2</th>\n",
       "      <td>Guatemala Panama Belize (Central America XO)</td>\n",
       "      <td>1731 Fine &amp; Rare</td>\n",
       "      <td>Pays-Bas</td>\n",
       "      <td>70.0</td>\n",
       "      <td>46.0</td>\n",
       "      <td>Vieux</td>\n",
       "    </tr>\n",
       "    <tr>\n",
       "      <th>3</th>\n",
       "      <td>Panama 6 Years</td>\n",
       "      <td>1731 Fine &amp; Rare</td>\n",
       "      <td>Pays-Bas</td>\n",
       "      <td>70.0</td>\n",
       "      <td>46.0</td>\n",
       "      <td>Vieux</td>\n",
       "    </tr>\n",
       "    <tr>\n",
       "      <th>4</th>\n",
       "      <td>Trinidad Barbados Jamaica (British West Indies...</td>\n",
       "      <td>1731 Fine &amp; Rare</td>\n",
       "      <td>Pays-Bas</td>\n",
       "      <td>70.0</td>\n",
       "      <td>46.0</td>\n",
       "      <td>Vieux</td>\n",
       "    </tr>\n",
       "  </tbody>\n",
       "</table>\n",
       "</div>"
      ],
      "text/plain": [
       "                                                 nom        producteur  \\\n",
       "0                                       Cuba 5 Years  1731 Fine & Rare   \n",
       "1     Cuba Dominican Republic (Spanish Caribbean XO)  1731 Fine & Rare   \n",
       "2       Guatemala Panama Belize (Central America XO)  1731 Fine & Rare   \n",
       "3                                     Panama 6 Years  1731 Fine & Rare   \n",
       "4  Trinidad Barbados Jamaica (British West Indies...  1731 Fine & Rare   \n",
       "\n",
       "    origine  volume  degre   type  \n",
       "0  Pays-Bas    70.0   46.0  Vieux  \n",
       "1  Pays-Bas    70.0   46.0  Vieux  \n",
       "2  Pays-Bas    70.0   46.0  Vieux  \n",
       "3  Pays-Bas    70.0   46.0  Vieux  \n",
       "4  Pays-Bas    70.0   46.0  Vieux  "
      ]
     },
     "execution_count": 3,
     "metadata": {},
     "output_type": "execute_result"
    }
   ],
   "source": [
    "# insertion fichier excel\n",
    "csv_file = 'global_final.csv'\n",
    "inventaire = pd.read_csv(csv_file)\n",
    "inventaire.head()"
   ]
  },
  {
   "cell_type": "code",
   "execution_count": 4,
   "id": "reported-excess",
   "metadata": {},
   "outputs": [],
   "source": [
    "inventaire_produit =  inventaire[['nom', 'volume', 'degre', 'producteur', 'type']]"
   ]
  },
  {
   "cell_type": "code",
   "execution_count": 5,
   "id": "running-adult",
   "metadata": {
    "tags": []
   },
   "outputs": [
    {
     "name": "stdout",
     "output_type": "stream",
     "text": [
      "[['Cuba 5 Years', 70.0, 46.0, '1731 Fine & Rare', 'Vieux'], ['Cuba Dominican Republic (Spanish Caribbean XO)', 70.0, 46.0, '1731 Fine & Rare', 'Vieux'], ['Guatemala Panama Belize (Central America XO)', 70.0, 46.0, '1731 Fine & Rare', 'Vieux'], ['Panama 6 Years', 70.0, 46.0, '1731 Fine & Rare', 'Vieux'], ['Trinidad Barbados Jamaica (British West Indies XO)', 70.0, 46.0, '1731 Fine & Rare', 'Vieux'], ['Caroni 12 Ans', 70.0, 46.0, 'Blackadder', 'Vieux'], ['Caroni 18 Ans', 70.0, 63.1, 'Blackadder', 'Vieux'], ['Fiji 2001-2012 - 11 Years', 70.0, 63.9, 'Blackadder', 'Vieux'], ['Guadeloupe Belvedere 1998-2015- 17 Years', 70.0, 57.5, 'Blackadder', 'Vieux'], ['Guadeloupe Belvedere 1998-2017- 19 Years', 70.0, 56.6, 'Blackadder', 'Vieux']]\n"
     ]
    }
   ],
   "source": [
    "liste_inventaire = [list(x) for x in inventaire_produit.to_numpy()]\n",
    "print(liste_inventaire[0:10])"
   ]
  },
  {
   "cell_type": "code",
   "execution_count": 6,
   "id": "demanding-calcium",
   "metadata": {},
   "outputs": [],
   "source": [
    "nom = liste_inventaire[0][0]\n",
    "volume = liste_inventaire[0][1]\n",
    "degre = liste_inventaire[0][2]\n",
    "producteur = liste_inventaire[0][3]\n",
    "typeg = liste_inventaire[0][4]\n",
    "\n",
    "\n",
    "# print(nom)\n",
    "# print(type(volume))\n",
    "# print(degre)\n",
    "# print(producteur)\n",
    "# print(typeg)\n",
    "# print(img_url)"
   ]
  },
  {
   "cell_type": "code",
   "execution_count": 7,
   "id": "banner-orbit",
   "metadata": {},
   "outputs": [],
   "source": [
    "# # prod\n",
    "# # je crée une liste regroupant les pays et les producteurs\n",
    "# liste_co = []\n",
    "# with open('global_final.csv', newline='', encoding='utf-8') as csvfile:\n",
    "#     spamreader = csv.reader(csvfile, delimiter=',')\n",
    "#     for row in spamreader:\n",
    "#         if row[1:] not in liste_co:\n",
    "#             liste_co.append((row[1:]))\n",
    "# liste_co = liste_co[1:]\n",
    "# print(liste_co[1:10])"
   ]
  },
  {
   "cell_type": "code",
   "execution_count": 9,
   "id": "orange-posting",
   "metadata": {},
   "outputs": [
    {
     "name": "stdout",
     "output_type": "stream",
     "text": [
      "1\n",
      "1\n",
      "1\n",
      "1\n",
      "1\n",
      "2\n",
      "2\n",
      "2\n",
      "2\n",
      "2\n",
      "2\n",
      "2\n",
      "2\n",
      "2\n",
      "2\n",
      "2\n",
      "2\n",
      "2\n",
      "2\n",
      "3\n",
      "3\n",
      "3\n",
      "3\n",
      "3\n",
      "3\n",
      "3\n",
      "3\n",
      "3\n",
      "3\n",
      "3\n",
      "3\n",
      "3\n",
      "3\n",
      "3\n",
      "3\n",
      "3\n",
      "3\n",
      "4\n",
      "4\n",
      "4\n",
      "4\n",
      "4\n",
      "4\n",
      "4\n",
      "4\n",
      "4\n",
      "4\n",
      "4\n",
      "4\n",
      "4\n",
      "4\n",
      "4\n",
      "4\n",
      "4\n",
      "4\n",
      "4\n",
      "4\n",
      "4\n",
      "4\n",
      "4\n",
      "4\n",
      "4\n",
      "4\n",
      "4\n",
      "4\n",
      "4\n",
      "4\n",
      "4\n",
      "4\n",
      "4\n",
      "4\n",
      "4\n",
      "4\n",
      "4\n",
      "4\n",
      "4\n",
      "4\n",
      "4\n",
      "4\n",
      "4\n",
      "4\n",
      "4\n",
      "4\n",
      "4\n",
      "4\n",
      "4\n",
      "4\n",
      "4\n",
      "4\n",
      "4\n",
      "4\n",
      "4\n",
      "4\n",
      "4\n",
      "4\n",
      "4\n",
      "4\n",
      "4\n",
      "4\n",
      "4\n",
      "4\n",
      "4\n",
      "4\n",
      "4\n",
      "5\n",
      "5\n",
      "5\n"
     ]
    },
    {
     "ename": "SyntaxError",
     "evalue": "ERREUR:  erreur de syntaxe sur ou près de « s »\nLINE 3:         WHERE producteur.nom_producteur = 'Cadenhead's';\n                                                             ^\n",
     "output_type": "error",
     "traceback": [
      "\u001b[1;31m---------------------------------------------------------------------------\u001b[0m",
      "\u001b[1;31mSyntaxError\u001b[0m                               Traceback (most recent call last)",
      "\u001b[1;32m<ipython-input-9-2fb32fd9d376>\u001b[0m in \u001b[0;36m<module>\u001b[1;34m\u001b[0m\n\u001b[0;32m     15\u001b[0m \u001b[1;31m#     else:\u001b[0m\u001b[1;33m\u001b[0m\u001b[1;33m\u001b[0m\u001b[1;33m\u001b[0m\u001b[0m\n\u001b[0;32m     16\u001b[0m \u001b[1;31m#         print(2)\u001b[0m\u001b[1;33m\u001b[0m\u001b[1;33m\u001b[0m\u001b[1;33m\u001b[0m\u001b[0m\n\u001b[1;32m---> 17\u001b[1;33m     cur.execute(f\"\"\"SELECT producteur.code_producteur \n\u001b[0m\u001b[0;32m     18\u001b[0m         \u001b[0mFROM\u001b[0m \u001b[0mproducteur\u001b[0m\u001b[1;33m\u001b[0m\u001b[1;33m\u001b[0m\u001b[0m\n\u001b[0;32m     19\u001b[0m         \u001b[0mWHERE\u001b[0m \u001b[0mproducteur\u001b[0m\u001b[1;33m.\u001b[0m\u001b[0mnom_producteur\u001b[0m \u001b[1;33m=\u001b[0m \u001b[1;34m'{producteur}'\u001b[0m\u001b[1;33m;\u001b[0m\u001b[1;33m\u001b[0m\u001b[1;33m\u001b[0m\u001b[0m\n",
      "\u001b[1;31mSyntaxError\u001b[0m: ERREUR:  erreur de syntaxe sur ou près de « s »\nLINE 3:         WHERE producteur.nom_producteur = 'Cadenhead's';\n                                                             ^\n"
     ]
    }
   ],
   "source": [
    "conn = psycopg2.connect(\n",
    "        user = \"postgres\",\n",
    "        password = os.environ.get(\"pg_psw\"),\n",
    "        host = \"localhost\",\n",
    "        port = \"5432\",\n",
    "        database = \"collection5\"\n",
    ")\n",
    "cur = conn.cursor()\n",
    "for nom, volume, degre, producteur, typeg in liste_inventaire:\n",
    "    \n",
    "    volume = float(volume)\n",
    "#     print(volume)\n",
    "#     if volume > 0:\n",
    "#         print(1)\n",
    "#     else:\n",
    "#         print(2)\n",
    "    cur.execute(f\"\"\"SELECT producteur.code_producteur \n",
    "        FROM producteur\n",
    "        WHERE producteur.nom_producteur = '{producteur}';\n",
    "        \"\"\")\n",
    "    \n",
    "    code = cur.fetchone()[0]\n",
    "    print(code) #NULLIF('$var','')\n",
    "    if volume > 0 and degre > 0:\n",
    "        cur.execute(f\"INSERT INTO produit (nom_produit, volume, degre, type_rhum, code_producteur) VALUES ('{nom}', {volume}, {degre}, '{typeg}', {code})\")\n",
    "    elif volume < 0:\n",
    "        cur.execute(f\"INSERT INTO produit (nom_produit, degre, type_rhum, code_producteur) VALUES ('{nom}', {degre}, '{typeg}', {code})\")\n",
    "    elif degre < 0:\n",
    "        cur.execute(f\"INSERT INTO produit (nom_produit, volume, type_rhum, code_producteur) VALUES ('{nom}', {volume}, '{typeg}', {code})\")\n",
    "\n",
    "    else:\n",
    "         cur.execute(f\"INSERT INTO produit (nom_produit, type_rhum, code_producteur) VALUES ('{nom}', '{typeg}', {code})\")\n",
    "#         print(type(cur))   \n",
    "cur.close()\n",
    "conn.commit()\n",
    "print('insertion produit terminée')\n",
    "conn.close()"
   ]
  },
  {
   "cell_type": "markdown",
   "id": "preceding-patrol",
   "metadata": {},
   "source": [
    "###### "
   ]
  },
  {
   "cell_type": "markdown",
   "id": "returning-possible",
   "metadata": {},
   "source": [
    "-------------"
   ]
  },
  {
   "cell_type": "markdown",
   "id": "imposed-virgin",
   "metadata": {},
   "source": [
    "### Exploitation des données"
   ]
  },
  {
   "cell_type": "code",
   "execution_count": null,
   "id": "satisfactory-friend",
   "metadata": {},
   "outputs": [],
   "source": [
    "import psycopg2\n",
    "import os\n",
    "\n",
    "conn = psycopg2.connect(\n",
    "        user = \"postgres\",\n",
    "        password = os.environ.get(\"pg_psw\"),\n",
    "        host = \"localhost\",\n",
    "        port = \"5432\",\n",
    "        database = \"collection5\"\n",
    ")\n",
    "cur = conn.cursor()\n",
    "cur.execute(\"\"\"SELECT origine.nom, count(produit.nom)\n",
    "FROM origine\n",
    "INNER JOIN producteur\n",
    "ON origine.code_origine = producteur.code_origine \n",
    "INNER JOIN produit\n",
    "ON producteur.code_producteur = produit.code_producteur\n",
    "group by origine.nom\n",
    "order by count(produit.nom) DESC\n",
    "Limit 20\n",
    ";\n",
    "\"\"\")\n",
    "requete = cur.fetchall()\n",
    "print(requete[0:10])"
   ]
  },
  {
   "cell_type": "code",
   "execution_count": null,
   "id": "single-librarian",
   "metadata": {},
   "outputs": [],
   "source": [
    "import pandas as pd\n",
    "\n",
    "dataf = pd.DataFrame(requete)\n",
    "dataf.columns = ['nom', 'compte']\n",
    "dataf"
   ]
  },
  {
   "cell_type": "code",
   "execution_count": null,
   "id": "proper-permit",
   "metadata": {},
   "outputs": [],
   "source": [
    "import matplotlib.pyplot as plt\n",
    "dataf.plot(x=\"nom\", y=[\"compte\"])"
   ]
  },
  {
   "cell_type": "code",
   "execution_count": null,
   "id": "brave-aerospace",
   "metadata": {},
   "outputs": [],
   "source": [
    "dataf.plot.bar(x=\"nom\", y=\"compte\")"
   ]
  },
  {
   "cell_type": "code",
   "execution_count": null,
   "id": "genetic-atmosphere",
   "metadata": {},
   "outputs": [],
   "source": [
    "px.histogram(dataf, \n",
    "             x=\"nom\", \n",
    "             y=\"compte\", \n",
    "             color='nom'            \n",
    "           )"
   ]
  },
  {
   "cell_type": "code",
   "execution_count": null,
   "id": "written-letter",
   "metadata": {},
   "outputs": [],
   "source": [
    "px.sunburst(dataf, path=[\"nom\", \"compte\"], color=\"nom\",\n",
    "           hover_data=dataf.columns,\n",
    "           values=\"compte\")"
   ]
  },
  {
   "cell_type": "code",
   "execution_count": null,
   "id": "stunning-western",
   "metadata": {},
   "outputs": [],
   "source": [
    "import psycopg2\n",
    "import os\n",
    "\n",
    "conn = psycopg2.connect(\n",
    "        user = \"postgres\",\n",
    "        password = os.environ.get(\"pg_psw\"),\n",
    "        host = \"localhost\",\n",
    "        port = \"5432\",\n",
    "        database = \"collection5\"\n",
    ")\n",
    "cur = conn.cursor()\n",
    "cur.execute(\"\"\"SELECT producteur.nom, origine.nom, count(produit.nom)\n",
    "FROM producteur\n",
    "INNER JOIN origine\n",
    "ON producteur.code_origine = origine.code_origine \n",
    "INNER JOIN produit\n",
    "ON producteur.code_producteur = produit.code_producteur\n",
    "group by producteur.nom, origine.nom\n",
    "order by count(produit.nom) DESC\n",
    "Limit 10\n",
    ";\n",
    "\"\"\")\n",
    "requete = cur.fetchall()\n",
    "print(requete[0:10])"
   ]
  },
  {
   "cell_type": "code",
   "execution_count": null,
   "id": "incorrect-london",
   "metadata": {},
   "outputs": [],
   "source": [
    "dfproducteur = pd.DataFrame(requete)\n",
    "dfproducteur.columns = ['producteur', 'origine', 'compte']\n",
    "dfproducteur.head()"
   ]
  },
  {
   "cell_type": "code",
   "execution_count": null,
   "id": "sacred-lingerie",
   "metadata": {},
   "outputs": [],
   "source": [
    "px.histogram(dfproducteur, \n",
    "             x=\"producteur\", \n",
    "             y=\"compte\", \n",
    "             color='origine'\n",
    "           )"
   ]
  },
  {
   "cell_type": "code",
   "execution_count": null,
   "id": "magnetic-hotel",
   "metadata": {},
   "outputs": [],
   "source": [
    "px.sunburst(dfproducteur, path=[\"origine\", \"producteur\"], color=\"compte\",\n",
    "           hover_data=dfproducteur.columns,\n",
    "           values=\"compte\")"
   ]
  },
  {
   "cell_type": "code",
   "execution_count": null,
   "id": "authorized-farmer",
   "metadata": {},
   "outputs": [],
   "source": [
    "fig = px.choropleth(dfproducteur, locations=\"origine\",\n",
    "                            color=\"origine\",\n",
    "                            locationmode='country names',\n",
    "                            hover_name=\"producteur\",\n",
    "                            projection='natural earth',\n",
    "                            title='Production',\n",
    "                            color_continuous_scale=px.colors.sequential.Plasma)\n",
    "fig"
   ]
  },
  {
   "cell_type": "code",
   "execution_count": null,
   "id": "subjective-tuner",
   "metadata": {},
   "outputs": [],
   "source": []
  }
 ],
 "metadata": {
  "kernelspec": {
   "display_name": "Python 3",
   "language": "python",
   "name": "python3"
  },
  "language_info": {
   "codemirror_mode": {
    "name": "ipython",
    "version": 3
   },
   "file_extension": ".py",
   "mimetype": "text/x-python",
   "name": "python",
   "nbconvert_exporter": "python",
   "pygments_lexer": "ipython3",
   "version": "3.8.6"
  }
 },
 "nbformat": 4,
 "nbformat_minor": 5
}
