{
 "cells": [
  {
   "cell_type": "markdown",
   "id": "drawn-wesley",
   "metadata": {},
   "source": [
    "# CREATION DE LA BDD"
   ]
  },
  {
   "cell_type": "markdown",
   "id": "sporting-pricing",
   "metadata": {},
   "source": [
    "---------------------------------------------\n",
    "----------------------------------------"
   ]
  },
  {
   "cell_type": "markdown",
   "id": "supreme-worry",
   "metadata": {},
   "source": [
    "### creation de la bdd collection dans postgresql"
   ]
  },
  {
   "cell_type": "code",
   "execution_count": 1,
   "id": "about-foster",
   "metadata": {},
   "outputs": [],
   "source": [
    "# import des librairies\n",
    "import psycopg2  # librairie pour utiliser postgresql\n",
    "import os # module qui nous permet d'utiliser les variables d'environnements"
   ]
  },
  {
   "cell_type": "code",
   "execution_count": null,
   "id": "stone-google",
   "metadata": {},
   "outputs": [],
   "source": [
    "\"\"\"\n",
    "Connexion dans un premier temps à postgres\n",
    "pour initialiser notre database collection\n",
    "\"\"\"\n",
    "\n",
    "\n",
    "\n",
    "utilisateur = \"postgres\"\n",
    "\n",
    "mot_passe = os.environ.get('pg_psw')\n",
    "\n",
    "base_de_donnees = \"postgres\"\n",
    "\n",
    "\n",
    "\n",
    "try:\n",
    "    \n",
    "    # création de l'objet conn\n",
    "\n",
    "    conn = psycopg2.connect(dbname= base_de_donnees, user=utilisateur, password=mot_passe, host=\"localhost\", port= 5432)\n",
    "\n",
    "    conn.set_session(autocommit=True)   # on force\n",
    "\n",
    "    # initialisation du cursor\n",
    "\n",
    "    cursor = conn.cursor()\n",
    "\n",
    "    # cursor.execute permet d'exécuter une commande 'sql'\n",
    "\n",
    "    cursor.execute(\"CREATE DATABASE collection\")\n",
    "\n",
    "    print(\"La DataBase à été créée avec succès !\")\n",
    "\n",
    "        \n",
    "except psycopg2.Error as e:\n",
    "    \n",
    "    print(\"Problème lors de la connection à la base de donnée\")\n",
    "\n",
    "    print(e)\n",
    "\n",
    "   \n",
    "    \n",
    "finally:\n",
    "        \n",
    "    # ferme le curseur et devient inutilisable\n",
    "\n",
    "    cursor.close\n",
    "\n",
    "    # ferme la connexion à database\n",
    "\n",
    "    conn.close"
   ]
  },
  {
   "cell_type": "markdown",
   "id": "protected-change",
   "metadata": {},
   "source": [
    "--------------------------------"
   ]
  },
  {
   "cell_type": "markdown",
   "id": "former-shame",
   "metadata": {},
   "source": [
    "fonctions de gestion base de données"
   ]
  },
  {
   "cell_type": "code",
   "execution_count": null,
   "id": "extensive-swing",
   "metadata": {},
   "outputs": [],
   "source": [
    "# Cellule pour nos fonctions\n",
    "\n",
    "# Fonction qui va nous permettre de créer une Base de données.\n",
    "def ouvrir_connection(base_de_donnee, utilisateur, mot_passe, host='localhost', port=5432):\n",
    "    \n",
    "    try:\n",
    "        # création de l'objet conn\n",
    "        conn = psycopg2.connect(dbname= base_de_donnee, user=utilisateur, password = mot_passe, host=\"localhost\", port= 5432)\n",
    "\n",
    "        # on force la sauvegarde\n",
    "        conn.set_session(autocommit=True)   \n",
    "        \n",
    "        # initialisation du cursor\n",
    "        cursor = conn.cursor()\n",
    "        \n",
    "        # exécution de la requête sql de création de la base de donnée\n",
    "        #cursor.execute(\"CREATE DATABASE IF NOT EXISTS movie\")\n",
    "\n",
    "    # gestion des erreurs    \n",
    "    except psycopg2.Error as e:\n",
    "        print(\"Problème lors de la connection à la base de donnée\")\n",
    "        print(e)\n",
    "        return None\n",
    "    # dans tous les cas on va clôturer la session\n",
    "    finally:\n",
    "        cursor.close\n",
    "        conn.close\n",
    "    return conn\n",
    "   \n",
    "    # fonction pour supprimer une table\n",
    "def supprimer_table(conn, sql_suppression_table):\n",
    "    try:\n",
    "        cursor = conn.cursor()\n",
    "        cursor.execute(sql_suppression_table)\n",
    "        conn.commit()\n",
    "    except psycopg2.Error as e:\n",
    "        print(\"Erreur lors de la suppression de la table\")\n",
    "        print(e)\n",
    "        return\n",
    "    cursor.close()\n",
    "    print(\"La table a été supprimée avec succès\")\n",
    "\n",
    "# fonction pour créer une table    \n",
    "def creer_table(conn, sql_creer_table):\n",
    "    try:\n",
    "        cursor = conn.cursor()\n",
    "        cursor.execute(sql_creer_table)\n",
    "        conn.commit()\n",
    "    except psycopg2.Error as e:\n",
    "        print(\"Erreur lors de la création de la table\")\n",
    "        print(e)\n",
    "        return\n",
    "    cursor.close()\n",
    "    print(\"La table a été crée avec succès\")\n",
    "    \n",
    "def lire_table(conn, sql_lire_donnee):\n",
    "    try:\n",
    "        cursor = conn.cursor()\n",
    "        cursor.execute(sql_lire_donnee)\n",
    "        conn.commit()\n",
    "    except psycopg2.Error as e:\n",
    "        print(\"Erreur lors de la lecture des données\")\n",
    "        print(e)\n",
    "        return None\n",
    "    \n",
    "    print(\"Les données ont été lues avec succès\")\n",
    "    data = []\n",
    "    for row in cursor:\n",
    "        data.append(row)\n",
    "\n",
    "    cursor.close()\n",
    "    \n",
    "    return data   "
   ]
  },
  {
   "cell_type": "markdown",
   "id": "established-committee",
   "metadata": {},
   "source": [
    "-----------------------------------"
   ]
  },
  {
   "cell_type": "markdown",
   "id": "failing-affiliate",
   "metadata": {},
   "source": [
    "requêtes sql"
   ]
  },
  {
   "cell_type": "code",
   "execution_count": null,
   "id": "gross-implementation",
   "metadata": {},
   "outputs": [],
   "source": [
    "# cellule qui content différentes requête sql\n",
    "\n",
    "sql_creer_table1 = \"\"\"CREATE TABLE IF NOT EXISTS Origine(\n",
    "   Code_Origine SERIAL,\n",
    "   Nom VARCHAR(100) NOT NULL,\n",
    "   PRIMARY KEY(Code_Origine)\n",
    ");\n",
    "\"\"\"\n",
    "sql_creer_table2 = \"\"\"CREATE TABLE IF NOT EXISTS Producteur(\n",
    "   Code_producteur SERIAL,\n",
    "   Nom VARCHAR(100),\n",
    "   Code_Origine INT NOT NULL,\n",
    "   PRIMARY KEY(Code_producteur),\n",
    "   FOREIGN KEY(Code_Origine) REFERENCES Origine(Code_Origine)\n",
    ");\n",
    "\"\"\"\n",
    "sql_creer_table3 = \"\"\"CREATE TABLE IF NOT EXISTS Produit(\n",
    "   Code_produit SERIAL,\n",
    "   Nom VARCHAR(250),\n",
    "   Volume INT,\n",
    "   Degre DECIMAL(15,2),\n",
    "   Code_producteur INT,\n",
    "   PRIMARY KEY(Code_produit),\n",
    "   FOREIGN KEY(Code_producteur) REFERENCES Producteur(Code_producteur)\n",
    ");\n",
    "\"\"\"\n",
    "\n",
    "sql_lire_donnee = \"\"\"\n",
    "    SELECT *\n",
    "    FROM Produit\n",
    "    LIMIT 10;\n",
    "\"\"\""
   ]
  },
  {
   "cell_type": "code",
   "execution_count": null,
   "id": "superb-adjustment",
   "metadata": {},
   "outputs": [],
   "source": [
    "# initialisation des variables pour me connecter à ma bdd postgres\n",
    "\n",
    "base_de_donnee = \"collection\"\n",
    "\n",
    "utilisateur = \"postgres\"\n",
    "\n",
    "mot_passe = os.environ.get('pg_psw')\n"
   ]
  },
  {
   "cell_type": "code",
   "execution_count": null,
   "id": "measured-stone",
   "metadata": {},
   "outputs": [],
   "source": [
    "# initialisation de ma connection\n",
    "conn = ouvrir_connection(base_de_donnee, utilisateur, mot_passe)"
   ]
  },
  {
   "cell_type": "code",
   "execution_count": null,
   "id": "level-messenger",
   "metadata": {
    "tags": []
   },
   "outputs": [],
   "source": [
    "# création table origine\n",
    "creer_table(conn, sql_creer_table1)"
   ]
  },
  {
   "cell_type": "code",
   "execution_count": null,
   "id": "crazy-constant",
   "metadata": {},
   "outputs": [],
   "source": [
    "# création table porducteur\n",
    "creer_table(conn, sql_creer_table2)"
   ]
  },
  {
   "cell_type": "code",
   "execution_count": null,
   "id": "acceptable-parliament",
   "metadata": {},
   "outputs": [],
   "source": [
    "# création table produit\n",
    "creer_table(conn, sql_creer_table3)"
   ]
  },
  {
   "cell_type": "markdown",
   "id": "revised-services",
   "metadata": {},
   "source": [
    "------------------------------------"
   ]
  },
  {
   "cell_type": "markdown",
   "id": "primary-beverage",
   "metadata": {},
   "source": [
    "### nettoyage des données de l'inventaire perso"
   ]
  },
  {
   "cell_type": "code",
   "execution_count": 1,
   "id": "reserved-hometown",
   "metadata": {},
   "outputs": [
    {
     "data": {
      "text/html": [
       "<div>\n",
       "<style scoped>\n",
       "    .dataframe tbody tr th:only-of-type {\n",
       "        vertical-align: middle;\n",
       "    }\n",
       "\n",
       "    .dataframe tbody tr th {\n",
       "        vertical-align: top;\n",
       "    }\n",
       "\n",
       "    .dataframe thead th {\n",
       "        text-align: right;\n",
       "    }\n",
       "</style>\n",
       "<table border=\"1\" class=\"dataframe\">\n",
       "  <thead>\n",
       "    <tr style=\"text-align: right;\">\n",
       "      <th></th>\n",
       "      <th>NOM</th>\n",
       "      <th>VOLUME</th>\n",
       "      <th>DEGRE</th>\n",
       "      <th>NOMBRE</th>\n",
       "      <th>PRIX</th>\n",
       "      <th>MARQUE</th>\n",
       "    </tr>\n",
       "  </thead>\n",
       "  <tbody>\n",
       "    <tr>\n",
       "      <th>0</th>\n",
       "      <td>C12 70</td>\n",
       "      <td>70</td>\n",
       "      <td>50.0</td>\n",
       "      <td>5</td>\n",
       "      <td>8.5</td>\n",
       "      <td>HSE</td>\n",
       "    </tr>\n",
       "    <tr>\n",
       "      <th>1</th>\n",
       "      <td>C16 70</td>\n",
       "      <td>70</td>\n",
       "      <td>50.0</td>\n",
       "      <td>1</td>\n",
       "      <td>11.0</td>\n",
       "      <td>HSE</td>\n",
       "    </tr>\n",
       "    <tr>\n",
       "      <th>2</th>\n",
       "      <td>C16 100</td>\n",
       "      <td>100</td>\n",
       "      <td>50.0</td>\n",
       "      <td>1</td>\n",
       "      <td>14.0</td>\n",
       "      <td>HSE</td>\n",
       "    </tr>\n",
       "    <tr>\n",
       "      <th>3</th>\n",
       "      <td>PARCELLAIRE 70</td>\n",
       "      <td>70</td>\n",
       "      <td>55.0</td>\n",
       "      <td>2</td>\n",
       "      <td>13.0</td>\n",
       "      <td>HSE</td>\n",
       "    </tr>\n",
       "    <tr>\n",
       "      <th>4</th>\n",
       "      <td>PARCELLAIRE 100</td>\n",
       "      <td>100</td>\n",
       "      <td>55.0</td>\n",
       "      <td>1</td>\n",
       "      <td>15.0</td>\n",
       "      <td>HSE</td>\n",
       "    </tr>\n",
       "  </tbody>\n",
       "</table>\n",
       "</div>"
      ],
      "text/plain": [
       "               NOM  VOLUME  DEGRE  NOMBRE  PRIX MARQUE\n",
       "0           C12 70      70   50.0       5   8.5    HSE\n",
       "1           C16 70      70   50.0       1  11.0    HSE\n",
       "2          C16 100     100   50.0       1  14.0    HSE\n",
       "3   PARCELLAIRE 70      70   55.0       2  13.0    HSE\n",
       "4  PARCELLAIRE 100     100   55.0       1  15.0    HSE"
      ]
     },
     "execution_count": 1,
     "metadata": {},
     "output_type": "execute_result"
    }
   ],
   "source": [
    "# on tuilise la librairie pandas pour nettoyer mes données\n",
    "\n",
    "import pandas as pd\n",
    "\n",
    "excel_file = 'INVENTAIRE_B.xlsx'\n",
    "inventaire = pd.read_excel(excel_file, skiprows=2)\n",
    "del inventaire['CADEAU']\n",
    "inventaire.head()"
   ]
  },
  {
   "cell_type": "code",
   "execution_count": 17,
   "id": "divided-lecture",
   "metadata": {},
   "outputs": [
    {
     "data": {
      "text/html": [
       "<div>\n",
       "<style scoped>\n",
       "    .dataframe tbody tr th:only-of-type {\n",
       "        vertical-align: middle;\n",
       "    }\n",
       "\n",
       "    .dataframe tbody tr th {\n",
       "        vertical-align: top;\n",
       "    }\n",
       "\n",
       "    .dataframe thead th {\n",
       "        text-align: right;\n",
       "    }\n",
       "</style>\n",
       "<table border=\"1\" class=\"dataframe\">\n",
       "  <thead>\n",
       "    <tr style=\"text-align: right;\">\n",
       "      <th></th>\n",
       "      <th>NOM</th>\n",
       "      <th>VOLUME</th>\n",
       "      <th>DEGRE</th>\n",
       "      <th>NOMBRE</th>\n",
       "      <th>PRIX</th>\n",
       "      <th>MARQUE</th>\n",
       "    </tr>\n",
       "  </thead>\n",
       "  <tbody>\n",
       "    <tr>\n",
       "      <th>0</th>\n",
       "      <td>C12 70</td>\n",
       "      <td>70</td>\n",
       "      <td>50.0</td>\n",
       "      <td>5</td>\n",
       "      <td>8.50</td>\n",
       "      <td>HSE</td>\n",
       "    </tr>\n",
       "    <tr>\n",
       "      <th>1</th>\n",
       "      <td>C16 70</td>\n",
       "      <td>70</td>\n",
       "      <td>50.0</td>\n",
       "      <td>1</td>\n",
       "      <td>11.00</td>\n",
       "      <td>HSE</td>\n",
       "    </tr>\n",
       "    <tr>\n",
       "      <th>2</th>\n",
       "      <td>C16 100</td>\n",
       "      <td>100</td>\n",
       "      <td>50.0</td>\n",
       "      <td>1</td>\n",
       "      <td>14.00</td>\n",
       "      <td>HSE</td>\n",
       "    </tr>\n",
       "    <tr>\n",
       "      <th>3</th>\n",
       "      <td>PARCELLAIRE 70</td>\n",
       "      <td>70</td>\n",
       "      <td>55.0</td>\n",
       "      <td>2</td>\n",
       "      <td>13.00</td>\n",
       "      <td>HSE</td>\n",
       "    </tr>\n",
       "    <tr>\n",
       "      <th>4</th>\n",
       "      <td>PARCELLAIRE 100</td>\n",
       "      <td>100</td>\n",
       "      <td>55.0</td>\n",
       "      <td>1</td>\n",
       "      <td>15.00</td>\n",
       "      <td>HSE</td>\n",
       "    </tr>\n",
       "    <tr>\n",
       "      <th>...</th>\n",
       "      <td>...</td>\n",
       "      <td>...</td>\n",
       "      <td>...</td>\n",
       "      <td>...</td>\n",
       "      <td>...</td>\n",
       "      <td>...</td>\n",
       "    </tr>\n",
       "    <tr>\n",
       "      <th>85</th>\n",
       "      <td>MONTEBELLO 8 ANS</td>\n",
       "      <td>70</td>\n",
       "      <td>42.0</td>\n",
       "      <td>1</td>\n",
       "      <td>28.00</td>\n",
       "      <td>montebello</td>\n",
       "    </tr>\n",
       "    <tr>\n",
       "      <th>86</th>\n",
       "      <td>kapoeira  cachaça</td>\n",
       "      <td>70</td>\n",
       "      <td>38.0</td>\n",
       "      <td>1</td>\n",
       "      <td>25.00</td>\n",
       "      <td>kapoeira</td>\n",
       "    </tr>\n",
       "    <tr>\n",
       "      <th>87</th>\n",
       "      <td>Bombay Gin</td>\n",
       "      <td>70</td>\n",
       "      <td>40.0</td>\n",
       "      <td>1</td>\n",
       "      <td>15.00</td>\n",
       "      <td>bombay</td>\n",
       "    </tr>\n",
       "    <tr>\n",
       "      <th>88</th>\n",
       "      <td>Vodka Standart</td>\n",
       "      <td>100</td>\n",
       "      <td>40.0</td>\n",
       "      <td>1</td>\n",
       "      <td>24.00</td>\n",
       "      <td>standart</td>\n",
       "    </tr>\n",
       "    <tr>\n",
       "      <th>89</th>\n",
       "      <td>TOTAL</td>\n",
       "      <td>6005</td>\n",
       "      <td>NaN</td>\n",
       "      <td>95</td>\n",
       "      <td>3561.16</td>\n",
       "      <td>NaN</td>\n",
       "    </tr>\n",
       "  </tbody>\n",
       "</table>\n",
       "<p>90 rows × 6 columns</p>\n",
       "</div>"
      ],
      "text/plain": [
       "                  NOM  VOLUME  DEGRE  NOMBRE     PRIX      MARQUE\n",
       "0              C12 70      70   50.0       5     8.50         HSE\n",
       "1              C16 70      70   50.0       1    11.00         HSE\n",
       "2             C16 100     100   50.0       1    14.00         HSE\n",
       "3      PARCELLAIRE 70      70   55.0       2    13.00         HSE\n",
       "4     PARCELLAIRE 100     100   55.0       1    15.00         HSE\n",
       "..                ...     ...    ...     ...      ...         ...\n",
       "85   MONTEBELLO 8 ANS      70   42.0       1    28.00  montebello\n",
       "86  kapoeira  cachaça      70   38.0       1    25.00    kapoeira\n",
       "87         Bombay Gin      70   40.0       1    15.00      bombay\n",
       "88     Vodka Standart     100   40.0       1    24.00    standart\n",
       "89              TOTAL    6005    NaN      95  3561.16         NaN\n",
       "\n",
       "[90 rows x 6 columns]"
      ]
     },
     "execution_count": 17,
     "metadata": {},
     "output_type": "execute_result"
    }
   ],
   "source": [
    "inventaire"
   ]
  },
  {
   "cell_type": "code",
   "execution_count": 2,
   "id": "convenient-clinic",
   "metadata": {},
   "outputs": [
    {
     "data": {
      "text/html": [
       "<div>\n",
       "<style scoped>\n",
       "    .dataframe tbody tr th:only-of-type {\n",
       "        vertical-align: middle;\n",
       "    }\n",
       "\n",
       "    .dataframe tbody tr th {\n",
       "        vertical-align: top;\n",
       "    }\n",
       "\n",
       "    .dataframe thead th {\n",
       "        text-align: right;\n",
       "    }\n",
       "</style>\n",
       "<table border=\"1\" class=\"dataframe\">\n",
       "  <thead>\n",
       "    <tr style=\"text-align: right;\">\n",
       "      <th></th>\n",
       "      <th>NOM</th>\n",
       "      <th>VOLUME</th>\n",
       "      <th>DEGRE</th>\n",
       "      <th>NOMBRE</th>\n",
       "      <th>PRIX</th>\n",
       "      <th>MARQUE</th>\n",
       "    </tr>\n",
       "  </thead>\n",
       "  <tbody>\n",
       "    <tr>\n",
       "      <th>1</th>\n",
       "      <td>C12 70</td>\n",
       "      <td>70.0</td>\n",
       "      <td>50.0</td>\n",
       "      <td>5.0</td>\n",
       "      <td>8.5</td>\n",
       "      <td>HSE</td>\n",
       "    </tr>\n",
       "    <tr>\n",
       "      <th>2</th>\n",
       "      <td>C16 70</td>\n",
       "      <td>70.0</td>\n",
       "      <td>50.0</td>\n",
       "      <td>1.0</td>\n",
       "      <td>11.0</td>\n",
       "      <td>HSE</td>\n",
       "    </tr>\n",
       "    <tr>\n",
       "      <th>3</th>\n",
       "      <td>C16 100</td>\n",
       "      <td>100.0</td>\n",
       "      <td>50.0</td>\n",
       "      <td>1.0</td>\n",
       "      <td>14.0</td>\n",
       "      <td>HSE</td>\n",
       "    </tr>\n",
       "    <tr>\n",
       "      <th>4</th>\n",
       "      <td>PARCELLAIRE 70</td>\n",
       "      <td>70.0</td>\n",
       "      <td>55.0</td>\n",
       "      <td>2.0</td>\n",
       "      <td>13.0</td>\n",
       "      <td>HSE</td>\n",
       "    </tr>\n",
       "    <tr>\n",
       "      <th>5</th>\n",
       "      <td>PARCELLAIRE 100</td>\n",
       "      <td>100.0</td>\n",
       "      <td>55.0</td>\n",
       "      <td>1.0</td>\n",
       "      <td>15.0</td>\n",
       "      <td>HSE</td>\n",
       "    </tr>\n",
       "    <tr>\n",
       "      <th>...</th>\n",
       "      <td>...</td>\n",
       "      <td>...</td>\n",
       "      <td>...</td>\n",
       "      <td>...</td>\n",
       "      <td>...</td>\n",
       "      <td>...</td>\n",
       "    </tr>\n",
       "    <tr>\n",
       "      <th>94</th>\n",
       "      <td>GUADELOUPE</td>\n",
       "      <td>NaN</td>\n",
       "      <td>NaN</td>\n",
       "      <td>NaN</td>\n",
       "      <td>NaN</td>\n",
       "      <td>NaN</td>\n",
       "    </tr>\n",
       "    <tr>\n",
       "      <th>95</th>\n",
       "      <td>BOLOGNE BLACK CANE N°19658</td>\n",
       "      <td>70.0</td>\n",
       "      <td>50.0</td>\n",
       "      <td>1.0</td>\n",
       "      <td>21.0</td>\n",
       "      <td>Bologne</td>\n",
       "    </tr>\n",
       "    <tr>\n",
       "      <th>96</th>\n",
       "      <td>BOLOGNE BLACK CANE N°19742</td>\n",
       "      <td>70.0</td>\n",
       "      <td>50.0</td>\n",
       "      <td>1.0</td>\n",
       "      <td>21.0</td>\n",
       "      <td>Bologne</td>\n",
       "    </tr>\n",
       "    <tr>\n",
       "      <th>97</th>\n",
       "      <td>BARBANCOURT VSOP 4 ans</td>\n",
       "      <td>70.0</td>\n",
       "      <td>40.0</td>\n",
       "      <td>1.0</td>\n",
       "      <td>21.0</td>\n",
       "      <td>Barbancourt</td>\n",
       "    </tr>\n",
       "    <tr>\n",
       "      <th>98</th>\n",
       "      <td>MONTEBELLO 8 ANS</td>\n",
       "      <td>70.0</td>\n",
       "      <td>42.0</td>\n",
       "      <td>1.0</td>\n",
       "      <td>28.0</td>\n",
       "      <td>Montebello</td>\n",
       "    </tr>\n",
       "  </tbody>\n",
       "</table>\n",
       "<p>98 rows × 6 columns</p>\n",
       "</div>"
      ],
      "text/plain": [
       "                           NOM  VOLUME  DEGRE  NOMBRE  PRIX       MARQUE\n",
       "1                       C12 70    70.0   50.0     5.0   8.5          HSE\n",
       "2                       C16 70    70.0   50.0     1.0  11.0          HSE\n",
       "3                      C16 100   100.0   50.0     1.0  14.0          HSE\n",
       "4               PARCELLAIRE 70    70.0   55.0     2.0  13.0          HSE\n",
       "5              PARCELLAIRE 100   100.0   55.0     1.0  15.0          HSE\n",
       "..                         ...     ...    ...     ...   ...          ...\n",
       "94                  GUADELOUPE     NaN    NaN     NaN   NaN          NaN\n",
       "95  BOLOGNE BLACK CANE N°19658    70.0   50.0     1.0  21.0      Bologne\n",
       "96  BOLOGNE BLACK CANE N°19742    70.0   50.0     1.0  21.0      Bologne\n",
       "97      BARBANCOURT VSOP 4 ans    70.0   40.0     1.0  21.0  Barbancourt\n",
       "98            MONTEBELLO 8 ANS    70.0   42.0     1.0  28.0   Montebello\n",
       "\n",
       "[98 rows x 6 columns]"
      ]
     },
     "execution_count": 2,
     "metadata": {},
     "output_type": "execute_result"
    }
   ],
   "source": [
    "excel_file = 'INVENTAIRE_A.xlsx'\n",
    "inventaire = pd.read_excel(excel_file, skiprows=2)\n",
    "inventaire.drop(99,0,inplace=True)\n",
    "inventaire.drop(0,0,inplace=True)\n",
    "del inventaire['Unnamed: 5']\n",
    "inventaire.columns = ['NOM', 'VOLUME', 'DEGRE', 'NOMBRE', 'PRIX', 'MARQUE']\n",
    "inventaire.dropna(axis = 0, how = 'any')\n",
    "inventaire"
   ]
  },
  {
   "cell_type": "code",
   "execution_count": 19,
   "id": "major-bookmark",
   "metadata": {},
   "outputs": [
    {
     "name": "stdout",
     "output_type": "stream",
     "text": [
      "1      False\n",
      "2      False\n",
      "3      False\n",
      "4      False\n",
      "5      False\n",
      "       ...  \n",
      "98     False\n",
      "99      True\n",
      "100    False\n",
      "101    False\n",
      "102    False\n",
      "Name: MARQUE, Length: 102, dtype: bool\n"
     ]
    }
   ],
   "source": [
    "print(inventaire['MARQUE'].isnull())"
   ]
  },
  {
   "cell_type": "code",
   "execution_count": 20,
   "id": "retained-dinner",
   "metadata": {},
   "outputs": [
    {
     "data": {
      "text/plain": [
       "65"
      ]
     },
     "execution_count": 20,
     "metadata": {},
     "output_type": "execute_result"
    }
   ],
   "source": [
    "inventaire.isnull().sum().sum()"
   ]
  },
  {
   "cell_type": "code",
   "execution_count": 21,
   "id": "exotic-influence",
   "metadata": {},
   "outputs": [
    {
     "name": "stdout",
     "output_type": "stream",
     "text": [
      "Int64Index([39, 48, 58, 64, 68, 72, 76, 79, 85, 88, 91, 94, 99], dtype='int64')\n"
     ]
    }
   ],
   "source": [
    "index_with_nan = inventaire.index[inventaire.isnull().any(axis=1)]\n",
    "\n",
    "print(index_with_nan)"
   ]
  },
  {
   "cell_type": "code",
   "execution_count": 22,
   "id": "continental-relative",
   "metadata": {},
   "outputs": [
    {
     "name": "stdout",
     "output_type": "stream",
     "text": [
      "1      0\n",
      "2      0\n",
      "3      0\n",
      "4      0\n",
      "5      0\n",
      "      ..\n",
      "98     0\n",
      "99     5\n",
      "100    0\n",
      "101    0\n",
      "102    0\n",
      "Length: 102, dtype: int64\n"
     ]
    }
   ],
   "source": [
    "print(inventaire.isnull().sum(axis=1))"
   ]
  },
  {
   "cell_type": "code",
   "execution_count": 23,
   "id": "requested-remedy",
   "metadata": {},
   "outputs": [
    {
     "name": "stdout",
     "output_type": "stream",
     "text": [
      "                        NOM  VOLUME  DEGRE  NOMBRE  PRIX       MARQUE\n",
      "1                    C12 70    70.0   50.0     5.0   8.5          HSE\n",
      "2                    C16 70    70.0   50.0     1.0  11.0          HSE\n",
      "3                   C16 100   100.0   50.0     1.0  14.0          HSE\n",
      "4            PARCELLAIRE 70    70.0   55.0     2.0  13.0          HSE\n",
      "5           PARCELLAIRE 100   100.0   55.0     1.0  15.0          HSE\n",
      "..                      ...     ...    ...     ...   ...          ...\n",
      "97   BARBANCOURT VSOP 4 ans    70.0   40.0     1.0  21.0  barbancourt\n",
      "98         MONTEBELLO 8 ANS    70.0   42.0     1.0  28.0   montebello\n",
      "100       kapoeira  cachaça    70.0   38.0     1.0  25.0     kapoeira\n",
      "101              Bombay Gin    70.0   40.0     1.0  15.0       bombay\n",
      "102          Vodka Standart   100.0   40.0     1.0  24.0     standart\n",
      "\n",
      "[89 rows x 6 columns]\n"
     ]
    }
   ],
   "source": [
    "inventaire.drop(index_with_nan,0, inplace=True)\n",
    "print(inventaire)"
   ]
  },
  {
   "cell_type": "markdown",
   "id": "alternate-header",
   "metadata": {},
   "source": [
    "-----------------------------------"
   ]
  },
  {
   "cell_type": "markdown",
   "id": "completed-manchester",
   "metadata": {},
   "source": [
    "insertion des données dans la bdd postgres"
   ]
  },
  {
   "cell_type": "code",
   "execution_count": 24,
   "id": "suburban-future",
   "metadata": {},
   "outputs": [],
   "source": [
    "from sqlalchemy import create_engine\n",
    "import os\n",
    "\n",
    "user = 'postgres'\n",
    "password = os.environ.get('pg_psw')\n",
    "host = 'localhost'\n",
    "port = '5432'\n",
    "dbname = 'collection'  \n",
    "\n",
    "engine = create_engine(f\"postgresql://{user}:{password}@{host}:{port}/{dbname}\")\n"
   ]
  },
  {
   "cell_type": "code",
   "execution_count": 25,
   "id": "intellectual-payroll",
   "metadata": {},
   "outputs": [],
   "source": [
    "mesure_produit = inventaire[['NOM', 'VOLUME', 'DEGRE']]"
   ]
  },
  {
   "cell_type": "code",
   "execution_count": 28,
   "id": "subject-potato",
   "metadata": {},
   "outputs": [],
   "source": [
    "mesure_produit.to_sql('produit', engine, if_exists='replace', index=False)"
   ]
  },
  {
   "cell_type": "code",
   "execution_count": 29,
   "id": "corresponding-milton",
   "metadata": {},
   "outputs": [
    {
     "data": {
      "text/plain": [
       "NOM        object\n",
       "VOLUME    float64\n",
       "DEGRE     float64\n",
       "NOMBRE    float64\n",
       "PRIX      float64\n",
       "MARQUE     object\n",
       "dtype: object"
      ]
     },
     "execution_count": 29,
     "metadata": {},
     "output_type": "execute_result"
    }
   ],
   "source": [
    "inventaire.dtypes"
   ]
  },
  {
   "cell_type": "code",
   "execution_count": 30,
   "id": "loved-disney",
   "metadata": {},
   "outputs": [
    {
     "data": {
      "text/html": [
       "<div>\n",
       "<style scoped>\n",
       "    .dataframe tbody tr th:only-of-type {\n",
       "        vertical-align: middle;\n",
       "    }\n",
       "\n",
       "    .dataframe tbody tr th {\n",
       "        vertical-align: top;\n",
       "    }\n",
       "\n",
       "    .dataframe thead th {\n",
       "        text-align: right;\n",
       "    }\n",
       "</style>\n",
       "<table border=\"1\" class=\"dataframe\">\n",
       "  <thead>\n",
       "    <tr style=\"text-align: right;\">\n",
       "      <th></th>\n",
       "      <th>NOM</th>\n",
       "      <th>VOLUME</th>\n",
       "      <th>DEGRE</th>\n",
       "      <th>NOMBRE</th>\n",
       "      <th>PRIX</th>\n",
       "      <th>MARQUE</th>\n",
       "    </tr>\n",
       "  </thead>\n",
       "  <tbody>\n",
       "    <tr>\n",
       "      <th>83</th>\n",
       "      <td>RENNAISSANCE PORSCHE n°67</td>\n",
       "      <td>70.0</td>\n",
       "      <td>52.0</td>\n",
       "      <td>1.0</td>\n",
       "      <td>55.0</td>\n",
       "      <td>A1713</td>\n",
       "    </tr>\n",
       "    <tr>\n",
       "      <th>84</th>\n",
       "      <td>AGRONOME N°0704</td>\n",
       "      <td>70.0</td>\n",
       "      <td>50.0</td>\n",
       "      <td>1.0</td>\n",
       "      <td>30.0</td>\n",
       "      <td>A1714</td>\n",
       "    </tr>\n",
       "    <tr>\n",
       "      <th>86</th>\n",
       "      <td>XO</td>\n",
       "      <td>70.0</td>\n",
       "      <td>43.0</td>\n",
       "      <td>1.0</td>\n",
       "      <td>24.0</td>\n",
       "      <td>SAINT JAMES</td>\n",
       "    </tr>\n",
       "    <tr>\n",
       "      <th>87</th>\n",
       "      <td>12 ANS</td>\n",
       "      <td>70.0</td>\n",
       "      <td>43.0</td>\n",
       "      <td>1.0</td>\n",
       "      <td>40.0</td>\n",
       "      <td>SAINT JAMES</td>\n",
       "    </tr>\n",
       "    <tr>\n",
       "      <th>89</th>\n",
       "      <td>XO</td>\n",
       "      <td>70.0</td>\n",
       "      <td>40.0</td>\n",
       "      <td>1.0</td>\n",
       "      <td>35.0</td>\n",
       "      <td>LAMAUNY</td>\n",
       "    </tr>\n",
       "    <tr>\n",
       "      <th>90</th>\n",
       "      <td>VSOP</td>\n",
       "      <td>70.0</td>\n",
       "      <td>40.0</td>\n",
       "      <td>1.0</td>\n",
       "      <td>22.0</td>\n",
       "      <td>LAMAUNY</td>\n",
       "    </tr>\n",
       "    <tr>\n",
       "      <th>92</th>\n",
       "      <td>2005, 12 ans, octobre 2017</td>\n",
       "      <td>70.0</td>\n",
       "      <td>59.0</td>\n",
       "      <td>2.0</td>\n",
       "      <td>35.0</td>\n",
       "      <td>FOURSQUARE</td>\n",
       "    </tr>\n",
       "    <tr>\n",
       "      <th>93</th>\n",
       "      <td>DOMINUS 10 years-01/2018</td>\n",
       "      <td>70.0</td>\n",
       "      <td>56.0</td>\n",
       "      <td>1.0</td>\n",
       "      <td>25.0</td>\n",
       "      <td>FOURSQUARE</td>\n",
       "    </tr>\n",
       "    <tr>\n",
       "      <th>95</th>\n",
       "      <td>BOLOGNE BLACK CANE N°19658</td>\n",
       "      <td>70.0</td>\n",
       "      <td>50.0</td>\n",
       "      <td>1.0</td>\n",
       "      <td>21.0</td>\n",
       "      <td>bologne</td>\n",
       "    </tr>\n",
       "    <tr>\n",
       "      <th>96</th>\n",
       "      <td>BOLOGNE BLACK CANE N°19742</td>\n",
       "      <td>70.0</td>\n",
       "      <td>50.0</td>\n",
       "      <td>1.0</td>\n",
       "      <td>21.0</td>\n",
       "      <td>bologne</td>\n",
       "    </tr>\n",
       "    <tr>\n",
       "      <th>97</th>\n",
       "      <td>BARBANCOURT VSOP 4 ans</td>\n",
       "      <td>70.0</td>\n",
       "      <td>40.0</td>\n",
       "      <td>1.0</td>\n",
       "      <td>21.0</td>\n",
       "      <td>barbancourt</td>\n",
       "    </tr>\n",
       "    <tr>\n",
       "      <th>98</th>\n",
       "      <td>MONTEBELLO 8 ANS</td>\n",
       "      <td>70.0</td>\n",
       "      <td>42.0</td>\n",
       "      <td>1.0</td>\n",
       "      <td>28.0</td>\n",
       "      <td>montebello</td>\n",
       "    </tr>\n",
       "    <tr>\n",
       "      <th>100</th>\n",
       "      <td>kapoeira  cachaça</td>\n",
       "      <td>70.0</td>\n",
       "      <td>38.0</td>\n",
       "      <td>1.0</td>\n",
       "      <td>25.0</td>\n",
       "      <td>kapoeira</td>\n",
       "    </tr>\n",
       "    <tr>\n",
       "      <th>101</th>\n",
       "      <td>Bombay Gin</td>\n",
       "      <td>70.0</td>\n",
       "      <td>40.0</td>\n",
       "      <td>1.0</td>\n",
       "      <td>15.0</td>\n",
       "      <td>bombay</td>\n",
       "    </tr>\n",
       "    <tr>\n",
       "      <th>102</th>\n",
       "      <td>Vodka Standart</td>\n",
       "      <td>100.0</td>\n",
       "      <td>40.0</td>\n",
       "      <td>1.0</td>\n",
       "      <td>24.0</td>\n",
       "      <td>standart</td>\n",
       "    </tr>\n",
       "  </tbody>\n",
       "</table>\n",
       "</div>"
      ],
      "text/plain": [
       "                            NOM  VOLUME  DEGRE  NOMBRE  PRIX       MARQUE\n",
       "83    RENNAISSANCE PORSCHE n°67    70.0   52.0     1.0  55.0        A1713\n",
       "84              AGRONOME N°0704    70.0   50.0     1.0  30.0        A1714\n",
       "86                           XO    70.0   43.0     1.0  24.0  SAINT JAMES\n",
       "87                       12 ANS    70.0   43.0     1.0  40.0  SAINT JAMES\n",
       "89                           XO    70.0   40.0     1.0  35.0      LAMAUNY\n",
       "90                         VSOP    70.0   40.0     1.0  22.0      LAMAUNY\n",
       "92   2005, 12 ans, octobre 2017    70.0   59.0     2.0  35.0   FOURSQUARE\n",
       "93     DOMINUS 10 years-01/2018    70.0   56.0     1.0  25.0   FOURSQUARE\n",
       "95   BOLOGNE BLACK CANE N°19658    70.0   50.0     1.0  21.0      bologne\n",
       "96   BOLOGNE BLACK CANE N°19742    70.0   50.0     1.0  21.0      bologne\n",
       "97       BARBANCOURT VSOP 4 ans    70.0   40.0     1.0  21.0  barbancourt\n",
       "98             MONTEBELLO 8 ANS    70.0   42.0     1.0  28.0   montebello\n",
       "100           kapoeira  cachaça    70.0   38.0     1.0  25.0     kapoeira\n",
       "101                  Bombay Gin    70.0   40.0     1.0  15.0       bombay\n",
       "102              Vodka Standart   100.0   40.0     1.0  24.0     standart"
      ]
     },
     "execution_count": 30,
     "metadata": {},
     "output_type": "execute_result"
    }
   ],
   "source": [
    "inventaire.tail(15)"
   ]
  },
  {
   "cell_type": "code",
   "execution_count": 31,
   "id": "included-accused",
   "metadata": {},
   "outputs": [
    {
     "data": {
      "text/html": [
       "<div>\n",
       "<style scoped>\n",
       "    .dataframe tbody tr th:only-of-type {\n",
       "        vertical-align: middle;\n",
       "    }\n",
       "\n",
       "    .dataframe tbody tr th {\n",
       "        vertical-align: top;\n",
       "    }\n",
       "\n",
       "    .dataframe thead th {\n",
       "        text-align: right;\n",
       "    }\n",
       "</style>\n",
       "<table border=\"1\" class=\"dataframe\">\n",
       "  <thead>\n",
       "    <tr style=\"text-align: right;\">\n",
       "      <th></th>\n",
       "      <th>NOM</th>\n",
       "      <th>VOLUME</th>\n",
       "      <th>DEGRE</th>\n",
       "      <th>NOMBRE</th>\n",
       "      <th>PRIX</th>\n",
       "      <th>MARQUE</th>\n",
       "    </tr>\n",
       "  </thead>\n",
       "  <tbody>\n",
       "    <tr>\n",
       "      <th>1</th>\n",
       "      <td>C12 70</td>\n",
       "      <td>70.0</td>\n",
       "      <td>50.0</td>\n",
       "      <td>5.0</td>\n",
       "      <td>8.5</td>\n",
       "      <td>HSE</td>\n",
       "    </tr>\n",
       "    <tr>\n",
       "      <th>2</th>\n",
       "      <td>C16 70</td>\n",
       "      <td>70.0</td>\n",
       "      <td>50.0</td>\n",
       "      <td>1.0</td>\n",
       "      <td>11.0</td>\n",
       "      <td>HSE</td>\n",
       "    </tr>\n",
       "    <tr>\n",
       "      <th>3</th>\n",
       "      <td>C16 100</td>\n",
       "      <td>100.0</td>\n",
       "      <td>50.0</td>\n",
       "      <td>1.0</td>\n",
       "      <td>14.0</td>\n",
       "      <td>HSE</td>\n",
       "    </tr>\n",
       "    <tr>\n",
       "      <th>4</th>\n",
       "      <td>PARCELLAIRE 70</td>\n",
       "      <td>70.0</td>\n",
       "      <td>55.0</td>\n",
       "      <td>2.0</td>\n",
       "      <td>13.0</td>\n",
       "      <td>HSE</td>\n",
       "    </tr>\n",
       "    <tr>\n",
       "      <th>5</th>\n",
       "      <td>PARCELLAIRE 100</td>\n",
       "      <td>100.0</td>\n",
       "      <td>55.0</td>\n",
       "      <td>1.0</td>\n",
       "      <td>15.0</td>\n",
       "      <td>HSE</td>\n",
       "    </tr>\n",
       "    <tr>\n",
       "      <th>6</th>\n",
       "      <td>PARCELLAIRE 150L</td>\n",
       "      <td>150.0</td>\n",
       "      <td>55.0</td>\n",
       "      <td>1.0</td>\n",
       "      <td>40.0</td>\n",
       "      <td>HSE</td>\n",
       "    </tr>\n",
       "    <tr>\n",
       "      <th>7</th>\n",
       "      <td>RAGTIME ESB</td>\n",
       "      <td>70.0</td>\n",
       "      <td>40.0</td>\n",
       "      <td>1.0</td>\n",
       "      <td>11.0</td>\n",
       "      <td>HSE</td>\n",
       "    </tr>\n",
       "    <tr>\n",
       "      <th>8</th>\n",
       "      <td>Coffret XO ENO</td>\n",
       "      <td>70.0</td>\n",
       "      <td>43.0</td>\n",
       "      <td>1.0</td>\n",
       "      <td>40.0</td>\n",
       "      <td>HSE</td>\n",
       "    </tr>\n",
       "    <tr>\n",
       "      <th>9</th>\n",
       "      <td>Small Cask 2007-22/10/2015, n°848</td>\n",
       "      <td>50.0</td>\n",
       "      <td>46.0</td>\n",
       "      <td>1.0</td>\n",
       "      <td>26.0</td>\n",
       "      <td>HSE</td>\n",
       "    </tr>\n",
       "  </tbody>\n",
       "</table>\n",
       "</div>"
      ],
      "text/plain": [
       "                                 NOM  VOLUME  DEGRE  NOMBRE  PRIX MARQUE\n",
       "1                             C12 70    70.0   50.0     5.0   8.5    HSE\n",
       "2                             C16 70    70.0   50.0     1.0  11.0    HSE\n",
       "3                            C16 100   100.0   50.0     1.0  14.0    HSE\n",
       "4                     PARCELLAIRE 70    70.0   55.0     2.0  13.0    HSE\n",
       "5                    PARCELLAIRE 100   100.0   55.0     1.0  15.0    HSE\n",
       "6                   PARCELLAIRE 150L   150.0   55.0     1.0  40.0    HSE\n",
       "7                        RAGTIME ESB    70.0   40.0     1.0  11.0    HSE\n",
       "8                     Coffret XO ENO    70.0   43.0     1.0  40.0    HSE\n",
       "9  Small Cask 2007-22/10/2015, n°848    50.0   46.0     1.0  26.0    HSE"
      ]
     },
     "execution_count": 31,
     "metadata": {},
     "output_type": "execute_result"
    }
   ],
   "source": [
    "inventaire.head(9)"
   ]
  },
  {
   "cell_type": "code",
   "execution_count": 32,
   "id": "generic-stationery",
   "metadata": {},
   "outputs": [
    {
     "name": "stdout",
     "output_type": "stream",
     "text": [
      "<class 'pandas.core.frame.DataFrame'>\n",
      "Int64Index: 89 entries, 1 to 102\n",
      "Data columns (total 6 columns):\n",
      " #   Column  Non-Null Count  Dtype  \n",
      "---  ------  --------------  -----  \n",
      " 0   NOM     89 non-null     object \n",
      " 1   VOLUME  89 non-null     float64\n",
      " 2   DEGRE   89 non-null     float64\n",
      " 3   NOMBRE  89 non-null     float64\n",
      " 4   PRIX    89 non-null     float64\n",
      " 5   MARQUE  89 non-null     object \n",
      "dtypes: float64(4), object(2)\n",
      "memory usage: 4.9+ KB\n"
     ]
    }
   ],
   "source": [
    "inventaire.info() # résumé technique de la dataframe"
   ]
  },
  {
   "cell_type": "markdown",
   "id": "inappropriate-paper",
   "metadata": {},
   "source": [
    "---------------------"
   ]
  },
  {
   "cell_type": "markdown",
   "id": "obvious-laser",
   "metadata": {},
   "source": [
    "### Fichier csv rum_data, manipulation des données"
   ]
  },
  {
   "cell_type": "markdown",
   "id": "heard-packing",
   "metadata": {},
   "source": [
    "- import et lecture des données"
   ]
  },
  {
   "cell_type": "code",
   "execution_count": 1,
   "id": "lasting-louisiana",
   "metadata": {},
   "outputs": [
    {
     "data": {
      "text/html": [
       "<div>\n",
       "<style scoped>\n",
       "    .dataframe tbody tr th:only-of-type {\n",
       "        vertical-align: middle;\n",
       "    }\n",
       "\n",
       "    .dataframe tbody tr th {\n",
       "        vertical-align: top;\n",
       "    }\n",
       "\n",
       "    .dataframe thead th {\n",
       "        text-align: right;\n",
       "    }\n",
       "</style>\n",
       "<table border=\"1\" class=\"dataframe\">\n",
       "  <thead>\n",
       "    <tr style=\"text-align: right;\">\n",
       "      <th></th>\n",
       "      <th>name</th>\n",
       "      <th>company</th>\n",
       "      <th>country</th>\n",
       "      <th>price</th>\n",
       "      <th>ratings</th>\n",
       "      <th>score</th>\n",
       "      <th>type</th>\n",
       "      <th>rum_url</th>\n",
       "      <th>img_url</th>\n",
       "      <th>br_score</th>\n",
       "    </tr>\n",
       "  </thead>\n",
       "  <tbody>\n",
       "    <tr>\n",
       "      <th>0</th>\n",
       "      <td>10000 Drops Silver</td>\n",
       "      <td>Unknown</td>\n",
       "      <td>United States</td>\n",
       "      <td>0</td>\n",
       "      <td>0</td>\n",
       "      <td>0.0</td>\n",
       "      <td>Light</td>\n",
       "      <td>/brands/10972-10000-drops-silver</td>\n",
       "      <td>https://d1jtwiy8m5zi8a.cloudfront.net/assets/d...</td>\n",
       "      <td>4.775363</td>\n",
       "    </tr>\n",
       "    <tr>\n",
       "      <th>1</th>\n",
       "      <td>10000 Drops Spiced</td>\n",
       "      <td>Unknown</td>\n",
       "      <td>United States</td>\n",
       "      <td>0</td>\n",
       "      <td>1</td>\n",
       "      <td>4.0</td>\n",
       "      <td>Spiced</td>\n",
       "      <td>/brands/7354-10000-drops-spiced</td>\n",
       "      <td>https://d19vk5i0q1xlsm.cloudfront.net/uploads/...</td>\n",
       "      <td>4.711955</td>\n",
       "    </tr>\n",
       "    <tr>\n",
       "      <th>2</th>\n",
       "      <td>1000 Hills Gold</td>\n",
       "      <td>Unknown</td>\n",
       "      <td>Rwanda</td>\n",
       "      <td>0</td>\n",
       "      <td>1</td>\n",
       "      <td>4.0</td>\n",
       "      <td>Light</td>\n",
       "      <td>/brands/5285-1000-hills-gold</td>\n",
       "      <td>https://d19vk5i0q1xlsm.cloudfront.net/uploads/...</td>\n",
       "      <td>4.711955</td>\n",
       "    </tr>\n",
       "    <tr>\n",
       "      <th>3</th>\n",
       "      <td>100 Fuegos Buckeye 2-Year</td>\n",
       "      <td>Unknown</td>\n",
       "      <td>Ecuador</td>\n",
       "      <td>0</td>\n",
       "      <td>0</td>\n",
       "      <td>0.0</td>\n",
       "      <td>Gold</td>\n",
       "      <td>/brands/9037-100-fuegos-buckeye-2-year</td>\n",
       "      <td>https://d1jtwiy8m5zi8a.cloudfront.net/assets/d...</td>\n",
       "      <td>4.775363</td>\n",
       "    </tr>\n",
       "    <tr>\n",
       "      <th>4</th>\n",
       "      <td>100 Fuegos 8-Year</td>\n",
       "      <td>Unknown</td>\n",
       "      <td>Ecuador</td>\n",
       "      <td>0</td>\n",
       "      <td>0</td>\n",
       "      <td>0.0</td>\n",
       "      <td>Aged</td>\n",
       "      <td>/brands/1834-100-fuegos-8-year</td>\n",
       "      <td>https://d1jtwiy8m5zi8a.cloudfront.net/assets/d...</td>\n",
       "      <td>4.775363</td>\n",
       "    </tr>\n",
       "  </tbody>\n",
       "</table>\n",
       "</div>"
      ],
      "text/plain": [
       "                        name  company        country  price  ratings  score  \\\n",
       "0         10000 Drops Silver  Unknown  United States      0        0    0.0   \n",
       "1         10000 Drops Spiced  Unknown  United States      0        1    4.0   \n",
       "2            1000 Hills Gold  Unknown         Rwanda      0        1    4.0   \n",
       "3  100 Fuegos Buckeye 2-Year  Unknown        Ecuador      0        0    0.0   \n",
       "4          100 Fuegos 8-Year  Unknown        Ecuador      0        0    0.0   \n",
       "\n",
       "     type                                 rum_url  \\\n",
       "0   Light        /brands/10972-10000-drops-silver   \n",
       "1  Spiced         /brands/7354-10000-drops-spiced   \n",
       "2   Light            /brands/5285-1000-hills-gold   \n",
       "3    Gold  /brands/9037-100-fuegos-buckeye-2-year   \n",
       "4    Aged          /brands/1834-100-fuegos-8-year   \n",
       "\n",
       "                                             img_url  br_score  \n",
       "0  https://d1jtwiy8m5zi8a.cloudfront.net/assets/d...  4.775363  \n",
       "1  https://d19vk5i0q1xlsm.cloudfront.net/uploads/...  4.711955  \n",
       "2  https://d19vk5i0q1xlsm.cloudfront.net/uploads/...  4.711955  \n",
       "3  https://d1jtwiy8m5zi8a.cloudfront.net/assets/d...  4.775363  \n",
       "4  https://d1jtwiy8m5zi8a.cloudfront.net/assets/d...  4.775363  "
      ]
     },
     "execution_count": 1,
     "metadata": {},
     "output_type": "execute_result"
    }
   ],
   "source": [
    "# import des librairies\n",
    "import psycopg2  # librairie pour utiliser postgresql\n",
    "import os # module qui nous permet d'utiliser les variables d'environnements\n",
    "import pandas as pd\n",
    "\n",
    "csv_file = 'rum_data.csv'\n",
    "list_rhum = pd.read_csv(csv_file)\n",
    "\n",
    "list_rhum.head()"
   ]
  },
  {
   "cell_type": "code",
   "execution_count": 2,
   "id": "aboriginal-nevada",
   "metadata": {},
   "outputs": [
    {
     "data": {
      "text/html": [
       "<div>\n",
       "<style scoped>\n",
       "    .dataframe tbody tr th:only-of-type {\n",
       "        vertical-align: middle;\n",
       "    }\n",
       "\n",
       "    .dataframe tbody tr th {\n",
       "        vertical-align: top;\n",
       "    }\n",
       "\n",
       "    .dataframe thead th {\n",
       "        text-align: right;\n",
       "    }\n",
       "</style>\n",
       "<table border=\"1\" class=\"dataframe\">\n",
       "  <thead>\n",
       "    <tr style=\"text-align: right;\">\n",
       "      <th></th>\n",
       "      <th>name</th>\n",
       "      <th>company</th>\n",
       "      <th>country</th>\n",
       "      <th>price</th>\n",
       "      <th>ratings</th>\n",
       "      <th>score</th>\n",
       "      <th>type</th>\n",
       "      <th>rum_url</th>\n",
       "      <th>img_url</th>\n",
       "      <th>br_score</th>\n",
       "    </tr>\n",
       "  </thead>\n",
       "  <tbody>\n",
       "    <tr>\n",
       "      <th>6883</th>\n",
       "      <td>Yolo Gold 10-Year</td>\n",
       "      <td>Yolo</td>\n",
       "      <td>Panama</td>\n",
       "      <td>0</td>\n",
       "      <td>4</td>\n",
       "      <td>8.0</td>\n",
       "      <td>Gold</td>\n",
       "      <td>/brands/1588-yolo-gold-10-year</td>\n",
       "      <td>https://d19vk5i0q1xlsm.cloudfront.net/uploads/...</td>\n",
       "      <td>5.622387</td>\n",
       "    </tr>\n",
       "    <tr>\n",
       "      <th>6884</th>\n",
       "      <td>Yolo Silver</td>\n",
       "      <td>Yolo</td>\n",
       "      <td>Panama</td>\n",
       "      <td>0</td>\n",
       "      <td>1</td>\n",
       "      <td>7.0</td>\n",
       "      <td>Light</td>\n",
       "      <td>/brands/1587-yolo-silver</td>\n",
       "      <td>https://d19vk5i0q1xlsm.cloudfront.net/uploads/...</td>\n",
       "      <td>4.957292</td>\n",
       "    </tr>\n",
       "    <tr>\n",
       "      <th>6885</th>\n",
       "      <td>Ypioca 150 Cachaca</td>\n",
       "      <td>Ypioca</td>\n",
       "      <td>Brazil</td>\n",
       "      <td>0</td>\n",
       "      <td>1</td>\n",
       "      <td>7.0</td>\n",
       "      <td>Cachaca</td>\n",
       "      <td>/brands/7212-ypioca-150-cachaca</td>\n",
       "      <td>https://d19vk5i0q1xlsm.cloudfront.net/uploads/...</td>\n",
       "      <td>4.957292</td>\n",
       "    </tr>\n",
       "    <tr>\n",
       "      <th>6886</th>\n",
       "      <td>Ypioca Cachaca 160</td>\n",
       "      <td>Ypioca</td>\n",
       "      <td>Brazil</td>\n",
       "      <td>0</td>\n",
       "      <td>2</td>\n",
       "      <td>6.5</td>\n",
       "      <td>Agricole</td>\n",
       "      <td>/brands/6194-ypioca-cachaca-160</td>\n",
       "      <td>https://d19vk5i0q1xlsm.cloudfront.net/uploads/...</td>\n",
       "      <td>5.036117</td>\n",
       "    </tr>\n",
       "    <tr>\n",
       "      <th>6887</th>\n",
       "      <td>Ypioca Chrystal Cachaca</td>\n",
       "      <td>Ypioca</td>\n",
       "      <td>Brazil</td>\n",
       "      <td>0</td>\n",
       "      <td>6</td>\n",
       "      <td>6.5</td>\n",
       "      <td>Cachaca</td>\n",
       "      <td>/brands/1276-ypioca-chrystal-cachaca</td>\n",
       "      <td>https://d19vk5i0q1xlsm.cloudfront.net/uploads/...</td>\n",
       "      <td>5.376000</td>\n",
       "    </tr>\n",
       "  </tbody>\n",
       "</table>\n",
       "</div>"
      ],
      "text/plain": [
       "                         name company country  price  ratings  score  \\\n",
       "6883        Yolo Gold 10-Year    Yolo  Panama      0        4    8.0   \n",
       "6884              Yolo Silver    Yolo  Panama      0        1    7.0   \n",
       "6885       Ypioca 150 Cachaca  Ypioca  Brazil      0        1    7.0   \n",
       "6886       Ypioca Cachaca 160  Ypioca  Brazil      0        2    6.5   \n",
       "6887  Ypioca Chrystal Cachaca  Ypioca  Brazil      0        6    6.5   \n",
       "\n",
       "          type                               rum_url  \\\n",
       "6883      Gold        /brands/1588-yolo-gold-10-year   \n",
       "6884     Light              /brands/1587-yolo-silver   \n",
       "6885   Cachaca       /brands/7212-ypioca-150-cachaca   \n",
       "6886  Agricole       /brands/6194-ypioca-cachaca-160   \n",
       "6887   Cachaca  /brands/1276-ypioca-chrystal-cachaca   \n",
       "\n",
       "                                                img_url  br_score  \n",
       "6883  https://d19vk5i0q1xlsm.cloudfront.net/uploads/...  5.622387  \n",
       "6884  https://d19vk5i0q1xlsm.cloudfront.net/uploads/...  4.957292  \n",
       "6885  https://d19vk5i0q1xlsm.cloudfront.net/uploads/...  4.957292  \n",
       "6886  https://d19vk5i0q1xlsm.cloudfront.net/uploads/...  5.036117  \n",
       "6887  https://d19vk5i0q1xlsm.cloudfront.net/uploads/...  5.376000  "
      ]
     },
     "execution_count": 2,
     "metadata": {},
     "output_type": "execute_result"
    }
   ],
   "source": [
    "list_rhum.tail()"
   ]
  },
  {
   "cell_type": "code",
   "execution_count": 3,
   "id": "welcome-roulette",
   "metadata": {},
   "outputs": [
    {
     "data": {
      "text/html": [
       "<div>\n",
       "<style scoped>\n",
       "    .dataframe tbody tr th:only-of-type {\n",
       "        vertical-align: middle;\n",
       "    }\n",
       "\n",
       "    .dataframe tbody tr th {\n",
       "        vertical-align: top;\n",
       "    }\n",
       "\n",
       "    .dataframe thead th {\n",
       "        text-align: right;\n",
       "    }\n",
       "</style>\n",
       "<table border=\"1\" class=\"dataframe\">\n",
       "  <thead>\n",
       "    <tr style=\"text-align: right;\">\n",
       "      <th></th>\n",
       "      <th>name</th>\n",
       "      <th>company</th>\n",
       "      <th>country</th>\n",
       "      <th>price</th>\n",
       "      <th>ratings</th>\n",
       "      <th>score</th>\n",
       "      <th>type</th>\n",
       "      <th>rum_url</th>\n",
       "      <th>img_url</th>\n",
       "      <th>br_score</th>\n",
       "    </tr>\n",
       "  </thead>\n",
       "  <tbody>\n",
       "    <tr>\n",
       "      <th>0</th>\n",
       "      <td>False</td>\n",
       "      <td>False</td>\n",
       "      <td>False</td>\n",
       "      <td>False</td>\n",
       "      <td>False</td>\n",
       "      <td>False</td>\n",
       "      <td>False</td>\n",
       "      <td>False</td>\n",
       "      <td>False</td>\n",
       "      <td>False</td>\n",
       "    </tr>\n",
       "    <tr>\n",
       "      <th>1</th>\n",
       "      <td>False</td>\n",
       "      <td>False</td>\n",
       "      <td>False</td>\n",
       "      <td>False</td>\n",
       "      <td>False</td>\n",
       "      <td>False</td>\n",
       "      <td>False</td>\n",
       "      <td>False</td>\n",
       "      <td>False</td>\n",
       "      <td>False</td>\n",
       "    </tr>\n",
       "    <tr>\n",
       "      <th>2</th>\n",
       "      <td>False</td>\n",
       "      <td>False</td>\n",
       "      <td>False</td>\n",
       "      <td>False</td>\n",
       "      <td>False</td>\n",
       "      <td>False</td>\n",
       "      <td>False</td>\n",
       "      <td>False</td>\n",
       "      <td>False</td>\n",
       "      <td>False</td>\n",
       "    </tr>\n",
       "    <tr>\n",
       "      <th>3</th>\n",
       "      <td>False</td>\n",
       "      <td>False</td>\n",
       "      <td>False</td>\n",
       "      <td>False</td>\n",
       "      <td>False</td>\n",
       "      <td>False</td>\n",
       "      <td>False</td>\n",
       "      <td>False</td>\n",
       "      <td>False</td>\n",
       "      <td>False</td>\n",
       "    </tr>\n",
       "    <tr>\n",
       "      <th>4</th>\n",
       "      <td>False</td>\n",
       "      <td>False</td>\n",
       "      <td>False</td>\n",
       "      <td>False</td>\n",
       "      <td>False</td>\n",
       "      <td>False</td>\n",
       "      <td>False</td>\n",
       "      <td>False</td>\n",
       "      <td>False</td>\n",
       "      <td>False</td>\n",
       "    </tr>\n",
       "    <tr>\n",
       "      <th>...</th>\n",
       "      <td>...</td>\n",
       "      <td>...</td>\n",
       "      <td>...</td>\n",
       "      <td>...</td>\n",
       "      <td>...</td>\n",
       "      <td>...</td>\n",
       "      <td>...</td>\n",
       "      <td>...</td>\n",
       "      <td>...</td>\n",
       "      <td>...</td>\n",
       "    </tr>\n",
       "    <tr>\n",
       "      <th>6883</th>\n",
       "      <td>False</td>\n",
       "      <td>False</td>\n",
       "      <td>False</td>\n",
       "      <td>False</td>\n",
       "      <td>False</td>\n",
       "      <td>False</td>\n",
       "      <td>False</td>\n",
       "      <td>False</td>\n",
       "      <td>False</td>\n",
       "      <td>False</td>\n",
       "    </tr>\n",
       "    <tr>\n",
       "      <th>6884</th>\n",
       "      <td>False</td>\n",
       "      <td>False</td>\n",
       "      <td>False</td>\n",
       "      <td>False</td>\n",
       "      <td>False</td>\n",
       "      <td>False</td>\n",
       "      <td>False</td>\n",
       "      <td>False</td>\n",
       "      <td>False</td>\n",
       "      <td>False</td>\n",
       "    </tr>\n",
       "    <tr>\n",
       "      <th>6885</th>\n",
       "      <td>False</td>\n",
       "      <td>False</td>\n",
       "      <td>False</td>\n",
       "      <td>False</td>\n",
       "      <td>False</td>\n",
       "      <td>False</td>\n",
       "      <td>False</td>\n",
       "      <td>False</td>\n",
       "      <td>False</td>\n",
       "      <td>False</td>\n",
       "    </tr>\n",
       "    <tr>\n",
       "      <th>6886</th>\n",
       "      <td>False</td>\n",
       "      <td>False</td>\n",
       "      <td>False</td>\n",
       "      <td>False</td>\n",
       "      <td>False</td>\n",
       "      <td>False</td>\n",
       "      <td>False</td>\n",
       "      <td>False</td>\n",
       "      <td>False</td>\n",
       "      <td>False</td>\n",
       "    </tr>\n",
       "    <tr>\n",
       "      <th>6887</th>\n",
       "      <td>False</td>\n",
       "      <td>False</td>\n",
       "      <td>False</td>\n",
       "      <td>False</td>\n",
       "      <td>False</td>\n",
       "      <td>False</td>\n",
       "      <td>False</td>\n",
       "      <td>False</td>\n",
       "      <td>False</td>\n",
       "      <td>False</td>\n",
       "    </tr>\n",
       "  </tbody>\n",
       "</table>\n",
       "<p>6888 rows × 10 columns</p>\n",
       "</div>"
      ],
      "text/plain": [
       "       name  company  country  price  ratings  score   type  rum_url  img_url  \\\n",
       "0     False    False    False  False    False  False  False    False    False   \n",
       "1     False    False    False  False    False  False  False    False    False   \n",
       "2     False    False    False  False    False  False  False    False    False   \n",
       "3     False    False    False  False    False  False  False    False    False   \n",
       "4     False    False    False  False    False  False  False    False    False   \n",
       "...     ...      ...      ...    ...      ...    ...    ...      ...      ...   \n",
       "6883  False    False    False  False    False  False  False    False    False   \n",
       "6884  False    False    False  False    False  False  False    False    False   \n",
       "6885  False    False    False  False    False  False  False    False    False   \n",
       "6886  False    False    False  False    False  False  False    False    False   \n",
       "6887  False    False    False  False    False  False  False    False    False   \n",
       "\n",
       "      br_score  \n",
       "0        False  \n",
       "1        False  \n",
       "2        False  \n",
       "3        False  \n",
       "4        False  \n",
       "...        ...  \n",
       "6883     False  \n",
       "6884     False  \n",
       "6885     False  \n",
       "6886     False  \n",
       "6887     False  \n",
       "\n",
       "[6888 rows x 10 columns]"
      ]
     },
     "execution_count": 3,
     "metadata": {},
     "output_type": "execute_result"
    }
   ],
   "source": [
    "list_rhum.isnull()"
   ]
  },
  {
   "cell_type": "code",
   "execution_count": 4,
   "id": "sealed-newark",
   "metadata": {},
   "outputs": [
    {
     "name": "stdout",
     "output_type": "stream",
     "text": [
      "<class 'pandas.core.frame.DataFrame'>\n",
      "RangeIndex: 6888 entries, 0 to 6887\n",
      "Data columns (total 10 columns):\n",
      " #   Column    Non-Null Count  Dtype  \n",
      "---  ------    --------------  -----  \n",
      " 0   name      6888 non-null   object \n",
      " 1   company   6888 non-null   object \n",
      " 2   country   6888 non-null   object \n",
      " 3   price     6888 non-null   int64  \n",
      " 4   ratings   6888 non-null   int64  \n",
      " 5   score     6888 non-null   float64\n",
      " 6   type      6888 non-null   object \n",
      " 7   rum_url   6888 non-null   object \n",
      " 8   img_url   6888 non-null   object \n",
      " 9   br_score  6888 non-null   float64\n",
      "dtypes: float64(2), int64(2), object(6)\n",
      "memory usage: 538.2+ KB\n"
     ]
    }
   ],
   "source": [
    "list_rhum.info()"
   ]
  },
  {
   "cell_type": "code",
   "execution_count": 39,
   "id": "worse-perry",
   "metadata": {},
   "outputs": [],
   "source": [
    "list_rhum.columns = ['NOM', 'PRODUCTEUR', 'ORIGINE', 'PRIX', 'NOTES', 'SCORE', 'TYPE', 'RUM_URL', 'IMG_URL', 'BR_SCORE']"
   ]
  },
  {
   "cell_type": "markdown",
   "id": "ahead-colombia",
   "metadata": {},
   "source": [
    "- nettoyage des données"
   ]
  },
  {
   "cell_type": "code",
   "execution_count": 40,
   "id": "divine-blame",
   "metadata": {
    "tags": []
   },
   "outputs": [],
   "source": [
    "countries = list_rhum['ORIGINE']"
   ]
  },
  {
   "cell_type": "code",
   "execution_count": 41,
   "id": "italic-month",
   "metadata": {},
   "outputs": [
    {
     "data": {
      "text/plain": [
       "0       United States\n",
       "1       United States\n",
       "2              Rwanda\n",
       "3             Ecuador\n",
       "4             Ecuador\n",
       "            ...      \n",
       "6883           Panama\n",
       "6884           Panama\n",
       "6885           Brazil\n",
       "6886           Brazil\n",
       "6887           Brazil\n",
       "Name: ORIGINE, Length: 6888, dtype: object"
      ]
     },
     "execution_count": 41,
     "metadata": {},
     "output_type": "execute_result"
    }
   ],
   "source": [
    "countries "
   ]
  },
  {
   "cell_type": "code",
   "execution_count": 42,
   "id": "compound-penguin",
   "metadata": {},
   "outputs": [],
   "source": [
    "countries = countries.drop_duplicates()"
   ]
  },
  {
   "cell_type": "code",
   "execution_count": 43,
   "id": "occupational-reach",
   "metadata": {},
   "outputs": [
    {
     "data": {
      "text/plain": [
       "0             United States\n",
       "2                    Rwanda\n",
       "3                   Ecuador\n",
       "6       Trinidad and Tobago\n",
       "9                    Panama\n",
       "               ...         \n",
       "6276          Liechtenstein\n",
       "6415    British West Indies\n",
       "6572             Cape Verde\n",
       "6759                 Brasil\n",
       "6762                Ireland\n",
       "Name: ORIGINE, Length: 111, dtype: object"
      ]
     },
     "execution_count": 43,
     "metadata": {},
     "output_type": "execute_result"
    }
   ],
   "source": [
    "countries"
   ]
  },
  {
   "cell_type": "code",
   "execution_count": 44,
   "id": "dried-individual",
   "metadata": {},
   "outputs": [],
   "source": [
    "brand = list_rhum['PRODUCTEUR'].drop_duplicates()"
   ]
  },
  {
   "cell_type": "code",
   "execution_count": 45,
   "id": "binding-denver",
   "metadata": {},
   "outputs": [
    {
     "data": {
      "text/plain": [
       "0          Unknown\n",
       "6          10 Cane\n",
       "9             1423\n",
       "12            1492\n",
       "30            1767\n",
       "           ...    \n",
       "6870     Xtabentun\n",
       "6875        Yacuro\n",
       "6880    Yahara Bay\n",
       "6883          Yolo\n",
       "6885        Ypioca\n",
       "Name: PRODUCTEUR, Length: 780, dtype: object"
      ]
     },
     "execution_count": 45,
     "metadata": {},
     "output_type": "execute_result"
    }
   ],
   "source": [
    "brand"
   ]
  },
  {
   "cell_type": "code",
   "execution_count": 46,
   "id": "adapted-tumor",
   "metadata": {},
   "outputs": [],
   "source": [
    "product = list_rhum['NOM']"
   ]
  },
  {
   "cell_type": "code",
   "execution_count": null,
   "id": "interpreted-element",
   "metadata": {},
   "outputs": [],
   "source": []
  },
  {
   "cell_type": "code",
   "execution_count": null,
   "id": "static-escape",
   "metadata": {},
   "outputs": [],
   "source": []
  },
  {
   "cell_type": "markdown",
   "id": "prescribed-maryland",
   "metadata": {},
   "source": [
    "- insertion des données"
   ]
  },
  {
   "cell_type": "code",
   "execution_count": 47,
   "id": "romance-projection",
   "metadata": {
    "tags": []
   },
   "outputs": [],
   "source": [
    "from sqlalchemy import create_engine\n",
    "import os\n",
    "\n",
    "user = 'postgres'\n",
    "password = os.environ.get('pg_psw')\n",
    "host = 'localhost'\n",
    "port = '5432'\n",
    "dbname = 'collection'  \n",
    "\n",
    "engine = create_engine(f\"postgresql://{user}:{password}@{host}:{port}/{dbname}\")\n",
    "\n",
    "#inventaire.to_sql('rhum', engine, if_exists='replace', index=False)\n"
   ]
  },
  {
   "cell_type": "code",
   "execution_count": 48,
   "id": "fifteen-powell",
   "metadata": {},
   "outputs": [],
   "source": [
    "brand.to_sql('producteur', engine, if_exists='replace', index=False)"
   ]
  },
  {
   "cell_type": "code",
   "execution_count": 49,
   "id": "modern-liability",
   "metadata": {},
   "outputs": [],
   "source": [
    "countries.to_sql('origine', engine, if_exists='replace', index=False)"
   ]
  },
  {
   "cell_type": "code",
   "execution_count": 50,
   "id": "palestinian-individual",
   "metadata": {},
   "outputs": [],
   "source": [
    "product.to_sql('produit', engine, if_exists='append', index=False)"
   ]
  },
  {
   "cell_type": "markdown",
   "id": "collectible-sacramento",
   "metadata": {},
   "source": [
    "-------------------"
   ]
  },
  {
   "cell_type": "markdown",
   "id": "altered-temperature",
   "metadata": {},
   "source": [
    "### ajout des id auto increment"
   ]
  },
  {
   "cell_type": "markdown",
   "id": "smooth-disclosure",
   "metadata": {},
   "source": [
    "- table origine"
   ]
  },
  {
   "cell_type": "code",
   "execution_count": 51,
   "id": "cross-guatemala",
   "metadata": {},
   "outputs": [],
   "source": [
    "#ALTER TABLE test1 ADD COLUMN id SERIAL PRIMARY KEY;"
   ]
  },
  {
   "cell_type": "code",
   "execution_count": 52,
   "id": "governmental-documentation",
   "metadata": {},
   "outputs": [],
   "source": [
    "sql = \"\"\"ALTER TABLE origine ADD COLUMN id SERIAL PRIMARY KEY;\"\"\""
   ]
  },
  {
   "cell_type": "code",
   "execution_count": 2,
   "id": "finite-assignment",
   "metadata": {},
   "outputs": [],
   "source": [
    "import psycopg2\n",
    "import os"
   ]
  },
  {
   "cell_type": "code",
   "execution_count": 54,
   "id": "military-market",
   "metadata": {
    "tags": []
   },
   "outputs": [
    {
     "name": "stdout",
     "output_type": "stream",
     "text": [
      "Ajout effectué avec succès !\n"
     ]
    }
   ],
   "source": [
    "conn = psycopg2.connect(database=\"collection\", user='postgres', password=os.environ.get(\"pg_psw\"), host='localhost', port= '5432')\n",
    "\n",
    "conn.autocommit = True\n",
    "\n",
    "cursor = conn.cursor()\n",
    "\n",
    "sql = \"\"\"ALTER TABLE origine ADD COLUMN id SERIAL PRIMARY KEY;\"\"\"\n",
    "\n",
    "cursor.execute(sql)\n",
    "print(\"Ajout effectué avec succès !\")\n",
    "\n",
    "conn.close()"
   ]
  },
  {
   "cell_type": "markdown",
   "id": "invisible-economics",
   "metadata": {},
   "source": [
    "- table producteur"
   ]
  },
  {
   "cell_type": "code",
   "execution_count": 55,
   "id": "after-tsunami",
   "metadata": {},
   "outputs": [
    {
     "name": "stdout",
     "output_type": "stream",
     "text": [
      "Ajout effectué avec succès !\n"
     ]
    }
   ],
   "source": [
    "conn = psycopg2.connect(database=\"collection\", user='postgres', password=os.environ.get(\"pg_psw\"), host='localhost', port= '5432')\n",
    "\n",
    "conn.autocommit = True\n",
    "\n",
    "cursor = conn.cursor()\n",
    "\n",
    "sql = \"\"\"ALTER TABLE producteur ADD COLUMN id SERIAL PRIMARY KEY;\"\"\"\n",
    "\n",
    "cursor.execute(sql)\n",
    "print(\"Ajout effectué avec succès !\")\n",
    "\n",
    "conn.close()"
   ]
  },
  {
   "cell_type": "markdown",
   "id": "anticipated-international",
   "metadata": {},
   "source": [
    "- table produit"
   ]
  },
  {
   "cell_type": "code",
   "execution_count": 58,
   "id": "distant-capitol",
   "metadata": {},
   "outputs": [
    {
     "name": "stdout",
     "output_type": "stream",
     "text": [
      "Ajout effectué avec succès !\n"
     ]
    }
   ],
   "source": [
    "conn = psycopg2.connect(database=\"collection\", user='postgres', password=os.environ.get(\"pg_psw\"), host='localhost', port= '5432')\n",
    "\n",
    "conn.autocommit = True\n",
    "\n",
    "cursor = conn.cursor()\n",
    "\n",
    "sql = \"\"\"ALTER TABLE produit ADD COLUMN id SERIAL PRIMARY KEY;\"\"\"\n",
    "\n",
    "cursor.execute(sql)\n",
    "print(\"Ajout effectué avec succès !\")\n",
    "\n",
    "conn.close()"
   ]
  },
  {
   "cell_type": "code",
   "execution_count": 3,
   "id": "floating-possible",
   "metadata": {},
   "outputs": [
    {
     "ename": "UndefinedColumn",
     "evalue": "ERREUR:  la colonne « origine » référencée dans la contrainte de clé étrangère n'existe pas\n",
     "output_type": "error",
     "traceback": [
      "\u001b[1;31m---------------------------------------------------------------------------\u001b[0m",
      "\u001b[1;31mUndefinedColumn\u001b[0m                           Traceback (most recent call last)",
      "\u001b[1;32m<ipython-input-3-04b72f026886>\u001b[0m in \u001b[0;36m<module>\u001b[1;34m\u001b[0m\n\u001b[0;32m      8\u001b[0m     '''\n\u001b[0;32m      9\u001b[0m \u001b[1;33m\u001b[0m\u001b[0m\n\u001b[1;32m---> 10\u001b[1;33m \u001b[0mcursor\u001b[0m\u001b[1;33m.\u001b[0m\u001b[0mexecute\u001b[0m\u001b[1;33m(\u001b[0m\u001b[0msql\u001b[0m\u001b[1;33m)\u001b[0m\u001b[1;33m\u001b[0m\u001b[1;33m\u001b[0m\u001b[0m\n\u001b[0m\u001b[0;32m     11\u001b[0m \u001b[0mprint\u001b[0m\u001b[1;33m(\u001b[0m\u001b[1;34m\"Relation créée avec respect et robustesse !\"\u001b[0m\u001b[1;33m)\u001b[0m\u001b[1;33m\u001b[0m\u001b[1;33m\u001b[0m\u001b[0m\n\u001b[0;32m     12\u001b[0m \u001b[1;33m\u001b[0m\u001b[0m\n",
      "\u001b[1;31mUndefinedColumn\u001b[0m: ERREUR:  la colonne « origine » référencée dans la contrainte de clé étrangère n'existe pas\n"
     ]
    }
   ],
   "source": [
    "conn = psycopg2.connect(database=\"collection\", user='postgres', password=os.environ.get(\"pg_psw\"), host='localhost', port= '5432')\n",
    "\n",
    "conn.autocommit = True\n",
    "\n",
    "cursor = conn.cursor()\n",
    "\n",
    "sql = '''ALTER TABLE producteur ADD FOREIGN KEY (id) REFERENCES origine(ORIGINE);\n",
    "    '''\n",
    "\n",
    "cursor.execute(sql)\n",
    "print(\"Relation créée avec respect et robustesse !\")\n",
    "\n",
    "conn.close()"
   ]
  },
  {
   "cell_type": "markdown",
   "id": "specified-strand",
   "metadata": {},
   "source": [
    "UPDATE niveau\n",
    "         SET mesure_id = mesure.mesure_id\n",
    "         FROM mesure\n",
    "         WHERE mesure.polluant = niveau.polluant;"
   ]
  },
  {
   "cell_type": "code",
   "execution_count": null,
   "id": "antique-moore",
   "metadata": {},
   "outputs": [],
   "source": [
    "conn = psycopg2.connect(database=\"collection\", user='postgres', password=os.environ.get(\"pg_psw\"), host='localhost', port= '5432')\n",
    "\n",
    "conn.autocommit = True\n",
    "\n",
    "cursor = conn.cursor()\n",
    "\n",
    "sql = '''UPDATE producteur SET origine_id = origine.id FROM origine WHERE mesure.polluant = niveau.polluant;ALTER TABLE producteur ADD FOREIGN KEY (id) REFERENCES origine(ORIGINE);\n",
    "    '''\n",
    "\n",
    "cursor.execute(sql)\n",
    "print(\"Relation créée avec respect et robustesse !\")\n",
    "\n",
    "conn.close()"
   ]
  }
 ],
 "metadata": {
  "kernelspec": {
   "display_name": "Python 3",
   "language": "python",
   "name": "python3"
  },
  "language_info": {
   "codemirror_mode": {
    "name": "ipython",
    "version": 3
   },
   "file_extension": ".py",
   "mimetype": "text/x-python",
   "name": "python",
   "nbconvert_exporter": "python",
   "pygments_lexer": "ipython3",
   "version": "3.8.6"
  },
  "metadata": {
   "interpreter": {
    "hash": "2db524e06e9f5f4ffedc911c917cb75e12dbc923643829bf417064a77eb14d37"
   }
  }
 },
 "nbformat": 4,
 "nbformat_minor": 5
}
