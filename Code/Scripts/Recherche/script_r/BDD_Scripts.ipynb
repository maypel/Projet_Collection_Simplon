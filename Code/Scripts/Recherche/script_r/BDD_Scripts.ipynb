{
 "cells": [
  {
   "cell_type": "markdown",
   "id": "endless-mattress",
   "metadata": {},
   "source": [
    "# **CREATION DE LA BASE DE DONNEES**"
   ]
  },
  {
   "cell_type": "markdown",
   "id": "viral-layer",
   "metadata": {},
   "source": [
    "###### "
   ]
  },
  {
   "cell_type": "code",
   "execution_count": 1,
   "id": "sharing-consideration",
   "metadata": {},
   "outputs": [],
   "source": [
    "# Import des librairies\n",
    "\n",
    "import os\n",
    "import psycopg2"
   ]
  },
  {
   "cell_type": "markdown",
   "id": "opponent-passing",
   "metadata": {
    "tags": []
   },
   "source": [
    "###### "
   ]
  },
  {
   "cell_type": "markdown",
   "id": "fatal-sender",
   "metadata": {},
   "source": [
    "-------------------------"
   ]
  },
  {
   "cell_type": "markdown",
   "id": "oriented-subcommittee",
   "metadata": {},
   "source": [
    "### Création de la Base de données"
   ]
  },
  {
   "cell_type": "code",
   "execution_count": 2,
   "id": "ordered-phrase",
   "metadata": {},
   "outputs": [
    {
     "name": "stdout",
     "output_type": "stream",
     "text": [
      "La DataBase à été créée avec succès !\n"
     ]
    }
   ],
   "source": [
    "\"\"\"\n",
    "Connexion dans un premier temps à postgres\n",
    "pour initialiser notre database collection\n",
    "\"\"\"\n",
    "\n",
    "\n",
    "# initialisation des variables  de connection\n",
    "utilisateur = \"postgres\"\n",
    "\n",
    "mot_passe = os.environ.get('pg_psw')\n",
    "\n",
    "base_de_donnees = \"postgres\"\n",
    "\n",
    "\n",
    "\n",
    "try:\n",
    "    \n",
    "    # création de l'objet conn\n",
    "\n",
    "    conn = psycopg2.connect(dbname= base_de_donnees, user=utilisateur, password=mot_passe, host=\"localhost\", port= 5432)\n",
    "\n",
    "    conn.set_session(autocommit=True)   # on force\n",
    "\n",
    "    # initialisation du cursor\n",
    "\n",
    "    cursor = conn.cursor()\n",
    "\n",
    "    # cursor.execute permet d'exécuter une commande 'sql'\n",
    "\n",
    "    cursor.execute(\"CREATE DATABASE collection6\")\n",
    "\n",
    "    print(\"La DataBase à été créée avec succès !\")\n",
    "\n",
    "        \n",
    "except psycopg2.Error as e:\n",
    "    \n",
    "    print(\"Problème lors de la connection à la base de donnée\")\n",
    "\n",
    "    print(e)\n",
    "\n",
    "   \n",
    "    \n",
    "finally:\n",
    "        \n",
    "    # ferme le curseur et devient inutilisable\n",
    "\n",
    "    cursor.close\n",
    "\n",
    "    # ferme la connexion à database\n",
    "\n",
    "    conn.close"
   ]
  },
  {
   "cell_type": "markdown",
   "id": "environmental-culture",
   "metadata": {},
   "source": [
    "######"
   ]
  },
  {
   "cell_type": "markdown",
   "id": "fancy-lighting",
   "metadata": {},
   "source": [
    "------------------"
   ]
  },
  {
   "cell_type": "markdown",
   "id": "exposed-saturday",
   "metadata": {},
   "source": [
    "## Fonctions de gestion de la BDD"
   ]
  },
  {
   "cell_type": "code",
   "execution_count": 3,
   "id": "stuffed-exclusive",
   "metadata": {},
   "outputs": [],
   "source": [
    "# Cellule pour nos fonctions de connection\n",
    "\n",
    "# Fonction qui va nous permettre de créer une Base de données.\n",
    "def ouvrir_connection(base_de_donnee, utilisateur, mot_passe, host='localhost', port=5432):\n",
    "    \n",
    "    try:\n",
    "        # création de l'objet conn\n",
    "        conn = psycopg2.connect(dbname= base_de_donnee, user=utilisateur, password = mot_passe, host=\"localhost\", port= 5432)\n",
    "\n",
    "        # on force la sauvegarde\n",
    "        conn.set_session(autocommit=True)   \n",
    "        \n",
    "        # initialisation du cursor\n",
    "        cursor = conn.cursor()\n",
    "        \n",
    "        # exécution de la requête sql de création de la base de donnée\n",
    "        #cursor.execute(\"CREATE DATABASE IF NOT EXISTS movie\")\n",
    "\n",
    "    # gestion des erreurs    \n",
    "    except psycopg2.Error as e:\n",
    "        print(\"Problème lors de la connection à la base de donnée\")\n",
    "        print(e)\n",
    "        return None\n",
    "    # dans tous les cas on va clôturer la session\n",
    "    finally:\n",
    "        cursor.close\n",
    "        conn.close\n",
    "    return conn\n",
    "   \n",
    "    # fonction pour supprimer une table\n",
    "def supprimer_table(conn, sql_supprimer_table, table):\n",
    "    try:\n",
    "        cursor = conn.cursor()\n",
    "        cursor.execute(f\"\"\"DROP TABLE IF EXISTS {table} CASCADE\"\"\")\n",
    "        conn.commit()\n",
    "    except psycopg2.Error as e:\n",
    "        print(\"Erreur lors de la suppression de la table\")\n",
    "        print(e)\n",
    "        return\n",
    "    cursor.close()\n",
    "    print(\"La table a été supprimée avec succès\")\n",
    "\n",
    "# fonction pour créer une table    \n",
    "def creer_table(conn, sql_creer_table):\n",
    "    try:\n",
    "        cursor = conn.cursor()\n",
    "        cursor.execute(sql_creer_table)\n",
    "        conn.commit()\n",
    "    except psycopg2.Error as e:\n",
    "        print(\"Erreur lors de la création de la table\")\n",
    "        print(e)\n",
    "        return\n",
    "    cursor.close()\n",
    "    print(\"La table a été crée avec succès\")\n",
    "\n",
    "# fonction de lecture de la table    \n",
    "def lire_table(conn, sql_lire_donnee):\n",
    "    try:\n",
    "        cursor = conn.cursor()\n",
    "        cursor.execute(sql_lire_donnee)\n",
    "        conn.commit()\n",
    "    except psycopg2.Error as e:\n",
    "        print(\"Erreur lors de la lecture des données\")\n",
    "        print(e)\n",
    "        return None\n",
    "    \n",
    "    print(\"Les données ont été lues avec succès\")\n",
    "    \n",
    "    data = []\n",
    "    for row in cursor:\n",
    "        data.append(row)\n",
    "\n",
    "    cursor.close()\n",
    "    \n",
    "    return data   "
   ]
  },
  {
   "cell_type": "markdown",
   "id": "massive-translator",
   "metadata": {},
   "source": [
    "###### "
   ]
  },
  {
   "cell_type": "markdown",
   "id": "automotive-dance",
   "metadata": {},
   "source": [
    "## Requêtes SQL"
   ]
  },
  {
   "cell_type": "code",
   "execution_count": 4,
   "id": "nearby-forward",
   "metadata": {},
   "outputs": [],
   "source": [
    "\"\"\"cellule qui content différentes requêtes sql\n",
    "\"\"\"\n",
    "\n",
    "# requète création table d'origine\n",
    "sql_creer_table1 = \"\"\"CREATE TABLE IF NOT EXISTS Origine(\n",
    "   code_Origine SERIAL,\n",
    "   nom VARCHAR(100),\n",
    "   PRIMARY KEY(Code_Origine)\n",
    ");\n",
    "\"\"\"\n",
    "# requète création table producteur\n",
    "sql_creer_table2 = \"\"\"CREATE TABLE IF NOT EXISTS Producteur(\n",
    "   code_producteur SERIAL,\n",
    "   nom_producteur VARCHAR(100),\n",
    "   code_Origine INT,\n",
    "   PRIMARY KEY(Code_producteur),\n",
    "   FOREIGN KEY(Code_Origine) REFERENCES Origine(Code_Origine)\n",
    ");\n",
    "\"\"\"\n",
    "# requète création table produit\n",
    "sql_creer_table3 = \"\"\"CREATE TABLE IF NOT EXISTS Produit(\n",
    "   code_produit SERIAL,\n",
    "   nom_produit VARCHAR(250),\n",
    "   volume DECIMAL(15,2),\n",
    "   degre DECIMAL(15,2),\n",
    "   type_rhum VARCHAR(50),\n",
    "   code_producteur INT,\n",
    "   PRIMARY KEY(code_produit),\n",
    "   FOREIGN KEY(code_producteur) REFERENCES Producteur(code_producteur)\n",
    ");\n",
    "\"\"\"\n",
    "sql_creer_table4 = \"\"\"CREATE TABLE IF NOT EXISTS Utilisateur(\n",
    "   code_utilisateur SERIAL,\n",
    "   nom VARCHAR(100),\n",
    "   surnom VARCHAR(100),\n",
    "   email VARCHAR(150),\n",
    "   PRIMARY KEY(code_utilisateur)\n",
    ");\n",
    "\"\"\"\n",
    "sql_creer_table5 = \"\"\"CREATE TABLE IF NOT EXISTS Collection(\n",
    "   Code_collection SERIAL,\n",
    "   nom VARCHAR(250),\n",
    "   description VARCHAR(500),\n",
    "   code_utilisateur INT,\n",
    "   PRIMARY KEY(Code_collection),\n",
    "   UNIQUE(code_utilisateur),\n",
    "   FOREIGN KEY(code_utilisateur) REFERENCES Utilisateur(code_utilisateur)\n",
    ");\n",
    "\"\"\"\n",
    "\n",
    "sql_creer_table6 = \"\"\"CREATE TABLE IF NOT EXISTS Compose(\n",
    "   Code_produit INT,\n",
    "   Code_collection INT,\n",
    "   description VARCHAR(250),\n",
    "   PRIMARY KEY(Code_produit, Code_collection),\n",
    "   FOREIGN KEY(Code_produit) REFERENCES Produit(Code_produit),\n",
    "   FOREIGN KEY(Code_collection) REFERENCES Collection(Code_collection)\n",
    ");\n",
    "\"\"\"\n",
    "\n",
    "sql_creer_table7 = \"\"\"CREATE TABLE IF NOT EXISTS role(\n",
    "   code_role INT,\n",
    "   nom VARCHAR(50),\n",
    "   PRIMARY KEY(code_role)\n",
    ");\n",
    "\"\"\"\n",
    "\n",
    "\n",
    "sql_creer_table8 = \"\"\"CREATE TABLE IF NOT EXISTS apiebay(\n",
    "   code_api SERIAL,\n",
    "   itemid INT,\n",
    "   titre VARCHAR(250),\n",
    "   prix FLOAT,\n",
    "   devise VARCHAR(50),\n",
    "   date_debut DATE,\n",
    "   date_fin DATE,\n",
    "   date_enregistrement DATE,\n",
    "   galleryURL TEXT\n",
    ");\n",
    "\"\"\"\n",
    "# requète lecture des données\n",
    "sql_lire_donnee = \"\"\"\n",
    "    SELECT *\n",
    "    FROM Produit\n",
    "    LIMIT 10;\n",
    "\"\"\"\n",
    "\n"
   ]
  },
  {
   "cell_type": "markdown",
   "id": "reflected-finding",
   "metadata": {},
   "source": [
    "######"
   ]
  },
  {
   "cell_type": "markdown",
   "id": "unusual-elite",
   "metadata": {},
   "source": [
    "## Paramètres BDD"
   ]
  },
  {
   "cell_type": "code",
   "execution_count": 5,
   "id": "behavioral-water",
   "metadata": {},
   "outputs": [],
   "source": [
    "# initialisation des variables pour me connecter à ma bdd postgres\n",
    "\n",
    "base_de_donnee = \"collection6\"\n",
    "\n",
    "utilisateur = \"postgres\"\n",
    "\n",
    "mot_passe = os.environ.get('pg_psw')\n"
   ]
  },
  {
   "cell_type": "markdown",
   "id": "indian-collector",
   "metadata": {},
   "source": [
    "######"
   ]
  },
  {
   "cell_type": "markdown",
   "id": "international-exchange",
   "metadata": {},
   "source": [
    "###### "
   ]
  },
  {
   "cell_type": "markdown",
   "id": "trained-encoding",
   "metadata": {},
   "source": [
    "## Execution des foncs et des requêtes"
   ]
  },
  {
   "cell_type": "code",
   "execution_count": 6,
   "id": "sensitive-september",
   "metadata": {},
   "outputs": [],
   "source": [
    "# initialisation de ma connection\n",
    "conn = ouvrir_connection(base_de_donnee, utilisateur, mot_passe)"
   ]
  },
  {
   "cell_type": "code",
   "execution_count": 7,
   "id": "minimal-philippines",
   "metadata": {},
   "outputs": [
    {
     "name": "stdout",
     "output_type": "stream",
     "text": [
      "La table a été crée avec succès\n"
     ]
    }
   ],
   "source": [
    "# création table origine\n",
    "creer_table(conn, sql_creer_table1)"
   ]
  },
  {
   "cell_type": "code",
   "execution_count": 8,
   "id": "mighty-booth",
   "metadata": {},
   "outputs": [
    {
     "name": "stdout",
     "output_type": "stream",
     "text": [
      "La table a été crée avec succès\n"
     ]
    }
   ],
   "source": [
    "# création table producteur\n",
    "creer_table(conn, sql_creer_table2)"
   ]
  },
  {
   "cell_type": "code",
   "execution_count": 9,
   "id": "appointed-mediterranean",
   "metadata": {},
   "outputs": [
    {
     "name": "stdout",
     "output_type": "stream",
     "text": [
      "La table a été crée avec succès\n"
     ]
    }
   ],
   "source": [
    "# création table produit\n",
    "creer_table(conn, sql_creer_table3)"
   ]
  },
  {
   "cell_type": "code",
   "execution_count": 10,
   "id": "verbal-burden",
   "metadata": {},
   "outputs": [
    {
     "name": "stdout",
     "output_type": "stream",
     "text": [
      "La table a été crée avec succès\n"
     ]
    }
   ],
   "source": [
    "# création table utilisateur\n",
    "creer_table(conn, sql_creer_table4)"
   ]
  },
  {
   "cell_type": "code",
   "execution_count": 11,
   "id": "danish-chocolate",
   "metadata": {},
   "outputs": [
    {
     "name": "stdout",
     "output_type": "stream",
     "text": [
      "La table a été crée avec succès\n"
     ]
    }
   ],
   "source": [
    "# création table collection\n",
    "creer_table(conn, sql_creer_table5)"
   ]
  },
  {
   "cell_type": "code",
   "execution_count": 12,
   "id": "damaged-writing",
   "metadata": {},
   "outputs": [
    {
     "name": "stdout",
     "output_type": "stream",
     "text": [
      "La table a été crée avec succès\n"
     ]
    }
   ],
   "source": [
    "# création table compose\n",
    "creer_table(conn, sql_creer_table6)"
   ]
  },
  {
   "cell_type": "code",
   "execution_count": 13,
   "id": "cheap-register",
   "metadata": {},
   "outputs": [
    {
     "name": "stdout",
     "output_type": "stream",
     "text": [
      "La table a été crée avec succès\n"
     ]
    }
   ],
   "source": [
    "# création table role\n",
    "creer_table(conn, sql_creer_table7)"
   ]
  },
  {
   "cell_type": "code",
   "execution_count": 14,
   "id": "imperial-bronze",
   "metadata": {},
   "outputs": [
    {
     "name": "stdout",
     "output_type": "stream",
     "text": [
      "La table a été crée avec succès\n"
     ]
    }
   ],
   "source": [
    "# création table droit\n",
    "creer_table(conn, sql_creer_table8)"
   ]
  },
  {
   "cell_type": "code",
   "execution_count": null,
   "id": "vocational-shepherd",
   "metadata": {},
   "outputs": [],
   "source": [
    "# # suppression de la table\n",
    "# table = \"origine\"\n",
    "# supprimer_table(conn, sql_supprimer_table, table)"
   ]
  },
  {
   "cell_type": "code",
   "execution_count": null,
   "id": "conditional-history",
   "metadata": {},
   "outputs": [],
   "source": []
  }
 ],
 "metadata": {
  "kernelspec": {
   "display_name": "Python 3",
   "language": "python",
   "name": "python3"
  },
  "language_info": {
   "codemirror_mode": {
    "name": "ipython",
    "version": 3
   },
   "file_extension": ".py",
   "mimetype": "text/x-python",
   "name": "python",
   "nbconvert_exporter": "python",
   "pygments_lexer": "ipython3",
   "version": "3.8.6"
  }
 },
 "nbformat": 4,
 "nbformat_minor": 5
}
