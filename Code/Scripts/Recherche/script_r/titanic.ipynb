{
 "cells": [
  {
   "cell_type": "code",
   "execution_count": null,
   "id": "behavioral-capitol",
   "metadata": {},
   "outputs": [],
   "source": [
    "import pandas as pd"
   ]
  },
  {
   "cell_type": "code",
   "execution_count": null,
   "id": "burning-validation",
   "metadata": {},
   "outputs": [],
   "source": [
    "titanic = pd.read_csv(\"titanic.csv\")  # fonction qui permet delire le fichier csv grace à une data frame"
   ]
  },
  {
   "cell_type": "code",
   "execution_count": null,
   "id": "logical-alexandria",
   "metadata": {},
   "outputs": [],
   "source": [
    "titanic.info() # donne des infos sur le dataset"
   ]
  },
  {
   "cell_type": "code",
   "execution_count": null,
   "id": "contrary-pension",
   "metadata": {},
   "outputs": [],
   "source": [
    "titanic.head() # affiche les premier résultats"
   ]
  },
  {
   "cell_type": "code",
   "execution_count": null,
   "id": "polish-orlando",
   "metadata": {},
   "outputs": [],
   "source": [
    "ages = titanic[\"Age\"] # permet d'enregistrer une série (colonne) dans une variable"
   ]
  },
  {
   "cell_type": "code",
   "execution_count": null,
   "id": "sought-belle",
   "metadata": {},
   "outputs": [],
   "source": [
    "ages.head()"
   ]
  },
  {
   "cell_type": "code",
   "execution_count": null,
   "id": "announced-seating",
   "metadata": {},
   "outputs": [],
   "source": [
    "type(titanic[\"Age\"])"
   ]
  },
  {
   "cell_type": "code",
   "execution_count": null,
   "id": "textile-tribe",
   "metadata": {},
   "outputs": [],
   "source": [
    "titanic[\"Age\"].shape # 'shape' est un attribut et n'a pas besoin de ()"
   ]
  },
  {
   "cell_type": "code",
   "execution_count": null,
   "id": "rocky-roommate",
   "metadata": {},
   "outputs": [],
   "source": [
    "age_sex = titanic[[\"Age\", \"Sex\"]]"
   ]
  },
  {
   "cell_type": "code",
   "execution_count": null,
   "id": "ultimate-metropolitan",
   "metadata": {},
   "outputs": [],
   "source": [
    "age_sex.head()"
   ]
  },
  {
   "cell_type": "code",
   "execution_count": null,
   "id": "contained-plastic",
   "metadata": {},
   "outputs": [],
   "source": [
    "titanic[[\"Age\", \"Sex\"]]"
   ]
  },
  {
   "cell_type": "code",
   "execution_count": null,
   "id": "refined-portland",
   "metadata": {},
   "outputs": [],
   "source": [
    "type(titanic[[\"Age\", \"Sex\"]])"
   ]
  },
  {
   "cell_type": "code",
   "execution_count": null,
   "id": "failing-amateur",
   "metadata": {},
   "outputs": [],
   "source": [
    "titanic[[\"Age\", \"Sex\"]].shape"
   ]
  },
  {
   "cell_type": "code",
   "execution_count": null,
   "id": "verbal-specific",
   "metadata": {},
   "outputs": [],
   "source": [
    "above_35 = titanic[titanic[\"Age\"] < 35]"
   ]
  },
  {
   "cell_type": "code",
   "execution_count": null,
   "id": "grand-making",
   "metadata": {},
   "outputs": [],
   "source": [
    "above_35.head()"
   ]
  },
  {
   "cell_type": "code",
   "execution_count": null,
   "id": "certified-saskatchewan",
   "metadata": {},
   "outputs": [],
   "source": [
    "above_35.shape"
   ]
  },
  {
   "cell_type": "code",
   "execution_count": null,
   "id": "charged-penny",
   "metadata": {},
   "outputs": [],
   "source": [
    "class_23 = titanic[titanic[\"Pclass\"].isin([2,3])]"
   ]
  },
  {
   "cell_type": "code",
   "execution_count": null,
   "id": "voluntary-virus",
   "metadata": {},
   "outputs": [],
   "source": [
    "class_23.head()"
   ]
  },
  {
   "cell_type": "code",
   "execution_count": null,
   "id": "terminal-candy",
   "metadata": {},
   "outputs": [],
   "source": [
    "class_23 = titanic[(titanic[\"Pclass\"] == 2) | (titanic[\"Pclass\"] == 3)]"
   ]
  },
  {
   "cell_type": "code",
   "execution_count": null,
   "id": "eastern-tyler",
   "metadata": {},
   "outputs": [],
   "source": [
    "class_23.head()"
   ]
  },
  {
   "cell_type": "code",
   "execution_count": null,
   "id": "north-bracket",
   "metadata": {},
   "outputs": [],
   "source": [
    "age_no_na = titanic[titanic[\"Age\"].notna()]"
   ]
  },
  {
   "cell_type": "code",
   "execution_count": null,
   "id": "political-aging",
   "metadata": {},
   "outputs": [],
   "source": [
    "age_no_na.head()"
   ]
  },
  {
   "cell_type": "code",
   "execution_count": null,
   "id": "legendary-fraction",
   "metadata": {},
   "outputs": [],
   "source": [
    "age_no_na.shape"
   ]
  },
  {
   "cell_type": "code",
   "execution_count": null,
   "id": "satellite-cream",
   "metadata": {},
   "outputs": [],
   "source": [
    "adult_names = titanic.loc[titanic[\"Age\"] > 35, \"Name\"]"
   ]
  },
  {
   "cell_type": "code",
   "execution_count": null,
   "id": "directed-analyst",
   "metadata": {},
   "outputs": [],
   "source": [
    "adult_names.head()"
   ]
  },
  {
   "cell_type": "code",
   "execution_count": null,
   "id": "unlikely-league",
   "metadata": {},
   "outputs": [],
   "source": [
    "adult_names.shape"
   ]
  },
  {
   "cell_type": "code",
   "execution_count": null,
   "id": "brilliant-theology",
   "metadata": {},
   "outputs": [],
   "source": [
    "titanic.iloc[100:125, 3:6]"
   ]
  },
  {
   "cell_type": "code",
   "execution_count": null,
   "id": "governing-third",
   "metadata": {},
   "outputs": [],
   "source": [
    "titanic.iloc[0:3, 2] = \"anonymous\""
   ]
  },
  {
   "cell_type": "code",
   "execution_count": null,
   "id": "accessible-importance",
   "metadata": {},
   "outputs": [],
   "source": [
    "titanic.head"
   ]
  }
 ],
 "metadata": {
  "kernelspec": {
   "display_name": "Python 3",
   "language": "python",
   "name": "python3"
  },
  "language_info": {
   "codemirror_mode": {
    "name": "ipython",
    "version": 3
   },
   "file_extension": ".py",
   "mimetype": "text/x-python",
   "name": "python",
   "nbconvert_exporter": "python",
   "pygments_lexer": "ipython3",
   "version": "3.8.6"
  }
 },
 "nbformat": 4,
 "nbformat_minor": 5
}
