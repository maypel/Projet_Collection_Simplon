{
 "cells": [
  {
   "cell_type": "code",
   "execution_count": null,
   "id": "crude-ontario",
   "metadata": {},
   "outputs": [],
   "source": [
    "# Test du scrapping"
   ]
  },
  {
   "cell_type": "code",
   "execution_count": null,
   "id": "national-capacity",
   "metadata": {},
   "outputs": [],
   "source": [
    "import pandas as pd\n",
    "url = \"https://wikirum.fr/brand/info/391\"\n",
    "tables = pd.read_html(url) \n",
    "tables[]\n"
   ]
  },
  {
   "cell_type": "code",
   "execution_count": null,
   "id": "academic-amplifier",
   "metadata": {},
   "outputs": [],
   "source": [
    "# import libraries\n",
    "from bs4 import BeautifulSoup\n",
    "import urllib.request\n",
    "import csv"
   ]
  },
  {
   "cell_type": "code",
   "execution_count": null,
   "id": "offshore-expert",
   "metadata": {},
   "outputs": [],
   "source": [
    "# specify the url\n",
    "urlpage = 'https://wikirum.fr/brand/info/391'"
   ]
  },
  {
   "cell_type": "code",
   "execution_count": null,
   "id": "minimal-surge",
   "metadata": {},
   "outputs": [],
   "source": [
    "# query the website and return the html to the variable 'page'\n",
    "page = urllib.request.urlopen(urlpage)\n",
    "# parse the html using beautiful soup and store in variable 'soup'\n",
    "soup = BeautifulSoup(page, 'html.parser')"
   ]
  },
  {
   "cell_type": "code",
   "execution_count": null,
   "id": "spatial-roman",
   "metadata": {},
   "outputs": [],
   "source": [
    "print(soup)"
   ]
  },
  {
   "cell_type": "code",
   "execution_count": null,
   "id": "processed-undergraduate",
   "metadata": {},
   "outputs": [],
   "source": [
    "urlpage2 = 'https://rumratings.com/brands?utf8=%E2%9C%93&search=hse'"
   ]
  },
  {
   "cell_type": "code",
   "execution_count": null,
   "id": "available-employer",
   "metadata": {},
   "outputs": [],
   "source": [
    "# query the website and return the html to the variable 'page'\n",
    "page = urllib.request.urlopen(urlpage2)\n",
    "# parse the html using beautiful soup and store in variable 'soup'\n",
    "soup = BeautifulSoup(page, 'html.parser')"
   ]
  },
  {
   "cell_type": "code",
   "execution_count": null,
   "id": "american-airfare",
   "metadata": {},
   "outputs": [],
   "source": [
    "print(soup)"
   ]
  },
  {
   "cell_type": "code",
   "execution_count": null,
   "id": "recognized-documentation",
   "metadata": {},
   "outputs": [],
   "source": [
    "urlpage3 = 'https://www.lacompagniedurhum.com/catalogsearch/result/?form_key=4pKSk25SS8y18tig&q=hse'"
   ]
  },
  {
   "cell_type": "code",
   "execution_count": null,
   "id": "cordless-municipality",
   "metadata": {},
   "outputs": [],
   "source": [
    "# query the website and return the html to the variable 'page'\n",
    "page = urllib.request.urlopen(urlpage3)\n",
    "# parse the html using beautiful soup and store in variable 'soup'\n",
    "soup = BeautifulSoup(page, 'html.parser')"
   ]
  },
  {
   "cell_type": "code",
   "execution_count": null,
   "id": "bearing-stevens",
   "metadata": {},
   "outputs": [],
   "source": [
    "print(soup)"
   ]
  },
  {
   "cell_type": "code",
   "execution_count": null,
   "id": "attempted-pickup",
   "metadata": {},
   "outputs": [],
   "source": [
    "urlpage4 = 'https://www.lacompagniedurhum.com/catalogsearch/result/?form_key=4pKSk25SS8y18tig&q=depaz&origine=5764'"
   ]
  },
  {
   "cell_type": "code",
   "execution_count": null,
   "id": "polish-advisory",
   "metadata": {},
   "outputs": [],
   "source": [
    "# query the website and return the html to the variable 'page'\n",
    "page = urllib.request.urlopen(urlpage4)\n",
    "# parse the html using beautiful soup and store in variable 'soup'\n",
    "soup = BeautifulSoup(page, 'html.parser')"
   ]
  },
  {
   "cell_type": "code",
   "execution_count": null,
   "id": "swedish-heater",
   "metadata": {},
   "outputs": [],
   "source": [
    "print(soup)"
   ]
  },
  {
   "cell_type": "code",
   "execution_count": null,
   "id": "assisted-provision",
   "metadata": {},
   "outputs": [],
   "source": [
    "urlpage5 = 'https://wikirum.fr/rums'"
   ]
  },
  {
   "cell_type": "code",
   "execution_count": null,
   "id": "impressive-guidance",
   "metadata": {},
   "outputs": [],
   "source": [
    "# query the website and return the html to the variable 'page'\n",
    "page = urllib.request.urlopen(urlpage5)\n",
    "# parse the html using beautiful soup and store in variable 'soup'\n",
    "soup = BeautifulSoup(page, 'html.parser')"
   ]
  },
  {
   "cell_type": "code",
   "execution_count": null,
   "id": "absolute-wedding",
   "metadata": {},
   "outputs": [],
   "source": [
    "print(soup)"
   ]
  },
  {
   "cell_type": "code",
   "execution_count": null,
   "id": "informal-psychiatry",
   "metadata": {},
   "outputs": [],
   "source": [
    "url = 'https://rumratings.com/brands?utf8=%E2%9C%93&search=hse'"
   ]
  },
  {
   "cell_type": "code",
   "execution_count": null,
   "id": "imperial-tribune",
   "metadata": {
    "tags": []
   },
   "outputs": [],
   "source": [
    "from bs4 import BeautifulSoup\n",
    "import requests\n",
    "\n",
    "\n",
    "url_rum = requests.get(url)\n",
    "\n",
    "soup = BeautifulSoup(url_rum.text, 'lxml')\n",
    "\n",
    "#for item in soupe.findAll('a', {'class' : 'ent-name'})[:10]:   \n",
    "print(soup)"
   ]
  },
  {
   "cell_type": "code",
   "execution_count": null,
   "id": "thermal-township",
   "metadata": {},
   "outputs": [],
   "source": [
    "url = 'https://rumratings.com/brands?utf8=%E2%9C%93&page=1&search=depaz'"
   ]
  },
  {
   "cell_type": "code",
   "execution_count": null,
   "id": "loaded-shanghai",
   "metadata": {},
   "outputs": [],
   "source": [
    "from bs4 import BeautifulSoup\n",
    "import requests\n",
    "\n",
    "\n",
    "url_rum = requests.get(url)\n",
    "\n",
    "soup = BeautifulSoup(url_rum.text, 'lxml')\n",
    "\n",
    "#for item in soupe.findAll('a', {'class' : 'ent-name'})[:10]:   \n",
    "print(soup)"
   ]
  },
  {
   "cell_type": "code",
   "execution_count": null,
   "id": "substantial-journey",
   "metadata": {},
   "outputs": [],
   "source": [
    "url = 'https://rumratings.com/brands?page=2&search=hse'"
   ]
  },
  {
   "cell_type": "code",
   "execution_count": null,
   "id": "rocky-courage",
   "metadata": {},
   "outputs": [],
   "source": [
    "from bs4 import BeautifulSoup\n",
    "import requests\n",
    "\n",
    "\n",
    "url_rum = requests.get(url)\n",
    "\n",
    "soup = BeautifulSoup(url_rum.text, 'lxml')\n",
    "\n",
    "#for item in soupe.findAll('a', {'class' : 'ent-name'})[:10]:   \n",
    "print(soup)"
   ]
  },
  {
   "cell_type": "code",
   "execution_count": null,
   "id": "sticky-thunder",
   "metadata": {},
   "outputs": [],
   "source": [
    "url = 'https://rumratings.com/brands?utf8=%E2%9C%93&page=2&search=longueteau'"
   ]
  },
  {
   "cell_type": "code",
   "execution_count": null,
   "id": "intensive-speed",
   "metadata": {},
   "outputs": [],
   "source": [
    "from bs4 import BeautifulSoup\n",
    "import requests\n",
    "\n",
    "\n",
    "url_rum = requests.get(url)\n",
    "\n",
    "soup = BeautifulSoup(url_rum.text, 'lxml')\n",
    "\n",
    "#for item in soupe.findAll('a', {'class' : 'ent-name'})[:10]:   \n",
    "print(soup)"
   ]
  },
  {
   "cell_type": "code",
   "execution_count": null,
   "id": "recreational-compact",
   "metadata": {},
   "outputs": [],
   "source": [
    "url = 'https://rumratings.com/brands?utf8=%E2%9C%93&page=2&search=montebello'"
   ]
  },
  {
   "cell_type": "code",
   "execution_count": null,
   "id": "metropolitan-escape",
   "metadata": {},
   "outputs": [],
   "source": [
    "from bs4 import BeautifulSoup\n",
    "import requests\n",
    "\n",
    "\n",
    "url_rum = requests.get(url)\n",
    "\n",
    "soup = BeautifulSoup(url_rum.text, 'lxml')\n",
    "\n",
    "#for item in soupe.findAll('a', {'class' : 'ent-name'})[:10]:   \n",
    "print(soup)"
   ]
  },
  {
   "cell_type": "code",
   "execution_count": null,
   "id": "accessory-scope",
   "metadata": {},
   "outputs": [],
   "source": [
    "url = 'https://rumratings.com/brands?utf8=%E2%9C%93&page=2&search=longueteau'"
   ]
  },
  {
   "cell_type": "code",
   "execution_count": null,
   "id": "substantial-light",
   "metadata": {
    "tags": []
   },
   "outputs": [],
   "source": [
    "from bs4 import BeautifulSoup\n",
    "import requests\n",
    "\n",
    "\n",
    "url_rum = requests.get(url)\n",
    "\n",
    "soup = BeautifulSoup(url_rum.text, 'html5lib')\n",
    "\n",
    "#for item in soupe.findAll('a', {'class' : 'ent-name'})[:10]:   \n",
    "print(soup)"
   ]
  },
  {
   "cell_type": "code",
   "execution_count": null,
   "id": "buried-architect",
   "metadata": {},
   "outputs": [],
   "source": [
    "url = 'https://www.excellencerhum.com/fr/43-martinique'"
   ]
  },
  {
   "cell_type": "code",
   "execution_count": null,
   "id": "contrary-remains",
   "metadata": {},
   "outputs": [],
   "source": [
    "from bs4 import BeautifulSoup\n",
    "import requests\n",
    "\n",
    "\n",
    "url_rum = requests.get(url)\n",
    "\n",
    "soup = BeautifulSoup(url_rum.text, 'lxml')\n",
    "\n",
    "#for item in soupe.findAll('a', {'class' : 'ent-name'})[:10]:   \n",
    "print(soup)"
   ]
  },
  {
   "cell_type": "code",
   "execution_count": null,
   "id": "smooth-auction",
   "metadata": {},
   "outputs": [],
   "source": [
    "# Récupération des infos sur un pokemon https://pokemondb.net/pokedex/bulbasaur\n",
    "import urllib\n",
    "import bs4\n",
    "from urllib.request import Request, urlopen\n",
    "\n",
    "# Etape 1 : se connecter à la page et obtenir le code source\n",
    "# utilisation de l'objet requête avec en-tête pour éviter une erreur \"HTTP Error 403: Forbidden\"\n",
    "\n",
    "url_pokemon = \"https://www.excellencerhum.com/fr/43-martinique\"\n",
    "\n",
    "req = Request(url_pokemon, headers={'User-Agent': 'Mozilla/5.0'})\n",
    "html = urlopen(req).read().decode('utf-8')\n",
    "print(html)"
   ]
  },
  {
   "cell_type": "code",
   "execution_count": null,
   "id": "sonic-relevance",
   "metadata": {},
   "outputs": [],
   "source": [
    "# import libraries\n",
    "from bs4 import BeautifulSoup\n",
    "import urllib.request\n",
    "import csv"
   ]
  },
  {
   "cell_type": "code",
   "execution_count": null,
   "id": "political-boutique",
   "metadata": {},
   "outputs": [],
   "source": [
    "urlpage6 = 'https://fr.wikipedia.org/wiki/Liste_des_distilleries_de_rhum'"
   ]
  },
  {
   "cell_type": "code",
   "execution_count": null,
   "id": "figured-dayton",
   "metadata": {},
   "outputs": [],
   "source": [
    "# query the website and return the html to the variable 'page'\n",
    "page = urllib.request.urlopen(urlpage6)\n",
    "# parse the html using beautiful soup and store in variable 'soup'\n",
    "soup = BeautifulSoup(page, 'html.parser')"
   ]
  },
  {
   "cell_type": "code",
   "execution_count": null,
   "id": "secondary-dialogue",
   "metadata": {},
   "outputs": [],
   "source": [
    "soup"
   ]
  },
  {
   "cell_type": "code",
   "execution_count": null,
   "id": "expired-lawsuit",
   "metadata": {},
   "outputs": [],
   "source": []
  }
 ],
 "metadata": {
  "kernelspec": {
   "display_name": "Python 3",
   "language": "python",
   "name": "python3"
  },
  "language_info": {
   "codemirror_mode": {
    "name": "ipython",
    "version": 3
   },
   "file_extension": ".py",
   "mimetype": "text/x-python",
   "name": "python",
   "nbconvert_exporter": "python",
   "pygments_lexer": "ipython3",
   "version": "3.8.6"
  }
 },
 "nbformat": 4,
 "nbformat_minor": 5
}
