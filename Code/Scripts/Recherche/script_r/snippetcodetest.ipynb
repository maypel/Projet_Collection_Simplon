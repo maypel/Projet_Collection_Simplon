{
 "cells": [
  {
   "cell_type": "code",
   "execution_count": null,
   "id": "figured-dimension",
   "metadata": {},
   "outputs": [],
   "source": [
    "# création du code origine avec une dataframe\n",
    "df = origine_sans_doublons.reset_index()\n",
    "df['code_origine'] = df.index\n",
    "print(df)"
   ]
  },
  {
   "cell_type": "code",
   "execution_count": null,
   "id": "welsh-contents",
   "metadata": {},
   "outputs": [],
   "source": [
    "del df['index']\n",
    "df"
   ]
  },
  {
   "cell_type": "code",
   "execution_count": null,
   "id": "antique-inside",
   "metadata": {},
   "outputs": [],
   "source": [
    "a_classer = liste_rhum[['company','country']]"
   ]
  },
  {
   "cell_type": "code",
   "execution_count": null,
   "id": "norwegian-fiber",
   "metadata": {},
   "outputs": [],
   "source": [
    "a_classer.head()"
   ]
  },
  {
   "cell_type": "code",
   "execution_count": null,
   "id": "military-antibody",
   "metadata": {},
   "outputs": [],
   "source": [
    "fusion = pd.concat([a_classer, df], axis=1)"
   ]
  },
  {
   "cell_type": "code",
   "execution_count": null,
   "id": "hearing-system",
   "metadata": {},
   "outputs": [],
   "source": [
    "fusion.head()"
   ]
  },
  {
   "cell_type": "code",
   "execution_count": null,
   "id": "nonprofit-metropolitan",
   "metadata": {},
   "outputs": [],
   "source": [
    "import reprlib\n",
    "classe = {}\n",
    "classe = a_classer.set_index('company').T.to_dict('records')\n",
    "\n",
    "print(reprlib.repr(classe[0]))"
   ]
  },
  {
   "cell_type": "code",
   "execution_count": null,
   "id": "relevant-beauty",
   "metadata": {},
   "outputs": [],
   "source": [
    "# connexion à la bdd collection\n",
    "conn = psycopg2.connect(\n",
    "        user = \"postgres\",\n",
    "        password = os.environ.get(\"pg_psw\"),\n",
    "        host = \"localhost\",\n",
    "        port = \"5432\",\n",
    "        database = \"collection\"\n",
    ")\n",
    "cur = conn.cursor()\n",
    "\n",
    "sql = \"\"\"SELECT nom \n",
    "         FROM producteur\"\"\"\n",
    "cur.execute(sql)\n",
    "producteur = cur.fetchall()\n",
    "print(producteur)\n",
    "#fermeture de la connexion à la base de données\n",
    "cur.close()\n",
    "conn.close()\n",
    "print(\"La connexion PostgreSQL est fermée\")"
   ]
  }
 ],
 "metadata": {
  "kernelspec": {
   "display_name": "Python 3",
   "language": "python",
   "name": "python3"
  },
  "language_info": {
   "codemirror_mode": {
    "name": "ipython",
    "version": 3
   },
   "file_extension": ".py",
   "mimetype": "text/x-python",
   "name": "python",
   "nbconvert_exporter": "python",
   "pygments_lexer": "ipython3",
   "version": "3.8.6"
  }
 },
 "nbformat": 4,
 "nbformat_minor": 5
}
