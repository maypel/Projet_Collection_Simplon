{
 "cells": [
  {
   "cell_type": "markdown",
   "id": "approximate-thing",
   "metadata": {},
   "source": [
    "# TEST CORRESPONDANCE ORIGINE/PRODUCTEUR - INSERTION BDD"
   ]
  },
  {
   "cell_type": "markdown",
   "id": "human-teaching",
   "metadata": {},
   "source": [
    "######"
   ]
  },
  {
   "cell_type": "markdown",
   "id": "acoustic-agency",
   "metadata": {},
   "source": [
    "### Correspondance"
   ]
  },
  {
   "cell_type": "code",
   "execution_count": 1,
   "id": "protected-latest",
   "metadata": {},
   "outputs": [],
   "source": [
    "# imports des librairies\n",
    "\n",
    "import os\n",
    "import pandas as pd\n",
    "import psycopg2\n",
    "import csv\n",
    "import reprlib"
   ]
  },
  {
   "cell_type": "markdown",
   "id": "regulated-prize",
   "metadata": {},
   "source": [
    "###### "
   ]
  },
  {
   "cell_type": "markdown",
   "id": "destroyed-scope",
   "metadata": {},
   "source": [
    "-------"
   ]
  },
  {
   "cell_type": "markdown",
   "id": "dominican-cradle",
   "metadata": {},
   "source": [
    "##### Insertion de la liste des pays dans la table origine"
   ]
  },
  {
   "cell_type": "code",
   "execution_count": null,
   "id": "conservative-chorus",
   "metadata": {
    "tags": []
   },
   "outputs": [],
   "source": [
    "# connexion à la bdd collection\n",
    "conn = psycopg2.connect(\n",
    "        user = \"postgres\",\n",
    "        password = os.environ.get(\"pg_psw\"),\n",
    "        host = \"localhost\",\n",
    "        port = \"5432\",\n",
    "        database = \"collection\"\n",
    ")\n",
    "cur = conn.cursor()\n",
    "\n",
    "sql2 = \"INSERT INTO producteur (nom, code_origine) VALUES ('Montebello', 2)\"\n",
    "cur.execute(sql2)\n",
    "sql3 = \"INSERT INTO producteur (nom, code_origine) VALUES ('Foursquare', 3)\"\n",
    "cur.execute(sql3)\n",
    "#fermeture de la connexion à la base de données\n",
    "cur.close()\n",
    "conn.commit()\n",
    "conn.close()\n",
    "print(\"La connexion PostgreSQL est fermée\")"
   ]
  },
  {
   "cell_type": "code",
   "execution_count": null,
   "id": "advised-retrieval",
   "metadata": {},
   "outputs": [],
   "source": [
    "# connexion à la bdd collection\n",
    "conn = psycopg2.connect(\n",
    "        user = \"postgres\",\n",
    "        password = os.environ.get(\"pg_psw\"),\n",
    "        host = \"localhost\",\n",
    "        port = \"5432\",\n",
    "        database = \"collection\"\n",
    ")\n",
    "cur = conn.cursor()\n",
    "\n",
    "sql1 = f\"INSERT INTO producteur (nom, code_origine) VALUES ('Dillon', {orig})\"\n",
    "cur.execute(sql1)\n",
    "cur.close()\n",
    "conn.commit()\n",
    "conn.close()"
   ]
  },
  {
   "cell_type": "code",
   "execution_count": 2,
   "id": "executed-relay",
   "metadata": {},
   "outputs": [
    {
     "name": "stdout",
     "output_type": "stream",
     "text": [
      "['country', 'United States', 'Rwanda', 'Ecuador', 'Trinidad and Tobago', 'Panama', ...]\n"
     ]
    }
   ],
   "source": [
    "\n",
    "liste = []\n",
    "with open('rum_data_new.csv', newline='', encoding='utf-8') as csvfile:\n",
    "    spamreader = csv.reader(csvfile, delimiter=',')\n",
    "    for row in spamreader:\n",
    "        if row[2] not in liste:\n",
    "            liste.append(row[2])\n",
    "print(reprlib.repr(liste))"
   ]
  },
  {
   "cell_type": "code",
   "execution_count": 3,
   "id": "recent-motivation",
   "metadata": {},
   "outputs": [
    {
     "name": "stdout",
     "output_type": "stream",
     "text": [
      "United States\n"
     ]
    }
   ],
   "source": [
    "print(liste[1])"
   ]
  },
  {
   "cell_type": "code",
   "execution_count": 4,
   "id": "straight-phenomenon",
   "metadata": {},
   "outputs": [],
   "source": [
    "liste = liste[1:]"
   ]
  },
  {
   "cell_type": "code",
   "execution_count": 5,
   "id": "mobile-footage",
   "metadata": {},
   "outputs": [
    {
     "name": "stdout",
     "output_type": "stream",
     "text": [
      "['United States', 'Rwanda', 'Ecuador', 'Trinidad and Tobago', 'Panama', 'Switzerland', ...]\n"
     ]
    }
   ],
   "source": [
    "print(reprlib.repr(liste))"
   ]
  },
  {
   "cell_type": "code",
   "execution_count": 7,
   "id": "least-values",
   "metadata": {
    "tags": []
   },
   "outputs": [
    {
     "name": "stdout",
     "output_type": "stream",
     "text": [
      "109\n"
     ]
    }
   ],
   "source": [
    "print(len(liste))"
   ]
  },
  {
   "cell_type": "code",
   "execution_count": 12,
   "id": "alien-heritage",
   "metadata": {},
   "outputs": [
    {
     "name": "stdout",
     "output_type": "stream",
     "text": [
      "['company', '1000Drops', '1000 Hills Distillery', '100 Fuegos ', '101 Fuegos ', 'Key west legal rum ', ...]\n"
     ]
    }
   ],
   "source": [
    "liste2 = []\n",
    "with open('rum_data_new.csv', newline='', encoding='utf-8') as csvfile:\n",
    "    spamreader = csv.reader(csvfile, delimiter=',')\n",
    "    for row in spamreader:\n",
    "        if row[1] not in liste2:\n",
    "            liste2.append(row[1])\n",
    "print(reprlib.repr(liste2))"
   ]
  },
  {
   "cell_type": "code",
   "execution_count": 13,
   "id": "abroad-identifier",
   "metadata": {},
   "outputs": [
    {
     "name": "stdout",
     "output_type": "stream",
     "text": [
      "['1000Drops', '1000 Hills Distillery', '100 Fuegos ', '101 Fuegos ', 'Key west legal rum ', '10 Cane', ...]\n"
     ]
    }
   ],
   "source": [
    "liste2 = liste2[1:]\n",
    "print(reprlib.repr(liste2))"
   ]
  },
  {
   "cell_type": "code",
   "execution_count": 14,
   "id": "stuffed-cargo",
   "metadata": {},
   "outputs": [
    {
     "name": "stdout",
     "output_type": "stream",
     "text": [
      "3042\n"
     ]
    }
   ],
   "source": [
    "print(len(liste2))"
   ]
  },
  {
   "cell_type": "code",
   "execution_count": null,
   "id": "popular-modern",
   "metadata": {
    "tags": []
   },
   "outputs": [],
   "source": [
    "# connexion à la bdd collection\n",
    "conn = psycopg2.connect(\n",
    "        user = \"postgres\",\n",
    "        password = os.environ.get(\"pg_psw\"),\n",
    "        host = \"localhost\",\n",
    "        port = \"5432\",\n",
    "        database = \"collection\"\n",
    ")\n",
    "cur = conn.cursor()\n",
    "\n",
    "sql = \"SELECT origine.code_origine FROM origine\"\n",
    "cur.execute(sql)\n",
    "code_id = cur.fetchall()\n",
    "print(code_id)\n",
    "\n",
    "\n",
    "#fermeture de la connexion à la base de données\n",
    "cur.close()\n",
    "conn.close()\n",
    "print(\"La connexion PostgreSQL est fermée\")"
   ]
  },
  {
   "cell_type": "code",
   "execution_count": null,
   "id": "satellite-mouse",
   "metadata": {},
   "outputs": [],
   "source": [
    "# Insertion de la liste des pays dans la table origine\n",
    "\n",
    "# connexion à la bdd collection\n",
    "conn = psycopg2.connect(\n",
    "        user = \"postgres\",\n",
    "        password = os.environ.get(\"pg_psw\"),\n",
    "        host = \"localhost\",\n",
    "        port = \"5432\",\n",
    "        database = \"collection\"\n",
    ")\n",
    "cur = conn.cursor()\n",
    "\n",
    "for e in liste:\n",
    "    cur.execute(\"SELECT origine.nom FROM origine WHERE origine.nom = (%s) \", (e,))\n",
    "    verif = cur.fetchone()\n",
    "    if not verif:\n",
    "        cur.execute(\"INSERT INTO origine (nom) VALUES(%s)\", (e,))\n",
    "\n",
    "conn.commit()\n",
    "conn.close()"
   ]
  },
  {
   "cell_type": "code",
   "execution_count": 15,
   "id": "convertible-mistake",
   "metadata": {},
   "outputs": [],
   "source": [
    "# Insertion de la liste des pays dans la table producteur\n",
    "\n",
    "# connexion à la bdd collection\n",
    "conn = psycopg2.connect(\n",
    "        user = \"postgres\",\n",
    "        password = os.environ.get(\"pg_psw\"),\n",
    "        host = \"localhost\",\n",
    "        port = \"5432\",\n",
    "        database = \"collection\"\n",
    ")\n",
    "cur = conn.cursor()\n",
    "\n",
    "for p in liste2:\n",
    "    cur.execute(\"SELECT producteur.nom FROM producteur WHERE producteur.nom = (%s) \", (p,))\n",
    "    verif = cur.fetchone()\n",
    "    if not verif:\n",
    "        cur.execute(\"INSERT INTO producteur (nom) VALUES(%s)\", (p,))\n",
    "\n",
    "conn.commit()\n",
    "conn.close()"
   ]
  },
  {
   "cell_type": "markdown",
   "id": "ordinary-nerve",
   "metadata": {},
   "source": [
    "######"
   ]
  },
  {
   "cell_type": "markdown",
   "id": "nonprofit-beijing",
   "metadata": {},
   "source": [
    "-----------------------"
   ]
  },
  {
   "cell_type": "markdown",
   "id": "baking-fairy",
   "metadata": {},
   "source": [
    "- récupération du code origine"
   ]
  },
  {
   "cell_type": "code",
   "execution_count": null,
   "id": "transparent-petroleum",
   "metadata": {},
   "outputs": [],
   "source": [
    "# connexion à la bdd collection\n",
    "conn = psycopg2.connect(\n",
    "        user = \"postgres\",\n",
    "        password = os.environ.get(\"pg_psw\"),\n",
    "        host = \"localhost\",\n",
    "        port = \"5432\",\n",
    "        database = \"collection\"\n",
    ")\n",
    "cur = conn.cursor()\n",
    "\n",
    "sql = \"SELECT origine.code_origine FROM origine\"\n",
    "cur.execute(sql)\n",
    "code_id = cur.fetchall()\n",
    "liste_code = []\n",
    "\n",
    "for code in code_id:\n",
    "    for e in code:\n",
    "        liste_code.append(e)\n",
    "print(liste_code)\n",
    "\n",
    "#fermeture de la connexion à la base de données\n",
    "cur.close()\n",
    "conn.close()\n",
    "print(\"La connexion PostgreSQL est fermée\")"
   ]
  },
  {
   "cell_type": "code",
   "execution_count": null,
   "id": "ordinary-dealing",
   "metadata": {},
   "outputs": [],
   "source": [
    "# connexion à la bdd collection\n",
    "conn = psycopg2.connect(\n",
    "        user = \"postgres\",\n",
    "        password = os.environ.get(\"pg_psw\"),\n",
    "        host = \"localhost\",\n",
    "        port = \"5432\",\n",
    "        database = \"collection\"\n",
    ")\n",
    "cur = conn.cursor()\n",
    "\n",
    "# requete sql pour récupérer les données table origine\n",
    "sql = \"SELECT * FROM origine\"\n",
    "cur.execute(sql)\n",
    "res = cur.fetchall()\n",
    "print(reprlib.repr(res))\n",
    "\n",
    "\n",
    "#fermeture de la connexion à la base de données\n",
    "cur.close()\n",
    "conn.close()\n",
    "print(\"La connexion PostgreSQL est fermée\")"
   ]
  },
  {
   "cell_type": "code",
   "execution_count": null,
   "id": "listed-patio",
   "metadata": {},
   "outputs": [],
   "source": [
    "# on transforme les données en dictionnaire avec la fonction dict()\n",
    "dico = dict(res)\n",
    "print(dico)"
   ]
  },
  {
   "cell_type": "code",
   "execution_count": null,
   "id": "central-anime",
   "metadata": {},
   "outputs": [],
   "source": []
  },
  {
   "cell_type": "markdown",
   "id": "invalid-journalist",
   "metadata": {},
   "source": [
    "###### "
   ]
  },
  {
   "cell_type": "markdown",
   "id": "adopted-madison",
   "metadata": {},
   "source": [
    "_____________"
   ]
  },
  {
   "cell_type": "markdown",
   "id": "impossible-israel",
   "metadata": {},
   "source": [
    "- correspondance"
   ]
  },
  {
   "cell_type": "code",
   "execution_count": null,
   "id": "employed-bottle",
   "metadata": {},
   "outputs": [],
   "source": [
    "liste2 = []\n",
    "with open('rum_data_new.csv', newline='', encoding='utf-8') as csvfile:\n",
    "    spamreader = csv.reader(csvfile, delimiter=',')\n",
    "    for row in spamreader:\n",
    "        liste2.append(row[1:3])\n",
    "print(reprlib.repr(liste2[1:]))"
   ]
  },
  {
   "cell_type": "code",
   "execution_count": null,
   "id": "stainless-sponsorship",
   "metadata": {},
   "outputs": [],
   "source": [
    "# im faut une fonction pour récupérer l'origine en fonction du producteur\n",
    "# une fonction qui compare l'origine à ma liste origine\n",
    "# une fonction qui me donne le code origine en fonction de l'origine"
   ]
  },
  {
   "cell_type": "code",
   "execution_count": null,
   "id": "nearby-custom",
   "metadata": {},
   "outputs": [],
   "source": [
    "df = pd.read_csv('rum_data_new.csv', encoding='utf-8')\n",
    "df[['name','company','country']]"
   ]
  },
  {
   "cell_type": "code",
   "execution_count": null,
   "id": "driving-collector",
   "metadata": {},
   "outputs": [],
   "source": [
    "df_cor = df[['name','company','country']]"
   ]
  },
  {
   "cell_type": "code",
   "execution_count": null,
   "id": "distinguished-dream",
   "metadata": {},
   "outputs": [],
   "source": [
    "for index, row in df_cor.iterrows():\n",
    "    print(index, row)"
   ]
  },
  {
   "cell_type": "code",
   "execution_count": null,
   "id": "nuclear-tunnel",
   "metadata": {},
   "outputs": [],
   "source": [
    "for i in range(len(df)): \n",
    "    print(df.iloc[i,1],df.iloc[i,2])"
   ]
  },
  {
   "cell_type": "code",
   "execution_count": null,
   "id": "worst-outdoors",
   "metadata": {},
   "outputs": [],
   "source": []
  }
 ],
 "metadata": {
  "kernelspec": {
   "display_name": "Python 3",
   "language": "python",
   "name": "python3"
  },
  "language_info": {
   "codemirror_mode": {
    "name": "ipython",
    "version": 3
   },
   "file_extension": ".py",
   "mimetype": "text/x-python",
   "name": "python",
   "nbconvert_exporter": "python",
   "pygments_lexer": "ipython3",
   "version": "3.8.6"
  }
 },
 "nbformat": 4,
 "nbformat_minor": 5
}
