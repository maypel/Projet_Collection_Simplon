{
 "cells": [
  {
   "cell_type": "markdown",
   "id": "extraordinary-extraction",
   "metadata": {},
   "source": [
    "# Lecture données json"
   ]
  },
  {
   "cell_type": "markdown",
   "id": "tired-candidate",
   "metadata": {},
   "source": [
    "###### "
   ]
  },
  {
   "cell_type": "code",
   "execution_count": 2,
   "id": "immediate-draft",
   "metadata": {},
   "outputs": [
    {
     "name": "stdout",
     "output_type": "stream",
     "text": [
      "                                                                           name\n",
      "0                                     Longueteau Punch Shrubb 25° 1L Guadeloupe\n",
      "1                         Montebello Rhum Vieux 6 ans Zenga étui 46° Guadeloupe\n",
      "2                               Montebello Rhum Blanc Zenga étui 60° Guadeloupe\n",
      "3  Karukera Rhum Vieux 2006 Fût 65 70 ans Anniversaire Velier 48,30° Guadeloupe\n",
      "4                                         Bologne Rhum Blanc Bio 45° Guadeloupe\n"
     ]
    }
   ],
   "source": [
    "import pandas as pd\n",
    "\n",
    "df = pd.read_json('test.json')\n",
    "\n",
    "print(df.head().to_string()) "
   ]
  },
  {
   "cell_type": "code",
   "execution_count": 3,
   "id": "welsh-ukraine",
   "metadata": {},
   "outputs": [
    {
     "name": "stdout",
     "output_type": "stream",
     "text": [
      "[{'name': 'Longueteau Punch Shrubb 25° 1L Guadeloupe'}, {'name': 'Montebello Rhum Vieux 6 ans Zenga étui 46° Guadeloupe'}, {'name': 'Montebello Rhum Blanc Zenga étui 60° Guadeloupe'}, {'name': 'Karukera Rhum Vieux 2006 Fût 65 70 ans Anniversaire Velier 48,30° Guadeloupe'}, {'name': 'Bologne Rhum Blanc Bio 45° Guadeloupe'}]\n"
     ]
    }
   ],
   "source": [
    "import json\n",
    "\n",
    "with open('test.json', 'r') as f:\n",
    "    data = json.load(f)\n",
    "\n",
    "print(data[0:5])"
   ]
  },
  {
   "cell_type": "code",
   "execution_count": 4,
   "id": "regulation-voltage",
   "metadata": {},
   "outputs": [
    {
     "name": "stdout",
     "output_type": "stream",
     "text": [
      "<class 'list'>\n"
     ]
    }
   ],
   "source": [
    "print(type(data))"
   ]
  },
  {
   "cell_type": "code",
   "execution_count": 6,
   "id": "medical-coordinate",
   "metadata": {},
   "outputs": [
    {
     "name": "stdout",
     "output_type": "stream",
     "text": [
      "{'name': 'Longueteau Punch Shrubb 25° 1L Guadeloupe'}\n",
      "{'name': 'Montebello Rhum Vieux 6 ans Zenga étui 46° Guadeloupe'}\n",
      "{'name': 'Montebello Rhum Blanc Zenga étui 60° Guadeloupe'}\n",
      "{'name': 'Karukera Rhum Vieux 2006 Fût 65 70 ans Anniversaire Velier 48,30° Guadeloupe'}\n",
      "{'name': 'Bologne Rhum Blanc Bio 45° Guadeloupe'}\n",
      "{'name': \"Père Labat Rhum Ambré L'Or 45° Marie Galante\"}\n",
      "{'name': 'Bologne Rhum Vieux New Old Double Maturation 42° Guadeloupe'}\n",
      "{'name': 'Bologne Rhum Vieux Réserve Spéciale 42°  Guadeloupe'}\n",
      "{'name': 'Bologne Rhum Blanc Premium La Batterie étui 56,8° Guadeloupe'}\n",
      "{'name': 'Papillon Rhum Ambré Freespirit 45° 70 cl Guadeloupe'}\n",
      "{'name': 'Papillon Rhum Blanc Wildlife 45° 70 cl Guadeloupe'}\n",
      "{'name': 'Longueteau Rhum Vieux édition 120 ans 40° Guadeloupe'}\n",
      "{'name': 'Longueteau  Rhum Blanc 29 Février Millésime 2020 Guadeloupe'}\n",
      "{'name': 'Bologne Rhum Vieux Les Confidentiels 2014 Finish Sauternes Brut de Fût étui 49,9° 50 cl Guadeloupe'}\n",
      "{'name': \"Bologne Rhum Vieux Les Confidentiels Hors d'Age 2009 Brut de Fût étui 53,1° 50 cl Guadeloupe\"}\n",
      "{'name': 'Longueteau  Rhum Vieux Concerto Batch 6 Harmonie Collection 48,9° Guadeloupe'}\n",
      "{'name': 'Longueteau  Rhum Vieux Prélude Batch 8  Harmonie Collection 49.3° Guadeloupe'}\n",
      "{'name': 'Ferroni Rhum Vieux Gwada 2012 Brut de Fût 52,3° Guadeloupe'}\n",
      "{'name': 'Longueteau Rhum Vieux Cuvée Confrérie du Rhum XO Single Cask Fût 44  48,6° Guadeloupe'}\n",
      "{'name': 'Damoiseau Rhum Vieux  Concordia 40° Guadeloupe'}\n",
      "{'name': 'Longueteau Rhum Blanc Cuvée Solidarité Passion des Chefs 50° 70 cl Guadeloupe'}\n",
      "{'name': 'Bielle Liqueur Vanille 40° 50 cl Marie Galante'}\n",
      "{'name': 'Bielle Liqueur Gingembre 40° 50 cl Marie Galante'}\n",
      "{'name': 'Bielle Liqueur Mangue Maracuja 40° 50 cl Marie Galante'}\n",
      "{'name': 'Sixty Six Rum Rhum Vieux  12 ans Cask Strenght 59° Barbade'}\n",
      "{'name': 'Mount Gay Rhum Vieux 10 ans 1703 Master Select ed. 2020 carafe étui 43° 70 cl Barbade'}\n",
      "{'name': \"L'Esprit Rhum Vieux Foursquare 2005 60,5° Barbade\"}\n",
      "{'name': 'Mount Gay Rhum Vieux The Port Cask Expression Brut de Fût étui 55° Barbade'}\n",
      "{'name': \"Doorly's Rhum Vieux 8 ans 46°  Barbade\"}\n",
      "{'name': 'Plantation Rhum Vieux 2011 étui 51,1° Barbade'}\n",
      "{'name': 'La Maison du Rhum Discovery Rhum Vieux 5 ans 40° Barbade'}\n",
      "{'name': 'Ron de Jéremy Rhum Épicé Hardcore 47° Caraïbes'}\n",
      "{'name': 'Mount Gay Rhum Vieux Black Barrel Double Cask Blend 43° Barbade'}\n",
      "{'name': 'Rum Nation Rhum Vieux 8 ans étui 40° Barbade'}\n",
      "{'name': 'Foursquare Rhum Vieux Plenipotenziario 60° Barbade'}\n",
      "{'name': 'Mount Gay Rhum Vieux XO Triple Cask étui 43° 70 cl Barbade'}\n",
      "{'name': 'Tres Hombres Rhum Vieux 12  ans Old Barbados  43° 70 cl Barbade'}\n",
      "{'name': 'Sixty Six Rum Rhum Vieux  12 ans 43° 70 cl Barbade'}\n",
      "{'name': 'Old Brothers Rhum Vieux Foursquare 3y West Indies 5y 47,1° 50 cl Barbade'}\n",
      "{'name': 'Whisper Rhum Vieux 8 ans 40° 70 cl Barbade'}\n",
      "{'name': 'Whisper Rhum Vieux 5 ans 40° 70 cl Barbade'}\n",
      "{'name': \"Doorly's Rhum Vieux 14 ans 48° 70 cl Barbade\"}\n",
      "{'name': 'Rum Nation Rhum Vieux XO Anniversary Decanter carafe 40° Barbade'}\n",
      "{'name': 'Bumbu Rhum Vieux XO 40° 70 cl Barbade'}\n",
      "{'name': 'Plantation Rhum Vieux 2005 étui 42.8° 70 cl Barbade'}\n",
      "{'name': 'Mount Gay Rhum Vieux XO The Peat Smoke Expression coffret 57° 70 cl Barbade'}\n",
      "{'name': 'Ferroni Rhum Vieux Barbade 2009 Brut de Fût 63.5° 50 cl Barbade'}\n",
      "{'name': 'Habitation Velier Rhum Vieux 9 ans 2009 Mount Gay Last Ward 59° 70 cl Barbade'}\n",
      "{'name': 'Saint James Rhum Vieux 1999 Single Cask 42,9° 70 cl Martinique'}\n",
      "{'name': 'HSE Rhum Vieux Marquis de Terme 2007 étui 48° Martinique'}\n",
      "{'name': 'Favorite Rhum Vieux Cuvée de la Flibuste 1999 étui 40° Martinique'}\n",
      "{'name': 'Favorite Rhum Blanc Rivière Bel Air Récolte 2020  étui 53° Martinique'}\n",
      "{'name': 'Favorite Rhum Blanc La Digue 2020 52° Martinique'}\n",
      "{'name': 'Clément Coffret Découverte mignonnettes 6 x 5cl Martinique'}\n",
      "{'name': 'Saint James Rhum Blanc Imperial Bio 40° Martinique'}\n",
      "{'name': 'Saint James Rhum Vieux XO étui 43° Martinique'}\n",
      "{'name': 'Hardy Rhum Blanc 50° Martinique'}\n",
      "{'name': 'Clément Rhum Vieux Canne Bleue 2020 20ème Anniversaire 42°  Martinique'}\n",
      "{'name': 'Clément Rhum Blanc Canne Bleue 2020 20ème Anniversaire 50°  Martinique'}\n",
      "{'name': 'Favorite Rhum Vieux Cuvée du Chateau 2002 étui 41,2°  Martinique'}\n",
      "{'name': 'HBS Rhum Blanc Cuvée 2020 55° 70 cl Martinique'}\n",
      "{'name': 'JM Rhum Vieux Sélection Bar 1802 Single Barrel 57,55° Martinique'}\n",
      "{'name': 'Depaz Rhum Vieux VSOP 7 ans Réserve Spéciale mignonnette 45° 5 cl Martinique'}\n",
      "{'name': 'Depaz Rhum Blanc Cuvée de la Montagne mignonnette 45° 5 cl Martinique'}\n",
      "{'name': 'Depaz Coffret Dégustation mignonnettes 4 x 5cl Martinique'}\n",
      "{'name': 'La Fabrique de l’Arrangé Rhum Arrangé Boule de Neige Coco Macadamia 32° Martinique'}\n",
      "{'name': 'La Fabrique de l’Arrangé Rhum Arrangé Vanille Noisette 32° Martinique'}\n",
      "{'name': 'La Fabrique de l’Arrangé Rhum Arrangé Orange Passion 32° Martinique'}\n",
      "{'name': 'La Fabrique de l’Arrangé Rhum Arrangé Ice Storm 32° Martinique'}\n",
      "{'name': 'La Fabrique de l’Arrangé Rhum Arrangé Fraise Framboise 32° Martinique'}\n",
      "{'name': 'La Fabrique de l’Arrangé Rhum Arrangé Ananas Victoria Coco 32° Martinique'}\n",
      "{'name': 'Trois Rivières Rhum Vieux Single Cask 2004 Fût L19-38 43° cl Martinique'}\n",
      "{'name': 'Rum Fire Rhum Blanc 63° 70 cl Jamaïque'}\n",
      "{'name': 'Famille Ricci Rhum Vieux Cuvée Volt Face Brut de Fût 65,3° Guyana - Jamaïque'}\n",
      "{'name': 'Hampden Rhum Vieux Great House Distillery Edition 2020 étui 59° Jamaïque'}\n",
      "{'name': \"L'Esprit Rhum Vieux Clarendon 2004 66,4° Jamaïque\"}\n",
      "{'name': 'Black Tot Rhum Vieux Fines Caribbean 46,2°'}\n",
      "{'name': 'Famille Ricci Rhum Vieux Influence 2 étui 46° Australie - Jamaique'}\n",
      "{'name': 'Famille Ricci Rhum Vieux Influence 1 étui 46° Trinidad - Jamaique'}\n",
      "{'name': 'Plantation Rhum Vieux 2003 étui 49,5° 70 cl Jamaïque'}\n",
      "{'name': 'Hampden Rhum Vieux 8 ans 46° Jamaïque'}\n",
      "{'name': 'Habitation Velier Rhum Vieux Hampden 2010 68,5° Jamaïque'}\n",
      "{'name': 'Mezan Rhum Vieux 12 ans Jamaica Monymusk 2007 46° 70 cl Jamaïque'}\n",
      "{'name': 'Old Brothers Rhum Vieux Long Pond Clarendon Hampden 47,1° 50 cl Jamaïque'}\n",
      "{'name': 'Worthy Park Rhum Vieux 12 ans Single Estate Reserve étui 56° 70 cl Jamaïque'}\n",
      "{'name': 'Island Signature Rhum Ambré Yellow Snake étui 40° 70 cl Jamaïque'}\n",
      "{'name': 'Mezan Rhum Vieux 18 ans Single Cask Long Pond Fût 2 58.6° 70 cl Jamaïque'}\n",
      "{'name': 'Ferroni Rhum Vieux 2010 Brut de Fût 66,2° 50cl Jamaïque'}\n",
      "{'name': 'Hee Joy Rhum Vieux XO 2005 Single Cask 45° 50 cl Trinidad'}\n",
      "{'name': 'Hee Joy Rhum Vieux XO 2008 Single Cask 43° 50 cl Jamaique'}\n",
      "{'name': 'Plantation Rhum Vieux 2005 étui 45.2° 70 cl Jamaïque'}\n",
      "{'name': 'Habitation Velier Rhum Blanc Long Pond White 62.5° 70 cl Jamaïque'}\n",
      "{'name': 'Worthy Park Rhum Vieux Single Estate Reserve 45° 70 cl Jamaïque'}\n",
      "{'name': 'Worthy Park Rhum Vieux Madeira Cask Finish 58° 70 cl Jamaïque'}\n",
      "{'name': 'Worthy Park Rhum Vieux PX Sherry Cask Finish 57° 70 cl Jamaïque'}\n",
      "{'name': 'Worthy Park Rhum Vieux Port Cask Finish 56° 70 cl Jamaïque'}\n",
      "{'name': 'Reimonenq Rhum Blanc Brut de Colonne Frères de la Côte 76° Guadeloupe'}\n",
      "{'name': 'Reimonenq Rhum Ambré Dynamique Frères de la Côte 50° Guadeloupe'}\n",
      "{'name': 'Karukera Rhum Vieux Black Edition Alligator 45° 70cl Guadeloupe'}\n",
      "{'name': \"Karukera Rhum Blanc L'Intense récolte 2018 Batch 3 59,9° Guadeloupe\"}\n",
      "{'name': 'Bologne Rhum Blanc Le Distillat Brut de Colonne 75,5° 70 cl Guadeloupe'}\n",
      "{'name': 'Darboussier Rhum Blanc Premium 50° 50 cl Guadeloupe'}\n",
      "{'name': 'Reimonenq Rhum Blanc Coeur de Chauffe 50° 70 cl Guadeloupe'}\n",
      "{'name': 'Longueteau Rhum Blanc Genesis Brut de Colonne étui 72.21° 70 cl Guadeloupe'}\n",
      "{'name': 'Montebello Rhum Blanc 2017/2018 Ovation 50° 70 cl Guadeloupe'}\n",
      "{'name': 'Damoiseau Rhum Vieux VSOP coffret + 2 verres 42° 70 cl Guadeloupe'}\n",
      "{'name': 'Longueteau Rhum Blanc Canne Rouge parcelle N°12 2018 55° 70 cl Guadeloupe'}\n",
      "{'name': 'Longueteau Rhum Blanc Canne Rouge parcelle N° 9 2018 55° 70 cl Guadeloupe'}\n",
      "{'name': 'Mabi Punch Hibiscus 34° 70 cl Guadeloupe'}\n",
      "{'name': 'Mabi Punch Goyave 34° 70 cl Guadeloupe'}\n",
      "{'name': 'Mabi Punch Banane 34° Guadeloupe'}\n",
      "{'name': 'Longueteau  Rhum Vieux Prélude Batch 7  Harmonie Collection 49.2° Guadeloupe'}\n",
      "{'name': 'Longueteau Punch Planteur 16° 50 cl Guadeloupe'}\n",
      "{'name': 'Longueteau Punch Maracudja (Passion) 25° 50 cl Guadeloupe'}\n",
      "{'name': 'Longueteau Punch Banane 25° 1L Guadeloupe'}\n",
      "{'name': 'Longueteau Punch Citron Vert 25° 1L Guadeloupe'}\n",
      "{'name': 'Longueteau Punch Barbadine 25° 1L Guadeloupe'}\n",
      "{'name': 'Longueteau Punch Ananas 25° 1L Guadeloupe'}\n",
      "{'name': 'Longueteau Rhum Ambré Genesis étui 72.3° 70 cl Guadeloupe'}\n",
      "{'name': 'Longueteau Rhum Blanc Bag in Box 50° cubi 3L Guadeloupe'}\n",
      "{'name': 'Trois Rivières Rhum Vieux VSOP Réserve Spéciale 40° 5 cl Martinique'}\n",
      "{'name': \"Trois Rivières Rhum Blanc Premium Cuvée de l'Océan 42° 5 cl Martinique\"}\n",
      "{'name': 'JM Rhum Vieux Cuvée Christian de Montaguère Brut de Fût 57,08°  Martinique'}\n",
      "{'name': \"Neisson Rhum Blanc L'Esprit Bio étui 70° Martinique\"}\n",
      "{'name': 'Neisson Rhum Ambré Profil 107 Bio 53,8° Martinique'}\n",
      "{'name': 'Bally Rhum Vieux Art Déco Multimillésime 1998-2003-2007 étui 42° Martinique'}\n",
      "{'name': 'La Maison du Rhum Discovery Rhum Blanc 45° Antilles Françaises'}\n",
      "{'name': 'Dillon Rhum Blanc Canne Rouge 2019 50° Martinique'}\n",
      "{'name': 'Saint James Rhum Vieux 2003 Brut de  Fût Batch 2 étui 56,4° Martinique'}\n",
      "{'name': 'Saint James Rhum Vieux VSOP 43° Martinique'}\n",
      "{'name': 'Saint James Rhum Blanc Brut de Colonne Bio 74,2° Martinique'}\n",
      "{'name': 'A 1710 Rhum Blanc La Perle Rare Bleue bio 2020 52,5° 70 cl Martinique'}\n",
      "{'name': 'A 1710 Rhum Blanc Bête à Feu 50,9° Martinique'}\n",
      "{'name': 'Favorite Rhum Vieux Cuvée de la Flibuste 1997 40° 70 cl Martinique'}\n",
      "{'name': 'Depaz Rhum Blanc Cuvée Papao 48,5° Martinique'}\n",
      "{'name': 'HSE Rhum Vieux VSOP Finition Porto 45° Martinique'}\n",
      "{'name': 'JM Rhum Vieux Atelier Epices Créoles 46° Martinique'}\n",
      "{'name': 'Clément Rhum Vieux 4 ans VSOP étui 40° 70 cl Martinique'}\n",
      "{'name': 'Neisson Rhum Vieux le XO par Neisson Full Proof étui 57,3° Martinique'}\n",
      "{'name': 'Clément Rhum Vieux Single Cask Canne Bleue 41,3° 50 cl Martinique'}\n",
      "{'name': 'JM Rhum Ambré Atelier Jardin Fruité 42° Martinique'}\n",
      "{'name': 'JM Rhum Ambré Atelier Fumée Volcanique 49° Martinique'}\n",
      "{'name': 'HSE Rhum Vieux 2013 Finition Single Malt Islay Kilchoman 44° Martinique'}\n",
      "{'name': 'HSE Rhum Vieux 2013 Finition Single Malt Rozelieures 44° Martinique'}\n",
      "{'name': 'Plantation Rhum Vieux Xaymaca Special Dry 43° 70 cl Jamaïque'}\n",
      "{'name': 'Navy Island Rhum Vieux Navy Strenght 57° 70 cl Jamaïque'}\n",
      "{'name': 'Habitation Velier Rhum Vieux Worthy Park 2007 59° 70cl Jamaïque'}\n",
      "{'name': 'Hampden Rhum Vieux Overproof 60° Jamaïque'}\n",
      "{'name': 'Habitation Velier Rhum Blanc Worthy Park Forsyths White WP 151 Proof 75,5° 70cl Jamaïque'}\n",
      "{'name': 'Habitation Velier Rhum Vieux Worthy Park Forsyths WP 2006 WPM 57,5° 70cl Jamaïque'}\n",
      "{'name': 'Appleton Rhum Vieux 12 ans Rare Blend 43° 70 cl Jamaïque'}\n",
      "{'name': 'Appleton Rhum Vieux 21 ans boite 43° 70 cl Jamaïque'}\n",
      "{'name': 'Appleton Rhum Vieux 50 ans carafe coffret 45° 70 cl Jamaïque'}\n",
      "{'name': 'Appleton Rhum Vieux Reserve Blend 40° 70 cl Jamaïque'}\n",
      "{'name': 'Appleton Rhum Vieux Signature Blend 40° 70 cl Jamaïque'}\n",
      "{'name': 'Black Jamaica Rhum Épicé rum 35° 70 cl Jamaïque'}\n",
      "{'name': 'Black Jamaica Rhum Vieux 38° 70 cl Jamaïque'}\n",
      "{'name': 'Blackwell Rhum Vieux 40° 70 cl Jamaïque'}\n",
      "{'name': 'Compagnie des Indes Rhum Vieux Jamaica 5 ans Navy Strength Small Batch 57° 70 cl Jamaïque'}\n",
      "{'name': 'Companero Rhum Vieux Gran Reserva Blend 40° 70 cl Trinidad et Jamaïque'}\n",
      "{'name': 'Coruba Rhum Ambré NPU 40° 70 cl Jamaïque'}\n",
      "{'name': 'Coruba Rhum Ambré NPU 74° 70 cl Jamaïque'}\n",
      "{'name': 'Coruba Rhum Vieux 12 ans Cigar 40° 70 cl Jamaïque'}\n",
      "{'name': 'Coruba Rhum Vieux 18 ans carafe 40° 70 cl Jamaïque'}\n",
      "{'name': 'Coruba Rhum Vieux 25 ans 70 cl Jamaïque'}\n",
      "{'name': 'Mezan Rhum Vieux Jamaican Barrique XO 40° 70 cl Jamaïque'}\n",
      "{'name': \"Myer's Rhum Vieux Original Dark 40° 70 cl Jamaïque\"}\n",
      "{'name': 'Plantation Rhum Blanc Three Stars 41,2° 70 cl'}\n",
      "{'name': 'Cashcane Rhum Vieux Saloon Cask 55° 70 cl Barbade Panama Trinidad'}\n",
      "{'name': 'Rum Nation Rhum Vieux 5 ans Pot Still Sherry Finish Oloroso 50° 70 cl Jamaïque'}\n",
      "{'name': 'Sixty Six Rum Rhum Vieux  6 ans 40° 70 cl Barbade'}\n",
      "{'name': 'Dos Maderas Rhum Vieux Seleccion 10 42° 70 cl Barbade et Guyana'}\n",
      "{'name': 'Cashcane Rhum Vieux Extra Old 40° 70cl Barbade Panama Trinidad'}\n",
      "{'name': 'Rum Bullion Rhum Vieux Foursquare Millésime 2006 40° 70cl Barbade'}\n",
      "{'name': 'Habitation Velier Rhum Vieux 2007 Last Ward 10 ans 59° 70cl Barbade'}\n",
      "{'name': 'Bumbu  40° 70 cl Barbade'}\n",
      "{'name': 'Cockspur Rhum Vieux 12 ans 40° 70 cl Barbade'}\n",
      "{'name': \"Doorly's Rhum Vieux 5 ans Fine Old 40° 70 cl Barbade\"}\n",
      "{'name': \"Doorly's Rhum Vieux 6-12 ans XO Golden Rum 40° 70 cl Barbade\"}\n",
      "{'name': \"Doorly's Rhum Vieux 12 ans 40° 70 cl Barbade\"}\n",
      "{'name': 'Foursquare Rhum Épicé 37,5° 70 cl Barbade'}\n",
      "{'name': 'Mount Gay Rhum Blanc Silver 40° 70 cl Barbade'}\n",
      "{'name': 'Plantation Rhum Vieux Grande Reserve 40° 70 cl Barbade'}\n",
      "{'name': 'Plantation Rhum Vieux XO 20e Anniversaire carafe 40° 70 cl Barbade'}\n",
      "{'name': 'Plantation Rhum Vieux XO 20e Anniversaire carafe coffret +2 verres 40° 70 cl Barbade'}\n",
      "{'name': 'Rum & Cane Rhum Vieux British West Indies XO 43° 70 cl Barbade et Trinidad'}\n",
      "{'name': \"RL Seale's Rhum Vieux 10 ans 46° 70 cl Barbade\"}\n",
      "{'name': 'Trois Rivières Rhum Vieux Millésime 1999 42° Martinique'}\n",
      "{'name': 'HSE Rhum Vieux 2007 Small Cask 46° Martinique'}\n",
      "{'name': 'HSE Rhum Vieux 2007 Finition Sherry Pedro Ximenez 46° Martinique'}\n",
      "{'name': 'HSE Rhum Vieux 2007 Finition Sherry Oloroso 45° Martinique'}\n",
      "{'name': 'Favorite Rhum Vieux Millésime 2011 49,7° Martinique'}\n",
      "{'name': 'Favorite Rhum Blanc La Digue 2019 52° Martinique'}\n",
      "{'name': \"Favorite Rhum Ambré Coeur d'Ambre 45° Martinique\"}\n",
      "{'name': 'Favorite Rhum Blanc Rivière Bel Air Récolte 2019  53° 70 cl Martinique'}\n",
      "{'name': 'Trois Rivières Rhum Vieux Small Batch 2005-2014-2015 Cuvée Christian de Montaguère 55° Martinique'}\n",
      "{'name': 'A 1710 Rhum Ambré Cheval Bondieu 48° 70cl Martinique'}\n",
      "{'name': 'HSE Rhum Vieux 2013 Finition Sauternes 10ans étui 41° 50 cl Martinique'}\n",
      "{'name': 'Bally Rhum Vieux 2002 43° 70 cl Martinique'}\n",
      "{'name': 'Tres Hombres Rhum Vieux Agricole Martinique 43° 70 cl Martinique'}\n",
      "{'name': 'Dillon Rhum Vieux 2003 Single Cask Fût 901 étui 43° 70 cl Martinique'}\n",
      "{'name': 'Hardy Rhum Vieux XO 43° 70 cl Martinique'}\n",
      "{'name': 'Hardy Rhum Vieux VSOP 42° 70 cl Martinique'}\n",
      "{'name': 'Trois Rivières Rhum Vieux Saint Pierre 43° 70 cl Martinique'}\n",
      "{'name': 'Hardy Rhum Vieux VO 42° 1L Martinique'}\n",
      "{'name': 'Hardy Rhum Blanc 50° 1L Martinique'}\n",
      "{'name': 'Favorite Rhum Vieux 2020 Cuvée Privilège Pour Lulu 41°  Martinique'}\n",
      "{'name': 'Compagnie des Indes Rhum Vieux 11 ans Simon Single Cask 42° 70cl Martinique'}\n",
      "{'name': 'Neisson Rhum Ambré Profil 105 Bio 53,3° 70 cl Martinique'}\n",
      "{'name': 'Trois Rivières Rhum Vieux VSOP coffret +2 verres 40° 70 cl Martinique'}\n",
      "{'name': \"Maison La Mauny Rhum Spiced 'n Stormy coffret + 4 ginger beer 20cl 42° 70 cl Martinique\"}\n",
      "{'name': 'Karukera Rhum Vieux Cuvée 10ème anniversaire Christian de Montaguère Brut de Fût 65.1° 70 cl Guadeloupe'}\n",
      "{'name': 'Longueteau  Rhum Vieux Symphonie Harmonie Collection Batch 3 52.1° 70 cl Guadeloupe'}\n",
      "{'name': 'Bologne Rhum Ambré Matured Cask 42° 70cl Guadeloupe'}\n",
      "{'name': 'Bologne Rhum Vieux Dark Sail 41° 70 cl Guadeloupe'}\n",
      "{'name': 'Bologne Rhum Vieux 1887 52° 70 cl Guadeloupe'}\n",
      "{'name': 'Bologne Rhum Blanc Ice Rhum 45° 70 cl Guadeloupe'}\n",
      "{'name': 'Père Labat Rhum Ambré Brun Rhum Soleil 55° 1L Marie Galante'}\n",
      "{'name': 'Longueteau Punch Maracudja (Passion) 25° 1L Guadeloupe'}\n",
      "{'name': 'Longueteau Punch Coco 20° 1L Guadeloupe'}\n",
      "{'name': 'Karukera Liqueur Mandarine 18° 50 cl Guadeloupe'}\n",
      "{'name': 'Karukera Liqueur Gingembre 18° 50 cl Guadeloupe'}\n",
      "{'name': 'Karukera Punch Cerise Pays Acérola 18° 70 cl Guadeloupe'}\n",
      "{'name': 'Damoiseau Rhum Vieux  Millésime 2007 42° 70 cl Guadeloupe'}\n",
      "{'name': 'Bielle Rhum Vieux Millésime 2009 Cuvée Confrérie du Rhum Brut de Fût N°101 52.3° 70 cl Marie Galante'}\n",
      "{'name': 'Bielle Rhum Vieux Millésime 2009 Cuvée Confrérie du Rhum Brut de Fût N°54 51.9° 70 cl Marie Galante'}\n",
      "{'name': 'Bielle Rhum Vieux Millésime 2009 Cuvée Confrérie du Rhum Brut de Fût N°106 52.6° 70 cl Marie Galante'}\n",
      "{'name': 'Karukera Liqueur Shrubb 40° 70 cl  Guadeloupe'}\n",
      "{'name': 'Reimonenq Rhum Vieux 1ere cuvée 3 ans 40° 70 cl Guadeloupe'}\n",
      "{'name': 'Reimonenq Rhum Blanc Cuvée Centenaire 50° 70 cl Guadeloupe'}\n",
      "{'name': 'Karukera Rhum Vieux 2008 Fût 66 70 ans Anniversaire Velier 58.40° 70 cl Guadeloupe'}\n",
      "{'name': 'Karukera Rhum Vieux 2008 Fût 26 70 ans Anniversaire Velier 53.40° 70 cl Guadeloupe'}\n",
      "{'name': 'Damoiseau Rhum Vieux 2009 Full Proof 66.9° 70 cl Guadeloupe'}\n",
      "{'name': 'Damoiseau Rhum Vieux Millésime 2009 42° 70 cl Guadeloupe'}\n",
      "{'name': 'Reimonenq Rhum Vieux JR Cuvée Spéciale 4 ans 40° 70 cl Guadeloupe'}\n",
      "{'name': 'Rum Nation Rhum Blanc White Pot Still 57° 70 cl Jamaïque'}\n",
      "{'name': 'Smith & Cross Rhum Vieux Navy Strentgh 57° 70 cl Jamaïque'}\n",
      "{'name': 'Worthy Park Rhum Blanc Rum Bar White Overproof 63° 70 cl Jamaïque'}\n",
      "{'name': 'Worthy Park Rhum Vieux Gold 40° 1L Jamaïque'}\n",
      "{'name': 'Wray & Nephew Rhum Blanc Overproof Rum 63° 70 cl Jamaïque'}\n",
      "{'name': 'Quai Sud mélange pour rhum arrangé Jamaïque 20 g en verre cocktail'}\n",
      "{'name': 'Depaz Rhum Vieux VSOP 7 ans Réserve Spéciale coffret + 2 verres 45° 70 cl Martinique'}\n",
      "{'name': 'Dillon Rhum Vieux Millésime 2004 carafe coffret 43° 70 cl Martinique'}\n",
      "{'name': 'Dillon Rhum Vieux 2003 Single Cask Fût 1004 étui 43° 70 cl Martinique'}\n",
      "{'name': 'Dillon Rhum Blanc Brut de Colonne 71,3° 70 cl Martinique'}\n",
      "{'name': 'Latitudes Rhum Blanc Grand Arôme de la Baie du Galion 60° 70cl Martinique'}\n",
      "{'name': 'A 1710 Rhum Blanc Renaissance Millésime 2019  52° 70 cl Martinique'}\n",
      "{'name': 'Trois Rivières Rhum Vieux Triple Millésime 1999-2000-2010 42° 70 cl Martinique'}\n",
      "{'name': 'HSE Rhum Blanc Titouan Lamazou 50° 70 cl Martinique'}\n",
      "{'name': 'Dillon Rhum Blanc Ti Flè Blé 50° 70 cl Martinique'}\n",
      "{'name': 'Maison La Mauny Rhum Vieux Extra 42° 70 cl Martinique'}\n",
      "{'name': 'Saint James Rhum Blanc Coeur de Chauffe 60° 70 cl Martinique'}\n",
      "{'name': 'Trois Rivières Rhum Ambré Double Wood 43° 70 cl Martinique'}\n",
      "{'name': 'A 1710 Rhum Blanc Diamond Rock 50.5° 70 cl Martinique'}\n",
      "{'name': 'Saint James Caribbean Aromatic Bitters 44,5° 20 cl'}\n",
      "{'name': 'JM Rhum Vieux XO Reserve Spéciale  45° 70 cl Martinique'}\n",
      "{'name': \"Trois Rivières Rhum Vieux de l'Océan 54° 70 cl Martinique\"}\n",
      "{'name': 'Trois Rivières Rhum Blanc Cannes Brûlées  43° 70 cl Martinique'}\n",
      "{'name': 'Trois Rivières Rhum Blanc 55 Origines 55° 70 cl Martinique'}\n",
      "{'name': 'Bally Rhum Vieux XO Bouteille Pyramide 43° 70 cl Martinique'}\n",
      "{'name': 'Favorite Rhum Vieux Coeur de Rhum 4 ans 40° 50 cl Martinique'}\n",
      "{'name': 'JM Rhum Vieux Armagnac Cask Finish Série N°2 40,8° 50cl Martinique'}\n",
      "{'name': 'JM Rhum Blanc Joyau Macouba 51,8° 70 cl Martinique'}\n",
      "{'name': 'Trois Rivières Rhum Vieux 3 ans étui 40° 70 cl Martinique'}\n",
      "{'name': 'Maison La Mauny Liqueur Gwozey Peyi 30° 70 cl Martinique'}\n",
      "{'name': 'Reimonenq Rhum Vieux 7ans Grande Réserve 40° 70cl Guadeloupe'}\n",
      "{'name': 'Reimonenq Rhum Blanc Coeur de Chauffe cubi 50° 4,5 L Guadeloupe'}\n",
      "{'name': 'Bielle Liqueur Bois Bandé 40° 50 cl Marie Galante'}\n",
      "{'name': 'Bielle Liqueur Café 24° 50 cl Marie Galante'}\n",
      "{'name': 'Bielle Liqueur Chocolat 24° 50 cl Marie Galante'}\n",
      "{'name': 'Bielle Liqueur Coco 24° 50 cl Marie Galante'}\n",
      "{'name': 'Bielle Liqueur Shrubb 40° 50 cl Marie Galante'}\n",
      "{'name': 'Bielle Rhum Ambré 50° 50 cl Marie Galante'}\n",
      "{'name': 'Bielle Rhum Blanc 50° 1L Marie Galante'}\n",
      "{'name': 'Bielle Rhum Blanc 59° 1L Marie Galante'}\n",
      "{'name': 'Bologne Rhum Ambré Gold 40° 70 cl Guadeloupe'}\n",
      "{'name': 'Bologne Rhum Blanc 50° 1L Guadeloupe'}\n",
      "{'name': 'Bologne Rhum Blanc 55° 70 cl Guadeloupe'}\n",
      "{'name': 'Bologne Rhum Blanc Black Cane étui 50° 70 cl Guadeloupe'}\n",
      "{'name': 'Bologne Rhum Blanc Silver 40° 70 cl Guadeloupe'}\n",
      "{'name': 'Bologne Rhum Vieux VO 3-6 ans étui 41° 70 cl Guadeloupe'}\n",
      "{'name': 'Bologne Rhum Vieux VSOP 4-8 ans étui 42° 70 cl Guadeloupe'}\n",
      "{'name': 'Bologne Rhum Vieux XO 6-10 ans carafe étui 42° 70 cl Guadeloupe'}\n",
      "{'name': 'Damoiseau Rhum Blanc 40° 70 cl Guadeloupe'}\n",
      "{'name': 'Damoiseau Rhum Blanc 50° 1,5L (magnum) Guadeloupe'}\n",
      "{'name': 'Damoiseau Rhum Blanc 50° 1L Guadeloupe'}\n",
      "{'name': 'Damoiseau Rhum Blanc 50° 70 cl Guadeloupe'}\n",
      "{'name': 'Damoiseau Rhum Blanc 50° cubi 4,5L Guadeloupe'}\n",
      "{'name': 'Damoiseau Rhum Blanc 55° 1L Guadeloupe'}\n",
      "{'name': 'Maison La Mauny Liqueur Shrubb Mandarine, Citron Vert et Pamplemousse 30° 70 cl Martinique'}\n",
      "{'name': 'Maison La Mauny Rhum Blanc 62° 70 cl Martinique'}\n",
      "{'name': 'Favorite Rhum Vieux Coeur de Rhum 4 ans 40° 70 cl Martinique'}\n",
      "{'name': 'HSE Rhum Vieux 2007 Expert American Cask Brut de Fût  51.2° 70 cl Martinique'}\n",
      "{'name': 'HSE Rhum Vieux 2007 Expert French Cask Brut de Fût  50.8° 70 cl Martinique'}\n",
      "{'name': \"Chantal Comte Rhum Vieux 3 ans l'Arbre du Voyageur Brut de Fût 53.5° 70 cl Martinique\"}\n",
      "{'name': 'A 1710 Rhum Blanc La Perle Millésime 2020 54,5° 70 cl Martinique'}\n",
      "{'name': 'Trois Rivières Rhum Vieux Teeling Finish 43° 70 cl Martinique'}\n",
      "{'name': 'Trois Rivières Rhum Vieux Single Cask 2007 Fût M2-14 43° 70 cl Martinique'}\n",
      "{'name': \"Trois Rivières Rhum Vieux Bois d'Inde coffret 42° 70 cl Martinique\"}\n",
      "{'name': 'Maison La Mauny Rhum Vieux VO Signature Maitre de Chais 40° 70 cl Martinique'}\n",
      "{'name': 'HSE Rhum Blanc Cuvée 2016 50° 70 cl Martinique'}\n",
      "{'name': \"HSE Rhum Blanc Parcellaire 1 Canne d'Or 55° 70 cl Martinique\"}\n",
      "{'name': 'HSE Rhum Vieux Marquis de Terme 2006 47° 50 cl Martinique'}\n",
      "{'name': 'A 1710 Rhum Blanc La Perle Brute  66° 50 cl Martinique'}\n",
      "{'name': 'Bally Rhum Blanc 50° 70 cl Martinique'}\n",
      "{'name': \"Depaz Rhum Vieux Hors d'Age Millésime 2003 SC 45° 70 cl Martinique\"}\n",
      "{'name': 'Neisson Rhum Blanc Bio par Neisson 52.5° 70 cl Martinique'}\n",
      "{'name': 'Clément Rhum Vieux Colonne Créole carafe 40.7° 70 cl Martinique'}\n",
      "{'name': 'Clément Rhum Vieux 8 ans Vanille Intense Single Cask Green 41.5° 50 cl Martinique'}\n",
      "{'name': 'Clément Rhum Vieux Silver 3-6 ans étui 40° 70 cl Martinique'}\n",
      "{'name': \"Favorite Rhum Blanc l'Authentique 50° 1L Martinique\"}\n",
      "{'name': 'Chantal Comte Rhum Blanc Fighting Spirit Gold 50° 70 cl Martinique'}\n",
      "{'name': 'Maison La Mauny Liqueur Shrubb Orange 30° 70 cl Martinique'}\n",
      "{'name': 'Damoiseau Rhum Coffret 4 olfacteurs X 4 cl (Blanc - Gold - VSOP - XO) Guadeloupe'}\n",
      "{'name': 'Damoiseau Rhum Vieux 8 ans 42° 70 cl Guadeloupe'}\n",
      "{'name': 'Damoiseau Rhum Vieux 10 ans 2001 Vieilli Fût Bourbon 42° 70 cl Guadeloupe'}\n",
      "{'name': 'Damoiseau Rhum Vieux Cuvée 2008 Subprime 47,9° 70 cl Guadeloupe'}\n",
      "{'name': 'Damoiseau Rhum Vieux VO 3 ans 42° 70 cl Guadeloupe'}\n",
      "{'name': 'Damoiseau Rhum Vieux VSOP 4 ans Réserve Spéciale 42° 70 cl Guadeloupe'}\n",
      "{'name': 'Damoiseau Rhum Vieux XO 6 ans 42° 70 cl Guadeloupe'}\n",
      "{'name': 'Darboussier Crème de Rhum Vieux 18° 70 cl Guadeloupe'}\n",
      "{'name': 'Darboussier Rhum Blanc Premium 50° 1L Guadeloupe'}\n",
      "{'name': 'Darboussier Rhum Blanc Premium 59° 1L Guadeloupe'}\n",
      "{'name': 'Darboussier Rhum Vieux 6 ans 45° 50 cl Guadeloupe'}\n",
      "{'name': \"Darboussier Rhum Vieux Hors d'âge 10 ans 45° 70 cl Guadeloupe\"}\n",
      "{'name': 'Darboussier Rhum Vieux 15 ans carafe et verres 42° 70 cl Guadeloupe'}\n",
      "{'name': 'Karukera Crème de Rhum Vieux 18° 70 cl Guadeloupe'}\n",
      "{'name': 'Karukera Punch Coco 18° 70 cl Guadeloupe'}\n",
      "{'name': 'Karukera Punch Mangue-Passion 18° 70 cl Guadeloupe'}\n",
      "{'name': 'Karukera Punch Pina Colada 18° 70 cl Guadeloupe'}\n",
      "{'name': 'Karukera Punch Planteur 18° 70 cl Guadeloupe'}\n",
      "{'name': 'Karukera Rhum Ambré Gold 40° 70 cl Guadeloupe'}\n",
      "{'name': 'Karukera Rhum Blanc Canne Bleue 50° 70 cl Guadeloupe'}\n",
      "{'name': 'Karukera Rhum Vieux 2009 Select Cask 45° 70 cl Guadeloupe'}\n",
      "{'name': 'Karukera Rhum Vieux 3 ans 42° 70 cl Guadeloupe'}\n",
      "{'name': 'Karukera Rhum Vieux 5 ans Réserve Spéciale 42° 70 cl Guadeloupe'}\n",
      "{'name': 'Karukera Rhum Vieux Cuvée Christophe Colomb carafe coffret 45° 70 cl Guadeloupe'}\n",
      "{'name': 'Maison La Mauny Rhum Vieux VSOP 40° 70 cl Martinique'}\n",
      "{'name': 'Saint James Rhum Vieux Millésime 2001 43° 70 cl Martinique'}\n",
      "{'name': 'Saint James Rhum Vieux Cuvée l’Essentiel 43° 70 cl Martinique'}\n",
      "{'name': 'Trois Rivières VOSP Coffret Rhum Old Fashioned 40° 70 cl Martinique'}\n",
      "{'name': 'Saint James Rhum Vieux 1997 Single Cask 42,7° 70 cl Martinique'}\n",
      "{'name': 'Depaz Rhum Vieux Cuvée Victor 41° 70cl Martinique'}\n",
      "{'name': \"Chantal Comte Rhum Vieux La Tour de l'Or 2001 64,8° 70 cl Martinique\"}\n",
      "{'name': 'Saint James Rhum Vieux 1998 Single Cask 42,8° 70 cl Martinique'}\n",
      "{'name': 'Maison La Mauny Rhum Blanc Acacia 50° 1L Martinique'}\n",
      "{'name': 'A 1710 Rhum Vieux Nuée Ardente carafe canister 42,6° 70 cl Martinique'}\n",
      "{'name': 'A 1710 Rhum Vieux Soleil de Minuit carafe canister 42,8° 70 cl Martinique'}\n",
      "{'name': 'A 1710 Rhum Vieux Tricentenaire carafe canister 43,9° 70 cl Martinique'}\n",
      "{'name': 'Bally Rhum Ambré 45° 70 cl Martinique'}\n",
      "{'name': 'Bally Rhum Blanc 55° 1L Martinique'}\n",
      "{'name': 'Bally Rhum Vieux 1929 coffret 41,5° 75 cl Martinique'}\n",
      "{'name': 'Bally Rhum Vieux 3 ans Pyramide 45° 70 cl Martinique'}\n",
      "{'name': 'Bally Rhum Vieux 7 ans Pyramide 45° 70 cl Martinique'}\n",
      "{'name': 'Bally Rhum Vieux 12 ans Pyramide 45° 70 cl Martinique'}\n",
      "{'name': 'Clément Crème de Rhum Vieux Authentique 18° 70 cl Martinique'}\n",
      "{'name': 'Clément Liqueur Mahina Coco 18° 70 cl Martinique'}\n",
      "{'name': 'Clément Liqueur Shrubb 40° 70 cl Martinique'}\n",
      "{'name': 'Clément Punch Coco 18° 70 cl Martinique'}\n",
      "{'name': 'Clément Punch Planteur 18° 70 cl Martinique'}\n",
      "{'name': 'Clément Rhum Blanc 1ère Canne 40° 70 cl Martinique'}\n",
      "{'name': 'Longueteau Liqueur Crème de Rhum Vieux 17° 70 cl Guadeloupe'}\n",
      "{'name': 'Longueteau Liqueur Premium Shrubb 30° 70 cl Guadeloupe'}\n",
      "{'name': 'Longueteau Punch Planteur 16° 1L Guadeloupe'}\n",
      "{'name': 'Longueteau Punch Shrubb 25° 50 cl Guadeloupe'}\n",
      "{'name': 'Longueteau Rhum Ambré 40° 70 cl Guadeloupe'}\n",
      "{'name': 'Longueteau Rhum Blanc 40° 70 cl Guadeloupe'}\n",
      "{'name': 'Longueteau Rhum Blanc 50° 70 cl Guadeloupe'}\n",
      "{'name': 'Longueteau Rhum Blanc 55° 70 cl Guadeloupe'}\n",
      "{'name': 'Longueteau Rhum Blanc 62° 70 cl Guadeloupe'}\n",
      "{'name': 'Longueteau Coffret 4 tubes de Rhum pour cocktails Guadeloupe'}\n",
      "{'name': 'Longueteau Rhum Épicé Créole Spicy 40° 70 cl Guadeloupe'}\n",
      "{'name': 'Longueteau Rhum Épicé Original Spicy 40° 70 cl Guadeloupe'}\n",
      "{'name': 'Longueteau Rhum Vieux 3 ans 42° 70 cl Guadeloupe'}\n",
      "{'name': 'Mabi Punch Abricot Pays 34° 70 cl Guadeloupe'}\n",
      "{'name': 'Mabi Punch Cajou 34° 70 cl Guadeloupe'}\n",
      "{'name': 'Mabi Punch Cerise Pays (Acerola) 34° 70 cl Guadeloupe'}\n",
      "{'name': 'Mabi Punch Coco 34° 70 cl Guadeloupe'}\n",
      "{'name': 'Mabi Punch Gingembre 34° 70 cl Guadeloupe'}\n",
      "{'name': 'Mabi Punch Karambole 34° 70 cl Guadeloupe'}\n",
      "{'name': 'Mabi Punch Kenet 34° 70 cl Guadeloupe'}\n",
      "{'name': 'Mabi Punch Mangue 34° 70 cl Guadeloupe'}\n",
      "{'name': 'Mabi Punch Maracudja 34° 70 cl Guadeloupe'}\n",
      "{'name': 'Mabi Punch Mombin 34° 70 cl Guadeloupe'}\n",
      "{'name': 'Mabi Punch Surelle 34° 70 cl'}\n",
      "{'name': 'Clément Rhum Blanc 50° 70 cl Martinique'}\n",
      "{'name': 'Clément Rhum Blanc 50° cubi 3L Martinique'}\n",
      "{'name': 'Clément Rhum Blanc 55° 1L Martinique'}\n",
      "{'name': 'Clément Rhum Blanc Colonne Créole carafe 49,6° 70 cl Martinique'}\n",
      "{'name': 'Clément Rhum Vieux 3 ans VO 40° 70 cl Martinique'}\n",
      "{'name': 'Clément Rhum Vieux 6 ans XO 44° 70 cl Martinique'}\n",
      "{'name': 'Clément Rhum Vieux 5 ans Moka Intense Single Cask Blue 42,8° 50 cl Martinique'}\n",
      "{'name': 'Clément Rhum Vieux 10 ans 42° 70 cl Martinique'}\n",
      "{'name': 'Clément Rhum Vieux 1970 coffret 44° 70 cl Martinique'}\n",
      "{'name': 'Clément Rhum Vieux 1976 coffret 44° 70 cl Martinique'}\n",
      "{'name': 'Clément Rhum Vieux 2002 40° 70 cl Martinique'}\n",
      "{'name': 'Clément Rhum Vieux Cuvée Homère carafe étui 44° 70 cl Martinique'}\n",
      "{'name': 'Clément Rhum Ambré Select Barrel 40° 70 cl Martinique'}\n",
      "{'name': 'Clément Rhum Vieux XO carafe cristal coffret 44° 70 cl Martinique'}\n",
      "{'name': \"Clément Rhum Vieux XO l'Elixir carafe étui 44° 70 cl Martinique\"}\n",
      "{'name': 'Depaz Doré Rhum Ambré 50° 70 cl Martinique'}\n",
      "{'name': 'Depaz Rhum Blanc Cuvée de la Montagne 45° 70 cl  Martinique'}\n",
      "{'name': 'Depaz Rhum Blanc 55° 70 cl Martinique'}\n",
      "{'name': 'Depaz Rhum Vieux Millésime 2002 45° 70 cl Martinique'}\n",
      "{'name': 'Depaz Rhum Vieux VO 3 ans Plantation 45° 70 cl Martinique'}\n",
      "{'name': 'Depaz Rhum Vieux VSOP 7 ans Réserve Spéciale étui 45° 70 cl Martinique'}\n",
      "{'name': 'Depaz Rhum Vieux XO 8-10 ans Grande Réserve 45° 70 cl Martinique'}\n",
      "{'name': 'Depaz Rhum Vieux XO Cuvée Prestige carafe coffret 45° 70 cl Martinique'}\n",
      "{'name': 'Dillon Rhum Blanc 50° 70 cl Martinique'}\n",
      "{'name': 'Mabi Punch Surette 34° 70 cl'}\n",
      "{'name': 'Mabi Punch Tamarin 34° 70 cl Guadeloupe'}\n",
      "{'name': 'Madras Cocktail Daiquiri Citron Vert 25° 70 cl Guadeloupe'}\n",
      "{'name': 'Madras Rhum Vieux 3 ans 50° 70 cl Guadeloupe'}\n",
      "{'name': 'Montebello Rhum Blanc 50° 1L Guadeloupe'}\n",
      "{'name': 'Montebello Rhum Vieux 6 ans 42° 70 cl Guadeloupe'}\n",
      "{'name': 'Montebello Rhum Vieux 8 ans 42° 70 cl Guadeloupe'}\n",
      "{'name': 'Montebello Rhum Vieux 10 ans 42° 70 cl Guadeloupe'}\n",
      "{'name': 'Montebello Rhum Vieux 12 ans Single Cask étui 40° 70 cl  Guadeloupe'}\n",
      "{'name': 'Montebello Rhum Vieux 14 ans Grande Réserve Spéciale 50.6° 70 cl Guadeloupe'}\n",
      "{'name': 'Montebello Rhum Vieux 24 ans Cuvée Prestige 1982 carafe étui 42° 70 cl Guadeloupe'}\n",
      "{'name': 'Père Labat Rhum Ambré Dore 50° 70 cl de Marie Galante'}\n",
      "{'name': 'Père Labat Rhum Blanc 59° 1L Marie Galante'}\n",
      "{'name': 'Père Labat Rhum Blanc 59° 70 cl Marie Galante'}\n",
      "{'name': 'Reimonenq Rhum Ambré 40° 70 cl Guadeloupe'}\n",
      "{'name': 'Reimonenq Rhum Blanc Coeur de Chauffe 40° 70 cl Guadeloupe'}\n",
      "{'name': 'Reimonenq Rhum Blanc Coeur de Chauffe 50° 1L Guadeloupe'}\n",
      "{'name': 'Reimonenq Rhum Vieux 9 ans Cuvée Prestige 40° 70 cl Guadeloupe'}\n",
      "{'name': \"Reimonenq Rhum Vieux 17 ans Hors d'Age 1998 carafe étiquette étain 40° 70 cl Guadeloupe\"}\n",
      "{'name': 'Saveurs de Coriandre Punch 7ème Ciel 30° 1L Guadeloupe'}\n",
      "{'name': 'Saveurs de Coriandre Punch 7ème Ciel 30° 50 cl Guadeloupe'}\n",
      "{'name': 'Saveurs de Coriandre Punch Ananas 18 1L Guadeloupe'}\n",
      "{'name': 'Saveurs de Coriandre Punch Ananas 18° 50 cl Guadeloupe'}\n",
      "{'name': 'Saveurs de Coriandre Punch Bois Bandé 30° 1L Guadeloupe'}\n",
      "{'name': 'Dillon Rhum Vieux VO 43° 70 cl Martinique'}\n",
      "{'name': 'Dillon Rhum Vieux 4 ans VSOP 43° 70 cl Martinique'}\n",
      "{'name': 'Dillon Rhum Vieux Club 7 ans 45° 70 cl Martinique'}\n",
      "{'name': 'Dillon Rhum Vieux XO Club 12 ans 45° 70 cl Martinique'}\n",
      "{'name': 'Dormoy Liqueur Shrubb 35° 70 cl Martinique'}\n",
      "{'name': 'Dormoy Punch Cacahuète 18° 70 cl Martinique'}\n",
      "{'name': 'Dormoy Punch Coco 18° 70 cl Martinique'}\n",
      "{'name': 'Dormoy Punch Passion (Maracudja) 18° 70 cl Martinique'}\n",
      "{'name': 'Héritiers Madkaud Rhum Blanc Castelmore 50° 70 cl Martinique'}\n",
      "{'name': 'Héritiers Madkaud Rhum Vieux VSOP Castelmore  40° 70 cl Martinique'}\n",
      "{'name': 'HSE Rhum Ambré Elevé Sous Bois 42° 70 cl Martinique'}\n",
      "{'name': 'HSE Rhum Blanc 50° 1L Martinique'}\n",
      "{'name': 'HSE Rhum Blanc 55° 1L Martinique'}\n",
      "{'name': 'HSE Rhum Vieux 1960 Grande Réserve coffret 45° 70 cl Martinique'}\n",
      "{'name': 'HSE Rhum Vieux 2003 Single Cask étui 47,8° 50 cl Martinique'}\n",
      "{'name': 'HSE Rhum Vieux 2004 Finition Sherry Oloroso 45° 50 cl Martinique'}\n",
      "{'name': 'HSE Rhum Vieux 2005 Finition Sherry Pedro Ximenez 46° 50 cl Martinique'}\n",
      "{'name': 'HSE Rhum Vieux Black Sheriff 40° 70 cl Martinique'}\n",
      "{'name': 'HSE Rhum Ambré Ragtime 40° 70 cl Martinique'}\n",
      "{'name': 'HSE Rhum Vieux VO 3 ans 42° 70 cl Martinique'}\n",
      "{'name': 'HSE Rhum Vieux VSOP 4 ans Réserve Spéciale 45° 20 cl Martinique'}\n",
      "{'name': 'HSE Rhum Vieux VSOP 4 ans Réserve Spéciale 45° 70 cl Martinique'}\n",
      "{'name': 'HSE Rhum Vieux XO Grande Réserve 6 ans 43° 20 cl Martinique'}\n",
      "{'name': 'HSE Rhum Vieux XO Grande Réserve 6 ans 43° 70 cl Martinique'}\n",
      "{'name': 'Saveurs de Coriandre Punch Bois Bandé 30° 50 cl Guadeloupe'}\n",
      "{'name': 'Saveurs de Coriandre Punch Cacahuète 15° 1L Guadeloupe'}\n",
      "{'name': 'Saveurs de Coriandre Punch Cannelle 30° 1L Guadeloupe'}\n",
      "{'name': 'Saveurs de Coriandre Punch Chocolat 15° 1L Guadeloupe'}\n",
      "{'name': 'Saveurs de Coriandre Punch Coco 15° 1L Guadeloupe'}\n",
      "{'name': 'Saveurs de Coriandre Punch Coco 15° 50 cl Guadeloupe'}\n",
      "{'name': 'Saveurs de Coriandre Punch Erotika 18° 1L Guadeloupe'}\n",
      "{'name': 'Saveurs de Coriandre Punch Gingembre 30° 1L Guadeloupe'}\n",
      "{'name': 'Saveurs de Coriandre Punch Gingembre 30° 50 cl Guadeloupe'}\n",
      "{'name': 'Saveurs de Coriandre Punch Maracudja (Passion) 18° 1L Guadeloupe'}\n",
      "{'name': 'Saveurs de Coriandre Punch Planteur 15° 1L Guadeloupe'}\n",
      "{'name': 'Saveurs de Coriandre Punch Shrubb 30° 1L Guadeloupe'}\n",
      "{'name': 'Saveurs de Coriandre Punch Thé Vert Menthe 30° 1L Guadeloupe'}\n",
      "{'name': 'Saveurs de Coriandre Punch Vanille 18° 1L Guadeloupe'}\n",
      "{'name': 'Séverin Punch Citron Vert 30° 70 cl Guadeloupe'}\n",
      "{'name': 'Séverin Punch Coco 20° 70 cl Guadeloupe'}\n",
      "{'name': 'Séverin Punch Goyave 30° 70 cl Guadeloupe'}\n",
      "{'name': 'Séverin Punch Passion (Maracudja) 30° Guadeloupe'}\n",
      "{'name': 'Séverin Punch Planteur 16° Guadeloupe'}\n",
      "{'name': 'Séverin Punch Shrubb 30° 70 cl Guadeloupe'}\n",
      "{'name': 'Séverin Rhum Blanc 50° 70 cl Guadeloupe'}\n",
      "{'name': 'Séverin Rhum Vieux VO 40° 70 cl Guadeloupe'}\n",
      "{'name': 'Séverin Rhum Vieux VSOP 4 ans 42° 70 cl Guadeloupe'}\n",
      "{'name': 'Séverin Rhum Vieux XO 6 ans 45° 70 cl Guadeloupe'}\n",
      "{'name': 'JM Liqueur Shrubb 35° 70 cl Martinique'}\n",
      "{'name': 'JM Rhum Ambré élevé sous bois 50° 70 cl Martinique'}\n",
      "{'name': 'JM Rhum Blanc 50° 70 cl Martinique'}\n",
      "{'name': 'JM Rhum Blanc 55° 1L Martinique'}\n",
      "{'name': 'JM Rhum Vieux Cuvée 1845 carafe étui 42° 70 cl Martinique'}\n",
      "{'name': \"JM Rhum Vieux Hors d'âge Carafe et bouchon cristal carafe coffret 45° 70 cl Martinique\"}\n",
      "{'name': 'JM Rhum Vieux VO 43° 70 cl Martinique'}\n",
      "{'name': 'JM Rhum Vieux VSOP 43° 70 cl Martinique'}\n",
      "{'name': 'Maison La Mauny Rhum Ambré Heritage 1749 finish Porto 40° 70 cl Martinique'}\n",
      "{'name': 'Maison La Mauny Rhum Blanc Ter Rouj 45° 70 cl Martinique'}\n",
      "{'name': 'Maison La Mauny Rhum Épicé 40° 70 cl Martinique'}\n",
      "{'name': 'Maison La Mauny Rhum Vieux Nouveau Monde carafe coffret 41° 70 cl Martinique'}\n",
      "{'name': 'Maison La Mauny Rhum Vieux XO 40° 70 cl Martinique'}\n",
      "{'name': 'Neisson Rhum Ambré Elevé Sous Bois 50° 1L Martinique'}\n",
      "{'name': 'Neisson Rhum Blanc 55° 1L Martinique'}\n",
      "{'name': \"Neisson Rhum Blanc l'Esprit 70° 70 cl Martinique\"}\n",
      "{'name': 'Neisson Rhum Blanc le Rhum par Neisson 52,5° 20 cl Martinique'}\n",
      "{'name': 'Neisson Rhum Blanc le Rhum par Neisson 52,5° 70 cl Martinique'}\n",
      "{'name': 'Neisson Rhum coffret découverte 55,8° 3x20 cl Martinique'}\n",
      "{'name': 'Neisson Rhum Vieux le Vieux par Neisson 45° 70 cl Martinique'}\n",
      "{'name': 'Neisson Rhum Vieux le XO par Neisson 48,5° 70 cl Martinique'}\n",
      "{'name': 'Saint James Rhum Ambré Paille 40° 70 cl Martinique'}\n",
      "{'name': 'Saint James Rhum Ambré Royal 45° 70 cl Martinique'}\n",
      "{'name': 'Saint James Rhum Blanc Imperial 40° 70 cl Martinique'}\n",
      "{'name': 'Saint James Rhum Blanc Royal 50° 1L Martinique'}\n",
      "{'name': 'Saint James Rhum Blanc 55° 1L Martinique'}\n",
      "{'name': 'Saint James Rhum Blanc Fleur de Canne 50° 70 cl Martinique'}\n",
      "{'name': 'Saint James Rhum Vieux 3 ans 42° 70 cl Martinique'}\n",
      "{'name': 'Saint James Rhum Vieux 7 ans 43° 70 cl Martinique'}\n",
      "{'name': 'Saint James Rhum Vieux 12 ans 43° 70 cl Martinique'}\n",
      "{'name': 'Saint James Rhum Vieux 15 ans 43° 70 cl Martinique'}\n",
      "{'name': 'Saint James Rhum Vieux Cuvée 1765 42° 70 cl Martinique'}\n",
      "{'name': 'Saint James Rhum Vieux Cuvée 250 ans Prestige carafe coffret 43° 70 cl Martinique'}\n",
      "{'name': 'Saint James Rhum Vieux Cuvée Excellence 42° 70 cl Martinique'}\n",
      "{'name': 'Saint James Rhum Vieux Fleur de Canne 42° 70 cl Martinique'}\n",
      "{'name': \"Saint James Rhum Vieux Hors d'Age 43° 70 cl Martinique\"}\n",
      "{'name': \"Saint James Rhum Vieux Hors d'Age Quintessence carafe coffret 42° 70 cl Martinique\"}\n",
      "{'name': \"Trois Rivières Rhum Blanc Premium Cuvée de l'Océan 42° 70 cl Martinique\"}\n",
      "{'name': 'Trois Rivières Rhum Vieux 12 ans 42° 70 cl Martinique'}\n",
      "{'name': 'Trois Rivières Rhum Vieux Cask Strength 2006 Brut de Fût L23 55,5° 50 cl Martinique'}\n",
      "{'name': 'Trois Rivières Rhum Vieux Cuvée Oman coffret 42° 70 cl Martinique'}\n",
      "{'name': 'Trois Rivières Rhum Vieux Cuvée Princesse coffret 43° 70 cl Martinique'}\n",
      "{'name': 'Trois Rivières Rhum Vieux Millésime 2000 coffret 42° 70 cl Martinique'}\n",
      "{'name': 'Trois Rivières Rhum Vieux VSOP Réserve Spéciale 40° 70 cl Martinique'}\n"
     ]
    }
   ],
   "source": [
    "for name in data:\n",
    "    print(name)"
   ]
  },
  {
   "cell_type": "code",
   "execution_count": 76,
   "id": "portuguese-harvey",
   "metadata": {},
   "outputs": [
    {
     "data": {
      "text/plain": [
       "['Longueteau Punch Shrubb 25° 1L Guadeloupe',\n",
       " 'Montebello Rhum Vieux 6 ans Zenga étui 46° Guadeloupe',\n",
       " 'Montebello Rhum Blanc Zenga étui 60° Guadeloupe',\n",
       " 'Karukera Rhum Vieux 2006 Fût 65 70 ans Anniversaire Velier 48,30° Guadeloupe',\n",
       " 'Bologne Rhum Blanc Bio 45° Guadeloupe',\n",
       " \"Père Labat Rhum Ambré L'Or 45° Marie Galante\",\n",
       " 'Bologne Rhum Vieux New Old Double Maturation 42° Guadeloupe',\n",
       " 'Bologne Rhum Vieux Réserve Spéciale 42°  Guadeloupe',\n",
       " 'Bologne Rhum Blanc Premium La Batterie étui 56,8° Guadeloupe',\n",
       " 'Papillon Rhum Ambré Freespirit 45° 70cl Guadeloupe']"
      ]
     },
     "execution_count": 76,
     "metadata": {},
     "output_type": "execute_result"
    }
   ],
   "source": [
    "# suppressoin des espaces avant 'cl'\n",
    "liste_json = []\n",
    "for rum in data:\n",
    "    for k, v in rum.items():\n",
    "        v = v.replace(' cl', 'cl')\n",
    "        liste_json.append(v)\n",
    "liste_json[0:10]"
   ]
  },
  {
   "cell_type": "code",
   "execution_count": 24,
   "id": "postal-thirty",
   "metadata": {},
   "outputs": [
    {
     "data": {
      "text/plain": [
       "['Longueteau', 'Punch', 'Shrubb', '25°', '1L', 'Guadeloupe']"
      ]
     },
     "execution_count": 24,
     "metadata": {},
     "output_type": "execute_result"
    }
   ],
   "source": [
    "values = str(liste_json[0]).split()\n",
    "values"
   ]
  },
  {
   "cell_type": "code",
   "execution_count": 25,
   "id": "interracial-railway",
   "metadata": {},
   "outputs": [
    {
     "data": {
      "text/plain": [
       "'Guadeloupe'"
      ]
     },
     "execution_count": 25,
     "metadata": {},
     "output_type": "execute_result"
    }
   ],
   "source": [
    "dernier = values[-1]\n",
    "dernier"
   ]
  },
  {
   "cell_type": "code",
   "execution_count": 27,
   "id": "chief-february",
   "metadata": {},
   "outputs": [
    {
     "data": {
      "text/plain": [
       "['Trois',\n",
       " 'Rivières',\n",
       " 'Rhum',\n",
       " 'Vieux',\n",
       " 'VSOP',\n",
       " 'Réserve',\n",
       " 'Spéciale',\n",
       " '40°',\n",
       " '70cl',\n",
       " 'Martinique']"
      ]
     },
     "execution_count": 27,
     "metadata": {},
     "output_type": "execute_result"
    }
   ],
   "source": [
    "alues = svtr(liste_json[-1]).split()\n",
    "values"
   ]
  },
  {
   "cell_type": "code",
   "execution_count": 29,
   "id": "rolled-celebrity",
   "metadata": {},
   "outputs": [],
   "source": [
    "first, *middle, last = liste_json[0].split()"
   ]
  },
  {
   "cell_type": "code",
   "execution_count": 30,
   "id": "expired-maryland",
   "metadata": {},
   "outputs": [
    {
     "data": {
      "text/plain": [
       "'Longueteau'"
      ]
     },
     "execution_count": 30,
     "metadata": {},
     "output_type": "execute_result"
    }
   ],
   "source": [
    "first"
   ]
  },
  {
   "cell_type": "code",
   "execution_count": 31,
   "id": "tired-american",
   "metadata": {},
   "outputs": [
    {
     "data": {
      "text/plain": [
       "['Punch', 'Shrubb', '25°', '1L']"
      ]
     },
     "execution_count": 31,
     "metadata": {},
     "output_type": "execute_result"
    }
   ],
   "source": [
    "middle"
   ]
  },
  {
   "cell_type": "code",
   "execution_count": 32,
   "id": "pointed-officer",
   "metadata": {},
   "outputs": [
    {
     "data": {
      "text/plain": [
       "'Guadeloupe'"
      ]
     },
     "execution_count": 32,
     "metadata": {},
     "output_type": "execute_result"
    }
   ],
   "source": [
    "last"
   ]
  },
  {
   "cell_type": "code",
   "execution_count": 33,
   "id": "requested-scholarship",
   "metadata": {},
   "outputs": [],
   "source": [
    "first, *middle, last = liste_json[-1].split()"
   ]
  },
  {
   "cell_type": "code",
   "execution_count": 34,
   "id": "concerned-september",
   "metadata": {},
   "outputs": [
    {
     "data": {
      "text/plain": [
       "'Trois'"
      ]
     },
     "execution_count": 34,
     "metadata": {},
     "output_type": "execute_result"
    }
   ],
   "source": [
    "first"
   ]
  },
  {
   "cell_type": "code",
   "execution_count": 35,
   "id": "accessible-angle",
   "metadata": {},
   "outputs": [
    {
     "data": {
      "text/plain": [
       "['Rivières', 'Rhum', 'Vieux', 'VSOP', 'Réserve', 'Spéciale', '40°', '70cl']"
      ]
     },
     "execution_count": 35,
     "metadata": {},
     "output_type": "execute_result"
    }
   ],
   "source": [
    "middle"
   ]
  },
  {
   "cell_type": "code",
   "execution_count": 36,
   "id": "baking-deadline",
   "metadata": {},
   "outputs": [
    {
     "data": {
      "text/plain": [
       "'Martinique'"
      ]
     },
     "execution_count": 36,
     "metadata": {},
     "output_type": "execute_result"
    }
   ],
   "source": [
    "last"
   ]
  },
  {
   "cell_type": "code",
   "execution_count": 40,
   "id": "floppy-canada",
   "metadata": {},
   "outputs": [],
   "source": [
    "*debut, last = liste_json[-1].split()"
   ]
  },
  {
   "cell_type": "code",
   "execution_count": 41,
   "id": "limiting-complement",
   "metadata": {},
   "outputs": [
    {
     "data": {
      "text/plain": [
       "'Martinique'"
      ]
     },
     "execution_count": 41,
     "metadata": {},
     "output_type": "execute_result"
    }
   ],
   "source": [
    "last"
   ]
  },
  {
   "cell_type": "code",
   "execution_count": 42,
   "id": "dressed-ivory",
   "metadata": {},
   "outputs": [
    {
     "data": {
      "text/plain": [
       "['Trois',\n",
       " 'Rivières',\n",
       " 'Rhum',\n",
       " 'Vieux',\n",
       " 'VSOP',\n",
       " 'Réserve',\n",
       " 'Spéciale',\n",
       " '40°',\n",
       " '70cl']"
      ]
     },
     "execution_count": 42,
     "metadata": {},
     "output_type": "execute_result"
    }
   ],
   "source": [
    "debut"
   ]
  },
  {
   "cell_type": "code",
   "execution_count": 65,
   "id": "lesser-reason",
   "metadata": {},
   "outputs": [
    {
     "data": {
      "text/plain": [
       "['Longueteau Punch Shrubb 25° 1L Guadeloupe',\n",
       " 'Montebello Rhum Vieux 6 ans Zenga étui 46° Guadeloupe',\n",
       " 'Montebello Rhum Blanc Zenga étui 60° Guadeloupe',\n",
       " 'Karukera Rhum Vieux 2006 Fût 65 70 ans Anniversaire Velier 48,30° Guadeloupe',\n",
       " 'Bologne Rhum Blanc Bio 45° Guadeloupe']"
      ]
     },
     "execution_count": 65,
     "metadata": {},
     "output_type": "execute_result"
    }
   ],
   "source": [
    "liste_json[:5]"
   ]
  },
  {
   "cell_type": "code",
   "execution_count": 90,
   "id": "medical-albuquerque",
   "metadata": {},
   "outputs": [
    {
     "name": "stdout",
     "output_type": "stream",
     "text": [
      "Trois Rivières Rhum Vieux VSOP Réserve Spéciale 40° 70cl Martinique\n",
      "Martinique\n"
     ]
    }
   ],
   "source": [
    "for e in liste_json:\n",
    "    pays = e.split()[-1]\n",
    "\n",
    "print(e)\n",
    "print(pays)\n",
    "# exporter les données dans un fichier json"
   ]
  },
  {
   "cell_type": "code",
   "execution_count": 67,
   "id": "smaller-publication",
   "metadata": {},
   "outputs": [
    {
     "name": "stdout",
     "output_type": "stream",
     "text": [
      "{'pays': 'Martinique'}\n"
     ]
    }
   ],
   "source": [
    "print(dictionnaire)"
   ]
  },
  {
   "cell_type": "code",
   "execution_count": 97,
   "id": "approximate-revelation",
   "metadata": {},
   "outputs": [
    {
     "name": "stdout",
     "output_type": "stream",
     "text": [
      "70cl\n"
     ]
    }
   ],
   "source": [
    "# test expression reguliere pour volume\n",
    "import re\n",
    "\n",
    "pattern = re.compile(r'\\d\\dcl')\n",
    "\n",
    "matches = pattern.findall('efefe 70cl dzef')\n",
    "\n",
    "for match in matches:\n",
    "    print(match)\n"
   ]
  },
  {
   "cell_type": "code",
   "execution_count": 115,
   "id": "honey-kennedy",
   "metadata": {},
   "outputs": [
    {
     "name": "stdout",
     "output_type": "stream",
     "text": [
      "50°\n",
      "55.8°\n"
     ]
    }
   ],
   "source": [
    "# test expression reguliere pour degre\n",
    "import re\n",
    "\n",
    "pattern = re.compile(r'(\\d+(?:\\.\\d+)?°)')\n",
    "\n",
    "matches = pattern.findall('efefe 50° dzef 55.8°')\n",
    "\n",
    "for match in matches:\n",
    "    print(match)\n"
   ]
  },
  {
   "cell_type": "code",
   "execution_count": null,
   "id": "criminal-cloud",
   "metadata": {},
   "outputs": [],
   "source": []
  }
 ],
 "metadata": {
  "kernelspec": {
   "display_name": "Python 3",
   "language": "python",
   "name": "python3"
  },
  "language_info": {
   "codemirror_mode": {
    "name": "ipython",
    "version": 3
   },
   "file_extension": ".py",
   "mimetype": "text/x-python",
   "name": "python",
   "nbconvert_exporter": "python",
   "pygments_lexer": "ipython3",
   "version": "3.8.6"
  }
 },
 "nbformat": 4,
 "nbformat_minor": 5
}
