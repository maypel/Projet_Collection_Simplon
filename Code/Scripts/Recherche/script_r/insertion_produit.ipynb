{
 "cells": [
  {
   "cell_type": "markdown",
   "id": "spatial-phrase",
   "metadata": {
    "tags": []
   },
   "source": [
    "# INSERTION PRODUIT BDD"
   ]
  },
  {
   "cell_type": "markdown",
   "id": "verbal-listing",
   "metadata": {},
   "source": [
    "###### "
   ]
  },
  {
   "cell_type": "markdown",
   "id": "matched-management",
   "metadata": {},
   "source": [
    "----------------"
   ]
  },
  {
   "cell_type": "code",
   "execution_count": null,
   "id": "declared-memphis",
   "metadata": {},
   "outputs": [],
   "source": [
    "import os\n",
    "import pandas as pd\n",
    "import psycopg2\n",
    "import csv\n",
    "import reprlib\n",
    "import numpy"
   ]
  },
  {
   "cell_type": "markdown",
   "id": "union-lodge",
   "metadata": {},
   "source": [
    "#### Test avec pandas et sqlalchemy"
   ]
  },
  {
   "cell_type": "code",
   "execution_count": null,
   "id": "stainless-january",
   "metadata": {},
   "outputs": [],
   "source": [
    "excel_file = 'INVENTAIRE_A.xlsx'\n",
    "inventaire = pd.read_excel(excel_file, skiprows=2)\n",
    "\n",
    "del inventaire['Unnamed: 5']\n",
    "inventaire.columns = ['NOM', 'VOLUME', 'DEGRE', 'NOMBRE', 'PRIX', 'MARQUE']\n",
    "index_with_nan = inventaire.index[inventaire.isnull().any(axis=1)]\n",
    "inventaire.drop(index_with_nan,0, inplace=True)\n",
    "inventaire.head()"
   ]
  },
  {
   "cell_type": "code",
   "execution_count": null,
   "id": "crucial-barcelona",
   "metadata": {
    "tags": []
   },
   "outputs": [],
   "source": [
    "# connexion à la bdd collection\n",
    "try:\n",
    "    conn = psycopg2.connect(\n",
    "        user = \"postgres\",\n",
    "        password = os.environ.get(\"pg_psw\"),\n",
    "        host = \"localhost\",\n",
    "        port = \"5432\",\n",
    "        database = \"collection\")\n",
    "    \n",
    "    cur = conn.cursor()\n",
    "    sql = \"\"\"INSERT INTO produit (nom, volume, degre) VALUES (%s,%s,%s)\"\"\"\n",
    "    value = (inventaire['NOM'], inventaire['VOLUME'], inventaire['DEGRE'])\n",
    "    cur.execute(sql, value)\n",
    "    conn.commit()\n",
    "    count = cur.rowcount\n",
    "    print (count, \"enregistrement inséré avec succès dans la table person.\")\n",
    "  \n",
    "    #fermeture de la connexion à la base de données\n",
    "    cur.close()\n",
    "    conn.close()\n",
    "    print(\"La connexion PostgreSQL est fermée\")\n",
    "except (Exception, psycopg2.Error) as error :\n",
    "    print (\"Erreur lors de l'insertion dans la table person\", error)"
   ]
  },
  {
   "cell_type": "code",
   "execution_count": null,
   "id": "purple-recording",
   "metadata": {},
   "outputs": [],
   "source": [
    "from sqlalchemy import create_engine\n",
    "import os\n",
    "\n",
    "user = 'postgres'\n",
    "password = os.environ.get('pg_psw')\n",
    "host = 'localhost'\n",
    "port = '5432'\n",
    "dbname = 'collection'  \n",
    "\n",
    "engine = create_engine(f\"postgresql://{user}:{password}@{host}:{port}/{dbname}\")\n",
    "\n",
    "#inventaire.to_sql('rhum', engine, if_exists='replace', index=False)\n"
   ]
  },
  {
   "cell_type": "code",
   "execution_count": null,
   "id": "excellent-gateway",
   "metadata": {
    "tags": []
   },
   "outputs": [],
   "source": [
    "inventaire.to_sql('produit2', engine, if_exists='append', index=False)"
   ]
  },
  {
   "cell_type": "code",
   "execution_count": null,
   "id": "corresponding-leisure",
   "metadata": {},
   "outputs": [],
   "source": [
    "product_inv = inventaire[['NOM', 'VOLUME', 'DEGRE']]"
   ]
  },
  {
   "cell_type": "markdown",
   "id": "amino-compensation",
   "metadata": {},
   "source": [
    "-------"
   ]
  },
  {
   "cell_type": "markdown",
   "id": "raised-consultation",
   "metadata": {},
   "source": [
    "#### Test insertion table produit collection2"
   ]
  },
  {
   "cell_type": "code",
   "execution_count": null,
   "id": "vocational-adult",
   "metadata": {},
   "outputs": [],
   "source": [
    "import numpy"
   ]
  },
  {
   "cell_type": "code",
   "execution_count": null,
   "id": "ideal-bobby",
   "metadata": {},
   "outputs": [],
   "source": [
    "product_inv = inventaire[['NOM', 'VOLUME', 'DEGRE']]"
   ]
  },
  {
   "cell_type": "code",
   "execution_count": null,
   "id": "liquid-driving",
   "metadata": {
    "tags": []
   },
   "outputs": [],
   "source": [
    "tuples = [tuple(x) for x in product_inv.to_numpy()]\n",
    "# Comma-separated dataframe columns\n",
    "cols = ','.join(list(product_inv.columns))"
   ]
  },
  {
   "cell_type": "code",
   "execution_count": null,
   "id": "designing-front",
   "metadata": {},
   "outputs": [],
   "source": [
    "# connexion à la bdd collection\n",
    "try:\n",
    "    conn = psycopg2.connect(\n",
    "        user = \"postgres\",\n",
    "        password = os.environ.get(\"pg_psw\"),\n",
    "        host = \"localhost\",\n",
    "        port = \"5432\",\n",
    "        database = \"collection2\")\n",
    "    \n",
    "    cur = conn.cursor()\n",
    "    table = 'produit'\n",
    "    sql = \"\"\"INSERT INTO produit (nom, volume, degre) VALUES (%s,%s,%s)\"\"\" \n",
    "    cur.executemany(sql, tuples)\n",
    "    conn.commit()\n",
    "    count = cur.rowcount\n",
    "    print (count, \"enregistrement inséré avec succès dans la table person.\")\n",
    "  \n",
    "    #fermeture de la connexion à la base de données\n",
    "    cur.close()\n",
    "    conn.close()\n",
    "    print(\"La connexion PostgreSQL est fermée\")\n",
    "except (Exception, psycopg2.Error) as error :\n",
    "    print (\"Erreur lors de l'insertion dans la table person\", error)"
   ]
  },
  {
   "cell_type": "code",
   "execution_count": null,
   "id": "divided-offense",
   "metadata": {},
   "outputs": [],
   "source": [
    "print(tuples[0:10])"
   ]
  },
  {
   "cell_type": "code",
   "execution_count": null,
   "id": "promising-holly",
   "metadata": {},
   "outputs": [],
   "source": [
    "print(cols)"
   ]
  },
  {
   "cell_type": "markdown",
   "id": "artistic-major",
   "metadata": {
    "tags": []
   },
   "source": [
    "-----------------"
   ]
  },
  {
   "cell_type": "markdown",
   "id": "beginning-protocol",
   "metadata": {},
   "source": [
    "# Test insertion produit collection"
   ]
  },
  {
   "cell_type": "code",
   "execution_count": null,
   "id": "hearing-performance",
   "metadata": {
    "tags": []
   },
   "outputs": [],
   "source": [
    "inventaire_produit =  inventaire[['NOM', 'VOLUME', 'DEGRE', 'MARQUE']]"
   ]
  },
  {
   "cell_type": "code",
   "execution_count": null,
   "id": "foster-football",
   "metadata": {
    "tags": []
   },
   "outputs": [],
   "source": [
    "liste_inventaire = [list(x) for x in inventaire_produit.to_numpy()]\n",
    "print(liste_inventaire[0:10])"
   ]
  },
  {
   "cell_type": "code",
   "execution_count": null,
   "id": "adverse-cache",
   "metadata": {},
   "outputs": [],
   "source": [
    "nom = liste_inventaire[0][0]\n",
    "volume = liste_inventaire[0][1]\n",
    "degre = liste_inventaire[0][2]\n",
    "marque = liste_inventaire[0][3]\n",
    "\n",
    "print(nom)\n",
    "print(volume)\n",
    "print(degre)\n",
    "print(marque)"
   ]
  },
  {
   "cell_type": "code",
   "execution_count": null,
   "id": "billion-romance",
   "metadata": {
    "tags": []
   },
   "outputs": [],
   "source": [
    "conn = psycopg2.connect(\n",
    "        user = \"postgres\",\n",
    "        password = os.environ.get(\"pg_psw\"),\n",
    "        host = \"localhost\",\n",
    "        port = \"5432\",\n",
    "        database = \"collection2\"\n",
    ")\n",
    "cur = conn.cursor()\n",
    "for nom, volume, degre, marque in liste_inventaire:\n",
    "    #print(producteur)\n",
    "    #print(pays)\n",
    "    cur.execute(f\"\"\"SELECT producteur.code_producteur \n",
    "        FROM producteur\n",
    "        WHERE producteur.nom = '{marque}';\n",
    "        \"\"\")\n",
    "    \n",
    "    code = cur.fetchone()[0]\n",
    "    print(code)\n",
    "    \n",
    "    cur.execute(f\"INSERT INTO produit (nom, volume, degre, code_producteur) VALUES ('{nom}', {volume}, {degre}, {code})\")\n",
    "print(type(cur))   \n",
    "cur.close()\n",
    "conn.commit()\n",
    "conn.close()"
   ]
  },
  {
   "cell_type": "code",
   "execution_count": null,
   "id": "suspended-maple",
   "metadata": {},
   "outputs": [],
   "source": [
    "# prod\n",
    "# je crée une liste regroupant les pays et les producteurs\n",
    "liste_gro = []\n",
    "with open('rum_data_new.csv', newline='', encoding='utf-8') as csvfile:\n",
    "    spamreader = csv.reader(csvfile, delimiter=',')\n",
    "    for row in spamreader:\n",
    "        liste_gro.append((row[0:2]))\n",
    "liste_gro = liste_gro[1:]\n",
    "print(liste_gro[0:10])"
   ]
  },
  {
   "cell_type": "code",
   "execution_count": null,
   "id": "relevant-appointment",
   "metadata": {},
   "outputs": [],
   "source": [
    "conn = psycopg2.connect(\n",
    "        user = \"postgres\",\n",
    "        password = os.environ.get(\"pg_psw\"),\n",
    "        host = \"localhost\",\n",
    "        port = \"5432\",\n",
    "        database = \"collection2\"\n",
    ")\n",
    "cur = conn.cursor()\n",
    "for nom, marque in liste_gro:\n",
    "    #print(producteur)\n",
    "    #print(pays)\n",
    "    cur.execute(f\"\"\"SELECT producteur.code_producteur \n",
    "        FROM producteur\n",
    "        WHERE producteur.nom = '{marque}';\n",
    "        \"\"\")\n",
    "    code = cur.fetchone()[0]\n",
    "    \n",
    "    cur.execute(f\"INSERT INTO produit (nom, code_producteur) VALUES ('{nom}', {code})\")\n",
    "print(type(cur))   \n",
    "cur.close()\n",
    "conn.commit()\n",
    "conn.close()"
   ]
  },
  {
   "cell_type": "code",
   "execution_count": null,
   "id": "enormous-heading",
   "metadata": {},
   "outputs": [],
   "source": []
  },
  {
   "cell_type": "code",
   "execution_count": null,
   "id": "promotional-oakland",
   "metadata": {},
   "outputs": [],
   "source": []
  }
 ],
 "metadata": {
  "kernelspec": {
   "display_name": "Python 3",
   "language": "python",
   "name": "python3"
  },
  "language_info": {
   "codemirror_mode": {
    "name": "ipython",
    "version": 3
   },
   "file_extension": ".py",
   "mimetype": "text/x-python",
   "name": "python",
   "nbconvert_exporter": "python",
   "pygments_lexer": "ipython3",
   "version": "3.8.6"
  }
 },
 "nbformat": 4,
 "nbformat_minor": 5
}
