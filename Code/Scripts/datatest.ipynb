{
 "cells": [
  {
   "cell_type": "markdown",
   "id": "stock-paris",
   "metadata": {},
   "source": [
    "# Insertion donnees collectiondb"
   ]
  },
  {
   "cell_type": "markdown",
   "id": "killing-stupid",
   "metadata": {},
   "source": [
    "###### "
   ]
  },
  {
   "cell_type": "code",
   "execution_count": null,
   "id": "regional-canal",
   "metadata": {},
   "outputs": [],
   "source": [
    "# imports des librairies\n",
    "import os\n",
    "import pandas as pd\n",
    "import psycopg2"
   ]
  },
  {
   "cell_type": "markdown",
   "id": "economic-verse",
   "metadata": {},
   "source": [
    "-----------------"
   ]
  },
  {
   "cell_type": "markdown",
   "id": "laughing-quilt",
   "metadata": {},
   "source": [
    "- preparation liste pays/origine avec dataframe"
   ]
  },
  {
   "cell_type": "code",
   "execution_count": null,
   "id": "civil-pioneer",
   "metadata": {},
   "outputs": [],
   "source": [
    "# création dataframe liste_rhum\n",
    "csv_file = 'rum_data_new.csv'\n",
    "liste_rhum = pd.read_csv(csv_file)\n",
    "\n",
    "liste_rhum.head()"
   ]
  },
  {
   "cell_type": "code",
   "execution_count": null,
   "id": "organized-membership",
   "metadata": {},
   "outputs": [],
   "source": [
    "# on extrait la colone country de la df\n",
    "origine = liste_rhum['country']"
   ]
  },
  {
   "cell_type": "code",
   "execution_count": null,
   "id": "rational-meaning",
   "metadata": {},
   "outputs": [],
   "source": [
    "print(origine)"
   ]
  },
  {
   "cell_type": "code",
   "execution_count": null,
   "id": "sound-separation",
   "metadata": {},
   "outputs": [],
   "source": [
    "# on efface les doublons de la df origine pour avoir un nom unique d'origine\n",
    "origine_sans_doublons = origine.drop_duplicates()\n",
    "print(origine_sans_doublons)"
   ]
  },
  {
   "cell_type": "markdown",
   "id": "distinct-discharge",
   "metadata": {},
   "source": [
    "----------------------------------------"
   ]
  },
  {
   "cell_type": "markdown",
   "id": "consolidated-objective",
   "metadata": {
    "tags": []
   },
   "source": [
    "### Lecture des données dans la bdd"
   ]
  },
  {
   "cell_type": "code",
   "execution_count": null,
   "id": "alone-scott",
   "metadata": {},
   "outputs": [],
   "source": [
    "# connexion à la bdd collection\n",
    "conn = psycopg2.connect(\n",
    "        user = \"postgres\",\n",
    "        password = os.environ.get(\"pg_psw\"),\n",
    "        host = \"localhost\",\n",
    "        port = \"5432\",\n",
    "        database = \"collection\"\n",
    ")\n",
    "cur = conn.cursor()\n",
    "\n",
    "# requete sql pour récupérer les données table origine\n",
    "sql = \"SELECT * FROM origine\"\n",
    "cur.execute(sql)\n",
    "res = cur.fetchall()\n",
    "print(res)\n",
    "\n",
    "\n",
    "#fermeture de la connexion à la base de données\n",
    "cur.close()\n",
    "conn.close()\n",
    "print(\"La connexion PostgreSQL est fermée\")"
   ]
  },
  {
   "cell_type": "code",
   "execution_count": null,
   "id": "constitutional-poultry",
   "metadata": {},
   "outputs": [],
   "source": [
    "# on transforme les données en dictionnaire avec la fonction dict()\n",
    "dico = dict(res)"
   ]
  },
  {
   "cell_type": "code",
   "execution_count": null,
   "id": "welsh-syndication",
   "metadata": {},
   "outputs": [],
   "source": [
    "print(dico)"
   ]
  },
  {
   "cell_type": "code",
   "execution_count": null,
   "id": "verified-desert",
   "metadata": {},
   "outputs": [],
   "source": [
    "# connexion à la bdd collection\n",
    "conn = psycopg2.connect(\n",
    "        user = \"postgres\",\n",
    "        password = os.environ.get(\"pg_psw\"),\n",
    "        host = \"localhost\",\n",
    "        port = \"5432\",\n",
    "        database = \"collection\"\n",
    ")\n",
    "# création du curseur\n",
    "cur = conn.cursor()\n",
    "# requete sql\n",
    "sql = \"SELECT * FROM producteur;\"\n",
    "# exécution de la requete sql\n",
    "cur.execute(sql)\n",
    "# on enregistre toute les données récupérées dans la variable pro\n",
    "pro = cur.fetchall()\n",
    "print(pro[0:20])\n",
    "\n",
    "\n",
    "#fermeture de la connexion à la base de données\n",
    "cur.close()\n",
    "conn.close()\n",
    "print(\"La connexion PostgreSQL est fermée\")"
   ]
  },
  {
   "cell_type": "markdown",
   "id": "cheap-remains",
   "metadata": {
    "tags": []
   },
   "source": [
    "------------------"
   ]
  },
  {
   "cell_type": "markdown",
   "id": "steady-insider",
   "metadata": {},
   "source": [
    "- Affichage code_origine"
   ]
  },
  {
   "cell_type": "code",
   "execution_count": null,
   "id": "loose-typing",
   "metadata": {},
   "outputs": [],
   "source": [
    "# connexion à la bdd collection\n",
    "conn = psycopg2.connect(\n",
    "        user = \"postgres\",\n",
    "        password = os.environ.get(\"pg_psw\"),\n",
    "        host = \"localhost\",\n",
    "        port = \"5432\",\n",
    "        database = \"collection\"\n",
    ")\n",
    "cur = conn.cursor()\n",
    "\n",
    "sql = \"SELECT origine.code_origine FROM origine\"\n",
    "cur.execute(sql)\n",
    "code_id = cur.fetchall()\n",
    "print(code_id)\n",
    "\n",
    "\n",
    "#fermeture de la connexion à la base de données\n",
    "cur.close()\n",
    "conn.close()\n",
    "print(\"La connexion PostgreSQL est fermée\")"
   ]
  },
  {
   "cell_type": "markdown",
   "id": "fluid-decline",
   "metadata": {},
   "source": [
    "-----------------"
   ]
  },
  {
   "cell_type": "markdown",
   "id": "instructional-mineral",
   "metadata": {},
   "source": [
    "- lecture données dans rum_data_csv"
   ]
  },
  {
   "cell_type": "code",
   "execution_count": null,
   "id": "postal-tours",
   "metadata": {},
   "outputs": [],
   "source": [
    "import csv\n",
    "import reprlib\n",
    "\n",
    "liste = []\n",
    "with open('rum_data_new.csv', newline='', encoding='utf-8') as csvfile:\n",
    "    spamreader = csv.reader(csvfile, delimiter=',')\n",
    "    for row in spamreader:\n",
    "        if row[2] not in liste:\n",
    "            liste.append(row[2])\n",
    "print(reprlib.repr(liste))"
   ]
  },
  {
   "cell_type": "code",
   "execution_count": null,
   "id": "contemporary-easter",
   "metadata": {},
   "outputs": [],
   "source": [
    "liste2 = []\n",
    "with open('rum_data_new.csv', newline='', encoding='utf-8') as csvfile:\n",
    "    spamreader = csv.reader(csvfile, delimiter=',')\n",
    "    for row in spamreader:\n",
    "        liste2.append(row[0])\n",
    "print(reprlib.repr(liste2))"
   ]
  },
  {
   "cell_type": "code",
   "execution_count": null,
   "id": "happy-discipline",
   "metadata": {},
   "outputs": [],
   "source": [
    "print(liste[1])"
   ]
  },
  {
   "cell_type": "code",
   "execution_count": null,
   "id": "engaged-variance",
   "metadata": {},
   "outputs": [],
   "source": [
    "liste = liste[1:]"
   ]
  },
  {
   "cell_type": "code",
   "execution_count": null,
   "id": "taken-stamp",
   "metadata": {},
   "outputs": [],
   "source": [
    "print(liste)"
   ]
  },
  {
   "cell_type": "markdown",
   "id": "inclusive-sudan",
   "metadata": {},
   "source": [
    "###### "
   ]
  },
  {
   "cell_type": "markdown",
   "id": "intensive-spiritual",
   "metadata": {},
   "source": [
    "----------"
   ]
  },
  {
   "cell_type": "markdown",
   "id": "opened-survival",
   "metadata": {},
   "source": [
    "### Insertion des données"
   ]
  },
  {
   "cell_type": "code",
   "execution_count": null,
   "id": "known-parent",
   "metadata": {},
   "outputs": [],
   "source": [
    "# imports des librairies\n",
    "\n",
    "import os\n",
    "import pandas as pd\n",
    "import psycopg2"
   ]
  },
  {
   "cell_type": "code",
   "execution_count": null,
   "id": "apparent-ferry",
   "metadata": {},
   "outputs": [],
   "source": [
    "# test insertion données brut\n",
    "sql2 = \"INSERT INTO producteur (nom, code_origine) VALUES ('Montebello', 2)\"\n",
    "cur.execute(sql2)\n",
    "sql3 = \"INSERT INTO producteur (nom, code_origine) VALUES ('Foursquare', 3)\"\n",
    "cur.execute(sql3)\n",
    "#fermeture de la connexion à la base de données\n",
    "cur.close()\n",
    "conn.commit()\n",
    "conn.close()\n",
    "print(\"La connexion PostgreSQL est fermée\")"
   ]
  },
  {
   "cell_type": "code",
   "execution_count": null,
   "id": "corresponding-affair",
   "metadata": {
    "tags": []
   },
   "outputs": [],
   "source": [
    "# création dataframe\n",
    "\n",
    "csv_file = 'rum_data_new.csv'\n",
    "liste_rhum = pd.read_csv(csv_file)\n",
    "\n",
    "print(liste_rhum)"
   ]
  },
  {
   "cell_type": "code",
   "execution_count": null,
   "id": "radio-quantum",
   "metadata": {},
   "outputs": [],
   "source": [
    "# Code test...\n",
    "# connexion à la bdd collection\n",
    "conn = psycopg2.connect(\n",
    "        user = \"postgres\",\n",
    "        password = os.environ.get(\"pg_psw\"),\n",
    "        host = \"localhost\",\n",
    "        port = \"5432\",\n",
    "        database = \"collection\"\n",
    ")\n",
    "cur = conn.cursor()\n",
    "sql0 = \"\"\"select code_origine \n",
    "        from origine\n",
    "        where nom = 'Martinique';\n",
    "        \"\"\"\n",
    "cur.execute(sql0)\n",
    "orig = cur.fetchone()\n",
    "sql1 = f\"INSERT INTO producteur (nom, code_origine) VALUES ('Clement', {orig})\"\n",
    "cur.execute(sql1)"
   ]
  },
  {
   "cell_type": "markdown",
   "id": "usual-pittsburgh",
   "metadata": {},
   "source": [
    "- Création liste des origines"
   ]
  },
  {
   "cell_type": "code",
   "execution_count": null,
   "id": "super-census",
   "metadata": {},
   "outputs": [],
   "source": [
    "# Prod\n",
    "# liste des origines pour insertions\n",
    "\n",
    "import csv\n",
    "# je crée une liste regroupant ma liste de pays\n",
    "liste = []\n",
    "with open('rum_data_new.csv', newline='', encoding='utf-8') as csvfile:\n",
    "    spamreader = csv.reader(csvfile, delimiter=',')\n",
    "    for row in spamreader:\n",
    "        # gestion des doublons\n",
    "        if row[2] not in liste:\n",
    "            liste.append(row[2])\n",
    "liste = liste[1:]\n",
    "print(liste)"
   ]
  },
  {
   "cell_type": "code",
   "execution_count": null,
   "id": "opening-opera",
   "metadata": {},
   "outputs": [],
   "source": [
    "# requete sql test pour insérer donnée dans table origine\n",
    "\n",
    "sql = (\"\"\"INSERT INTO origine (Nom) VALUES (?)\"\"\",(pays))"
   ]
  },
  {
   "cell_type": "markdown",
   "id": "theoretical-support",
   "metadata": {},
   "source": [
    "- code pour insertion données dans origine"
   ]
  },
  {
   "cell_type": "code",
   "execution_count": null,
   "id": "tested-burner",
   "metadata": {
    "tags": []
   },
   "outputs": [],
   "source": [
    "# connexion à la bdd collection\n",
    "conn = psycopg2.connect(\n",
    "        user = \"postgres\",\n",
    "        password = os.environ.get(\"pg_psw\"),\n",
    "        host = \"localhost\",\n",
    "        port = \"5432\",\n",
    "        database = \"collection2\"\n",
    ")\n",
    "cur = conn.cursor()\n",
    "\n",
    "for e in liste:\n",
    "    cur.execute(\"SELECT origine.nom FROM origine WHERE origine.nom = (%s) \", (e,))\n",
    "    verif = cur.fetchone()\n",
    "    if not verif:\n",
    "        cur.execute(\"INSERT INTO origine (nom) VALUES(%s)\", (e,))\n",
    "\n",
    "conn.commit()\n",
    "conn.close()"
   ]
  },
  {
   "cell_type": "markdown",
   "id": "naval-certificate",
   "metadata": {},
   "source": [
    "- Code alternatif test"
   ]
  },
  {
   "cell_type": "code",
   "execution_count": null,
   "id": "disabled-mount",
   "metadata": {
    "tags": []
   },
   "outputs": [],
   "source": [
    "# je crée une liste regroupant ma liste de pays et de producteur\n",
    "liste_co = []\n",
    "with open('rum_data_new.csv', newline='', encoding='utf-8') as csvfile:\n",
    "    spamreader = csv.reader(csvfile, delimiter=',')\n",
    "    for row in spamreader:\n",
    "        if row[1:3] not in liste_co:\n",
    "            liste_co.append(row[1:3])\n",
    "liste_co = liste_co[1:]\n",
    "print(liste_co)"
   ]
  },
  {
   "cell_type": "code",
   "execution_count": null,
   "id": "continuous-fluid",
   "metadata": {
    "tags": []
   },
   "outputs": [],
   "source": [
    "# connexion à la bdd collection\n",
    "conn = psycopg2.connect(\n",
    "        user = \"postgres\",\n",
    "        password = os.environ.get(\"pg_psw\"),\n",
    "        host = \"localhost\",\n",
    "        port = \"5432\",\n",
    "        database = \"collection\"\n",
    ")\n",
    "cur = conn.cursor()\n",
    "\n",
    "for e in liste:\n",
    "    cur.execute(\"SELECT origine.nom FROM origine WHERE origine.nom = (%s) \", (e,))\n",
    "    verif = cur.fetchone()\n",
    "    if not verif:\n",
    "        cur.execute(\"INSERT INTO origine (nom) VALUES(%s)\", (e,))\n",
    "\n",
    "conn.commit()\n",
    "conn.close()"
   ]
  },
  {
   "cell_type": "markdown",
   "id": "lasting-protest",
   "metadata": {},
   "source": [
    "######"
   ]
  },
  {
   "cell_type": "markdown",
   "id": "center-artist",
   "metadata": {},
   "source": [
    "--------------------"
   ]
  },
  {
   "cell_type": "markdown",
   "id": "inside-johnson",
   "metadata": {},
   "source": [
    "### nettoyage fichier rum_data.csv"
   ]
  },
  {
   "cell_type": "markdown",
   "id": "aware-alliance",
   "metadata": {},
   "source": [
    "- avec le module csv"
   ]
  },
  {
   "cell_type": "code",
   "execution_count": null,
   "id": "cleared-maine",
   "metadata": {},
   "outputs": [],
   "source": [
    "# code teste pour gére les producteurs inconnus\n",
    "# avec le module csv\n",
    "import csv\n",
    "# lecture du fichier rum_data.csv\n",
    "liste_marque = []\n",
    "with open('rum_data_new.csv', newline='', encoding='utf-8') as csvfile:\n",
    "    spamreader = csv.reader(csvfile, delimiter=',')\n",
    "    for row in spamreader:\n",
    "        if row[1:3] not in liste_marque:\n",
    "            liste_marque.append(row[0:2])\n",
    "liste_marque = liste_marque[1:]"
   ]
  },
  {
   "cell_type": "code",
   "execution_count": null,
   "id": "potential-observer",
   "metadata": {},
   "outputs": [],
   "source": [
    "liste_marque[0]"
   ]
  },
  {
   "cell_type": "code",
   "execution_count": null,
   "id": "potential-guyana",
   "metadata": {
    "tags": []
   },
   "outputs": [],
   "source": [
    "# code teste pour gérer les producteurs inconnus\n",
    "# on utilise une boucle pour changer les occurences\n",
    "# les lignes où la marque est unknown, on  lui attribue le nom de la bouteille\n",
    "# comme marque\n",
    "liste_marque_new = []\n",
    "for e in liste_marque:\n",
    "    modif = e[0]\n",
    "    fication = e[1]\n",
    "    if fication == 'Unknown':\n",
    "        liste_marque_new.append(modif + \"\")\n",
    "    else:\n",
    "        liste_marque_new.append(fication)\n",
    "print(liste_marque_new)  "
   ]
  },
  {
   "cell_type": "markdown",
   "id": "cross-basement",
   "metadata": {},
   "source": [
    "###### "
   ]
  },
  {
   "cell_type": "markdown",
   "id": "alert-strategy",
   "metadata": {},
   "source": [
    "- avec la librairie pandas"
   ]
  },
  {
   "cell_type": "code",
   "execution_count": null,
   "id": "exempt-isolation",
   "metadata": {},
   "outputs": [],
   "source": [
    "# code pour gérer les producteurs inconnus\n",
    "# avec la librairie pandas\n",
    "import pandas as pd"
   ]
  },
  {
   "cell_type": "code",
   "execution_count": null,
   "id": "missing-appointment",
   "metadata": {},
   "outputs": [],
   "source": [
    "csv_file = 'rum_data_new.csv'\n",
    "liste_rhum = pd.read_csv(csv_file)\n",
    "\n",
    "liste_rhum.head(275)"
   ]
  },
  {
   "cell_type": "code",
   "execution_count": null,
   "id": "tight-separation",
   "metadata": {},
   "outputs": [],
   "source": [
    "list_unknown = liste_rhum['company'] == 'Unknown'"
   ]
  },
  {
   "cell_type": "code",
   "execution_count": null,
   "id": "serial-bailey",
   "metadata": {},
   "outputs": [],
   "source": [
    "filtered_df = liste_rhum[list_unknown]\n",
    "print(filtered_df)"
   ]
  },
  {
   "cell_type": "code",
   "execution_count": null,
   "id": "secret-palmer",
   "metadata": {},
   "outputs": [],
   "source": [
    "for x in liste_rhum.itertuples():\n",
    "    print(x.company) # Imprime la valeur courante de la colonne A de df\n",
    "    "
   ]
  },
  {
   "cell_type": "code",
   "execution_count": null,
   "id": "demographic-avenue",
   "metadata": {},
   "outputs": [],
   "source": [
    "# on change les valeurs inconnus par le nom de la bouteille\n",
    "liste_rhum.loc[liste_rhum['company'] == 'Unknown', 'company'] = liste_rhum['name']"
   ]
  },
  {
   "cell_type": "code",
   "execution_count": null,
   "id": "auburn-sphere",
   "metadata": {},
   "outputs": [],
   "source": [
    "liste_rhum.head(275)"
   ]
  },
  {
   "cell_type": "code",
   "execution_count": null,
   "id": "round-webmaster",
   "metadata": {},
   "outputs": [],
   "source": [
    "liste_rhum.to_csv('rum_data_new.csv', index = False, header=True)"
   ]
  },
  {
   "cell_type": "markdown",
   "id": "novel-commander",
   "metadata": {},
   "source": [
    "- remplacement des caractères spéciaux"
   ]
  },
  {
   "cell_type": "code",
   "execution_count": null,
   "id": "textile-concentrate",
   "metadata": {
    "tags": []
   },
   "outputs": [],
   "source": [
    "# df.replace([old_value], new_value)\n",
    "# création liste caractère spéciaux et leurs valeurs de remplacement\n",
    "dico = {}\n",
    "liste_car = ['Ã¡', 'Ã»', 'Ã¢', 'Ã©', 'â€™', 'Â°', 'Ã¨', 'Ã³', 'Ã±']\n",
    "liste_remp = ['a', 'u', 'a', 'e', '\\'', '°', 'e', 'o', 'n']\n",
    "# création du dictionnaire avec une compréhension de dictionnaire\n",
    "dico = {k: v for k, v in zip(liste_car, liste_remp)}"
   ]
  },
  {
   "cell_type": "code",
   "execution_count": null,
   "id": "duplicate-technical",
   "metadata": {},
   "outputs": [],
   "source": [
    "print(len(liste_car))"
   ]
  },
  {
   "cell_type": "code",
   "execution_count": null,
   "id": "serial-albania",
   "metadata": {},
   "outputs": [],
   "source": [
    "print(len(liste_remp))"
   ]
  },
  {
   "cell_type": "code",
   "execution_count": null,
   "id": "combined-climb",
   "metadata": {},
   "outputs": [],
   "source": [
    "print(dico)"
   ]
  },
  {
   "cell_type": "code",
   "execution_count": null,
   "id": "comic-pillow",
   "metadata": {},
   "outputs": [],
   "source": [
    "#  df.replace({'a': {'č': 'c', 'Í': 'I'}}, regex=True)\n",
    "# il faut que regex=True \n",
    "liste_rhum.replace({'name': dico}, regex=True,inplace=True)"
   ]
  },
  {
   "cell_type": "code",
   "execution_count": null,
   "id": "brave-straight",
   "metadata": {},
   "outputs": [],
   "source": [
    "liste_rhum.replace({'company': dico}, regex=True,inplace=True)"
   ]
  },
  {
   "cell_type": "code",
   "execution_count": null,
   "id": "asian-number",
   "metadata": {
    "tags": []
   },
   "outputs": [],
   "source": [
    "liste_rhum.to_csv('rum_data_new.csv', index = False, header=True)"
   ]
  },
  {
   "cell_type": "code",
   "execution_count": null,
   "id": "amino-vacation",
   "metadata": {},
   "outputs": [],
   "source": [
    "# df.replace([old_value], new_value)\n",
    "# création liste caractère spéciaux et leurs valeurs de remplacement\n",
    "dico2 = {}\n",
    "liste_ap = ['\\'']\n",
    "liste_remp1 = ['']\n",
    "# création du dictionnaire avec une compréhension de dictionnaire\n",
    "dico2 = {k: v for k, v in zip(liste_ap, liste_remp1)}"
   ]
  },
  {
   "cell_type": "code",
   "execution_count": null,
   "id": "welsh-signal",
   "metadata": {},
   "outputs": [],
   "source": [
    "liste_rhum.replace({'company': dico2}, regex=True,inplace=True)"
   ]
  },
  {
   "cell_type": "code",
   "execution_count": null,
   "id": "composite-impact",
   "metadata": {},
   "outputs": [],
   "source": [
    "liste_rhum.replace({'name': dico2}, regex=True,inplace=True)"
   ]
  },
  {
   "cell_type": "code",
   "execution_count": null,
   "id": "former-space",
   "metadata": {},
   "outputs": [],
   "source": [
    "liste_rhum.to_csv('rum_data_new.csv', index = False, header=True)"
   ]
  },
  {
   "cell_type": "code",
   "execution_count": null,
   "id": "afraid-medium",
   "metadata": {},
   "outputs": [],
   "source": []
  }
 ],
 "metadata": {
  "kernelspec": {
   "display_name": "Python 3",
   "language": "python",
   "name": "python3"
  },
  "language_info": {
   "codemirror_mode": {
    "name": "ipython",
    "version": 3
   },
   "file_extension": ".py",
   "mimetype": "text/x-python",
   "name": "python",
   "nbconvert_exporter": "python",
   "pygments_lexer": "ipython3",
   "version": "3.8.6"
  }
 },
 "nbformat": 4,
 "nbformat_minor": 5
}
