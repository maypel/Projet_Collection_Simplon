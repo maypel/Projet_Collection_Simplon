{
 "cells": [
  {
   "cell_type": "code",
   "execution_count": null,
   "id": "decent-landscape",
   "metadata": {},
   "outputs": [],
   "source": [
    "# Récupération des infos sur un pokemon https://pokemondb.net/pokedex/bulbasaur\n",
    "import urllib\n",
    "import bs4\n",
    "from urllib.request import Request, urlopen\n",
    "\n",
    "# Etape 1 : se connecter à la page et obtenir le code source\n",
    "# utilisation de l'objet requête avec en-tête pour éviter une erreur \"HTTP Error 403: Forbidden\"\n",
    "\n",
    "url_pokemon = \"https://www.christiandemontaguere.com/recherche?controller=search&orderby=position&orderway=desc&search_query=hse&submit_search=\"\n",
    "\n",
    "req = Request(url_pokemon, headers={'User-Agent': 'Mozilla/5.0'})\n",
    "html = urlopen(req).read().decode('utf-8')\n",
    "print(html)"
   ]
  },
  {
   "cell_type": "code",
   "execution_count": null,
   "id": "amateur-blocking",
   "metadata": {},
   "outputs": [],
   "source": [
    "from bs4 import BeautifulSoup\n",
    "import requests\n",
    "\n",
    "url = \"https://www.lacompagniedurhum.com/rhums-d-exception/petites-series/rhums-millesimes.html\"\n",
    "\n",
    "url_rum = requests.get(url)\n",
    "\n",
    "soup = BeautifulSoup(url_rum.text, 'lxml')\n",
    "\n",
    "for item in soup.findAll('div', {'class' : \"rhum-selection__title\"}):   \n",
    "    print(item)"
   ]
  },
  {
   "cell_type": "code",
   "execution_count": null,
   "id": "selective-billy",
   "metadata": {},
   "outputs": [],
   "source": [
    "from bs4 import BeautifulSoup\n",
    "import requests\n",
    "\n",
    "url = \"https://www.christiandemontaguere.com/3365-les-rhums-de-martinique\"\n",
    "\n",
    "url_rum = requests.get(url)\n",
    "\n",
    "soup = BeautifulSoup(url_rum.text, 'lxml')\n",
    "\n",
    "for item in soup.findAll('a', {'class' : \"img product_img_link\"}):   \n",
    "    print(item)"
   ]
  },
  {
   "cell_type": "code",
   "execution_count": null,
   "id": "rental-polish",
   "metadata": {},
   "outputs": [],
   "source": [
    "import"
   ]
  }
 ],
 "metadata": {
  "kernelspec": {
   "display_name": "Python 3",
   "language": "python",
   "name": "python3"
  },
  "language_info": {
   "codemirror_mode": {
    "name": "ipython",
    "version": 3
   },
   "file_extension": ".py",
   "mimetype": "text/x-python",
   "name": "python",
   "nbconvert_exporter": "python",
   "pygments_lexer": "ipython3",
   "version": "3.8.6"
  }
 },
 "nbformat": 4,
 "nbformat_minor": 5
}
