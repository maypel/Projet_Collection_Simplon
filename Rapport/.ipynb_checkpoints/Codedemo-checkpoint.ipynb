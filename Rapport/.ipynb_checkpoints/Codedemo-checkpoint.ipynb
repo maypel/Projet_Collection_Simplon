{
 "cells": [
  {
   "cell_type": "markdown",
   "id": "above-oklahoma",
   "metadata": {},
   "source": [
    "# Code demo 280/04/2021 Flagship"
   ]
  },
  {
   "cell_type": "markdown",
   "id": "promotional-amsterdam",
   "metadata": {},
   "source": [
    "###### "
   ]
  },
  {
   "cell_type": "markdown",
   "id": "joint-functionality",
   "metadata": {},
   "source": [
    "- petit discours d'introduction"
   ]
  },
  {
   "cell_type": "code",
   "execution_count": 2,
   "id": "insured-dietary",
   "metadata": {},
   "outputs": [],
   "source": [
    "# Import des librairies\n",
    "\n",
    "import os\n",
    "import pandas as pd\n",
    "import psycopg2\n",
    "import csv\n",
    "import reprlib\n",
    "import numpy"
   ]
  },
  {
   "cell_type": "markdown",
   "id": "computational-daisy",
   "metadata": {},
   "source": [
    "###### "
   ]
  },
  {
   "cell_type": "markdown",
   "id": "unexpected-setup",
   "metadata": {},
   "source": [
    "-----------------------"
   ]
  },
  {
   "cell_type": "markdown",
   "id": "artificial-shower",
   "metadata": {},
   "source": [
    "### Création de la Base de données"
   ]
  },
  {
   "cell_type": "code",
   "execution_count": null,
   "id": "structural-warner",
   "metadata": {},
   "outputs": [],
   "source": [
    "\"\"\"\n",
    "Connexion dans un premier temps à postgres\n",
    "pour initialiser notre database collection\n",
    "\"\"\"\n",
    "\n",
    "\n",
    "\n",
    "utilisateur = \"postgres\"\n",
    "\n",
    "mot_passe = os.environ.get('pg_psw')\n",
    "\n",
    "base_de_donnees = \"postgres\"\n",
    "\n",
    "\n",
    "\n",
    "try:\n",
    "    \n",
    "    # création de l'objet conn\n",
    "\n",
    "    conn = psycopg2.connect(dbname= base_de_donnees, user=utilisateur, password=mot_passe, host=\"localhost\", port= 5432)\n",
    "\n",
    "    conn.set_session(autocommit=True)   # on force\n",
    "\n",
    "    # initialisation du cursor\n",
    "\n",
    "    cursor = conn.cursor()\n",
    "\n",
    "    # cursor.execute permet d'exécuter une commande 'sql'\n",
    "\n",
    "    cursor.execute(\"CREATE DATABASE collection3\")\n",
    "\n",
    "    print(\"La DataBase à été créée avec succès !\")\n",
    "\n",
    "        \n",
    "except psycopg2.Error as e:\n",
    "    \n",
    "    print(\"Problème lors de la connection à la base de donnée\")\n",
    "\n",
    "    print(e)\n",
    "\n",
    "   \n",
    "    \n",
    "finally:\n",
    "        \n",
    "    # ferme le curseur et devient inutilisable\n",
    "\n",
    "    cursor.close\n",
    "\n",
    "    # ferme la connexion à database\n",
    "\n",
    "    conn.close"
   ]
  },
  {
   "cell_type": "markdown",
   "id": "intellectual-citation",
   "metadata": {},
   "source": [
    "######"
   ]
  },
  {
   "cell_type": "code",
   "execution_count": null,
   "id": "compact-mortgage",
   "metadata": {},
   "outputs": [],
   "source": [
    "# Cellule pour nos fonctions\n",
    "\n",
    "# Fonction qui va nous permettre de créer une Base de données.\n",
    "def ouvrir_connection(base_de_donnee, utilisateur, mot_passe, host='localhost', port=5432):\n",
    "    \n",
    "    try:\n",
    "        # création de l'objet conn\n",
    "        conn = psycopg2.connect(dbname= base_de_donnee, user=utilisateur, password = mot_passe, host=\"localhost\", port= 5432)\n",
    "\n",
    "        # on force la sauvegarde\n",
    "        conn.set_session(autocommit=True)   \n",
    "        \n",
    "        # initialisation du cursor\n",
    "        cursor = conn.cursor()\n",
    "        \n",
    "        # exécution de la requête sql de création de la base de donnée\n",
    "        #cursor.execute(\"CREATE DATABASE IF NOT EXISTS movie\")\n",
    "\n",
    "    # gestion des erreurs    \n",
    "    except psycopg2.Error as e:\n",
    "        print(\"Problème lors de la connection à la base de donnée\")\n",
    "        print(e)\n",
    "        return None\n",
    "    # dans tous les cas on va clôturer la session\n",
    "    finally:\n",
    "        cursor.close\n",
    "        conn.close\n",
    "    return conn\n",
    "   \n",
    "    # fonction pour supprimer une table\n",
    "def supprimer_table(conn, sql_suppression_table):\n",
    "    try:\n",
    "        cursor = conn.cursor()\n",
    "        cursor.execute(sql_suppression_table)\n",
    "        conn.commit()\n",
    "    except psycopg2.Error as e:\n",
    "        print(\"Erreur lors de la suppression de la table\")\n",
    "        print(e)\n",
    "        return\n",
    "    cursor.close()\n",
    "    print(\"La table a été supprimée avec succès\")\n",
    "\n",
    "# fonction pour créer une table    \n",
    "def creer_table(conn, sql_creer_table):\n",
    "    try:\n",
    "        cursor = conn.cursor()\n",
    "        cursor.execute(sql_creer_table)\n",
    "        conn.commit()\n",
    "    except psycopg2.Error as e:\n",
    "        print(\"Erreur lors de la création de la table\")\n",
    "        print(e)\n",
    "        return\n",
    "    cursor.close()\n",
    "    print(\"La table a été crée avec succès\")\n",
    "    \n",
    "def lire_table(conn, sql_lire_donnee):\n",
    "    try:\n",
    "        cursor = conn.cursor()\n",
    "        cursor.execute(sql_lire_donnee)\n",
    "        conn.commit()\n",
    "    except psycopg2.Error as e:\n",
    "        print(\"Erreur lors de la lecture des données\")\n",
    "        print(e)\n",
    "        return None\n",
    "    \n",
    "    print(\"Les données ont été lues avec succès\")\n",
    "    data = []\n",
    "    for row in cursor:\n",
    "        data.append(row)\n",
    "\n",
    "    cursor.close()\n",
    "    \n",
    "    return data   "
   ]
  },
  {
   "cell_type": "code",
   "execution_count": null,
   "id": "useful-gallery",
   "metadata": {},
   "outputs": [],
   "source": [
    "# cellule qui content différentes requête sql\n",
    "\n",
    "sql_creer_table1 = \"\"\"CREATE TABLE IF NOT EXISTS Origine(\n",
    "   Code_Origine SERIAL,\n",
    "   Nom VARCHAR(100),\n",
    "   PRIMARY KEY(Code_Origine)\n",
    ");\n",
    "\"\"\"\n",
    "sql_creer_table2 = \"\"\"CREATE TABLE IF NOT EXISTS Producteur(\n",
    "   Code_producteur SERIAL,\n",
    "   Nom VARCHAR(100),\n",
    "   Code_Origine INT,\n",
    "   PRIMARY KEY(Code_producteur),\n",
    "   FOREIGN KEY(Code_Origine) REFERENCES Origine(Code_Origine)\n",
    ");\n",
    "\"\"\"\n",
    "sql_creer_table3 = \"\"\"CREATE TABLE IF NOT EXISTS Produit(\n",
    "   Code_produit SERIAL,\n",
    "   Nom VARCHAR(250),\n",
    "   Volume INT,\n",
    "   Degre DECIMAL(15,2),\n",
    "   Code_producteur INT,\n",
    "   PRIMARY KEY(Code_produit),\n",
    "   FOREIGN KEY(Code_producteur) REFERENCES Producteur(Code_producteur)\n",
    ");\n",
    "\"\"\"\n",
    "\n",
    "sql_lire_donnee = \"\"\"\n",
    "    SELECT *\n",
    "    FROM Produit\n",
    "    LIMIT 10;\n",
    "\"\"\""
   ]
  },
  {
   "cell_type": "code",
   "execution_count": null,
   "id": "played-index",
   "metadata": {},
   "outputs": [],
   "source": [
    "# initialisation des variables pour me connecter à ma bdd postgres\n",
    "\n",
    "base_de_donnee = \"collection3\"\n",
    "\n",
    "utilisateur = \"postgres\"\n",
    "\n",
    "mot_passe = os.environ.get('pg_psw')\n"
   ]
  },
  {
   "cell_type": "code",
   "execution_count": null,
   "id": "determined-eligibility",
   "metadata": {},
   "outputs": [],
   "source": [
    "# initialisation de ma connection\n",
    "conn = ouvrir_connection(base_de_donnee, utilisateur, mot_passe)"
   ]
  },
  {
   "cell_type": "code",
   "execution_count": null,
   "id": "loose-upper",
   "metadata": {},
   "outputs": [],
   "source": [
    "# création table origine\n",
    "creer_table(conn, sql_creer_table1)"
   ]
  },
  {
   "cell_type": "code",
   "execution_count": null,
   "id": "drawn-proposition",
   "metadata": {},
   "outputs": [],
   "source": [
    "# création table origine\n",
    "creer_table(conn, sql_creer_table2)"
   ]
  },
  {
   "cell_type": "code",
   "execution_count": null,
   "id": "spare-component",
   "metadata": {},
   "outputs": [],
   "source": [
    "# création table origine\n",
    "creer_table(conn, sql_creer_table3)"
   ]
  }
 ],
 "metadata": {
  "kernelspec": {
   "display_name": "Python 3",
   "language": "python",
   "name": "python3"
  },
  "language_info": {
   "codemirror_mode": {
    "name": "ipython",
    "version": 3
   },
   "file_extension": ".py",
   "mimetype": "text/x-python",
   "name": "python",
   "nbconvert_exporter": "python",
   "pygments_lexer": "ipython3",
   "version": "3.8.6"
  }
 },
 "nbformat": 4,
 "nbformat_minor": 5
}
